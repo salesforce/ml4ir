{
 "cells": [
  {
   "cell_type": "markdown",
   "metadata": {},
   "source": [
    "# Learning to Rank Expanations Demo 2022"
   ]
  },
  {
   "cell_type": "markdown",
   "metadata": {},
   "source": [
    "## Overview\n",
    "\n",
    "In this notebook, we will explore how to explain the scores of a Learning to Rank model using OmniXAI\n",
    "\n",
    "#### Key Takeaways\n",
    "- How to install and get started with ml4ir as a script\n",
    "- Explaining the rank scores using OmniXAI\n",
    "\n",
    "#### Learning to Rank\n",
    "The goal of Learning to Rank(LTR) is to come up with a ranking function to generate an optimal ordering of a list of documents. In this notebook, we will learn a simple **pointwise ranking function** using a **listwise loss** which will predict the ranking scores for all records of a given query. These scores can then be used at inference to determine the optimal ordering.\n",
    "\n",
    "#### Per Query Valid Explanations \n",
    "\n",
    "We explore the per-query Valid explanations using Omnixai's ValidityRankingExplainer\n",
    "\n",
    "Reference for algorithm: Singh, J., Khosla, M., & Anand, A. (2020). Valid Explanations for Learning to Rank Models. ArXiv, abs/2004.13972."
   ]
  },
  {
   "cell_type": "markdown",
   "metadata": {},
   "source": [
    "## Install ml4ir and omnixai"
   ]
  },
  {
   "cell_type": "code",
   "execution_count": 18,
   "metadata": {
    "scrolled": true
   },
   "outputs": [
    {
     "name": "stdout",
     "output_type": "stream",
     "text": [
      "\u001b[33mWARNING: You are using pip version 22.0.4; however, version 22.2.2 is available.\r\n",
      "You should consider upgrading via the '/Users/tlaud/ml4ir/python/venv/bin/python3.7 -m pip install --upgrade pip' command.\u001b[0m\u001b[33m\r\n",
      "\u001b[0m"
     ]
    }
   ],
   "source": [
    "!pip install ml4ir -q"
   ]
  },
  {
   "cell_type": "code",
   "execution_count": 34,
   "metadata": {
    "scrolled": true
   },
   "outputs": [
    {
     "name": "stdout",
     "output_type": "stream",
     "text": [
      "\u001b[33mWARNING: You are using pip version 22.0.4; however, version 22.2.2 is available.\r\n",
      "You should consider upgrading via the '/Users/tlaud/ml4ir/python/venv/bin/python3.7 -m pip install --upgrade pip' command.\u001b[0m\u001b[33m\r\n",
      "\u001b[0m"
     ]
    }
   ],
   "source": [
    "!pip install -q git+https://github.com/salesforce/OmniXAI@ranking_validity_explainer"
   ]
  },
  {
   "cell_type": "markdown",
   "metadata": {},
   "source": [
    "## Installing visualization libraries"
   ]
  },
  {
   "cell_type": "code",
   "execution_count": 35,
   "metadata": {},
   "outputs": [
    {
     "name": "stdout",
     "output_type": "stream",
     "text": [
      "\u001b[33mWARNING: You are using pip version 22.0.4; however, version 22.2.2 is available.\r\n",
      "You should consider upgrading via the '/Users/tlaud/ml4ir/python/venv/bin/python3.7 -m pip install --upgrade pip' command.\u001b[0m\u001b[33m\r\n",
      "\u001b[0m"
     ]
    }
   ],
   "source": [
    "!pip install --upgrade -q plotly nbformat"
   ]
  },
  {
   "cell_type": "markdown",
   "metadata": {},
   "source": [
    "## Look at the data"
   ]
  },
  {
   "cell_type": "code",
   "execution_count": 1,
   "metadata": {},
   "outputs": [
    {
     "data": {
      "text/html": [
       "<div>\n",
       "<style scoped>\n",
       "    .dataframe tbody tr th:only-of-type {\n",
       "        vertical-align: middle;\n",
       "    }\n",
       "\n",
       "    .dataframe tbody tr th {\n",
       "        vertical-align: top;\n",
       "    }\n",
       "\n",
       "    .dataframe thead th {\n",
       "        text-align: right;\n",
       "    }\n",
       "</style>\n",
       "<table border=\"1\" class=\"dataframe\">\n",
       "  <thead>\n",
       "    <tr style=\"text-align: right;\">\n",
       "      <th></th>\n",
       "      <th>query_id</th>\n",
       "      <th>query_text</th>\n",
       "      <th>rank</th>\n",
       "      <th>text_match_score</th>\n",
       "      <th>page_views_score</th>\n",
       "      <th>quality_score</th>\n",
       "      <th>clicked</th>\n",
       "      <th>domain_id</th>\n",
       "      <th>domain_name</th>\n",
       "      <th>name_match</th>\n",
       "    </tr>\n",
       "  </thead>\n",
       "  <tbody>\n",
       "    <tr>\n",
       "      <th>0</th>\n",
       "      <td>query_2</td>\n",
       "      <td>MHS7A7RJB1Y4BJT</td>\n",
       "      <td>2</td>\n",
       "      <td>0.473730</td>\n",
       "      <td>0.000000</td>\n",
       "      <td>0.00000</td>\n",
       "      <td>0</td>\n",
       "      <td>2</td>\n",
       "      <td>domain_2</td>\n",
       "      <td>1</td>\n",
       "    </tr>\n",
       "    <tr>\n",
       "      <th>1</th>\n",
       "      <td>query_2</td>\n",
       "      <td>MHS7A7RJB1Y4BJT</td>\n",
       "      <td>1</td>\n",
       "      <td>1.063190</td>\n",
       "      <td>0.205381</td>\n",
       "      <td>0.30103</td>\n",
       "      <td>1</td>\n",
       "      <td>2</td>\n",
       "      <td>domain_2</td>\n",
       "      <td>1</td>\n",
       "    </tr>\n",
       "    <tr>\n",
       "      <th>2</th>\n",
       "      <td>query_5</td>\n",
       "      <td>KNJNWV</td>\n",
       "      <td>6</td>\n",
       "      <td>1.368108</td>\n",
       "      <td>0.030636</td>\n",
       "      <td>0.00000</td>\n",
       "      <td>0</td>\n",
       "      <td>0</td>\n",
       "      <td>domain_0</td>\n",
       "      <td>0</td>\n",
       "    </tr>\n",
       "    <tr>\n",
       "      <th>3</th>\n",
       "      <td>query_5</td>\n",
       "      <td>KNJNWV</td>\n",
       "      <td>3</td>\n",
       "      <td>1.370628</td>\n",
       "      <td>0.041261</td>\n",
       "      <td>0.30103</td>\n",
       "      <td>0</td>\n",
       "      <td>0</td>\n",
       "      <td>domain_0</td>\n",
       "      <td>0</td>\n",
       "    </tr>\n",
       "    <tr>\n",
       "      <th>4</th>\n",
       "      <td>query_5</td>\n",
       "      <td>KNJNWV</td>\n",
       "      <td>4</td>\n",
       "      <td>1.366700</td>\n",
       "      <td>0.082535</td>\n",
       "      <td>0.30103</td>\n",
       "      <td>0</td>\n",
       "      <td>0</td>\n",
       "      <td>domain_0</td>\n",
       "      <td>0</td>\n",
       "    </tr>\n",
       "    <tr>\n",
       "      <th>5</th>\n",
       "      <td>query_5</td>\n",
       "      <td>KNJNWV</td>\n",
       "      <td>1</td>\n",
       "      <td>1.333836</td>\n",
       "      <td>0.042572</td>\n",
       "      <td>0.30103</td>\n",
       "      <td>1</td>\n",
       "      <td>0</td>\n",
       "      <td>domain_0</td>\n",
       "      <td>0</td>\n",
       "    </tr>\n",
       "    <tr>\n",
       "      <th>6</th>\n",
       "      <td>query_5</td>\n",
       "      <td>KNJNWV</td>\n",
       "      <td>5</td>\n",
       "      <td>1.325021</td>\n",
       "      <td>0.046478</td>\n",
       "      <td>0.00000</td>\n",
       "      <td>0</td>\n",
       "      <td>0</td>\n",
       "      <td>domain_0</td>\n",
       "      <td>1</td>\n",
       "    </tr>\n",
       "  </tbody>\n",
       "</table>\n",
       "</div>"
      ],
      "text/plain": [
       "  query_id       query_text  rank  text_match_score  page_views_score  \\\n",
       "0  query_2  MHS7A7RJB1Y4BJT     2          0.473730          0.000000   \n",
       "1  query_2  MHS7A7RJB1Y4BJT     1          1.063190          0.205381   \n",
       "2  query_5           KNJNWV     6          1.368108          0.030636   \n",
       "3  query_5           KNJNWV     3          1.370628          0.041261   \n",
       "4  query_5           KNJNWV     4          1.366700          0.082535   \n",
       "5  query_5           KNJNWV     1          1.333836          0.042572   \n",
       "6  query_5           KNJNWV     5          1.325021          0.046478   \n",
       "\n",
       "   quality_score  clicked  domain_id domain_name  name_match  \n",
       "0        0.00000        0          2    domain_2           1  \n",
       "1        0.30103        1          2    domain_2           1  \n",
       "2        0.00000        0          0    domain_0           0  \n",
       "3        0.30103        0          0    domain_0           0  \n",
       "4        0.30103        0          0    domain_0           0  \n",
       "5        0.30103        1          0    domain_0           0  \n",
       "6        0.00000        0          0    domain_0           1  "
      ]
     },
     "execution_count": 1,
     "metadata": {},
     "output_type": "execute_result"
    }
   ],
   "source": [
    "import pandas as pd\n",
    "\n",
    "df_train = pd.read_csv(\"../ml4ir/applications/ranking/tests/data/csv/train/file_0.csv\")\n",
    "df_train.head(7)"
   ]
  },
  {
   "cell_type": "markdown",
   "metadata": {},
   "source": [
    "## Define the FeatureConfig\n",
    "\n",
    "**YAML File** -> configs/activate_2020/feature_config.yaml\n",
    "\n",
    "\n",
    "\n",
    "| Feature          | Type    | TFRecord Type | Usage                                    |\n",
    "| ---------------- | -------- | ------------- | ---------------------------------------- |\n",
    "| query_text       | Text     | Context       | Character Embeddings -> biLSTM Encoding  |\n",
    "| domain_name      | Text     | Context       | VocabLookup -> Categorical Embedding     |\n",
    "| text_match_score | Numeric  | Sequence      | float                                    |\n",
    "| page_views_score | Numeric  | Sequence      | float                                    |\n",
    "| quality_score    | Numeric  | Sequence      | float                                    |"
   ]
  },
  {
   "cell_type": "markdown",
   "metadata": {},
   "source": [
    "## Define the ModelConfig"
   ]
  },
  {
   "cell_type": "code",
   "execution_count": 2,
   "metadata": {},
   "outputs": [
    {
     "name": "stdout",
     "output_type": "stream",
     "text": [
      "architecture_key: dnn\n",
      "layers:\n",
      "  - type: dense\n",
      "    name: first_dense\n",
      "    units: 256\n",
      "    activation: relu\n",
      "  - type: dropout\n",
      "    name: first_dropout\n",
      "    rate: 0.3\n",
      "  - type: dense\n",
      "    name: second_dense\n",
      "    units: 64\n",
      "    activation: relu\n",
      "  - type: dense\n",
      "    name: final_dense\n",
      "    units: 1\n",
      "    activation: null\n",
      "\n"
     ]
    }
   ],
   "source": [
    "print(open(\"configs/activate_2020/model_config.yaml\").read())"
   ]
  },
  {
   "cell_type": "markdown",
   "metadata": {},
   "source": [
    "## Using ml4ir as a script"
   ]
  },
  {
   "cell_type": "code",
   "execution_count": 26,
   "metadata": {
    "scrolled": true
   },
   "outputs": [
    {
     "name": "stdout",
     "output_type": "stream",
     "text": [
      "INFO: 2022-08-19 13:04:47.748 \n",
      "Logging initialized. Saving logs to : ../logs/explain_demo_2022/activate_demo\n",
      "INFO: 2022-08-19 13:04:47.748 \n",
      "Run ID: activate_demo\n",
      "DEBUG: 2022-08-19 13:04:47.748 \n",
      "CLI args: \n",
      "{\n",
      "    \"data_dir\": \"../ml4ir/applications/ranking/tests/data/csv\",\n",
      "    \"data_format\": \"csv\",\n",
      "    \"tfrecord_type\": \"sequence_example\",\n",
      "    \"feature_config\": \"configs/activate_2020/feature_config.yaml\",\n",
      "    \"model_file\": null,\n",
      "    \"model_config\": \"configs/activate_2020/model_config.yaml\",\n",
      "    \"loss_key\": \"softmax_cross_entropy\",\n",
      "    \"metrics_keys\": [\n",
      "        \"MRR\",\n",
      "        \"ACR\"\n",
      "    ],\n",
      "    \"monitor_metric\": \"new_MRR\",\n",
      "    \"monitor_mode\": \"max\",\n",
      "    \"num_epochs\": 3,\n",
      "    \"batch_size\": 128,\n",
      "    \"compute_intermediate_stats\": true,\n",
      "    \"execution_mode\": \"train_inference_evaluate\",\n",
      "    \"random_state\": 123,\n",
      "    \"run_id\": \"activate_demo\",\n",
      "    \"run_group\": \"general\",\n",
      "    \"run_notes\": \"\",\n",
      "    \"models_dir\": \"../models/explain_demo_2022\",\n",
      "    \"logs_dir\": \"../logs/explain_demo_2022\",\n",
      "    \"checkpoint_model\": true,\n",
      "    \"train_pcent_split\": 0.8,\n",
      "    \"val_pcent_split\": -1,\n",
      "    \"test_pcent_split\": -1,\n",
      "    \"max_sequence_size\": 25,\n",
      "    \"inference_signature\": \"serving_default\",\n",
      "    \"use_part_files\": false,\n",
      "    \"logging_frequency\": 25,\n",
      "    \"group_metrics_min_queries\": 25,\n",
      "    \"compile_keras_model\": false,\n",
      "    \"use_all_fields_at_inference\": false,\n",
      "    \"pad_sequence_at_inference\": false,\n",
      "    \"output_name\": \"ranking_score\",\n",
      "    \"early_stopping_patience\": 2,\n",
      "    \"file_handler\": \"local\",\n",
      "    \"initialize_layers_dict\": \"{}\",\n",
      "    \"freeze_layers_list\": \"[]\",\n",
      "    \"non_zero_features_only\": false,\n",
      "    \"keep_additional_info\": false,\n",
      "    \"kfold\": 1,\n",
      "    \"include_testset_in_kfold\": false,\n",
      "    \"kfold_analysis_metrics\": [],\n",
      "    \"scoring_type\": \"pointwise\",\n",
      "    \"loss_type\": \"listwise\"\n",
      "}\n",
      "INFO: 2022-08-19 13:04:47.750 \n",
      "Tensorflow default graph has been reset\n",
      "INFO: 2022-08-19 13:04:47.750 \n",
      "Running pre-processing step.\n",
      "INFO: 2022-08-19 13:04:47.750 \n",
      "Pre-processing step done.\n",
      "INFO: 2022-08-19 13:04:47.750 \n",
      "Reading YAML file from : configs/activate_2020/feature_config.yaml\n",
      "INFO: 2022-08-19 13:04:47.767 \n",
      "Reading YAML file from : configs/activate_2020/model_config.yaml\n",
      "DEBUG: 2022-08-19 13:04:47.769 \n",
      "{\n",
      "    \"query_key\": {\n",
      "        \"name\": \"query_id\",\n",
      "        \"node_name\": \"query_id\",\n",
      "        \"trainable\": false,\n",
      "        \"dtype\": \"string\",\n",
      "        \"log_at_inference\": true,\n",
      "        \"feature_layer_info\": {\n",
      "            \"type\": \"numeric\",\n",
      "            \"shape\": null\n",
      "        },\n",
      "        \"serving_info\": {\n",
      "            \"name\": \"queryId\",\n",
      "            \"required\": false,\n",
      "            \"default_value\": \"\"\n",
      "        },\n",
      "        \"tfrecord_type\": \"context\"\n",
      "    },\n",
      "    \"rank\": {\n",
      "        \"name\": \"rank\",\n",
      "        \"node_name\": \"rank\",\n",
      "        \"trainable\": false,\n",
      "        \"dtype\": \"int64\",\n",
      "        \"log_at_inference\": true,\n",
      "        \"feature_layer_info\": {\n",
      "            \"type\": \"numeric\",\n",
      "            \"shape\": null\n",
      "        },\n",
      "        \"serving_info\": {\n",
      "            \"name\": \"originalRank\",\n",
      "            \"required\": true,\n",
      "            \"default_value\": 0\n",
      "        },\n",
      "        \"tfrecord_type\": \"sequence\"\n",
      "    },\n",
      "    \"label\": {\n",
      "        \"name\": \"clicked\",\n",
      "        \"node_name\": \"clicked\",\n",
      "        \"trainable\": false,\n",
      "        \"dtype\": \"int64\",\n",
      "        \"log_at_inference\": true,\n",
      "        \"feature_layer_info\": {\n",
      "            \"type\": \"numeric\",\n",
      "            \"shape\": null\n",
      "        },\n",
      "        \"serving_info\": {\n",
      "            \"name\": \"clicked\",\n",
      "            \"required\": false,\n",
      "            \"default_value\": 0\n",
      "        },\n",
      "        \"tfrecord_type\": \"sequence\"\n",
      "    },\n",
      "    \"features\": [\n",
      "        {\n",
      "            \"name\": \"text_match_score\",\n",
      "            \"node_name\": \"text_match_score\",\n",
      "            \"trainable\": true,\n",
      "            \"dtype\": \"float\",\n",
      "            \"log_at_inference\": false,\n",
      "            \"feature_layer_info\": {\n",
      "                \"type\": \"numeric\",\n",
      "                \"shape\": null\n",
      "            },\n",
      "            \"serving_info\": {\n",
      "                \"name\": \"textMatchScore\",\n",
      "                \"required\": true,\n",
      "                \"default_value\": 0.0\n",
      "            },\n",
      "            \"tfrecord_type\": \"sequence\"\n",
      "        },\n",
      "        {\n",
      "            \"name\": \"page_views_score\",\n",
      "            \"node_name\": \"page_views_score\",\n",
      "            \"trainable\": true,\n",
      "            \"dtype\": \"float\",\n",
      "            \"log_at_inference\": false,\n",
      "            \"feature_layer_info\": {\n",
      "                \"type\": \"numeric\",\n",
      "                \"shape\": null\n",
      "            },\n",
      "            \"serving_info\": {\n",
      "                \"name\": \"pageViewsScore\",\n",
      "                \"required\": true,\n",
      "                \"default_value\": 0.0\n",
      "            },\n",
      "            \"tfrecord_type\": \"sequence\"\n",
      "        },\n",
      "        {\n",
      "            \"name\": \"quality_score\",\n",
      "            \"node_name\": \"quality_score\",\n",
      "            \"trainable\": true,\n",
      "            \"dtype\": \"float\",\n",
      "            \"log_at_inference\": false,\n",
      "            \"feature_layer_info\": {\n",
      "                \"type\": \"numeric\",\n",
      "                \"shape\": null\n",
      "            },\n",
      "            \"serving_info\": {\n",
      "                \"name\": \"qualityScore\",\n",
      "                \"required\": true,\n",
      "                \"default_value\": 0.0\n",
      "            },\n",
      "            \"tfrecord_type\": \"sequence\"\n",
      "        },\n",
      "        {\n",
      "            \"name\": \"name_match\",\n",
      "            \"node_name\": \"name_match\",\n",
      "            \"trainable\": false,\n",
      "            \"dtype\": \"float\",\n",
      "            \"log_at_inference\": true,\n",
      "            \"feature_layer_info\": {\n",
      "                \"type\": \"numeric\",\n",
      "                \"shape\": null\n",
      "            },\n",
      "            \"serving_info\": {\n",
      "                \"name\": \"nameMatch\",\n",
      "                \"required\": true,\n",
      "                \"default_value\": 0.0\n",
      "            },\n",
      "            \"tfrecord_type\": \"sequence\"\n",
      "        },\n",
      "        {\n",
      "            \"name\": \"query_text\",\n",
      "            \"node_name\": \"query_text\",\n",
      "            \"trainable\": true,\n",
      "            \"dtype\": \"string\",\n",
      "            \"log_at_inference\": true,\n",
      "            \"feature_layer_info\": {\n",
      "                \"type\": \"numeric\",\n",
      "                \"shape\": null,\n",
      "                \"fn\": \"bytes_sequence_to_encoding_bilstm\",\n",
      "                \"args\": {\n",
      "                    \"encoding_type\": \"bilstm\",\n",
      "                    \"encoding_size\": 128,\n",
      "                    \"embedding_size\": 128,\n",
      "                    \"max_length\": 20\n",
      "                }\n",
      "            },\n",
      "            \"preprocessing_info\": [\n",
      "                {\n",
      "                    \"fn\": \"preprocess_text\",\n",
      "                    \"args\": {\n",
      "                        \"remove_punctuation\": true,\n",
      "                        \"to_lower\": true\n",
      "                    }\n",
      "                }\n",
      "            ],\n",
      "            \"serving_info\": {\n",
      "                \"name\": \"q\",\n",
      "                \"required\": true,\n",
      "                \"default_value\": \"\"\n",
      "            },\n",
      "            \"tfrecord_type\": \"context\"\n",
      "        },\n",
      "        {\n",
      "            \"name\": \"domain_name\",\n",
      "            \"node_name\": \"domain_name\",\n",
      "            \"trainable\": true,\n",
      "            \"dtype\": \"string\",\n",
      "            \"log_at_inference\": true,\n",
      "            \"feature_layer_info\": {\n",
      "                \"type\": \"numeric\",\n",
      "                \"shape\": null,\n",
      "                \"fn\": \"categorical_embedding_with_vocabulary_file\",\n",
      "                \"args\": {\n",
      "                    \"vocabulary_file\": \"../ml4ir/applications/ranking/tests/data/configs/domain_name_vocab_no_id.csv\",\n",
      "                    \"embedding_size\": 64,\n",
      "                    \"default_value\": -1,\n",
      "                    \"num_oov_buckets\": 1\n",
      "                }\n",
      "            },\n",
      "            \"serving_info\": {\n",
      "                \"name\": \"domainName\",\n",
      "                \"required\": true,\n",
      "                \"default_value\": \"\"\n",
      "            },\n",
      "            \"tfrecord_type\": \"context\"\n",
      "        }\n",
      "    ]\n",
      "}\n",
      "INFO: 2022-08-19 13:04:47.770 \n",
      "Feature config loaded successfully\n",
      "INFO: 2022-08-19 13:04:47.770 \n",
      "Trainable Features : \n",
      "text_match_score\n",
      "page_views_score\n",
      "quality_score\n",
      "query_text\n",
      "domain_name\n",
      "text_match_score\n",
      "page_views_score\n",
      "quality_score\n",
      "query_text\n",
      "domain_name\n",
      "INFO: 2022-08-19 13:04:47.770 \n",
      "Label : clicked\n",
      "INFO: 2022-08-19 13:04:47.771 \n",
      "Metadata Features : \n",
      "query_id\n",
      "clicked\n",
      "name_match\n",
      "query_id\n",
      "clicked\n",
      "name_match\n",
      "rank\n",
      "INFO: 2022-08-19 13:04:47.771 \n",
      "Context Features : \n",
      "query_id\n",
      "query_text\n",
      "domain_name\n",
      "INFO: 2022-08-19 13:04:47.771 \n",
      "Sequence Features : \n",
      "clicked\n",
      "text_match_score\n",
      "page_views_score\n",
      "quality_score\n",
      "name_match\n",
      "rank\n",
      "INFO: 2022-08-19 13:04:47.771 \n",
      "Relevance Pipeline successfully initialized!\n",
      "INFO: 2022-08-19 13:04:47.771 \n",
      "1 files found under ../ml4ir/applications/ranking/tests/data/csv/train\n",
      "INFO: 2022-08-19 13:04:47.771 \n",
      "Reading 1 files from [../ml4ir/applications/ranking/tests/data/csv/train/file_0.csv, ..\n",
      "INFO: 2022-08-19 13:04:47.771 \n",
      "Loading dataframe from path : ../ml4ir/applications/ranking/tests/data/csv/train/file_0.csv\n",
      "INFO: 2022-08-19 13:04:47.782 \n",
      "Writing SequenceExample protobufs to : ../ml4ir/applications/ranking/tests/data/csv/tfrecord/train/file_0.tfrecord\n"
     ]
    },
    {
     "name": "stdout",
     "output_type": "stream",
     "text": [
      "INFO: 2022-08-19 13:04:48.539 \n",
      "1 files found under ../ml4ir/applications/ranking/tests/data/csv/tfrecord/train\n",
      "2022-08-19 13:04:48.539799: I tensorflow/core/platform/cpu_feature_guard.cc:142] Your CPU supports instructions that this TensorFlow binary was not compiled to use: AVX2 FMA\n",
      "2022-08-19 13:04:48.556077: I tensorflow/compiler/xla/service/service.cc:168] XLA service 0x7fe1c70ac8b0 executing computations on platform Host. Devices:\n",
      "2022-08-19 13:04:48.556094: I tensorflow/compiler/xla/service/service.cc:175]   StreamExecutor device (0): Host, Default Version\n",
      "INFO: 2022-08-19 13:04:50.732 \n",
      "Created TFRecordDataset from SequenceExample protobufs from 1 files : ['../ml4ir/applications/ranking/tests/data/csv/tfr\n",
      "INFO: 2022-08-19 13:04:50.733 \n",
      "1 files found under ../ml4ir/applications/ranking/tests/data/csv/validation\n",
      "INFO: 2022-08-19 13:04:50.733 \n",
      "Reading 1 files from [../ml4ir/applications/ranking/tests/data/csv/validation/file_0.csv, ..\n",
      "INFO: 2022-08-19 13:04:50.733 \n",
      "Loading dataframe from path : ../ml4ir/applications/ranking/tests/data/csv/validation/file_0.csv\n",
      "INFO: 2022-08-19 13:04:50.742 \n",
      "Writing SequenceExample protobufs to : ../ml4ir/applications/ranking/tests/data/csv/tfrecord/validation/file_0.tfrecord\n",
      "INFO: 2022-08-19 13:04:51.593 \n",
      "1 files found under ../ml4ir/applications/ranking/tests/data/csv/tfrecord/validation\n",
      "INFO: 2022-08-19 13:04:51.741 \n",
      "Created TFRecordDataset from SequenceExample protobufs from 1 files : ['../ml4ir/applications/ranking/tests/data/csv/tfr\n",
      "INFO: 2022-08-19 13:04:51.742 \n",
      "1 files found under ../ml4ir/applications/ranking/tests/data/csv/test\n",
      "INFO: 2022-08-19 13:04:51.742 \n",
      "Reading 1 files from [../ml4ir/applications/ranking/tests/data/csv/test/file_0.csv, ..\n",
      "INFO: 2022-08-19 13:04:51.742 \n",
      "Loading dataframe from path : ../ml4ir/applications/ranking/tests/data/csv/test/file_0.csv\n",
      "INFO: 2022-08-19 13:04:51.751 \n",
      "Writing SequenceExample protobufs to : ../ml4ir/applications/ranking/tests/data/csv/tfrecord/test/file_0.tfrecord\n",
      "INFO: 2022-08-19 13:04:52.609 \n",
      "1 files found under ../ml4ir/applications/ranking/tests/data/csv/tfrecord/test\n",
      "INFO: 2022-08-19 13:04:52.771 \n",
      "Created TFRecordDataset from SequenceExample protobufs from 1 files : ['../ml4ir/applications/ranking/tests/data/csv/tfr\n",
      "INFO: 2022-08-19 13:04:52.771 \n",
      "Relevance Dataset created\n",
      "INFO: 2022-08-19 13:04:54.221 \n",
      "Loading dataframe from path : ../ml4ir/applications/ranking/tests/data/configs/domain_name_vocab_no_id.csv\n",
      "INFO: 2022-08-19 13:04:54.937 \n",
      "Model: \"model\"\n",
      "__________________________________________________________________________________________________\n",
      "Layer (type)                    Output Shape         Param #     Connected to                     \n",
      "==================================================================================================\n",
      "query_text (InputLayer)         [(None, 1)]          0                                            \n",
      "__________________________________________________________________________________________________\n",
      "mask (InputLayer)               [(None, None)]       0                                            \n",
      "__________________________________________________________________________________________________\n",
      "tf_op_layer_DecodePaddedRaw (Te [(None, 1, 20)]      0           query_text[0][0]                 \n",
      "__________________________________________________________________________________________________\n",
      "domain_name (InputLayer)        [(None, 1)]          0                                            \n",
      "__________________________________________________________________________________________________\n",
      "tf_op_layer_GatherV2 (TensorFlo [(None,)]            0           mask[0][0]                       \n",
      "__________________________________________________________________________________________________\n",
      "tf_op_layer_Squeeze (TensorFlow [(None, 20)]         0           tf_op_layer_DecodePaddedRaw[0][0]\n",
      "__________________________________________________________________________________________________\n",
      "vocab_lookup (VocabLookup)      (None, 1)            0           domain_name[0][0]                \n",
      "__________________________________________________________________________________________________\n",
      "tf_op_layer_ExpandDims (TensorF [(1, None)]          0           tf_op_layer_GatherV2[0][0]       \n",
      "__________________________________________________________________________________________________\n",
      "query_text_bytes_embedding (Emb (None, 20, 128)      32768       tf_op_layer_Squeeze[0][0]        \n",
      "__________________________________________________________________________________________________\n",
      "domain_name_embedding (DenseFea (None, 64)           384         vocab_lookup[0][0]               \n",
      "__________________________________________________________________________________________________\n",
      "tf_op_layer_ExpandDims_1 (Tenso [(1, None, 1)]       0           tf_op_layer_ExpandDims[0][0]     \n",
      "__________________________________________________________________________________________________\n",
      "bidirectional (Bidirectional)   (None, 128)          98816       query_text_bytes_embedding[0][0] \n",
      "__________________________________________________________________________________________________\n",
      "tf_op_layer_ExpandDims_4 (Tenso [(None, 1, 64)]      0           domain_name_embedding[0][0]      \n",
      "__________________________________________________________________________________________________\n",
      "tf_op_layer_Shape (TensorFlowOp [(3,)]               0           tf_op_layer_ExpandDims_1[0][0]   \n",
      "__________________________________________________________________________________________________\n",
      "page_views_score (InputLayer)   [(None, None)]       0                                            \n",
      "__________________________________________________________________________________________________\n",
      "quality_score (InputLayer)      [(None, None)]       0                                            \n",
      "__________________________________________________________________________________________________\n",
      "tf_op_layer_ExpandDims_3 (Tenso [(None, 1, 128)]     0           bidirectional[0][0]              \n",
      "__________________________________________________________________________________________________\n",
      "text_match_score (InputLayer)   [(None, None)]       0                                            \n",
      "__________________________________________________________________________________________________\n",
      "tf_op_layer_Tile_2 (TensorFlowO [(None, None, 64)]   0           tf_op_layer_ExpandDims_4[0][0]   \n",
      "                                                                 tf_op_layer_Shape[0][0]          \n",
      "__________________________________________________________________________________________________\n",
      "tf_op_layer_page_views_score_ex [(None, None, 1)]    0           page_views_score[0][0]           \n",
      "__________________________________________________________________________________________________\n",
      "tf_op_layer_quality_score_expan [(None, None, 1)]    0           quality_score[0][0]              \n",
      "__________________________________________________________________________________________________\n",
      "tf_op_layer_Tile_1 (TensorFlowO [(None, None, 128)]  0           tf_op_layer_ExpandDims_3[0][0]   \n",
      "                                                                 tf_op_layer_Shape[0][0]          \n",
      "__________________________________________________________________________________________________\n",
      "tf_op_layer_text_match_score_ex [(None, None, 1)]    0           text_match_score[0][0]           \n",
      "__________________________________________________________________________________________________\n",
      "tf_op_layer_train_features (Ten [(None, None, 195)]  0           tf_op_layer_Tile_2[0][0]         \n",
      "                                                                 tf_op_layer_page_views_score_expa\n",
      "                                                                 tf_op_layer_quality_score_expande\n",
      "                                                                 tf_op_layer_Tile_1[0][0]         \n",
      "                                                                 tf_op_layer_text_match_score_expa\n",
      "__________________________________________________________________________________________________\n",
      "first_dense (Dense)             (None, None, 256)    50176       tf_op_layer_train_features[0][0] \n",
      "__________________________________________________________________________________________________\n",
      "first_dropout (Dropout)         (None, None, 256)    0           first_dense[0][0]                \n",
      "__________________________________________________________________________________________________\n",
      "second_dense (Dense)            (None, None, 64)     16448       first_dropout[0][0]              \n",
      "__________________________________________________________________________________________________\n",
      "tf_op_layer_Cast_1 (TensorFlowO [(None, None)]       0           mask[0][0]                       \n",
      "__________________________________________________________________________________________________\n",
      "final_dense (Dense)             (None, None, 1)      65          second_dense[0][0]               \n",
      "__________________________________________________________________________________________________\n",
      "tf_op_layer_Equal (TensorFlowOp [(None, None)]       0           tf_op_layer_Cast_1[0][0]         \n",
      "__________________________________________________________________________________________________\n",
      "tf_op_layer_Squeeze_1 (TensorFl [(None, None)]       0           final_dense[0][0]                \n",
      "__________________________________________________________________________________________________\n",
      "tf_op_layer_SelectV2 (TensorFlo [(None, None)]       0           tf_op_layer_Equal[0][0]          \n",
      "                                                                 tf_op_layer_Squeeze_1[0][0]      \n",
      "__________________________________________________________________________________________________\n",
      "name_match (InputLayer)         [(None, None)]       0                                            \n",
      "__________________________________________________________________________________________________\n",
      "query_id (InputLayer)           [(None, 1)]          0                                            \n",
      "__________________________________________________________________________________________________\n",
      "rank (InputLayer)               [(None, None)]       0                                            \n",
      "__________________________________________________________________________________________________\n",
      "ranking_score (Softmax)         (None, None)         0           tf_op_layer_SelectV2[0][0]       \n",
      "==================================================================================================\n",
      "Total params: 198,657\n",
      "Trainable params: 198,657\n",
      "Non-trainable params: 0\n",
      "__________________________________________________________________________________________________\n",
      "INFO: 2022-08-19 13:04:54.938 \n",
      "Relevance Model created\n",
      "WARNING:tensorflow:Expected a shuffled dataset but input dataset `x` is not shuffled. Please invoke `shuffle()` on input dataset.\n"
     ]
    },
    {
     "name": "stdout",
     "output_type": "stream",
     "text": [
      "INFO: 2022-08-19 13:04:55.149 \n",
      "Training Model\n",
      "INFO: 2022-08-19 13:04:55.152 \n",
      "Starting Epoch : 1\n",
      "INFO: 2022-08-19 13:04:55.152 \n",
      "{}\n",
      "INFO: 2022-08-19 13:04:55.157 \n",
      "lr=0.01\n",
      "Epoch 1/3\n",
      "2022-08-19 13:04:56.812904: W tensorflow/core/grappler/optimizers/implementation_selector.cc:310] Skipping optimization due to error while loading function libraries: Invalid argument: Functions '__inference___backward_standard_lstm_6398_6997' and '__inference___backward_standard_lstm_6398_6997_specialized_for_training_Adam_gradients_gradients_bidirectional_forward_lstm_StatefulPartitionedCall_grad_StatefulPartitionedCall_at___inference_keras_scratch_graph_9065' both implement 'lstm_22e9a62a-dad5-470e-8e5d-8b1cfde2c471' but their signatures do not match.\n",
      "2022-08-19 13:04:57.319085: I tensorflow/core/profiler/lib/profiler_session.cc:184] Profiler session started.\n",
      "INFO: 2022-08-19 13:04:57.319 \n",
      "[epoch: 1 | batch: 0] {'batch': 0, 'size': 128, 'loss': 1.257792, 'old_MRR': 0.8084635, 'new_MRR': 0.5754498, 'old_ACR': 1.5859375, 'new_ACR': 2.40625}\n",
      "      1/Unknown - 2s 2s/step - loss: 1.2578 - old_MRR: 0.8085 - new_MRR: 0.5754 - old_ACR: 1.5859 - new_ACR: 2.4062WARNING:tensorflow:Method (on_train_batch_end) is slow compared to the batch update (0.116749). Check your callbacks.\n",
      "     12/Unknown - 3s 241ms/step - loss: 1.1073 - old_MRR: 0.7913 - new_MRR: 0.6819 - old_ACR: 1.6387 - new_ACR: 2.0360INFO: 2022-08-19 13:04:58.107 \n",
      "Evaluating Model\n",
      "INFO: 2022-08-19 13:04:58.917 \n",
      "[batch: 0] {'batch': 0, 'size': 128, 'loss': 1.0926201, 'old_MRR': 0.79674476, 'new_MRR': 0.6958333, 'old_ACR': 1.546875, 'new_ACR': 1.9765625}\n",
      "INFO: 2022-08-19 13:04:59.133 \n",
      "Completed evaluating model\n",
      "INFO: 2022-08-19 13:04:59.133 \n",
      "None\n",
      "\n",
      "Epoch 00001: val_new_MRR improved from -inf to 0.71307, saving model to ../models/explain_demo_2022/activate_demo/checkpoint.tf\n",
      "2022-08-19 13:05:11.352802: W tensorflow/python/util/util.cc:299] Sets are not currently considered sequences, but this may change in the future, so consider avoiding using them.\n",
      "WARNING:tensorflow:From /Users/tlaud/ml4ir/python/venv/lib/python3.7/site-packages/tensorflow_core/python/ops/resource_variable_ops.py:1781: calling BaseResourceVariable.__init__ (from tensorflow.python.ops.resource_variable_ops) with constraint is deprecated and will be removed in a future version.\n",
      "Instructions for updating:\n",
      "If using Keras pass *_constraint arguments to layers.\n",
      "INFO: 2022-08-19 13:05:19.664 \n",
      "End of Epoch 1\n",
      "INFO: 2022-08-19 13:05:19.664 \n",
      "{'loss': 1.1074921588897706, 'old_MRR': 0.79127455, 'new_MRR': 0.6819053, 'old_ACR': 1.6386666, 'new_ACR': 2.036, 'val_loss': 1.0886834760506947, 'val_old_MRR': 0.7844764, 'val_new_MRR': 0.7130664, 'val_old_ACR': 1.6433333, 'val_new_ACR': 1.9373333}\n",
      "12/12 [==============================] - 25s 2s/step - loss: 1.1073 - old_MRR: 0.7913 - new_MRR: 0.6819 - old_ACR: 1.6387 - new_ACR: 2.0360 - val_loss: 0.0000e+00 - val_old_MRR: 0.0000e+00 - val_new_MRR: 0.0000e+00 - val_old_ACR: 0.0000e+00 - val_new_ACR: 0.0000e+00\n",
      "INFO: 2022-08-19 13:05:19.726 \n",
      "Starting Epoch : 2\n",
      "INFO: 2022-08-19 13:05:19.727 \n",
      "{}\n",
      "INFO: 2022-08-19 13:05:19.727 \n",
      "lr=0.01\n",
      "Epoch 2/3\n",
      "INFO: 2022-08-19 13:05:19.859 \n",
      "[epoch: 2 | batch: 0] {'batch': 0, 'size': 128, 'loss': 1.1988869, 'old_MRR': 0.8084635, 'new_MRR': 0.6577414, 'old_ACR': 1.5859375, 'new_ACR': 2.1796875}\n",
      "10/12 [========================>.....] - ETA: 0s - loss: 1.1260 - old_MRR: 0.7829 - new_MRR: 0.6779 - old_ACR: 1.6711 - new_ACR: 2.0414INFO: 2022-08-19 13:05:20.479 \n",
      "Evaluating Model\n",
      "INFO: 2022-08-19 13:05:20.580 \n",
      "[batch: 0] {'batch': 0, 'size': 128, 'loss': 1.0831273, 'old_MRR': 0.79674476, 'new_MRR': 0.69928384, 'old_ACR': 1.546875, 'new_ACR': 1.9375}\n",
      "INFO: 2022-08-19 13:05:20.805 \n",
      "Completed evaluating model\n",
      "INFO: 2022-08-19 13:05:20.805 \n",
      "None\n",
      "\n",
      "Epoch 00002: val_new_MRR did not improve from 0.71307\n",
      "INFO: 2022-08-19 13:05:20.825 \n",
      "End of Epoch 2\n",
      "INFO: 2022-08-19 13:05:20.825 \n",
      "{'loss': 1.1186733414332073, 'old_MRR': 0.79127455, 'new_MRR': 0.6805299, 'old_ACR': 1.6386666, 'new_ACR': 2.028, 'val_loss': 1.089821497599284, 'val_old_MRR': 0.7844764, 'val_new_MRR': 0.7118358, 'val_old_ACR': 1.6433333, 'val_new_ACR': 1.934}\n",
      "12/12 [==============================] - 1s 92ms/step - loss: 1.1182 - old_MRR: 0.7913 - new_MRR: 0.6805 - old_ACR: 1.6387 - new_ACR: 2.0280 - val_loss: 1.0898 - val_old_MRR: 0.7845 - val_new_MRR: 0.7118 - val_old_ACR: 1.6433 - val_new_ACR: 1.9340\n",
      "INFO: 2022-08-19 13:05:20.886 \n",
      "Starting Epoch : 3\n",
      "INFO: 2022-08-19 13:05:20.887 \n",
      "{}\n",
      "INFO: 2022-08-19 13:05:20.887 \n",
      "lr=0.01\n",
      "Epoch 3/3\n",
      "INFO: 2022-08-19 13:05:20.994 \n",
      "[epoch: 3 | batch: 0] {'batch': 0, 'size': 128, 'loss': 1.0973006, 'old_MRR': 0.8084635, 'new_MRR': 0.6865885, 'old_ACR': 1.5859375, 'new_ACR': 1.9765625}\n",
      "11/12 [==========================>...] - ETA: 0s - loss: 1.0797 - old_MRR: 0.7875 - new_MRR: 0.6979 - old_ACR: 1.6491 - new_ACR: 1.9737INFO: 2022-08-19 13:05:21.561 \n",
      "Evaluating Model\n",
      "INFO: 2022-08-19 13:05:21.639 \n",
      "[batch: 0] {'batch': 0, 'size': 128, 'loss': 1.0837145, 'old_MRR': 0.79674476, 'new_MRR': 0.6979818, 'old_ACR': 1.546875, 'new_ACR': 1.9453125}\n",
      "INFO: 2022-08-19 13:05:21.875 \n",
      "Completed evaluating model\n",
      "INFO: 2022-08-19 13:05:21.875 \n",
      "None\n",
      "\n",
      "Epoch 00003: val_new_MRR did not improve from 0.71307\n",
      "Restoring model weights from the end of the best epoch.\n",
      "INFO: 2022-08-19 13:05:21.898 \n",
      "End of Epoch 3\n",
      "INFO: 2022-08-19 13:05:21.899 \n",
      "{'loss': 1.085703289349874, 'old_MRR': 0.79127455, 'new_MRR': 0.69355875, 'old_ACR': 1.6386666, 'new_ACR': 1.9926667, 'val_loss': 1.0858854353427887, 'val_old_MRR': 0.7844764, 'val_new_MRR': 0.7116691, 'val_old_ACR': 1.6433333, 'val_new_ACR': 1.9346666}\n",
      "12/12 [==============================] - 1s 84ms/step - loss: 1.0877 - old_MRR: 0.7913 - new_MRR: 0.6936 - old_ACR: 1.6387 - new_ACR: 1.9927 - val_loss: 1.0859 - val_old_MRR: 0.7845 - val_new_MRR: 0.7117 - val_old_ACR: 1.6433 - val_new_ACR: 1.9347\n",
      "Epoch 00003: early stopping\n",
      "INFO: 2022-08-19 13:05:21.900 \n",
      "Completed training model\n",
      "INFO: 2022-08-19 13:05:21.900 \n",
      "None\n",
      "2022-08-19 13:05:25.247192: W tensorflow/core/grappler/optimizers/implementation_selector.cc:310] Skipping optimization due to error while loading function libraries: Invalid argument: Functions '__inference_standard_lstm_58157' and '__inference_standard_lstm_58157_specialized_for_model_bidirectional_backward_lstm_StatefulPartitionedCall_at___inference__predict_score_60470' both implement 'lstm_758415c5-0d6e-4256-879d-bd9531132ff8' but their signatures do not match.\n",
      "2022-08-19 13:05:25.289779: E tensorflow/core/grappler/optimizers/dependency_optimizer.cc:697] Iteration = 0, topological sort failed with message: The graph couldn't be sorted in topological order.\n",
      "2022-08-19 13:05:25.291059: E tensorflow/core/grappler/optimizers/dependency_optimizer.cc:697] Iteration = 1, topological sort failed with message: The graph couldn't be sorted in topological order.\n",
      "2022-08-19 13:05:25.296932: E tensorflow/core/grappler/optimizers/meta_optimizer.cc:502] model_pruner failed: Invalid argument: MutableGraphView::MutableGraphView error: node 'cond/then/_2/concat' has self cycle fanin 'cond/then/_2/concat'.\n",
      "2022-08-19 13:05:25.296966: W tensorflow/core/grappler/optimizers/implementation_selector.cc:310] Skipping optimization due to error while loading function libraries: Invalid argument: Functions '__inference_standard_lstm_58157' and '__inference_standard_lstm_58157_specialized_for_model_bidirectional_backward_lstm_StatefulPartitionedCall_at___inference__predict_score_60470' both implement 'lstm_758415c5-0d6e-4256-879d-bd9531132ff8' but their signatures do not match.\n",
      "2022-08-19 13:05:25.299810: W tensorflow/core/graph/graph_constructor.cc:1270] IN Convert 12 NODES IN A CYCLE\n",
      "2022-08-19 13:05:25.299824: W tensorflow/core/graph/graph_constructor.cc:1274] PENDING: {{node cond/then/_2/split}} = Identity[T=DT_STRING, _device=\"/job:localhost/replica:0/task:0/device:CPU:0\"](cond/then/_2/concat, ^cond/then/_2/split/split_dim) WITH PENDING COUNT = 1\n",
      "2022-08-19 13:05:25.299852: W tensorflow/core/graph/graph_constructor.cc:1274] PENDING: {{node cond/then/_2/concat}} = ConcatV2[N=25, T=DT_STRING, Tidx=DT_INT32, _device=\"/job:localhost/replica:0/task:0/device:CPU:0\"](cond/features_5/_7:1, cond/then/_2/concat, cond/then/_2/concat, cond/then/_2/concat, cond/then/_2/concat, cond/then/_2/concat, cond/then/_2/concat, cond/then/_2/concat, cond/then/_2/concat, cond/then/_2/concat, cond/then/_2/concat, cond/then/_2/concat, cond/then/_2/concat, cond/then/_2/concat, cond/then/_2/concat, cond/then/_2/concat, cond/then/_2/concat, cond/then/_2/concat, cond/then/_2/concat, cond/then/_2/concat, cond/then/_2/concat, cond/then/_2/concat, cond/then/_2/concat, cond/then/_2/concat, cond/then/_2/concat, cond/then/_2/split/split_dim) WITH PENDING COUNT = 24\n",
      "2022-08-19 13:05:25.299879: W tensorflow/core/graph/graph_constructor.cc:1274] PENDING: {{node cond/output/_8}} = Merge[N=2, T=DT_STRING, _device=\"/job:localhost/replica:0/task:0/device:CPU:0\"](cond/then/_2/split, Func/cond/else/_3/input/_72) WITH PENDING COUNT = 1\n",
      "2022-08-19 13:05:25.300036: W tensorflow/core/graph/graph_constructor.cc:1274] PENDING: {{node PartitionedCall_1/Shape}} = Shape[T=DT_STRING, out_type=DT_INT32, _device=\"/job:localhost/replica:0/task:0/device:CPU:0\"](cond/output/_8) WITH PENDING COUNT = 1\n",
      "2022-08-19 13:05:25.300053: W tensorflow/core/graph/graph_constructor.cc:1274] PENDING: {{node PartitionedCall_1/strided_slice}} = StridedSlice[Index=DT_INT32, T=DT_INT32, begin_mask=0, ellipsis_mask=0, end_mask=1, new_axis_mask=0, shrink_axis_mask=0, _device=\"/job:localhost/replica:0/task:0/device:CPU:0\"](PartitionedCall_1/Shape, model/domain_name_embedding/categorical_variable_embedding/categorical_variable_embedding_weights/strided_slice/stack_1, model/bidirectional/forward_lstm/strided_slice/stack, model/bidirectional/forward_lstm/strided_slice/stack_1) WITH PENDING COUNT = 1\n",
      "2022-08-19 13:05:25.300063: W tensorflow/core/graph/graph_constructor.cc:1274] PENDING: {{node PartitionedCall_1/concat}} = ConcatV2[N=2, T=DT_INT32, Tidx=DT_INT32, _device=\"/job:localhost/replica:0/task:0/device:CPU:0\"](model/domain_name_embedding/categorical_variable_embedding/categorical_variable_embedding_weights/Reshape/shape, PartitionedCall_1/strided_slice, model/tf_op_layer_GatherV2/GatherV2/indices) WITH PENDING COUNT = 1\n",
      "2022-08-19 13:05:25.300326: W tensorflow/core/graph/graph_constructor.cc:1274] PENDING: {{node PartitionedCall_1/Reshape}} = Reshape[T=DT_STRING, Tshape=DT_INT32, _device=\"/job:localhost/replica:0/task:0/device:CPU:0\"](cond/output/_8, PartitionedCall_1/concat) WITH PENDING COUNT = 2\n",
      "2022-08-19 13:05:25.300339: W tensorflow/core/graph/graph_constructor.cc:1274] PENDING: {{node PartitionedCall_2/GatherNd}} = GatherNd[Tindices=DT_INT64, Tparams=DT_STRING, _device=\"/job:localhost/replica:0/task:0/device:CPU:0\"](PartitionedCall_1/Reshape, PartitionedCall_2/Where) WITH PENDING COUNT = 1\n",
      "2022-08-19 13:05:25.300347: W tensorflow/core/graph/graph_constructor.cc:1274] PENDING: {{node PartitionedCall_2/Squeeze}} = Squeeze[T=DT_STRING, squeeze_dims=[], _device=\"/job:localhost/replica:0/task:0/device:CPU:0\"](PartitionedCall_2/GatherNd) WITH PENDING COUNT = 1\n",
      "2022-08-19 13:05:25.300372: W tensorflow/core/graph/graph_constructor.cc:1274] PENDING: {{node Squeeze}} = Squeeze[T=DT_STRING, squeeze_dims=[], _device=\"/job:localhost/replica:0/task:0/device:CPU:0\"](PartitionedCall_2/Squeeze) WITH PENDING COUNT = 1\n",
      "2022-08-19 13:05:25.300379: W tensorflow/core/graph/graph_constructor.cc:1274] PENDING: {{node Identity_2}} = Identity[T=DT_STRING, _device=\"/job:localhost/replica:0/task:0/device:CPU:0\"](Squeeze, ^model/bidirectional/backward_lstm/StatefulPartitionedCall, ^model/bidirectional/forward_lstm/StatefulPartitionedCall, ^model/domain_name_embedding/categorical_variable_embedding/categorical_variable_embedding_weights/embedding_lookup_sparse/embedding_lookup, ^model/final_dense/BiasAdd/ReadVariableOp, ^model/final_dense/Tensordot/ReadVariableOp, ^model/first_dense/BiasAdd/ReadVariableOp, ^model/first_dense/Tensordot/ReadVariableOp, ^model/second_dense/BiasAdd/ReadVariableOp, ^model/second_dense/Tensordot/ReadVariableOp) WITH PENDING COUNT = 1\n",
      "2022-08-19 13:05:25.300630: W tensorflow/core/graph/graph_constructor.cc:1274] PENDING: {{node identity_2_RetVal}} = _Retval[T=DT_STRING, index=2, _device=\"/job:localhost/replica:0/task:0/device:CPU:0\"](Identity_2) WITH PENDING COUNT = 1\n",
      "2022-08-19 13:05:25.300705: W tensorflow/core/graph/graph_constructor.cc:1070] Cycle detected:\n",
      "2022-08-19 13:05:25.300735: W tensorflow/core/graph/graph_constructor.cc:1072] {{node cond/then/_2/concat}} = ConcatV2[N=25, T=DT_STRING, Tidx=DT_INT32, _device=\"/job:localhost/replica:0/task:0/device:CPU:0\"](cond/features_5/_7:1, cond/then/_2/concat, cond/then/_2/concat, cond/then/_2/concat, cond/then/_2/concat, cond/then/_2/concat, cond/then/_2/concat, cond/then/_2/concat, cond/then/_2/concat, cond/then/_2/concat, cond/then/_2/concat, cond/then/_2/concat, cond/then/_2/concat, cond/then/_2/concat, cond/then/_2/concat, cond/then/_2/concat, cond/then/_2/concat, cond/then/_2/concat, cond/then/_2/concat, cond/then/_2/concat, cond/then/_2/concat, cond/then/_2/concat, cond/then/_2/concat, cond/then/_2/concat, cond/then/_2/concat, cond/then/_2/split/split_dim)\n",
      "2022-08-19 13:05:25.300817: W tensorflow/core/graph/graph_constructor.cc:1075] End of cycle\n",
      "2022-08-19 13:05:25.300835: W tensorflow/core/graph/graph_constructor.cc:1070] Cycle detected:\n",
      "2022-08-19 13:05:25.300841: W tensorflow/core/graph/graph_constructor.cc:1072] {{node cond/then/_2/concat}} = ConcatV2[N=25, T=DT_STRING, Tidx=DT_INT32, _device=\"/job:localhost/replica:0/task:0/device:CPU:0\"](cond/features_5/_7:1, cond/then/_2/concat, cond/then/_2/concat, cond/then/_2/concat, cond/then/_2/concat, cond/then/_2/concat, cond/then/_2/concat, cond/then/_2/concat, cond/then/_2/concat, cond/then/_2/concat, cond/then/_2/concat, cond/then/_2/concat, cond/then/_2/concat, cond/then/_2/concat, cond/then/_2/concat, cond/then/_2/concat, cond/then/_2/concat, cond/then/_2/concat, cond/then/_2/concat, cond/then/_2/concat, cond/then/_2/concat, cond/then/_2/concat, cond/then/_2/concat, cond/then/_2/concat, cond/then/_2/concat, cond/then/_2/split/split_dim)\n",
      "2022-08-19 13:05:25.300845: W tensorflow/core/graph/graph_constructor.cc:1075] End of cycle\n",
      "2022-08-19 13:05:25.300848: W tensorflow/core/graph/graph_constructor.cc:1070] Cycle detected:\n",
      "2022-08-19 13:05:25.300853: W tensorflow/core/graph/graph_constructor.cc:1072] {{node cond/then/_2/concat}} = ConcatV2[N=25, T=DT_STRING, Tidx=DT_INT32, _device=\"/job:localhost/replica:0/task:0/device:CPU:0\"](cond/features_5/_7:1, cond/then/_2/concat, cond/then/_2/concat, cond/then/_2/concat, cond/then/_2/concat, cond/then/_2/concat, cond/then/_2/concat, cond/then/_2/concat, cond/then/_2/concat, cond/then/_2/concat, cond/then/_2/concat, cond/then/_2/concat, cond/then/_2/concat, cond/then/_2/concat, cond/then/_2/concat, cond/then/_2/concat, cond/then/_2/concat, cond/then/_2/concat, cond/then/_2/concat, cond/then/_2/concat, cond/then/_2/concat, cond/then/_2/concat, cond/then/_2/concat, cond/then/_2/concat, cond/then/_2/concat, cond/then/_2/split/split_dim)\n",
      "2022-08-19 13:05:25.301111: W tensorflow/core/graph/graph_constructor.cc:1075] End of cycle\n",
      "2022-08-19 13:05:25.301136: W tensorflow/core/graph/graph_constructor.cc:1070] Cycle detected:\n",
      "2022-08-19 13:05:25.301147: W tensorflow/core/graph/graph_constructor.cc:1072] {{node cond/then/_2/concat}} = ConcatV2[N=25, T=DT_STRING, Tidx=DT_INT32, _device=\"/job:localhost/replica:0/task:0/device:CPU:0\"](cond/features_5/_7:1, cond/then/_2/concat, cond/then/_2/concat, cond/then/_2/concat, cond/then/_2/concat, cond/then/_2/concat, cond/then/_2/concat, cond/then/_2/concat, cond/then/_2/concat, cond/then/_2/concat, cond/then/_2/concat, cond/then/_2/concat, cond/then/_2/concat, cond/then/_2/concat, cond/then/_2/concat, cond/then/_2/concat, cond/then/_2/concat, cond/then/_2/concat, cond/then/_2/concat, cond/then/_2/concat, cond/then/_2/concat, cond/then/_2/concat, cond/then/_2/concat, cond/then/_2/concat, cond/then/_2/concat, cond/then/_2/split/split_dim)\n",
      "2022-08-19 13:05:25.301249: W tensorflow/core/graph/graph_constructor.cc:1075] End of cycle\n",
      "2022-08-19 13:05:25.301276: W tensorflow/core/graph/graph_constructor.cc:1070] Cycle detected:\n",
      "2022-08-19 13:05:25.301309: W tensorflow/core/graph/graph_constructor.cc:1072] {{node cond/then/_2/concat}} = ConcatV2[N=25, T=DT_STRING, Tidx=DT_INT32, _device=\"/job:localhost/replica:0/task:0/device:CPU:0\"](cond/features_5/_7:1, cond/then/_2/concat, cond/then/_2/concat, cond/then/_2/concat, cond/then/_2/concat, cond/then/_2/concat, cond/then/_2/concat, cond/then/_2/concat, cond/then/_2/concat, cond/then/_2/concat, cond/then/_2/concat, cond/then/_2/concat, cond/then/_2/concat, cond/then/_2/concat, cond/then/_2/concat, cond/then/_2/concat, cond/then/_2/concat, cond/then/_2/concat, cond/then/_2/concat, cond/then/_2/concat, cond/then/_2/concat, cond/then/_2/concat, cond/then/_2/concat, cond/then/_2/concat, cond/then/_2/concat, cond/then/_2/split/split_dim)\n",
      "2022-08-19 13:05:25.301315: W tensorflow/core/graph/graph_constructor.cc:1075] End of cycle\n",
      "2022-08-19 13:05:25.301317: W tensorflow/core/graph/graph_constructor.cc:1070] Cycle detected:\n",
      "2022-08-19 13:05:25.301323: W tensorflow/core/graph/graph_constructor.cc:1072] {{node cond/then/_2/concat}} = ConcatV2[N=25, T=DT_STRING, Tidx=DT_INT32, _device=\"/job:localhost/replica:0/task:0/device:CPU:0\"](cond/features_5/_7:1, cond/then/_2/concat, cond/then/_2/concat, cond/then/_2/concat, cond/then/_2/concat, cond/then/_2/concat, cond/then/_2/concat, cond/then/_2/concat, cond/then/_2/concat, cond/then/_2/concat, cond/then/_2/concat, cond/then/_2/concat, cond/then/_2/concat, cond/then/_2/concat, cond/then/_2/concat, cond/then/_2/concat, cond/then/_2/concat, cond/then/_2/concat, cond/then/_2/concat, cond/then/_2/concat, cond/then/_2/concat, cond/then/_2/concat, cond/then/_2/concat, cond/then/_2/concat, cond/then/_2/concat, cond/then/_2/split/split_dim)\n",
      "2022-08-19 13:05:25.301493: W tensorflow/core/graph/graph_constructor.cc:1075] End of cycle\n",
      "2022-08-19 13:05:25.301497: W tensorflow/core/graph/graph_constructor.cc:1070] Cycle detected:\n",
      "2022-08-19 13:05:25.301504: W tensorflow/core/graph/graph_constructor.cc:1072] {{node cond/then/_2/concat}} = ConcatV2[N=25, T=DT_STRING, Tidx=DT_INT32, _device=\"/job:localhost/replica:0/task:0/device:CPU:0\"](cond/features_5/_7:1, cond/then/_2/concat, cond/then/_2/concat, cond/then/_2/concat, cond/then/_2/concat, cond/then/_2/concat, cond/then/_2/concat, cond/then/_2/concat, cond/then/_2/concat, cond/then/_2/concat, cond/then/_2/concat, cond/then/_2/concat, cond/then/_2/concat, cond/then/_2/concat, cond/then/_2/concat, cond/then/_2/concat, cond/then/_2/concat, cond/then/_2/concat, cond/then/_2/concat, cond/then/_2/concat, cond/then/_2/concat, cond/then/_2/concat, cond/then/_2/concat, cond/then/_2/concat, cond/then/_2/concat, cond/then/_2/split/split_dim)\n",
      "2022-08-19 13:05:25.301509: W tensorflow/core/graph/graph_constructor.cc:1075] End of cycle\n",
      "2022-08-19 13:05:25.301511: W tensorflow/core/graph/graph_constructor.cc:1070] Cycle detected:\n",
      "2022-08-19 13:05:25.301516: W tensorflow/core/graph/graph_constructor.cc:1072] {{node cond/then/_2/concat}} = ConcatV2[N=25, T=DT_STRING, Tidx=DT_INT32, _device=\"/job:localhost/replica:0/task:0/device:CPU:0\"](cond/features_5/_7:1, cond/then/_2/concat, cond/then/_2/concat, cond/then/_2/concat, cond/then/_2/concat, cond/then/_2/concat, cond/then/_2/concat, cond/then/_2/concat, cond/then/_2/concat, cond/then/_2/concat, cond/then/_2/concat, cond/then/_2/concat, cond/then/_2/concat, cond/then/_2/concat, cond/then/_2/concat, cond/then/_2/concat, cond/then/_2/concat, cond/then/_2/concat, cond/then/_2/concat, cond/then/_2/concat, cond/then/_2/concat, cond/then/_2/concat, cond/then/_2/concat, cond/then/_2/concat, cond/then/_2/concat, cond/then/_2/split/split_dim)\n",
      "2022-08-19 13:05:25.301652: W tensorflow/core/graph/graph_constructor.cc:1075] End of cycle\n",
      "2022-08-19 13:05:25.301655: W tensorflow/core/graph/graph_constructor.cc:1070] Cycle detected:\n",
      "2022-08-19 13:05:25.301660: W tensorflow/core/graph/graph_constructor.cc:1072] {{node cond/then/_2/concat}} = ConcatV2[N=25, T=DT_STRING, Tidx=DT_INT32, _device=\"/job:localhost/replica:0/task:0/device:CPU:0\"](cond/features_5/_7:1, cond/then/_2/concat, cond/then/_2/concat, cond/then/_2/concat, cond/then/_2/concat, cond/then/_2/concat, cond/then/_2/concat, cond/then/_2/concat, cond/then/_2/concat, cond/then/_2/concat, cond/then/_2/concat, cond/then/_2/concat, cond/then/_2/concat, cond/then/_2/concat, cond/then/_2/concat, cond/then/_2/concat, cond/then/_2/concat, cond/then/_2/concat, cond/then/_2/concat, cond/then/_2/concat, cond/then/_2/concat, cond/then/_2/concat, cond/then/_2/concat, cond/then/_2/concat, cond/then/_2/concat, cond/then/_2/split/split_dim)\n",
      "2022-08-19 13:05:25.301664: W tensorflow/core/graph/graph_constructor.cc:1075] End of cycle\n",
      "2022-08-19 13:05:25.301667: W tensorflow/core/graph/graph_constructor.cc:1070] Cycle detected:\n",
      "2022-08-19 13:05:25.301671: W tensorflow/core/graph/graph_constructor.cc:1072] {{node cond/then/_2/concat}} = ConcatV2[N=25, T=DT_STRING, Tidx=DT_INT32, _device=\"/job:localhost/replica:0/task:0/device:CPU:0\"](cond/features_5/_7:1, cond/then/_2/concat, cond/then/_2/concat, cond/then/_2/concat, cond/then/_2/concat, cond/then/_2/concat, cond/then/_2/concat, cond/then/_2/concat, cond/then/_2/concat, cond/then/_2/concat, cond/then/_2/concat, cond/then/_2/concat, cond/then/_2/concat, cond/then/_2/concat, cond/then/_2/concat, cond/then/_2/concat, cond/then/_2/concat, cond/then/_2/concat, cond/then/_2/concat, cond/then/_2/concat, cond/then/_2/concat, cond/then/_2/concat, cond/then/_2/concat, cond/then/_2/concat, cond/then/_2/concat, cond/then/_2/split/split_dim)\n",
      "2022-08-19 13:05:25.301828: W tensorflow/core/graph/graph_constructor.cc:1075] End of cycle\n",
      "2022-08-19 13:05:25.301832: W tensorflow/core/graph/graph_constructor.cc:1070] Cycle detected:\n",
      "2022-08-19 13:05:25.301837: W tensorflow/core/graph/graph_constructor.cc:1072] {{node cond/then/_2/concat}} = ConcatV2[N=25, T=DT_STRING, Tidx=DT_INT32, _device=\"/job:localhost/replica:0/task:0/device:CPU:0\"](cond/features_5/_7:1, cond/then/_2/concat, cond/then/_2/concat, cond/then/_2/concat, cond/then/_2/concat, cond/then/_2/concat, cond/then/_2/concat, cond/then/_2/concat, cond/then/_2/concat, cond/then/_2/concat, cond/then/_2/concat, cond/then/_2/concat, cond/then/_2/concat, cond/then/_2/concat, cond/then/_2/concat, cond/then/_2/concat, cond/then/_2/concat, cond/then/_2/concat, cond/then/_2/concat, cond/then/_2/concat, cond/then/_2/concat, cond/then/_2/concat, cond/then/_2/concat, cond/then/_2/concat, cond/then/_2/concat, cond/then/_2/split/split_dim)\n",
      "2022-08-19 13:05:25.301842: W tensorflow/core/graph/graph_constructor.cc:1075] End of cycle\n",
      "2022-08-19 13:05:25.301845: W tensorflow/core/graph/graph_constructor.cc:1070] Cycle detected:\n",
      "2022-08-19 13:05:25.301849: W tensorflow/core/graph/graph_constructor.cc:1072] {{node cond/then/_2/concat}} = ConcatV2[N=25, T=DT_STRING, Tidx=DT_INT32, _device=\"/job:localhost/replica:0/task:0/device:CPU:0\"](cond/features_5/_7:1, cond/then/_2/concat, cond/then/_2/concat, cond/then/_2/concat, cond/then/_2/concat, cond/then/_2/concat, cond/then/_2/concat, cond/then/_2/concat, cond/then/_2/concat, cond/then/_2/concat, cond/then/_2/concat, cond/then/_2/concat, cond/then/_2/concat, cond/then/_2/concat, cond/then/_2/concat, cond/then/_2/concat, cond/then/_2/concat, cond/then/_2/concat, cond/then/_2/concat, cond/then/_2/concat, cond/then/_2/concat, cond/then/_2/concat, cond/then/_2/concat, cond/then/_2/concat, cond/then/_2/concat, cond/then/_2/split/split_dim)\n",
      "2022-08-19 13:05:25.301992: W tensorflow/core/graph/graph_constructor.cc:1075] End of cycle\n",
      "2022-08-19 13:05:25.302000: W tensorflow/core/graph/graph_constructor.cc:1070] Cycle detected:\n",
      "2022-08-19 13:05:25.302010: W tensorflow/core/graph/graph_constructor.cc:1072] {{node cond/then/_2/concat}} = ConcatV2[N=25, T=DT_STRING, Tidx=DT_INT32, _device=\"/job:localhost/replica:0/task:0/device:CPU:0\"](cond/features_5/_7:1, cond/then/_2/concat, cond/then/_2/concat, cond/then/_2/concat, cond/then/_2/concat, cond/then/_2/concat, cond/then/_2/concat, cond/then/_2/concat, cond/then/_2/concat, cond/then/_2/concat, cond/then/_2/concat, cond/then/_2/concat, cond/then/_2/concat, cond/then/_2/concat, cond/then/_2/concat, cond/then/_2/concat, cond/then/_2/concat, cond/then/_2/concat, cond/then/_2/concat, cond/then/_2/concat, cond/then/_2/concat, cond/then/_2/concat, cond/then/_2/concat, cond/then/_2/concat, cond/then/_2/concat, cond/then/_2/split/split_dim)\n",
      "2022-08-19 13:05:25.302015: W tensorflow/core/graph/graph_constructor.cc:1075] End of cycle\n",
      "2022-08-19 13:05:25.302149: W tensorflow/core/graph/graph_constructor.cc:1070] Cycle detected:\n",
      "2022-08-19 13:05:25.302178: W tensorflow/core/graph/graph_constructor.cc:1072] {{node cond/then/_2/concat}} = ConcatV2[N=25, T=DT_STRING, Tidx=DT_INT32, _device=\"/job:localhost/replica:0/task:0/device:CPU:0\"](cond/features_5/_7:1, cond/then/_2/concat, cond/then/_2/concat, cond/then/_2/concat, cond/then/_2/concat, cond/then/_2/concat, cond/then/_2/concat, cond/then/_2/concat, cond/then/_2/concat, cond/then/_2/concat, cond/then/_2/concat, cond/then/_2/concat, cond/then/_2/concat, cond/then/_2/concat, cond/then/_2/concat, cond/then/_2/concat, cond/then/_2/concat, cond/then/_2/concat, cond/then/_2/concat, cond/then/_2/concat, cond/then/_2/concat, cond/then/_2/concat, cond/then/_2/concat, cond/then/_2/concat, cond/then/_2/concat, cond/then/_2/split/split_dim)\n",
      "2022-08-19 13:05:25.302208: W tensorflow/core/graph/graph_constructor.cc:1075] End of cycle\n",
      "2022-08-19 13:05:25.302211: W tensorflow/core/graph/graph_constructor.cc:1070] Cycle detected:\n",
      "2022-08-19 13:05:25.302216: W tensorflow/core/graph/graph_constructor.cc:1072] {{node cond/then/_2/concat}} = ConcatV2[N=25, T=DT_STRING, Tidx=DT_INT32, _device=\"/job:localhost/replica:0/task:0/device:CPU:0\"](cond/features_5/_7:1, cond/then/_2/concat, cond/then/_2/concat, cond/then/_2/concat, cond/then/_2/concat, cond/then/_2/concat, cond/then/_2/concat, cond/then/_2/concat, cond/then/_2/concat, cond/then/_2/concat, cond/then/_2/concat, cond/then/_2/concat, cond/then/_2/concat, cond/then/_2/concat, cond/then/_2/concat, cond/then/_2/concat, cond/then/_2/concat, cond/then/_2/concat, cond/then/_2/concat, cond/then/_2/concat, cond/then/_2/concat, cond/then/_2/concat, cond/then/_2/concat, cond/then/_2/concat, cond/then/_2/concat, cond/then/_2/split/split_dim)\n",
      "2022-08-19 13:05:25.302221: W tensorflow/core/graph/graph_constructor.cc:1075] End of cycle\n",
      "2022-08-19 13:05:25.302223: W tensorflow/core/graph/graph_constructor.cc:1070] Cycle detected:\n",
      "2022-08-19 13:05:25.302369: W tensorflow/core/graph/graph_constructor.cc:1072] {{node cond/then/_2/concat}} = ConcatV2[N=25, T=DT_STRING, Tidx=DT_INT32, _device=\"/job:localhost/replica:0/task:0/device:CPU:0\"](cond/features_5/_7:1, cond/then/_2/concat, cond/then/_2/concat, cond/then/_2/concat, cond/then/_2/concat, cond/then/_2/concat, cond/then/_2/concat, cond/then/_2/concat, cond/then/_2/concat, cond/then/_2/concat, cond/then/_2/concat, cond/then/_2/concat, cond/then/_2/concat, cond/then/_2/concat, cond/then/_2/concat, cond/then/_2/concat, cond/then/_2/concat, cond/then/_2/concat, cond/then/_2/concat, cond/then/_2/concat, cond/then/_2/concat, cond/then/_2/concat, cond/then/_2/concat, cond/then/_2/concat, cond/then/_2/concat, cond/then/_2/split/split_dim)\n",
      "2022-08-19 13:05:25.302400: W tensorflow/core/graph/graph_constructor.cc:1075] End of cycle\n",
      "2022-08-19 13:05:25.302402: W tensorflow/core/graph/graph_constructor.cc:1070] Cycle detected:\n",
      "2022-08-19 13:05:25.302431: W tensorflow/core/graph/graph_constructor.cc:1072] {{node cond/then/_2/concat}} = ConcatV2[N=25, T=DT_STRING, Tidx=DT_INT32, _device=\"/job:localhost/replica:0/task:0/device:CPU:0\"](cond/features_5/_7:1, cond/then/_2/concat, cond/then/_2/concat, cond/then/_2/concat, cond/then/_2/concat, cond/then/_2/concat, cond/then/_2/concat, cond/then/_2/concat, cond/then/_2/concat, cond/then/_2/concat, cond/then/_2/concat, cond/then/_2/concat, cond/then/_2/concat, cond/then/_2/concat, cond/then/_2/concat, cond/then/_2/concat, cond/then/_2/concat, cond/then/_2/concat, cond/then/_2/concat, cond/then/_2/concat, cond/then/_2/concat, cond/then/_2/concat, cond/then/_2/concat, cond/then/_2/concat, cond/then/_2/concat, cond/then/_2/split/split_dim)\n",
      "2022-08-19 13:05:25.302547: W tensorflow/core/graph/graph_constructor.cc:1075] End of cycle\n",
      "2022-08-19 13:05:25.302550: W tensorflow/core/graph/graph_constructor.cc:1070] Cycle detected:\n",
      "2022-08-19 13:05:25.302576: W tensorflow/core/graph/graph_constructor.cc:1072] {{node cond/then/_2/concat}} = ConcatV2[N=25, T=DT_STRING, Tidx=DT_INT32, _device=\"/job:localhost/replica:0/task:0/device:CPU:0\"](cond/features_5/_7:1, cond/then/_2/concat, cond/then/_2/concat, cond/then/_2/concat, cond/then/_2/concat, cond/then/_2/concat, cond/then/_2/concat, cond/then/_2/concat, cond/then/_2/concat, cond/then/_2/concat, cond/then/_2/concat, cond/then/_2/concat, cond/then/_2/concat, cond/then/_2/concat, cond/then/_2/concat, cond/then/_2/concat, cond/then/_2/concat, cond/then/_2/concat, cond/then/_2/concat, cond/then/_2/concat, cond/then/_2/concat, cond/then/_2/concat, cond/then/_2/concat, cond/then/_2/concat, cond/then/_2/concat, cond/then/_2/split/split_dim)\n",
      "2022-08-19 13:05:25.302581: W tensorflow/core/graph/graph_constructor.cc:1075] End of cycle\n",
      "2022-08-19 13:05:25.302583: W tensorflow/core/graph/graph_constructor.cc:1070] Cycle detected:\n",
      "2022-08-19 13:05:25.302612: W tensorflow/core/graph/graph_constructor.cc:1072] {{node cond/then/_2/concat}} = ConcatV2[N=25, T=DT_STRING, Tidx=DT_INT32, _device=\"/job:localhost/replica:0/task:0/device:CPU:0\"](cond/features_5/_7:1, cond/then/_2/concat, cond/then/_2/concat, cond/then/_2/concat, cond/then/_2/concat, cond/then/_2/concat, cond/then/_2/concat, cond/then/_2/concat, cond/then/_2/concat, cond/then/_2/concat, cond/then/_2/concat, cond/then/_2/concat, cond/then/_2/concat, cond/then/_2/concat, cond/then/_2/concat, cond/then/_2/concat, cond/then/_2/concat, cond/then/_2/concat, cond/then/_2/concat, cond/then/_2/concat, cond/then/_2/concat, cond/then/_2/concat, cond/then/_2/concat, cond/then/_2/concat, cond/then/_2/concat, cond/then/_2/split/split_dim)\n",
      "2022-08-19 13:05:25.302793: W tensorflow/core/graph/graph_constructor.cc:1075] End of cycle\n",
      "2022-08-19 13:05:25.302800: W tensorflow/core/graph/graph_constructor.cc:1070] Cycle detected:\n",
      "2022-08-19 13:05:25.302834: W tensorflow/core/graph/graph_constructor.cc:1072] {{node cond/then/_2/concat}} = ConcatV2[N=25, T=DT_STRING, Tidx=DT_INT32, _device=\"/job:localhost/replica:0/task:0/device:CPU:0\"](cond/features_5/_7:1, cond/then/_2/concat, cond/then/_2/concat, cond/then/_2/concat, cond/then/_2/concat, cond/then/_2/concat, cond/then/_2/concat, cond/then/_2/concat, cond/then/_2/concat, cond/then/_2/concat, cond/then/_2/concat, cond/then/_2/concat, cond/then/_2/concat, cond/then/_2/concat, cond/then/_2/concat, cond/then/_2/concat, cond/then/_2/concat, cond/then/_2/concat, cond/then/_2/concat, cond/then/_2/concat, cond/then/_2/concat, cond/then/_2/concat, cond/then/_2/concat, cond/then/_2/concat, cond/then/_2/concat, cond/then/_2/split/split_dim)\n",
      "2022-08-19 13:05:25.302839: W tensorflow/core/graph/graph_constructor.cc:1075] End of cycle\n",
      "2022-08-19 13:05:25.302963: W tensorflow/core/graph/graph_constructor.cc:1070] Cycle detected:\n",
      "2022-08-19 13:05:25.302971: W tensorflow/core/graph/graph_constructor.cc:1072] {{node cond/then/_2/concat}} = ConcatV2[N=25, T=DT_STRING, Tidx=DT_INT32, _device=\"/job:localhost/replica:0/task:0/device:CPU:0\"](cond/features_5/_7:1, cond/then/_2/concat, cond/then/_2/concat, cond/then/_2/concat, cond/then/_2/concat, cond/then/_2/concat, cond/then/_2/concat, cond/then/_2/concat, cond/then/_2/concat, cond/then/_2/concat, cond/then/_2/concat, cond/then/_2/concat, cond/then/_2/concat, cond/then/_2/concat, cond/then/_2/concat, cond/then/_2/concat, cond/then/_2/concat, cond/then/_2/concat, cond/then/_2/concat, cond/then/_2/concat, cond/then/_2/concat, cond/then/_2/concat, cond/then/_2/concat, cond/then/_2/concat, cond/then/_2/concat, cond/then/_2/split/split_dim)\n",
      "2022-08-19 13:05:25.302976: W tensorflow/core/graph/graph_constructor.cc:1075] End of cycle\n",
      "2022-08-19 13:05:25.302978: W tensorflow/core/graph/graph_constructor.cc:1070] Cycle detected:\n",
      "2022-08-19 13:05:25.302983: W tensorflow/core/graph/graph_constructor.cc:1072] {{node cond/then/_2/concat}} = ConcatV2[N=25, T=DT_STRING, Tidx=DT_INT32, _device=\"/job:localhost/replica:0/task:0/device:CPU:0\"](cond/features_5/_7:1, cond/then/_2/concat, cond/then/_2/concat, cond/then/_2/concat, cond/then/_2/concat, cond/then/_2/concat, cond/then/_2/concat, cond/then/_2/concat, cond/then/_2/concat, cond/then/_2/concat, cond/then/_2/concat, cond/then/_2/concat, cond/then/_2/concat, cond/then/_2/concat, cond/then/_2/concat, cond/then/_2/concat, cond/then/_2/concat, cond/then/_2/concat, cond/then/_2/concat, cond/then/_2/concat, cond/then/_2/concat, cond/then/_2/concat, cond/then/_2/concat, cond/then/_2/concat, cond/then/_2/concat, cond/then/_2/split/split_dim)\n",
      "2022-08-19 13:05:25.303008: W tensorflow/core/graph/graph_constructor.cc:1075] End of cycle\n",
      "2022-08-19 13:05:25.303011: W tensorflow/core/graph/graph_constructor.cc:1070] Cycle detected:\n",
      "2022-08-19 13:05:25.303132: W tensorflow/core/graph/graph_constructor.cc:1072] {{node cond/then/_2/concat}} = ConcatV2[N=25, T=DT_STRING, Tidx=DT_INT32, _device=\"/job:localhost/replica:0/task:0/device:CPU:0\"](cond/features_5/_7:1, cond/then/_2/concat, cond/then/_2/concat, cond/then/_2/concat, cond/then/_2/concat, cond/then/_2/concat, cond/then/_2/concat, cond/then/_2/concat, cond/then/_2/concat, cond/then/_2/concat, cond/then/_2/concat, cond/then/_2/concat, cond/then/_2/concat, cond/then/_2/concat, cond/then/_2/concat, cond/then/_2/concat, cond/then/_2/concat, cond/then/_2/concat, cond/then/_2/concat, cond/then/_2/concat, cond/then/_2/concat, cond/then/_2/concat, cond/then/_2/concat, cond/then/_2/concat, cond/then/_2/concat, cond/then/_2/split/split_dim)\n",
      "2022-08-19 13:05:25.303138: W tensorflow/core/graph/graph_constructor.cc:1075] End of cycle\n",
      "2022-08-19 13:05:25.303141: W tensorflow/core/graph/graph_constructor.cc:1070] Cycle detected:\n",
      "2022-08-19 13:05:25.303145: W tensorflow/core/graph/graph_constructor.cc:1072] {{node cond/then/_2/concat}} = ConcatV2[N=25, T=DT_STRING, Tidx=DT_INT32, _device=\"/job:localhost/replica:0/task:0/device:CPU:0\"](cond/features_5/_7:1, cond/then/_2/concat, cond/then/_2/concat, cond/then/_2/concat, cond/then/_2/concat, cond/then/_2/concat, cond/then/_2/concat, cond/then/_2/concat, cond/then/_2/concat, cond/then/_2/concat, cond/then/_2/concat, cond/then/_2/concat, cond/then/_2/concat, cond/then/_2/concat, cond/then/_2/concat, cond/then/_2/concat, cond/then/_2/concat, cond/then/_2/concat, cond/then/_2/concat, cond/then/_2/concat, cond/then/_2/concat, cond/then/_2/concat, cond/then/_2/concat, cond/then/_2/concat, cond/then/_2/concat, cond/then/_2/split/split_dim)\n",
      "2022-08-19 13:05:25.303289: W tensorflow/core/graph/graph_constructor.cc:1075] End of cycle\n",
      "2022-08-19 13:05:25.304916: E tensorflow/core/grappler/optimizers/meta_optimizer.cc:502] function_optimizer failed: Invalid argument: 12 nodes in a cycle\n"
     ]
    },
    {
     "name": "stdout",
     "output_type": "stream",
     "text": [
      "2022-08-19 13:05:25.315810: E tensorflow/core/grappler/optimizers/meta_optimizer.cc:502] remapper failed: Invalid argument: MutableGraphView::MutableGraphView error: node 'cond/then/_2/concat' has self cycle fanin 'cond/then/_2/concat'.\n",
      "2022-08-19 13:05:25.317670: E tensorflow/core/grappler/optimizers/meta_optimizer.cc:502] arithmetic_optimizer failed: Invalid argument: The graph couldn't be sorted in topological order.\n",
      "2022-08-19 13:05:25.319032: E tensorflow/core/grappler/optimizers/dependency_optimizer.cc:697] Iteration = 0, topological sort failed with message: The graph couldn't be sorted in topological order.\n",
      "2022-08-19 13:05:25.320207: E tensorflow/core/grappler/optimizers/dependency_optimizer.cc:697] Iteration = 1, topological sort failed with message: The graph couldn't be sorted in topological order.\n",
      "2022-08-19 13:05:25.326250: W tensorflow/core/common_runtime/process_function_library_runtime.cc:675] Ignoring multi-device function optimization failure: Invalid argument: The graph couldn't be sorted in topological order.\n",
      "INFO: 2022-08-19 13:05:25.680 \n",
      "Performing a paired t-test between the click rank distribution of new model and the old model:\n",
      "\tNull hypothesis: There is no difference between the two click distributions.\n",
      "\tAlternative hypothesis: There is a difference between the two click distributions\n",
      "INFO: 2022-08-19 13:05:25.680 \n",
      "t-test statistic=-19.682025306633292, p-value=0.0\n",
      "INFO: 2022-08-19 13:05:25.680 \n",
      "With p-value threshold=0.1 > p-value --> we reject the null hypothesis. The click rank distribution of the new model is significantly different from the old model\n",
      "INFO: 2022-08-19 13:05:25.684 \n",
      "Overall Metrics: \n",
      "query_count        1500.000000\n",
      "old_ACR               1.656667\n",
      "new_ACR               1.966000\n",
      "old_MRR               0.783135\n",
      "new_MRR               0.697395\n",
      "perc_improv_ACR     -18.672032\n",
      "perc_improv_MRR     -10.948310\n",
      "dtype: float64\n",
      "2022-08-19 13:05:27.704055: W tensorflow/core/grappler/optimizers/implementation_selector.cc:310] Skipping optimization due to error while loading function libraries: Invalid argument: Functions '__inference_standard_lstm_62831_specialized_for_model_bidirectional_backward_lstm_StatefulPartitionedCall_at___inference__predict_score_65225' and '__inference_standard_lstm_62831' both implement 'lstm_357a4dec-ec3b-4952-a877-2acab74ced55' but their signatures do not match.\n",
      "2022-08-19 13:05:27.750068: E tensorflow/core/grappler/optimizers/dependency_optimizer.cc:697] Iteration = 0, topological sort failed with message: The graph couldn't be sorted in topological order.\n",
      "2022-08-19 13:05:27.751875: E tensorflow/core/grappler/optimizers/dependency_optimizer.cc:697] Iteration = 1, topological sort failed with message: The graph couldn't be sorted in topological order.\n",
      "2022-08-19 13:05:27.758511: E tensorflow/core/grappler/optimizers/meta_optimizer.cc:502] model_pruner failed: Invalid argument: MutableGraphView::MutableGraphView error: node 'cond_4/then/_54/concat' has self cycle fanin 'cond_4/then/_54/concat'.\n",
      "2022-08-19 13:05:27.758567: W tensorflow/core/grappler/optimizers/implementation_selector.cc:310] Skipping optimization due to error while loading function libraries: Invalid argument: Functions '__inference_standard_lstm_62831_specialized_for_model_bidirectional_backward_lstm_StatefulPartitionedCall_at___inference__predict_score_65225' and '__inference_standard_lstm_62831' both implement 'lstm_357a4dec-ec3b-4952-a877-2acab74ced55' but their signatures do not match.\n",
      "2022-08-19 13:05:27.763341: W tensorflow/core/graph/graph_constructor.cc:1270] IN Convert 36 NODES IN A CYCLE\n",
      "2022-08-19 13:05:27.763369: W tensorflow/core/graph/graph_constructor.cc:1274] PENDING: {{node cond_4/then/_54/split}} = Identity[T=DT_STRING, _device=\"/job:localhost/replica:0/task:0/device:CPU:0\"](cond_4/then/_54/concat, ^cond_4/then/_54/split/split_dim) WITH PENDING COUNT = 1\n",
      "2022-08-19 13:05:27.763376: W tensorflow/core/graph/graph_constructor.cc:1274] PENDING: {{node cond/then/_2/split}} = Identity[T=DT_STRING, _device=\"/job:localhost/replica:0/task:0/device:CPU:0\"](cond/then/_2/concat, ^cond/then/_2/Const) WITH PENDING COUNT = 1\n",
      "2022-08-19 13:05:27.763381: W tensorflow/core/graph/graph_constructor.cc:1274] PENDING: {{node cond_3/then/_41/split}} = Identity[T=DT_STRING, _device=\"/job:localhost/replica:0/task:0/device:CPU:0\"](cond_3/then/_41/concat, ^cond_3/then/_41/Const) WITH PENDING COUNT = 1\n",
      "2022-08-19 13:05:27.763389: W tensorflow/core/graph/graph_constructor.cc:1274] PENDING: {{node cond_4/then/_54/concat}} = ConcatV2[N=25, T=DT_STRING, Tidx=DT_INT32, _device=\"/job:localhost/replica:0/task:0/device:CPU:0\"](cond_4/features/_59:1, cond_4/then/_54/concat, cond_4/then/_54/concat, cond_4/then/_54/concat, cond_4/then/_54/concat, cond_4/then/_54/concat, cond_4/then/_54/concat, cond_4/then/_54/concat, cond_4/then/_54/concat, cond_4/then/_54/concat, cond_4/then/_54/concat, cond_4/then/_54/concat, cond_4/then/_54/concat, cond_4/then/_54/concat, cond_4/then/_54/concat, cond_4/then/_54/concat, cond_4/then/_54/concat, cond_4/then/_54/concat, cond_4/then/_54/concat, cond_4/then/_54/concat, cond_4/then/_54/concat, cond_4/then/_54/concat, cond_4/then/_54/concat, cond_4/then/_54/concat, cond_4/then/_54/concat, cond_4/then/_54/split/split_dim) WITH PENDING COUNT = 24\n",
      "2022-08-19 13:05:27.763397: W tensorflow/core/graph/graph_constructor.cc:1274] PENDING: {{node cond/then/_2/concat}} = ConcatV2[N=25, T=DT_STRING, Tidx=DT_INT32, _device=\"/job:localhost/replica:0/task:0/device:CPU:0\"](cond/features_5/_7:1, cond/then/_2/concat, cond/then/_2/concat, cond/then/_2/concat, cond/then/_2/concat, cond/then/_2/concat, cond/then/_2/concat, cond/then/_2/concat, cond/then/_2/concat, cond/then/_2/concat, cond/then/_2/concat, cond/then/_2/concat, cond/then/_2/concat, cond/then/_2/concat, cond/then/_2/concat, cond/then/_2/concat, cond/then/_2/concat, cond/then/_2/concat, cond/then/_2/concat, cond/then/_2/concat, cond/then/_2/concat, cond/then/_2/concat, cond/then/_2/concat, cond/then/_2/concat, cond/then/_2/concat, cond/then/_2/Const) WITH PENDING COUNT = 24\n",
      "2022-08-19 13:05:27.763584: W tensorflow/core/graph/graph_constructor.cc:1274] PENDING: {{node cond_3/then/_41/concat}} = ConcatV2[N=25, T=DT_STRING, Tidx=DT_INT32, _device=\"/job:localhost/replica:0/task:0/device:CPU:0\"](cond_3/features_6/_46:1, cond_3/then/_41/concat, cond_3/then/_41/concat, cond_3/then/_41/concat, cond_3/then/_41/concat, cond_3/then/_41/concat, cond_3/then/_41/concat, cond_3/then/_41/concat, cond_3/then/_41/concat, cond_3/then/_41/concat, cond_3/then/_41/concat, cond_3/then/_41/concat, cond_3/then/_41/concat, cond_3/then/_41/concat, cond_3/then/_41/concat, cond_3/then/_41/concat, cond_3/then/_41/concat, cond_3/then/_41/concat, cond_3/then/_41/concat, cond_3/then/_41/concat, cond_3/then/_41/concat, cond_3/then/_41/concat, cond_3/then/_41/concat, cond_3/then/_41/concat, cond_3/then/_41/concat, cond_3/then/_41/Const) WITH PENDING COUNT = 24\n",
      "2022-08-19 13:05:27.763703: W tensorflow/core/graph/graph_constructor.cc:1274] PENDING: {{node cond_4/output/_60}} = Merge[N=2, T=DT_STRING, _device=\"/job:localhost/replica:0/task:0/device:CPU:0\"](cond_4/then/_54/split, Func/cond_4/else/_55/input/_143) WITH PENDING COUNT = 1\n",
      "2022-08-19 13:05:27.763710: W tensorflow/core/graph/graph_constructor.cc:1274] PENDING: {{node cond/output/_8}} = Merge[N=2, T=DT_STRING, _device=\"/job:localhost/replica:0/task:0/device:CPU:0\"](cond/then/_2/split, Func/cond/else/_3/input/_111) WITH PENDING COUNT = 1\n",
      "2022-08-19 13:05:27.763715: W tensorflow/core/graph/graph_constructor.cc:1274] PENDING: {{node cond_3/output/_47}} = Merge[N=2, T=DT_STRING, _device=\"/job:localhost/replica:0/task:0/device:CPU:0\"](cond_3/then/_41/split, Func/cond_3/else/_42/input/_135) WITH PENDING COUNT = 1\n",
      "2022-08-19 13:05:27.763721: W tensorflow/core/graph/graph_constructor.cc:1274] PENDING: {{node PartitionedCall_9/Shape}} = Shape[T=DT_STRING, out_type=DT_INT32, _device=\"/job:localhost/replica:0/task:0/device:CPU:0\"](cond_4/output/_60) WITH PENDING COUNT = 1\n",
      "2022-08-19 13:05:27.763834: W tensorflow/core/graph/graph_constructor.cc:1274] PENDING: {{node PartitionedCall_1/Shape}} = Shape[T=DT_STRING, out_type=DT_INT32, _device=\"/job:localhost/replica:0/task:0/device:CPU:0\"](cond/output/_8) WITH PENDING COUNT = 1\n",
      "2022-08-19 13:05:27.763839: W tensorflow/core/graph/graph_constructor.cc:1274] PENDING: {{node PartitionedCall_7/Shape}} = Shape[T=DT_STRING, out_type=DT_INT32, _device=\"/job:localhost/replica:0/task:0/device:CPU:0\"](cond_3/output/_47) WITH PENDING COUNT = 1\n",
      "2022-08-19 13:05:27.763847: W tensorflow/core/graph/graph_constructor.cc:1274] PENDING: {{node PartitionedCall_9/strided_slice}} = StridedSlice[Index=DT_INT32, T=DT_INT32, begin_mask=0, ellipsis_mask=0, end_mask=1, new_axis_mask=0, shrink_axis_mask=0, _device=\"/job:localhost/replica:0/task:0/device:CPU:0\"](PartitionedCall_9/Shape, model/domain_name_embedding/categorical_variable_embedding/categorical_variable_embedding_weights/strided_slice/stack_1, model/bidirectional/forward_lstm/strided_slice/stack, model/bidirectional/forward_lstm/strided_slice/stack_1) WITH PENDING COUNT = 1\n",
      "2022-08-19 13:05:27.764077: W tensorflow/core/graph/graph_constructor.cc:1274] PENDING: {{node PartitionedCall_1/strided_slice}} = StridedSlice[Index=DT_INT32, T=DT_INT32, begin_mask=0, ellipsis_mask=0, end_mask=1, new_axis_mask=0, shrink_axis_mask=0, _device=\"/job:localhost/replica:0/task:0/device:CPU:0\"](PartitionedCall_1/Shape, model/domain_name_embedding/categorical_variable_embedding/categorical_variable_embedding_weights/strided_slice/stack_1, model/bidirectional/forward_lstm/strided_slice/stack, model/bidirectional/forward_lstm/strided_slice/stack_1) WITH PENDING COUNT = 1\n",
      "2022-08-19 13:05:27.764094: W tensorflow/core/graph/graph_constructor.cc:1274] PENDING: {{node PartitionedCall_7/strided_slice}} = StridedSlice[Index=DT_INT32, T=DT_INT32, begin_mask=0, ellipsis_mask=0, end_mask=1, new_axis_mask=0, shrink_axis_mask=0, _device=\"/job:localhost/replica:0/task:0/device:CPU:0\"](PartitionedCall_7/Shape, model/domain_name_embedding/categorical_variable_embedding/categorical_variable_embedding_weights/strided_slice/stack_1, model/bidirectional/forward_lstm/strided_slice/stack, model/bidirectional/forward_lstm/strided_slice/stack_1) WITH PENDING COUNT = 1\n",
      "2022-08-19 13:05:27.764204: W tensorflow/core/graph/graph_constructor.cc:1274] PENDING: {{node PartitionedCall_9/concat}} = ConcatV2[N=2, T=DT_INT32, Tidx=DT_INT32, _device=\"/job:localhost/replica:0/task:0/device:CPU:0\"](model/domain_name_embedding/categorical_variable_embedding/categorical_variable_embedding_weights/Reshape/shape, PartitionedCall_9/strided_slice, model/tf_op_layer_GatherV2/GatherV2/indices) WITH PENDING COUNT = 1\n",
      "2022-08-19 13:05:27.764231: W tensorflow/core/graph/graph_constructor.cc:1274] PENDING: {{node PartitionedCall_1/concat}} = ConcatV2[N=2, T=DT_INT32, Tidx=DT_INT32, _device=\"/job:localhost/replica:0/task:0/device:CPU:0\"](model/domain_name_embedding/categorical_variable_embedding/categorical_variable_embedding_weights/Reshape/shape, PartitionedCall_1/strided_slice, model/tf_op_layer_GatherV2/GatherV2/indices) WITH PENDING COUNT = 1\n",
      "2022-08-19 13:05:27.764238: W tensorflow/core/graph/graph_constructor.cc:1274] PENDING: {{node PartitionedCall_7/concat}} = ConcatV2[N=2, T=DT_INT32, Tidx=DT_INT32, _device=\"/job:localhost/replica:0/task:0/device:CPU:0\"](model/domain_name_embedding/categorical_variable_embedding/categorical_variable_embedding_weights/Reshape/shape, PartitionedCall_7/strided_slice, model/tf_op_layer_GatherV2/GatherV2/indices) WITH PENDING COUNT = 1\n",
      "2022-08-19 13:05:27.764245: W tensorflow/core/graph/graph_constructor.cc:1274] PENDING: {{node PartitionedCall_9/Reshape}} = Reshape[T=DT_STRING, Tshape=DT_INT32, _device=\"/job:localhost/replica:0/task:0/device:CPU:0\"](cond_4/output/_60, PartitionedCall_9/concat) WITH PENDING COUNT = 2\n",
      "2022-08-19 13:05:27.764269: W tensorflow/core/graph/graph_constructor.cc:1274] PENDING: {{node PartitionedCall_1/Reshape}} = Reshape[T=DT_STRING, Tshape=DT_INT32, _device=\"/job:localhost/replica:0/task:0/device:CPU:0\"](cond/output/_8, PartitionedCall_1/concat) WITH PENDING COUNT = 2\n",
      "2022-08-19 13:05:27.764455: W tensorflow/core/graph/graph_constructor.cc:1274] PENDING: {{node PartitionedCall_7/Reshape}} = Reshape[T=DT_STRING, Tshape=DT_INT32, _device=\"/job:localhost/replica:0/task:0/device:CPU:0\"](cond_3/output/_47, PartitionedCall_7/concat) WITH PENDING COUNT = 2\n",
      "2022-08-19 13:05:27.764467: W tensorflow/core/graph/graph_constructor.cc:1274] PENDING: {{node PartitionedCall_10/GatherNd}} = GatherNd[Tindices=DT_INT64, Tparams=DT_STRING, _device=\"/job:localhost/replica:0/task:0/device:CPU:0\"](PartitionedCall_9/Reshape, PartitionedCall_2/Where) WITH PENDING COUNT = 1\n",
      "2022-08-19 13:05:27.764499: W tensorflow/core/graph/graph_constructor.cc:1274] PENDING: {{node PartitionedCall_2/GatherNd}} = GatherNd[Tindices=DT_INT64, Tparams=DT_STRING, _device=\"/job:localhost/replica:0/task:0/device:CPU:0\"](PartitionedCall_1/Reshape, PartitionedCall_2/Where) WITH PENDING COUNT = 1\n",
      "2022-08-19 13:05:27.764505: W tensorflow/core/graph/graph_constructor.cc:1274] PENDING: {{node PartitionedCall_8/GatherNd}} = GatherNd[Tindices=DT_INT64, Tparams=DT_STRING, _device=\"/job:localhost/replica:0/task:0/device:CPU:0\"](PartitionedCall_7/Reshape, PartitionedCall_2/Where) WITH PENDING COUNT = 1\n",
      "2022-08-19 13:05:27.764600: W tensorflow/core/graph/graph_constructor.cc:1274] PENDING: {{node PartitionedCall_10/Squeeze}} = Squeeze[T=DT_STRING, squeeze_dims=[], _device=\"/job:localhost/replica:0/task:0/device:CPU:0\"](PartitionedCall_10/GatherNd) WITH PENDING COUNT = 1\n",
      "2022-08-19 13:05:27.764608: W tensorflow/core/graph/graph_constructor.cc:1274] PENDING: {{node PartitionedCall_2/Squeeze}} = Squeeze[T=DT_STRING, squeeze_dims=[], _device=\"/job:localhost/replica:0/task:0/device:CPU:0\"](PartitionedCall_2/GatherNd) WITH PENDING COUNT = 1\n",
      "2022-08-19 13:05:27.764613: W tensorflow/core/graph/graph_constructor.cc:1274] PENDING: {{node PartitionedCall_8/Squeeze}} = Squeeze[T=DT_STRING, squeeze_dims=[], _device=\"/job:localhost/replica:0/task:0/device:CPU:0\"](PartitionedCall_8/GatherNd) WITH PENDING COUNT = 1\n",
      "2022-08-19 13:05:27.764618: W tensorflow/core/graph/graph_constructor.cc:1274] PENDING: {{node Squeeze_4}} = Squeeze[T=DT_STRING, squeeze_dims=[], _device=\"/job:localhost/replica:0/task:0/device:CPU:0\"](PartitionedCall_10/Squeeze) WITH PENDING COUNT = 1\n",
      "2022-08-19 13:05:27.764809: W tensorflow/core/graph/graph_constructor.cc:1274] PENDING: {{node Squeeze}} = Squeeze[T=DT_STRING, squeeze_dims=[], _device=\"/job:localhost/replica:0/task:0/device:CPU:0\"](PartitionedCall_2/Squeeze) WITH PENDING COUNT = 1\n",
      "2022-08-19 13:05:27.764834: W tensorflow/core/graph/graph_constructor.cc:1274] PENDING: {{node Squeeze_3}} = Squeeze[T=DT_STRING, squeeze_dims=[], _device=\"/job:localhost/replica:0/task:0/device:CPU:0\"](PartitionedCall_8/Squeeze) WITH PENDING COUNT = 1\n",
      "2022-08-19 13:05:27.764842: W tensorflow/core/graph/graph_constructor.cc:1274] PENDING: {{node Identity_1}} = Identity[T=DT_STRING, _device=\"/job:localhost/replica:0/task:0/device:CPU:0\"](Squeeze_4, ^model/bidirectional/backward_lstm/StatefulPartitionedCall, ^model/bidirectional/forward_lstm/StatefulPartitionedCall, ^model/domain_name_embedding/categorical_variable_embedding/categorical_variable_embedding_weights/embedding_lookup_sparse/embedding_lookup, ^model/final_dense/BiasAdd/ReadVariableOp, ^model/final_dense/Tensordot/ReadVariableOp, ^model/first_dense/BiasAdd/ReadVariableOp, ^model/first_dense/Tensordot/ReadVariableOp, ^model/second_dense/BiasAdd/ReadVariableOp, ^model/second_dense/Tensordot/ReadVariableOp) WITH PENDING COUNT = 1\n",
      "2022-08-19 13:05:27.764849: W tensorflow/core/graph/graph_constructor.cc:1274] PENDING: {{node Identity_4}} = Identity[T=DT_STRING, _device=\"/job:localhost/replica:0/task:0/device:CPU:0\"](Squeeze, ^model/bidirectional/backward_lstm/StatefulPartitionedCall, ^model/bidirectional/forward_lstm/StatefulPartitionedCall, ^model/domain_name_embedding/categorical_variable_embedding/categorical_variable_embedding_weights/embedding_lookup_sparse/embedding_lookup, ^model/final_dense/BiasAdd/ReadVariableOp, ^model/final_dense/Tensordot/ReadVariableOp, ^model/first_dense/BiasAdd/ReadVariableOp, ^model/first_dense/Tensordot/ReadVariableOp, ^model/second_dense/BiasAdd/ReadVariableOp, ^model/second_dense/Tensordot/ReadVariableOp) WITH PENDING COUNT = 1\n",
      "2022-08-19 13:05:27.765038: W tensorflow/core/graph/graph_constructor.cc:1274] PENDING: {{node Identity_5}} = Identity[T=DT_STRING, _device=\"/job:localhost/replica:0/task:0/device:CPU:0\"](Squeeze_3, ^model/bidirectional/backward_lstm/StatefulPartitionedCall, ^model/bidirectional/forward_lstm/StatefulPartitionedCall, ^model/domain_name_embedding/categorical_variable_embedding/categorical_variable_embedding_weights/embedding_lookup_sparse/embedding_lookup, ^model/final_dense/BiasAdd/ReadVariableOp, ^model/final_dense/Tensordot/ReadVariableOp, ^model/first_dense/BiasAdd/ReadVariableOp, ^model/first_dense/Tensordot/ReadVariableOp, ^model/second_dense/BiasAdd/ReadVariableOp, ^model/second_dense/Tensordot/ReadVariableOp) WITH PENDING COUNT = 1\n",
      "2022-08-19 13:05:27.765052: W tensorflow/core/graph/graph_constructor.cc:1274] PENDING: {{node identity_1_RetVal}} = _Retval[T=DT_STRING, index=1, _device=\"/job:localhost/replica:0/task:0/device:CPU:0\"](Identity_1) WITH PENDING COUNT = 1\n",
      "2022-08-19 13:05:27.765058: W tensorflow/core/graph/graph_constructor.cc:1274] PENDING: {{node identity_4_RetVal}} = _Retval[T=DT_STRING, index=4, _device=\"/job:localhost/replica:0/task:0/device:CPU:0\"](Identity_4) WITH PENDING COUNT = 1\n",
      "2022-08-19 13:05:27.765221: W tensorflow/core/graph/graph_constructor.cc:1274] PENDING: {{node identity_5_RetVal}} = _Retval[T=DT_STRING, index=5, _device=\"/job:localhost/replica:0/task:0/device:CPU:0\"](Identity_5) WITH PENDING COUNT = 1\n",
      "2022-08-19 13:05:27.765259: W tensorflow/core/graph/graph_constructor.cc:1070] Cycle detected:\n",
      "2022-08-19 13:05:27.765268: W tensorflow/core/graph/graph_constructor.cc:1072] {{node cond_3/then/_41/concat}} = ConcatV2[N=25, T=DT_STRING, Tidx=DT_INT32, _device=\"/job:localhost/replica:0/task:0/device:CPU:0\"](cond_3/features_6/_46:1, cond_3/then/_41/concat, cond_3/then/_41/concat, cond_3/then/_41/concat, cond_3/then/_41/concat, cond_3/then/_41/concat, cond_3/then/_41/concat, cond_3/then/_41/concat, cond_3/then/_41/concat, cond_3/then/_41/concat, cond_3/then/_41/concat, cond_3/then/_41/concat, cond_3/then/_41/concat, cond_3/then/_41/concat, cond_3/then/_41/concat, cond_3/then/_41/concat, cond_3/then/_41/concat, cond_3/then/_41/concat, cond_3/then/_41/concat, cond_3/then/_41/concat, cond_3/then/_41/concat, cond_3/then/_41/concat, cond_3/then/_41/concat, cond_3/then/_41/concat, cond_3/then/_41/concat, cond_3/then/_41/Const)\n",
      "2022-08-19 13:05:27.765272: W tensorflow/core/graph/graph_constructor.cc:1075] End of cycle\n",
      "2022-08-19 13:05:27.765401: W tensorflow/core/graph/graph_constructor.cc:1070] Cycle detected:\n",
      "2022-08-19 13:05:27.765415: W tensorflow/core/graph/graph_constructor.cc:1072] {{node cond_3/then/_41/concat}} = ConcatV2[N=25, T=DT_STRING, Tidx=DT_INT32, _device=\"/job:localhost/replica:0/task:0/device:CPU:0\"](cond_3/features_6/_46:1, cond_3/then/_41/concat, cond_3/then/_41/concat, cond_3/then/_41/concat, cond_3/then/_41/concat, cond_3/then/_41/concat, cond_3/then/_41/concat, cond_3/then/_41/concat, cond_3/then/_41/concat, cond_3/then/_41/concat, cond_3/then/_41/concat, cond_3/then/_41/concat, cond_3/then/_41/concat, cond_3/then/_41/concat, cond_3/then/_41/concat, cond_3/then/_41/concat, cond_3/then/_41/concat, cond_3/then/_41/concat, cond_3/then/_41/concat, cond_3/then/_41/concat, cond_3/then/_41/concat, cond_3/then/_41/concat, cond_3/then/_41/concat, cond_3/then/_41/concat, cond_3/then/_41/concat, cond_3/then/_41/Const)\n",
      "2022-08-19 13:05:27.765422: W tensorflow/core/graph/graph_constructor.cc:1075] End of cycle\n",
      "2022-08-19 13:05:27.765425: W tensorflow/core/graph/graph_constructor.cc:1070] Cycle detected:\n",
      "2022-08-19 13:05:27.765566: W tensorflow/core/graph/graph_constructor.cc:1072] {{node cond_3/then/_41/concat}} = ConcatV2[N=25, T=DT_STRING, Tidx=DT_INT32, _device=\"/job:localhost/replica:0/task:0/device:CPU:0\"](cond_3/features_6/_46:1, cond_3/then/_41/concat, cond_3/then/_41/concat, cond_3/then/_41/concat, cond_3/then/_41/concat, cond_3/then/_41/concat, cond_3/then/_41/concat, cond_3/then/_41/concat, cond_3/then/_41/concat, cond_3/then/_41/concat, cond_3/then/_41/concat, cond_3/then/_41/concat, cond_3/then/_41/concat, cond_3/then/_41/concat, cond_3/then/_41/concat, cond_3/then/_41/concat, cond_3/then/_41/concat, cond_3/then/_41/concat, cond_3/then/_41/concat, cond_3/then/_41/concat, cond_3/then/_41/concat, cond_3/then/_41/concat, cond_3/then/_41/concat, cond_3/then/_41/concat, cond_3/then/_41/concat, cond_3/then/_41/Const)\n",
      "2022-08-19 13:05:27.765571: W tensorflow/core/graph/graph_constructor.cc:1075] End of cycle\n",
      "2022-08-19 13:05:27.765573: W tensorflow/core/graph/graph_constructor.cc:1070] Cycle detected:\n",
      "2022-08-19 13:05:27.765713: W tensorflow/core/graph/graph_constructor.cc:1072] {{node cond_3/then/_41/concat}} = ConcatV2[N=25, T=DT_STRING, Tidx=DT_INT32, _device=\"/job:localhost/replica:0/task:0/device:CPU:0\"](cond_3/features_6/_46:1, cond_3/then/_41/concat, cond_3/then/_41/concat, cond_3/then/_41/concat, cond_3/then/_41/concat, cond_3/then/_41/concat, cond_3/then/_41/concat, cond_3/then/_41/concat, cond_3/then/_41/concat, cond_3/then/_41/concat, cond_3/then/_41/concat, cond_3/then/_41/concat, cond_3/then/_41/concat, cond_3/then/_41/concat, cond_3/then/_41/concat, cond_3/then/_41/concat, cond_3/then/_41/concat, cond_3/then/_41/concat, cond_3/then/_41/concat, cond_3/then/_41/concat, cond_3/then/_41/concat, cond_3/then/_41/concat, cond_3/then/_41/concat, cond_3/then/_41/concat, cond_3/then/_41/concat, cond_3/then/_41/Const)\n",
      "2022-08-19 13:05:27.765718: W tensorflow/core/graph/graph_constructor.cc:1075] End of cycle\n",
      "2022-08-19 13:05:27.765721: W tensorflow/core/graph/graph_constructor.cc:1070] Cycle detected:\n",
      "2022-08-19 13:05:27.765868: W tensorflow/core/graph/graph_constructor.cc:1072] {{node cond_3/then/_41/concat}} = ConcatV2[N=25, T=DT_STRING, Tidx=DT_INT32, _device=\"/job:localhost/replica:0/task:0/device:CPU:0\"](cond_3/features_6/_46:1, cond_3/then/_41/concat, cond_3/then/_41/concat, cond_3/then/_41/concat, cond_3/then/_41/concat, cond_3/then/_41/concat, cond_3/then/_41/concat, cond_3/then/_41/concat, cond_3/then/_41/concat, cond_3/then/_41/concat, cond_3/then/_41/concat, cond_3/then/_41/concat, cond_3/then/_41/concat, cond_3/then/_41/concat, cond_3/then/_41/concat, cond_3/then/_41/concat, cond_3/then/_41/concat, cond_3/then/_41/concat, cond_3/then/_41/concat, cond_3/then/_41/concat, cond_3/then/_41/concat, cond_3/then/_41/concat, cond_3/then/_41/concat, cond_3/then/_41/concat, cond_3/then/_41/concat, cond_3/then/_41/Const)\n",
      "2022-08-19 13:05:27.765894: W tensorflow/core/graph/graph_constructor.cc:1075] End of cycle\n",
      "2022-08-19 13:05:27.765897: W tensorflow/core/graph/graph_constructor.cc:1070] Cycle detected:\n",
      "2022-08-19 13:05:27.766011: W tensorflow/core/graph/graph_constructor.cc:1072] {{node cond_3/then/_41/concat}} = ConcatV2[N=25, T=DT_STRING, Tidx=DT_INT32, _device=\"/job:localhost/replica:0/task:0/device:CPU:0\"](cond_3/features_6/_46:1, cond_3/then/_41/concat, cond_3/then/_41/concat, cond_3/then/_41/concat, cond_3/then/_41/concat, cond_3/then/_41/concat, cond_3/then/_41/concat, cond_3/then/_41/concat, cond_3/then/_41/concat, cond_3/then/_41/concat, cond_3/then/_41/concat, cond_3/then/_41/concat, cond_3/then/_41/concat, cond_3/then/_41/concat, cond_3/then/_41/concat, cond_3/then/_41/concat, cond_3/then/_41/concat, cond_3/then/_41/concat, cond_3/then/_41/concat, cond_3/then/_41/concat, cond_3/then/_41/concat, cond_3/then/_41/concat, cond_3/then/_41/concat, cond_3/then/_41/concat, cond_3/then/_41/concat, cond_3/then/_41/Const)\n",
      "2022-08-19 13:05:27.766016: W tensorflow/core/graph/graph_constructor.cc:1075] End of cycle\n",
      "2022-08-19 13:05:27.766019: W tensorflow/core/graph/graph_constructor.cc:1070] Cycle detected:\n",
      "2022-08-19 13:05:27.766156: W tensorflow/core/graph/graph_constructor.cc:1072] {{node cond_3/then/_41/concat}} = ConcatV2[N=25, T=DT_STRING, Tidx=DT_INT32, _device=\"/job:localhost/replica:0/task:0/device:CPU:0\"](cond_3/features_6/_46:1, cond_3/then/_41/concat, cond_3/then/_41/concat, cond_3/then/_41/concat, cond_3/then/_41/concat, cond_3/then/_41/concat, cond_3/then/_41/concat, cond_3/then/_41/concat, cond_3/then/_41/concat, cond_3/then/_41/concat, cond_3/then/_41/concat, cond_3/then/_41/concat, cond_3/then/_41/concat, cond_3/then/_41/concat, cond_3/then/_41/concat, cond_3/then/_41/concat, cond_3/then/_41/concat, cond_3/then/_41/concat, cond_3/then/_41/concat, cond_3/then/_41/concat, cond_3/then/_41/concat, cond_3/then/_41/concat, cond_3/then/_41/concat, cond_3/then/_41/concat, cond_3/then/_41/concat, cond_3/then/_41/Const)\n",
      "2022-08-19 13:05:27.766161: W tensorflow/core/graph/graph_constructor.cc:1075] End of cycle\n",
      "2022-08-19 13:05:27.766164: W tensorflow/core/graph/graph_constructor.cc:1070] Cycle detected:\n",
      "2022-08-19 13:05:27.766304: W tensorflow/core/graph/graph_constructor.cc:1072] {{node cond_3/then/_41/concat}} = ConcatV2[N=25, T=DT_STRING, Tidx=DT_INT32, _device=\"/job:localhost/replica:0/task:0/device:CPU:0\"](cond_3/features_6/_46:1, cond_3/then/_41/concat, cond_3/then/_41/concat, cond_3/then/_41/concat, cond_3/then/_41/concat, cond_3/then/_41/concat, cond_3/then/_41/concat, cond_3/then/_41/concat, cond_3/then/_41/concat, cond_3/then/_41/concat, cond_3/then/_41/concat, cond_3/then/_41/concat, cond_3/then/_41/concat, cond_3/then/_41/concat, cond_3/then/_41/concat, cond_3/then/_41/concat, cond_3/then/_41/concat, cond_3/then/_41/concat, cond_3/then/_41/concat, cond_3/then/_41/concat, cond_3/then/_41/concat, cond_3/then/_41/concat, cond_3/then/_41/concat, cond_3/then/_41/concat, cond_3/then/_41/concat, cond_3/then/_41/Const)\n",
      "2022-08-19 13:05:27.766309: W tensorflow/core/graph/graph_constructor.cc:1075] End of cycle\n",
      "2022-08-19 13:05:27.766311: W tensorflow/core/graph/graph_constructor.cc:1070] Cycle detected:\n",
      "2022-08-19 13:05:27.766494: W tensorflow/core/graph/graph_constructor.cc:1072] {{node cond_3/then/_41/concat}} = ConcatV2[N=25, T=DT_STRING, Tidx=DT_INT32, _device=\"/job:localhost/replica:0/task:0/device:CPU:0\"](cond_3/features_6/_46:1, cond_3/then/_41/concat, cond_3/then/_41/concat, cond_3/then/_41/concat, cond_3/then/_41/concat, cond_3/then/_41/concat, cond_3/then/_41/concat, cond_3/then/_41/concat, cond_3/then/_41/concat, cond_3/then/_41/concat, cond_3/then/_41/concat, cond_3/then/_41/concat, cond_3/then/_41/concat, cond_3/then/_41/concat, cond_3/then/_41/concat, cond_3/then/_41/concat, cond_3/then/_41/concat, cond_3/then/_41/concat, cond_3/then/_41/concat, cond_3/then/_41/concat, cond_3/then/_41/concat, cond_3/then/_41/concat, cond_3/then/_41/concat, cond_3/then/_41/concat, cond_3/then/_41/concat, cond_3/then/_41/Const)\n",
      "2022-08-19 13:05:27.766499: W tensorflow/core/graph/graph_constructor.cc:1075] End of cycle\n",
      "2022-08-19 13:05:27.766501: W tensorflow/core/graph/graph_constructor.cc:1070] Cycle detected:\n",
      "2022-08-19 13:05:27.766640: W tensorflow/core/graph/graph_constructor.cc:1072] {{node cond_3/then/_41/concat}} = ConcatV2[N=25, T=DT_STRING, Tidx=DT_INT32, _device=\"/job:localhost/replica:0/task:0/device:CPU:0\"](cond_3/features_6/_46:1, cond_3/then/_41/concat, cond_3/then/_41/concat, cond_3/then/_41/concat, cond_3/then/_41/concat, cond_3/then/_41/concat, cond_3/then/_41/concat, cond_3/then/_41/concat, cond_3/then/_41/concat, cond_3/then/_41/concat, cond_3/then/_41/concat, cond_3/then/_41/concat, cond_3/then/_41/concat, cond_3/then/_41/concat, cond_3/then/_41/concat, cond_3/then/_41/concat, cond_3/then/_41/concat, cond_3/then/_41/concat, cond_3/then/_41/concat, cond_3/then/_41/concat, cond_3/then/_41/concat, cond_3/then/_41/concat, cond_3/then/_41/concat, cond_3/then/_41/concat, cond_3/then/_41/concat, cond_3/then/_41/Const)\n",
      "2022-08-19 13:05:27.766645: W tensorflow/core/graph/graph_constructor.cc:1075] End of cycle\n",
      "2022-08-19 13:05:27.766647: W tensorflow/core/graph/graph_constructor.cc:1070] Cycle detected:\n",
      "2022-08-19 13:05:27.766800: W tensorflow/core/graph/graph_constructor.cc:1072] {{node cond_3/then/_41/concat}} = ConcatV2[N=25, T=DT_STRING, Tidx=DT_INT32, _device=\"/job:localhost/replica:0/task:0/device:CPU:0\"](cond_3/features_6/_46:1, cond_3/then/_41/concat, cond_3/then/_41/concat, cond_3/then/_41/concat, cond_3/then/_41/concat, cond_3/then/_41/concat, cond_3/then/_41/concat, cond_3/then/_41/concat, cond_3/then/_41/concat, cond_3/then/_41/concat, cond_3/then/_41/concat, cond_3/then/_41/concat, cond_3/then/_41/concat, cond_3/then/_41/concat, cond_3/then/_41/concat, cond_3/then/_41/concat, cond_3/then/_41/concat, cond_3/then/_41/concat, cond_3/then/_41/concat, cond_3/then/_41/concat, cond_3/then/_41/concat, cond_3/then/_41/concat, cond_3/then/_41/concat, cond_3/then/_41/concat, cond_3/then/_41/concat, cond_3/then/_41/Const)\n",
      "2022-08-19 13:05:27.766808: W tensorflow/core/graph/graph_constructor.cc:1075] End of cycle\n",
      "2022-08-19 13:05:27.766811: W tensorflow/core/graph/graph_constructor.cc:1070] Cycle detected:\n",
      "2022-08-19 13:05:27.766981: W tensorflow/core/graph/graph_constructor.cc:1072] {{node cond_3/then/_41/concat}} = ConcatV2[N=25, T=DT_STRING, Tidx=DT_INT32, _device=\"/job:localhost/replica:0/task:0/device:CPU:0\"](cond_3/features_6/_46:1, cond_3/then/_41/concat, cond_3/then/_41/concat, cond_3/then/_41/concat, cond_3/then/_41/concat, cond_3/then/_41/concat, cond_3/then/_41/concat, cond_3/then/_41/concat, cond_3/then/_41/concat, cond_3/then/_41/concat, cond_3/then/_41/concat, cond_3/then/_41/concat, cond_3/then/_41/concat, cond_3/then/_41/concat, cond_3/then/_41/concat, cond_3/then/_41/concat, cond_3/then/_41/concat, cond_3/then/_41/concat, cond_3/then/_41/concat, cond_3/then/_41/concat, cond_3/then/_41/concat, cond_3/then/_41/concat, cond_3/then/_41/concat, cond_3/then/_41/concat, cond_3/then/_41/concat, cond_3/then/_41/Const)\n",
      "2022-08-19 13:05:27.766986: W tensorflow/core/graph/graph_constructor.cc:1075] End of cycle\n",
      "2022-08-19 13:05:27.766990: W tensorflow/core/graph/graph_constructor.cc:1070] Cycle detected:\n",
      "2022-08-19 13:05:27.766995: W tensorflow/core/graph/graph_constructor.cc:1072] {{node cond_3/then/_41/concat}} = ConcatV2[N=25, T=DT_STRING, Tidx=DT_INT32, _device=\"/job:localhost/replica:0/task:0/device:CPU:0\"](cond_3/features_6/_46:1, cond_3/then/_41/concat, cond_3/then/_41/concat, cond_3/then/_41/concat, cond_3/then/_41/concat, cond_3/then/_41/concat, cond_3/then/_41/concat, cond_3/then/_41/concat, cond_3/then/_41/concat, cond_3/then/_41/concat, cond_3/then/_41/concat, cond_3/then/_41/concat, cond_3/then/_41/concat, cond_3/then/_41/concat, cond_3/then/_41/concat, cond_3/then/_41/concat, cond_3/then/_41/concat, cond_3/then/_41/concat, cond_3/then/_41/concat, cond_3/then/_41/concat, cond_3/then/_41/concat, cond_3/then/_41/concat, cond_3/then/_41/concat, cond_3/then/_41/concat, cond_3/then/_41/concat, cond_3/then/_41/Const)\n",
      "2022-08-19 13:05:27.767026: W tensorflow/core/graph/graph_constructor.cc:1075] End of cycle\n",
      "2022-08-19 13:05:27.767029: W tensorflow/core/graph/graph_constructor.cc:1070] Cycle detected:\n",
      "2022-08-19 13:05:27.767177: W tensorflow/core/graph/graph_constructor.cc:1072] {{node cond_3/then/_41/concat}} = ConcatV2[N=25, T=DT_STRING, Tidx=DT_INT32, _device=\"/job:localhost/replica:0/task:0/device:CPU:0\"](cond_3/features_6/_46:1, cond_3/then/_41/concat, cond_3/then/_41/concat, cond_3/then/_41/concat, cond_3/then/_41/concat, cond_3/then/_41/concat, cond_3/then/_41/concat, cond_3/then/_41/concat, cond_3/then/_41/concat, cond_3/then/_41/concat, cond_3/then/_41/concat, cond_3/then/_41/concat, cond_3/then/_41/concat, cond_3/then/_41/concat, cond_3/then/_41/concat, cond_3/then/_41/concat, cond_3/then/_41/concat, cond_3/then/_41/concat, cond_3/then/_41/concat, cond_3/then/_41/concat, cond_3/then/_41/concat, cond_3/then/_41/concat, cond_3/then/_41/concat, cond_3/then/_41/concat, cond_3/then/_41/concat, cond_3/then/_41/Const)\n",
      "2022-08-19 13:05:27.767183: W tensorflow/core/graph/graph_constructor.cc:1075] End of cycle\n",
      "2022-08-19 13:05:27.767186: W tensorflow/core/graph/graph_constructor.cc:1070] Cycle detected:\n",
      "2022-08-19 13:05:27.767326: W tensorflow/core/graph/graph_constructor.cc:1072] {{node cond_3/then/_41/concat}} = ConcatV2[N=25, T=DT_STRING, Tidx=DT_INT32, _device=\"/job:localhost/replica:0/task:0/device:CPU:0\"](cond_3/features_6/_46:1, cond_3/then/_41/concat, cond_3/then/_41/concat, cond_3/then/_41/concat, cond_3/then/_41/concat, cond_3/then/_41/concat, cond_3/then/_41/concat, cond_3/then/_41/concat, cond_3/then/_41/concat, cond_3/then/_41/concat, cond_3/then/_41/concat, cond_3/then/_41/concat, cond_3/then/_41/concat, cond_3/then/_41/concat, cond_3/then/_41/concat, cond_3/then/_41/concat, cond_3/then/_41/concat, cond_3/then/_41/concat, cond_3/then/_41/concat, cond_3/then/_41/concat, cond_3/then/_41/concat, cond_3/then/_41/concat, cond_3/then/_41/concat, cond_3/then/_41/concat, cond_3/then/_41/concat, cond_3/then/_41/Const)\n",
      "2022-08-19 13:05:27.767331: W tensorflow/core/graph/graph_constructor.cc:1075] End of cycle\n",
      "2022-08-19 13:05:27.767334: W tensorflow/core/graph/graph_constructor.cc:1070] Cycle detected:\n",
      "2022-08-19 13:05:27.767339: W tensorflow/core/graph/graph_constructor.cc:1072] {{node cond_3/then/_41/concat}} = ConcatV2[N=25, T=DT_STRING, Tidx=DT_INT32, _device=\"/job:localhost/replica:0/task:0/device:CPU:0\"](cond_3/features_6/_46:1, cond_3/then/_41/concat, cond_3/then/_41/concat, cond_3/then/_41/concat, cond_3/then/_41/concat, cond_3/then/_41/concat, cond_3/then/_41/concat, cond_3/then/_41/concat, cond_3/then/_41/concat, cond_3/then/_41/concat, cond_3/then/_41/concat, cond_3/then/_41/concat, cond_3/then/_41/concat, cond_3/then/_41/concat, cond_3/then/_41/concat, cond_3/then/_41/concat, cond_3/then/_41/concat, cond_3/then/_41/concat, cond_3/then/_41/concat, cond_3/then/_41/concat, cond_3/then/_41/concat, cond_3/then/_41/concat, cond_3/then/_41/concat, cond_3/then/_41/concat, cond_3/then/_41/concat, cond_3/then/_41/Const)\n",
      "2022-08-19 13:05:27.767344: W tensorflow/core/graph/graph_constructor.cc:1075] End of cycle\n",
      "2022-08-19 13:05:27.767346: W tensorflow/core/graph/graph_constructor.cc:1070] Cycle detected:\n",
      "2022-08-19 13:05:27.767525: W tensorflow/core/graph/graph_constructor.cc:1072] {{node cond_3/then/_41/concat}} = ConcatV2[N=25, T=DT_STRING, Tidx=DT_INT32, _device=\"/job:localhost/replica:0/task:0/device:CPU:0\"](cond_3/features_6/_46:1, cond_3/then/_41/concat, cond_3/then/_41/concat, cond_3/then/_41/concat, cond_3/then/_41/concat, cond_3/then/_41/concat, cond_3/then/_41/concat, cond_3/then/_41/concat, cond_3/then/_41/concat, cond_3/then/_41/concat, cond_3/then/_41/concat, cond_3/then/_41/concat, cond_3/then/_41/concat, cond_3/then/_41/concat, cond_3/then/_41/concat, cond_3/then/_41/concat, cond_3/then/_41/concat, cond_3/then/_41/concat, cond_3/then/_41/concat, cond_3/then/_41/concat, cond_3/then/_41/concat, cond_3/then/_41/concat, cond_3/then/_41/concat, cond_3/then/_41/concat, cond_3/then/_41/concat, cond_3/then/_41/Const)\n",
      "2022-08-19 13:05:27.767529: W tensorflow/core/graph/graph_constructor.cc:1075] End of cycle\n",
      "2022-08-19 13:05:27.767533: W tensorflow/core/graph/graph_constructor.cc:1070] Cycle detected:\n",
      "2022-08-19 13:05:27.767537: W tensorflow/core/graph/graph_constructor.cc:1072] {{node cond_3/then/_41/concat}} = ConcatV2[N=25, T=DT_STRING, Tidx=DT_INT32, _device=\"/job:localhost/replica:0/task:0/device:CPU:0\"](cond_3/features_6/_46:1, cond_3/then/_41/concat, cond_3/then/_41/concat, cond_3/then/_41/concat, cond_3/then/_41/concat, cond_3/then/_41/concat, cond_3/then/_41/concat, cond_3/then/_41/concat, cond_3/then/_41/concat, cond_3/then/_41/concat, cond_3/then/_41/concat, cond_3/then/_41/concat, cond_3/then/_41/concat, cond_3/then/_41/concat, cond_3/then/_41/concat, cond_3/then/_41/concat, cond_3/then/_41/concat, cond_3/then/_41/concat, cond_3/then/_41/concat, cond_3/then/_41/concat, cond_3/then/_41/concat, cond_3/then/_41/concat, cond_3/then/_41/concat, cond_3/then/_41/concat, cond_3/then/_41/concat, cond_3/then/_41/Const)\n",
      "2022-08-19 13:05:27.767542: W tensorflow/core/graph/graph_constructor.cc:1075] End of cycle\n",
      "2022-08-19 13:05:27.767684: W tensorflow/core/graph/graph_constructor.cc:1070] Cycle detected:\n",
      "2022-08-19 13:05:27.767695: W tensorflow/core/graph/graph_constructor.cc:1072] {{node cond_3/then/_41/concat}} = ConcatV2[N=25, T=DT_STRING, Tidx=DT_INT32, _device=\"/job:localhost/replica:0/task:0/device:CPU:0\"](cond_3/features_6/_46:1, cond_3/then/_41/concat, cond_3/then/_41/concat, cond_3/then/_41/concat, cond_3/then/_41/concat, cond_3/then/_41/concat, cond_3/then/_41/concat, cond_3/then/_41/concat, cond_3/then/_41/concat, cond_3/then/_41/concat, cond_3/then/_41/concat, cond_3/then/_41/concat, cond_3/then/_41/concat, cond_3/then/_41/concat, cond_3/then/_41/concat, cond_3/then/_41/concat, cond_3/then/_41/concat, cond_3/then/_41/concat, cond_3/then/_41/concat, cond_3/then/_41/concat, cond_3/then/_41/concat, cond_3/then/_41/concat, cond_3/then/_41/concat, cond_3/then/_41/concat, cond_3/then/_41/concat, cond_3/then/_41/Const)\n",
      "2022-08-19 13:05:27.767700: W tensorflow/core/graph/graph_constructor.cc:1075] End of cycle\n",
      "2022-08-19 13:05:27.767853: W tensorflow/core/graph/graph_constructor.cc:1070] Cycle detected:\n",
      "2022-08-19 13:05:27.767859: W tensorflow/core/graph/graph_constructor.cc:1072] {{node cond_3/then/_41/concat}} = ConcatV2[N=25, T=DT_STRING, Tidx=DT_INT32, _device=\"/job:localhost/replica:0/task:0/device:CPU:0\"](cond_3/features_6/_46:1, cond_3/then/_41/concat, cond_3/then/_41/concat, cond_3/then/_41/concat, cond_3/then/_41/concat, cond_3/then/_41/concat, cond_3/then/_41/concat, cond_3/then/_41/concat, cond_3/then/_41/concat, cond_3/then/_41/concat, cond_3/then/_41/concat, cond_3/then/_41/concat, cond_3/then/_41/concat, cond_3/then/_41/concat, cond_3/then/_41/concat, cond_3/then/_41/concat, cond_3/then/_41/concat, cond_3/then/_41/concat, cond_3/then/_41/concat, cond_3/then/_41/concat, cond_3/then/_41/concat, cond_3/then/_41/concat, cond_3/then/_41/concat, cond_3/then/_41/concat, cond_3/then/_41/concat, cond_3/then/_41/Const)\n",
      "2022-08-19 13:05:27.767863: W tensorflow/core/graph/graph_constructor.cc:1075] End of cycle\n",
      "2022-08-19 13:05:27.767865: W tensorflow/core/graph/graph_constructor.cc:1070] Cycle detected:\n",
      "2022-08-19 13:05:27.767870: W tensorflow/core/graph/graph_constructor.cc:1072] {{node cond_3/then/_41/concat}} = ConcatV2[N=25, T=DT_STRING, Tidx=DT_INT32, _device=\"/job:localhost/replica:0/task:0/device:CPU:0\"](cond_3/features_6/_46:1, cond_3/then/_41/concat, cond_3/then/_41/concat, cond_3/then/_41/concat, cond_3/then/_41/concat, cond_3/then/_41/concat, cond_3/then/_41/concat, cond_3/then/_41/concat, cond_3/then/_41/concat, cond_3/then/_41/concat, cond_3/then/_41/concat, cond_3/then/_41/concat, cond_3/then/_41/concat, cond_3/then/_41/concat, cond_3/then/_41/concat, cond_3/then/_41/concat, cond_3/then/_41/concat, cond_3/then/_41/concat, cond_3/then/_41/concat, cond_3/then/_41/concat, cond_3/then/_41/concat, cond_3/then/_41/concat, cond_3/then/_41/concat, cond_3/then/_41/concat, cond_3/then/_41/concat, cond_3/then/_41/Const)\n",
      "2022-08-19 13:05:27.767874: W tensorflow/core/graph/graph_constructor.cc:1075] End of cycle\n",
      "2022-08-19 13:05:27.767998: W tensorflow/core/graph/graph_constructor.cc:1070] Cycle detected:\n",
      "2022-08-19 13:05:27.768014: W tensorflow/core/graph/graph_constructor.cc:1072] {{node cond_3/then/_41/concat}} = ConcatV2[N=25, T=DT_STRING, Tidx=DT_INT32, _device=\"/job:localhost/replica:0/task:0/device:CPU:0\"](cond_3/features_6/_46:1, cond_3/then/_41/concat, cond_3/then/_41/concat, cond_3/then/_41/concat, cond_3/then/_41/concat, cond_3/then/_41/concat, cond_3/then/_41/concat, cond_3/then/_41/concat, cond_3/then/_41/concat, cond_3/then/_41/concat, cond_3/then/_41/concat, cond_3/then/_41/concat, cond_3/then/_41/concat, cond_3/then/_41/concat, cond_3/then/_41/concat, cond_3/then/_41/concat, cond_3/then/_41/concat, cond_3/then/_41/concat, cond_3/then/_41/concat, cond_3/then/_41/concat, cond_3/then/_41/concat, cond_3/then/_41/concat, cond_3/then/_41/concat, cond_3/then/_41/concat, cond_3/then/_41/concat, cond_3/then/_41/Const)\n",
      "2022-08-19 13:05:27.768020: W tensorflow/core/graph/graph_constructor.cc:1075] End of cycle\n",
      "2022-08-19 13:05:27.768143: W tensorflow/core/graph/graph_constructor.cc:1070] Cycle detected:\n",
      "2022-08-19 13:05:27.768150: W tensorflow/core/graph/graph_constructor.cc:1072] {{node cond_3/then/_41/concat}} = ConcatV2[N=25, T=DT_STRING, Tidx=DT_INT32, _device=\"/job:localhost/replica:0/task:0/device:CPU:0\"](cond_3/features_6/_46:1, cond_3/then/_41/concat, cond_3/then/_41/concat, cond_3/then/_41/concat, cond_3/then/_41/concat, cond_3/then/_41/concat, cond_3/then/_41/concat, cond_3/then/_41/concat, cond_3/then/_41/concat, cond_3/then/_41/concat, cond_3/then/_41/concat, cond_3/then/_41/concat, cond_3/then/_41/concat, cond_3/then/_41/concat, cond_3/then/_41/concat, cond_3/then/_41/concat, cond_3/then/_41/concat, cond_3/then/_41/concat, cond_3/then/_41/concat, cond_3/then/_41/concat, cond_3/then/_41/concat, cond_3/then/_41/concat, cond_3/then/_41/concat, cond_3/then/_41/concat, cond_3/then/_41/concat, cond_3/then/_41/Const)\n",
      "2022-08-19 13:05:27.768154: W tensorflow/core/graph/graph_constructor.cc:1075] End of cycle\n",
      "2022-08-19 13:05:27.768157: W tensorflow/core/graph/graph_constructor.cc:1070] Cycle detected:\n",
      "2022-08-19 13:05:27.768162: W tensorflow/core/graph/graph_constructor.cc:1072] {{node cond_3/then/_41/concat}} = ConcatV2[N=25, T=DT_STRING, Tidx=DT_INT32, _device=\"/job:localhost/replica:0/task:0/device:CPU:0\"](cond_3/features_6/_46:1, cond_3/then/_41/concat, cond_3/then/_41/concat, cond_3/then/_41/concat, cond_3/then/_41/concat, cond_3/then/_41/concat, cond_3/then/_41/concat, cond_3/then/_41/concat, cond_3/then/_41/concat, cond_3/then/_41/concat, cond_3/then/_41/concat, cond_3/then/_41/concat, cond_3/then/_41/concat, cond_3/then/_41/concat, cond_3/then/_41/concat, cond_3/then/_41/concat, cond_3/then/_41/concat, cond_3/then/_41/concat, cond_3/then/_41/concat, cond_3/then/_41/concat, cond_3/then/_41/concat, cond_3/then/_41/concat, cond_3/then/_41/concat, cond_3/then/_41/concat, cond_3/then/_41/concat, cond_3/then/_41/Const)\n",
      "2022-08-19 13:05:27.768167: W tensorflow/core/graph/graph_constructor.cc:1075] End of cycle\n",
      "2022-08-19 13:05:27.768310: W tensorflow/core/graph/graph_constructor.cc:1070] Cycle detected:\n",
      "2022-08-19 13:05:27.768316: W tensorflow/core/graph/graph_constructor.cc:1072] {{node cond_4/then/_54/concat}} = ConcatV2[N=25, T=DT_STRING, Tidx=DT_INT32, _device=\"/job:localhost/replica:0/task:0/device:CPU:0\"](cond_4/features/_59:1, cond_4/then/_54/concat, cond_4/then/_54/concat, cond_4/then/_54/concat, cond_4/then/_54/concat, cond_4/then/_54/concat, cond_4/then/_54/concat, cond_4/then/_54/concat, cond_4/then/_54/concat, cond_4/then/_54/concat, cond_4/then/_54/concat, cond_4/then/_54/concat, cond_4/then/_54/concat, cond_4/then/_54/concat, cond_4/then/_54/concat, cond_4/then/_54/concat, cond_4/then/_54/concat, cond_4/then/_54/concat, cond_4/then/_54/concat, cond_4/then/_54/concat, cond_4/then/_54/concat, cond_4/then/_54/concat, cond_4/then/_54/concat, cond_4/then/_54/concat, cond_4/then/_54/concat, cond_4/then/_54/split/split_dim)\n",
      "2022-08-19 13:05:27.768321: W tensorflow/core/graph/graph_constructor.cc:1075] End of cycle\n",
      "2022-08-19 13:05:27.768454: W tensorflow/core/graph/graph_constructor.cc:1070] Cycle detected:\n",
      "2022-08-19 13:05:27.768459: W tensorflow/core/graph/graph_constructor.cc:1072] {{node cond_4/then/_54/concat}} = ConcatV2[N=25, T=DT_STRING, Tidx=DT_INT32, _device=\"/job:localhost/replica:0/task:0/device:CPU:0\"](cond_4/features/_59:1, cond_4/then/_54/concat, cond_4/then/_54/concat, cond_4/then/_54/concat, cond_4/then/_54/concat, cond_4/then/_54/concat, cond_4/then/_54/concat, cond_4/then/_54/concat, cond_4/then/_54/concat, cond_4/then/_54/concat, cond_4/then/_54/concat, cond_4/then/_54/concat, cond_4/then/_54/concat, cond_4/then/_54/concat, cond_4/then/_54/concat, cond_4/then/_54/concat, cond_4/then/_54/concat, cond_4/then/_54/concat, cond_4/then/_54/concat, cond_4/then/_54/concat, cond_4/then/_54/concat, cond_4/then/_54/concat, cond_4/then/_54/concat, cond_4/then/_54/concat, cond_4/then/_54/concat, cond_4/then/_54/split/split_dim)\n",
      "2022-08-19 13:05:27.768463: W tensorflow/core/graph/graph_constructor.cc:1075] End of cycle\n",
      "2022-08-19 13:05:27.768466: W tensorflow/core/graph/graph_constructor.cc:1070] Cycle detected:\n",
      "2022-08-19 13:05:27.768471: W tensorflow/core/graph/graph_constructor.cc:1072] {{node cond_4/then/_54/concat}} = ConcatV2[N=25, T=DT_STRING, Tidx=DT_INT32, _device=\"/job:localhost/replica:0/task:0/device:CPU:0\"](cond_4/features/_59:1, cond_4/then/_54/concat, cond_4/then/_54/concat, cond_4/then/_54/concat, cond_4/then/_54/concat, cond_4/then/_54/concat, cond_4/then/_54/concat, cond_4/then/_54/concat, cond_4/then/_54/concat, cond_4/then/_54/concat, cond_4/then/_54/concat, cond_4/then/_54/concat, cond_4/then/_54/concat, cond_4/then/_54/concat, cond_4/then/_54/concat, cond_4/then/_54/concat, cond_4/then/_54/concat, cond_4/then/_54/concat, cond_4/then/_54/concat, cond_4/then/_54/concat, cond_4/then/_54/concat, cond_4/then/_54/concat, cond_4/then/_54/concat, cond_4/then/_54/concat, cond_4/then/_54/concat, cond_4/then/_54/split/split_dim)\n",
      "2022-08-19 13:05:27.768475: W tensorflow/core/graph/graph_constructor.cc:1075] End of cycle\n",
      "2022-08-19 13:05:27.768610: W tensorflow/core/graph/graph_constructor.cc:1070] Cycle detected:\n",
      "2022-08-19 13:05:27.768615: W tensorflow/core/graph/graph_constructor.cc:1072] {{node cond_4/then/_54/concat}} = ConcatV2[N=25, T=DT_STRING, Tidx=DT_INT32, _device=\"/job:localhost/replica:0/task:0/device:CPU:0\"](cond_4/features/_59:1, cond_4/then/_54/concat, cond_4/then/_54/concat, cond_4/then/_54/concat, cond_4/then/_54/concat, cond_4/then/_54/concat, cond_4/then/_54/concat, cond_4/then/_54/concat, cond_4/then/_54/concat, cond_4/then/_54/concat, cond_4/then/_54/concat, cond_4/then/_54/concat, cond_4/then/_54/concat, cond_4/then/_54/concat, cond_4/then/_54/concat, cond_4/then/_54/concat, cond_4/then/_54/concat, cond_4/then/_54/concat, cond_4/then/_54/concat, cond_4/then/_54/concat, cond_4/then/_54/concat, cond_4/then/_54/concat, cond_4/then/_54/concat, cond_4/then/_54/concat, cond_4/then/_54/concat, cond_4/then/_54/split/split_dim)\n",
      "2022-08-19 13:05:27.768619: W tensorflow/core/graph/graph_constructor.cc:1075] End of cycle\n",
      "2022-08-19 13:05:27.768622: W tensorflow/core/graph/graph_constructor.cc:1070] Cycle detected:\n",
      "2022-08-19 13:05:27.768626: W tensorflow/core/graph/graph_constructor.cc:1072] {{node cond_4/then/_54/concat}} = ConcatV2[N=25, T=DT_STRING, Tidx=DT_INT32, _device=\"/job:localhost/replica:0/task:0/device:CPU:0\"](cond_4/features/_59:1, cond_4/then/_54/concat, cond_4/then/_54/concat, cond_4/then/_54/concat, cond_4/then/_54/concat, cond_4/then/_54/concat, cond_4/then/_54/concat, cond_4/then/_54/concat, cond_4/then/_54/concat, cond_4/then/_54/concat, cond_4/then/_54/concat, cond_4/then/_54/concat, cond_4/then/_54/concat, cond_4/then/_54/concat, cond_4/then/_54/concat, cond_4/then/_54/concat, cond_4/then/_54/concat, cond_4/then/_54/concat, cond_4/then/_54/concat, cond_4/then/_54/concat, cond_4/then/_54/concat, cond_4/then/_54/concat, cond_4/then/_54/concat, cond_4/then/_54/concat, cond_4/then/_54/concat, cond_4/then/_54/split/split_dim)\n",
      "2022-08-19 13:05:27.768767: W tensorflow/core/graph/graph_constructor.cc:1075] End of cycle\n",
      "2022-08-19 13:05:27.768772: W tensorflow/core/graph/graph_constructor.cc:1070] Cycle detected:\n",
      "2022-08-19 13:05:27.768778: W tensorflow/core/graph/graph_constructor.cc:1072] {{node cond_4/then/_54/concat}} = ConcatV2[N=25, T=DT_STRING, Tidx=DT_INT32, _device=\"/job:localhost/replica:0/task:0/device:CPU:0\"](cond_4/features/_59:1, cond_4/then/_54/concat, cond_4/then/_54/concat, cond_4/then/_54/concat, cond_4/then/_54/concat, cond_4/then/_54/concat, cond_4/then/_54/concat, cond_4/then/_54/concat, cond_4/then/_54/concat, cond_4/then/_54/concat, cond_4/then/_54/concat, cond_4/then/_54/concat, cond_4/then/_54/concat, cond_4/then/_54/concat, cond_4/then/_54/concat, cond_4/then/_54/concat, cond_4/then/_54/concat, cond_4/then/_54/concat, cond_4/then/_54/concat, cond_4/then/_54/concat, cond_4/then/_54/concat, cond_4/then/_54/concat, cond_4/then/_54/concat, cond_4/then/_54/concat, cond_4/then/_54/concat, cond_4/then/_54/split/split_dim)\n",
      "2022-08-19 13:05:27.768893: W tensorflow/core/graph/graph_constructor.cc:1075] End of cycle\n",
      "2022-08-19 13:05:27.768896: W tensorflow/core/graph/graph_constructor.cc:1070] Cycle detected:\n",
      "2022-08-19 13:05:27.768901: W tensorflow/core/graph/graph_constructor.cc:1072] {{node cond_4/then/_54/concat}} = ConcatV2[N=25, T=DT_STRING, Tidx=DT_INT32, _device=\"/job:localhost/replica:0/task:0/device:CPU:0\"](cond_4/features/_59:1, cond_4/then/_54/concat, cond_4/then/_54/concat, cond_4/then/_54/concat, cond_4/then/_54/concat, cond_4/then/_54/concat, cond_4/then/_54/concat, cond_4/then/_54/concat, cond_4/then/_54/concat, cond_4/then/_54/concat, cond_4/then/_54/concat, cond_4/then/_54/concat, cond_4/then/_54/concat, cond_4/then/_54/concat, cond_4/then/_54/concat, cond_4/then/_54/concat, cond_4/then/_54/concat, cond_4/then/_54/concat, cond_4/then/_54/concat, cond_4/then/_54/concat, cond_4/then/_54/concat, cond_4/then/_54/concat, cond_4/then/_54/concat, cond_4/then/_54/concat, cond_4/then/_54/concat, cond_4/then/_54/split/split_dim)\n",
      "2022-08-19 13:05:27.768905: W tensorflow/core/graph/graph_constructor.cc:1075] End of cycle\n",
      "2022-08-19 13:05:27.768908: W tensorflow/core/graph/graph_constructor.cc:1070] Cycle detected:\n",
      "2022-08-19 13:05:27.768912: W tensorflow/core/graph/graph_constructor.cc:1072] {{node cond_4/then/_54/concat}} = ConcatV2[N=25, T=DT_STRING, Tidx=DT_INT32, _device=\"/job:localhost/replica:0/task:0/device:CPU:0\"](cond_4/features/_59:1, cond_4/then/_54/concat, cond_4/then/_54/concat, cond_4/then/_54/concat, cond_4/then/_54/concat, cond_4/then/_54/concat, cond_4/then/_54/concat, cond_4/then/_54/concat, cond_4/then/_54/concat, cond_4/then/_54/concat, cond_4/then/_54/concat, cond_4/then/_54/concat, cond_4/then/_54/concat, cond_4/then/_54/concat, cond_4/then/_54/concat, cond_4/then/_54/concat, cond_4/then/_54/concat, cond_4/then/_54/concat, cond_4/then/_54/concat, cond_4/then/_54/concat, cond_4/then/_54/concat, cond_4/then/_54/concat, cond_4/then/_54/concat, cond_4/then/_54/concat, cond_4/then/_54/concat, cond_4/then/_54/split/split_dim)\n",
      "2022-08-19 13:05:27.769040: W tensorflow/core/graph/graph_constructor.cc:1075] End of cycle\n",
      "2022-08-19 13:05:27.769044: W tensorflow/core/graph/graph_constructor.cc:1070] Cycle detected:\n",
      "2022-08-19 13:05:27.769050: W tensorflow/core/graph/graph_constructor.cc:1072] {{node cond_4/then/_54/concat}} = ConcatV2[N=25, T=DT_STRING, Tidx=DT_INT32, _device=\"/job:localhost/replica:0/task:0/device:CPU:0\"](cond_4/features/_59:1, cond_4/then/_54/concat, cond_4/then/_54/concat, cond_4/then/_54/concat, cond_4/then/_54/concat, cond_4/then/_54/concat, cond_4/then/_54/concat, cond_4/then/_54/concat, cond_4/then/_54/concat, cond_4/then/_54/concat, cond_4/then/_54/concat, cond_4/then/_54/concat, cond_4/then/_54/concat, cond_4/then/_54/concat, cond_4/then/_54/concat, cond_4/then/_54/concat, cond_4/then/_54/concat, cond_4/then/_54/concat, cond_4/then/_54/concat, cond_4/then/_54/concat, cond_4/then/_54/concat, cond_4/then/_54/concat, cond_4/then/_54/concat, cond_4/then/_54/concat, cond_4/then/_54/concat, cond_4/then/_54/split/split_dim)\n",
      "2022-08-19 13:05:27.769199: W tensorflow/core/graph/graph_constructor.cc:1075] End of cycle\n",
      "2022-08-19 13:05:27.769203: W tensorflow/core/graph/graph_constructor.cc:1070] Cycle detected:\n",
      "2022-08-19 13:05:27.769208: W tensorflow/core/graph/graph_constructor.cc:1072] {{node cond_4/then/_54/concat}} = ConcatV2[N=25, T=DT_STRING, Tidx=DT_INT32, _device=\"/job:localhost/replica:0/task:0/device:CPU:0\"](cond_4/features/_59:1, cond_4/then/_54/concat, cond_4/then/_54/concat, cond_4/then/_54/concat, cond_4/then/_54/concat, cond_4/then/_54/concat, cond_4/then/_54/concat, cond_4/then/_54/concat, cond_4/then/_54/concat, cond_4/then/_54/concat, cond_4/then/_54/concat, cond_4/then/_54/concat, cond_4/then/_54/concat, cond_4/then/_54/concat, cond_4/then/_54/concat, cond_4/then/_54/concat, cond_4/then/_54/concat, cond_4/then/_54/concat, cond_4/then/_54/concat, cond_4/then/_54/concat, cond_4/then/_54/concat, cond_4/then/_54/concat, cond_4/then/_54/concat, cond_4/then/_54/concat, cond_4/then/_54/concat, cond_4/then/_54/split/split_dim)\n",
      "2022-08-19 13:05:27.769212: W tensorflow/core/graph/graph_constructor.cc:1075] End of cycle\n",
      "2022-08-19 13:05:27.769214: W tensorflow/core/graph/graph_constructor.cc:1070] Cycle detected:\n",
      "2022-08-19 13:05:27.769219: W tensorflow/core/graph/graph_constructor.cc:1072] {{node cond_4/then/_54/concat}} = ConcatV2[N=25, T=DT_STRING, Tidx=DT_INT32, _device=\"/job:localhost/replica:0/task:0/device:CPU:0\"](cond_4/features/_59:1, cond_4/then/_54/concat, cond_4/then/_54/concat, cond_4/then/_54/concat, cond_4/then/_54/concat, cond_4/then/_54/concat, cond_4/then/_54/concat, cond_4/then/_54/concat, cond_4/then/_54/concat, cond_4/then/_54/concat, cond_4/then/_54/concat, cond_4/then/_54/concat, cond_4/then/_54/concat, cond_4/then/_54/concat, cond_4/then/_54/concat, cond_4/then/_54/concat, cond_4/then/_54/concat, cond_4/then/_54/concat, cond_4/then/_54/concat, cond_4/then/_54/concat, cond_4/then/_54/concat, cond_4/then/_54/concat, cond_4/then/_54/concat, cond_4/then/_54/concat, cond_4/then/_54/concat, cond_4/then/_54/split/split_dim)\n",
      "2022-08-19 13:05:27.769364: W tensorflow/core/graph/graph_constructor.cc:1075] End of cycle\n",
      "2022-08-19 13:05:27.769366: W tensorflow/core/graph/graph_constructor.cc:1070] Cycle detected:\n",
      "2022-08-19 13:05:27.769371: W tensorflow/core/graph/graph_constructor.cc:1072] {{node cond_4/then/_54/concat}} = ConcatV2[N=25, T=DT_STRING, Tidx=DT_INT32, _device=\"/job:localhost/replica:0/task:0/device:CPU:0\"](cond_4/features/_59:1, cond_4/then/_54/concat, cond_4/then/_54/concat, cond_4/then/_54/concat, cond_4/then/_54/concat, cond_4/then/_54/concat, cond_4/then/_54/concat, cond_4/then/_54/concat, cond_4/then/_54/concat, cond_4/then/_54/concat, cond_4/then/_54/concat, cond_4/then/_54/concat, cond_4/then/_54/concat, cond_4/then/_54/concat, cond_4/then/_54/concat, cond_4/then/_54/concat, cond_4/then/_54/concat, cond_4/then/_54/concat, cond_4/then/_54/concat, cond_4/then/_54/concat, cond_4/then/_54/concat, cond_4/then/_54/concat, cond_4/then/_54/concat, cond_4/then/_54/concat, cond_4/then/_54/concat, cond_4/then/_54/split/split_dim)\n",
      "2022-08-19 13:05:27.769376: W tensorflow/core/graph/graph_constructor.cc:1075] End of cycle\n",
      "2022-08-19 13:05:27.769379: W tensorflow/core/graph/graph_constructor.cc:1070] Cycle detected:\n",
      "2022-08-19 13:05:27.769383: W tensorflow/core/graph/graph_constructor.cc:1072] {{node cond_4/then/_54/concat}} = ConcatV2[N=25, T=DT_STRING, Tidx=DT_INT32, _device=\"/job:localhost/replica:0/task:0/device:CPU:0\"](cond_4/features/_59:1, cond_4/then/_54/concat, cond_4/then/_54/concat, cond_4/then/_54/concat, cond_4/then/_54/concat, cond_4/then/_54/concat, cond_4/then/_54/concat, cond_4/then/_54/concat, cond_4/then/_54/concat, cond_4/then/_54/concat, cond_4/then/_54/concat, cond_4/then/_54/concat, cond_4/then/_54/concat, cond_4/then/_54/concat, cond_4/then/_54/concat, cond_4/then/_54/concat, cond_4/then/_54/concat, cond_4/then/_54/concat, cond_4/then/_54/concat, cond_4/then/_54/concat, cond_4/then/_54/concat, cond_4/then/_54/concat, cond_4/then/_54/concat, cond_4/then/_54/concat, cond_4/then/_54/concat, cond_4/then/_54/split/split_dim)\n",
      "2022-08-19 13:05:27.769534: W tensorflow/core/graph/graph_constructor.cc:1075] End of cycle\n",
      "2022-08-19 13:05:27.769562: W tensorflow/core/graph/graph_constructor.cc:1070] Cycle detected:\n",
      "2022-08-19 13:05:27.769573: W tensorflow/core/graph/graph_constructor.cc:1072] {{node cond_4/then/_54/concat}} = ConcatV2[N=25, T=DT_STRING, Tidx=DT_INT32, _device=\"/job:localhost/replica:0/task:0/device:CPU:0\"](cond_4/features/_59:1, cond_4/then/_54/concat, cond_4/then/_54/concat, cond_4/then/_54/concat, cond_4/then/_54/concat, cond_4/then/_54/concat, cond_4/then/_54/concat, cond_4/then/_54/concat, cond_4/then/_54/concat, cond_4/then/_54/concat, cond_4/then/_54/concat, cond_4/then/_54/concat, cond_4/then/_54/concat, cond_4/then/_54/concat, cond_4/then/_54/concat, cond_4/then/_54/concat, cond_4/then/_54/concat, cond_4/then/_54/concat, cond_4/then/_54/concat, cond_4/then/_54/concat, cond_4/then/_54/concat, cond_4/then/_54/concat, cond_4/then/_54/concat, cond_4/then/_54/concat, cond_4/then/_54/concat, cond_4/then/_54/split/split_dim)\n",
      "2022-08-19 13:05:27.769579: W tensorflow/core/graph/graph_constructor.cc:1075] End of cycle\n",
      "2022-08-19 13:05:27.769581: W tensorflow/core/graph/graph_constructor.cc:1070] Cycle detected:\n",
      "2022-08-19 13:05:27.769587: W tensorflow/core/graph/graph_constructor.cc:1072] {{node cond_4/then/_54/concat}} = ConcatV2[N=25, T=DT_STRING, Tidx=DT_INT32, _device=\"/job:localhost/replica:0/task:0/device:CPU:0\"](cond_4/features/_59:1, cond_4/then/_54/concat, cond_4/then/_54/concat, cond_4/then/_54/concat, cond_4/then/_54/concat, cond_4/then/_54/concat, cond_4/then/_54/concat, cond_4/then/_54/concat, cond_4/then/_54/concat, cond_4/then/_54/concat, cond_4/then/_54/concat, cond_4/then/_54/concat, cond_4/then/_54/concat, cond_4/then/_54/concat, cond_4/then/_54/concat, cond_4/then/_54/concat, cond_4/then/_54/concat, cond_4/then/_54/concat, cond_4/then/_54/concat, cond_4/then/_54/concat, cond_4/then/_54/concat, cond_4/then/_54/concat, cond_4/then/_54/concat, cond_4/then/_54/concat, cond_4/then/_54/concat, cond_4/then/_54/split/split_dim)\n",
      "2022-08-19 13:05:27.769712: W tensorflow/core/graph/graph_constructor.cc:1075] End of cycle\n",
      "2022-08-19 13:05:27.769715: W tensorflow/core/graph/graph_constructor.cc:1070] Cycle detected:\n",
      "2022-08-19 13:05:27.769720: W tensorflow/core/graph/graph_constructor.cc:1072] {{node cond_4/then/_54/concat}} = ConcatV2[N=25, T=DT_STRING, Tidx=DT_INT32, _device=\"/job:localhost/replica:0/task:0/device:CPU:0\"](cond_4/features/_59:1, cond_4/then/_54/concat, cond_4/then/_54/concat, cond_4/then/_54/concat, cond_4/then/_54/concat, cond_4/then/_54/concat, cond_4/then/_54/concat, cond_4/then/_54/concat, cond_4/then/_54/concat, cond_4/then/_54/concat, cond_4/then/_54/concat, cond_4/then/_54/concat, cond_4/then/_54/concat, cond_4/then/_54/concat, cond_4/then/_54/concat, cond_4/then/_54/concat, cond_4/then/_54/concat, cond_4/then/_54/concat, cond_4/then/_54/concat, cond_4/then/_54/concat, cond_4/then/_54/concat, cond_4/then/_54/concat, cond_4/then/_54/concat, cond_4/then/_54/concat, cond_4/then/_54/concat, cond_4/then/_54/split/split_dim)\n",
      "2022-08-19 13:05:27.769724: W tensorflow/core/graph/graph_constructor.cc:1075] End of cycle\n",
      "2022-08-19 13:05:27.769727: W tensorflow/core/graph/graph_constructor.cc:1070] Cycle detected:\n",
      "2022-08-19 13:05:27.769732: W tensorflow/core/graph/graph_constructor.cc:1072] {{node cond_4/then/_54/concat}} = ConcatV2[N=25, T=DT_STRING, Tidx=DT_INT32, _device=\"/job:localhost/replica:0/task:0/device:CPU:0\"](cond_4/features/_59:1, cond_4/then/_54/concat, cond_4/then/_54/concat, cond_4/then/_54/concat, cond_4/then/_54/concat, cond_4/then/_54/concat, cond_4/then/_54/concat, cond_4/then/_54/concat, cond_4/then/_54/concat, cond_4/then/_54/concat, cond_4/then/_54/concat, cond_4/then/_54/concat, cond_4/then/_54/concat, cond_4/then/_54/concat, cond_4/then/_54/concat, cond_4/then/_54/concat, cond_4/then/_54/concat, cond_4/then/_54/concat, cond_4/then/_54/concat, cond_4/then/_54/concat, cond_4/then/_54/concat, cond_4/then/_54/concat, cond_4/then/_54/concat, cond_4/then/_54/concat, cond_4/then/_54/concat, cond_4/then/_54/split/split_dim)\n",
      "2022-08-19 13:05:27.769878: W tensorflow/core/graph/graph_constructor.cc:1075] End of cycle\n",
      "2022-08-19 13:05:27.769881: W tensorflow/core/graph/graph_constructor.cc:1070] Cycle detected:\n",
      "2022-08-19 13:05:27.769886: W tensorflow/core/graph/graph_constructor.cc:1072] {{node cond_4/then/_54/concat}} = ConcatV2[N=25, T=DT_STRING, Tidx=DT_INT32, _device=\"/job:localhost/replica:0/task:0/device:CPU:0\"](cond_4/features/_59:1, cond_4/then/_54/concat, cond_4/then/_54/concat, cond_4/then/_54/concat, cond_4/then/_54/concat, cond_4/then/_54/concat, cond_4/then/_54/concat, cond_4/then/_54/concat, cond_4/then/_54/concat, cond_4/then/_54/concat, cond_4/then/_54/concat, cond_4/then/_54/concat, cond_4/then/_54/concat, cond_4/then/_54/concat, cond_4/then/_54/concat, cond_4/then/_54/concat, cond_4/then/_54/concat, cond_4/then/_54/concat, cond_4/then/_54/concat, cond_4/then/_54/concat, cond_4/then/_54/concat, cond_4/then/_54/concat, cond_4/then/_54/concat, cond_4/then/_54/concat, cond_4/then/_54/concat, cond_4/then/_54/split/split_dim)\n",
      "2022-08-19 13:05:27.770041: W tensorflow/core/graph/graph_constructor.cc:1075] End of cycle\n",
      "2022-08-19 13:05:27.770048: W tensorflow/core/graph/graph_constructor.cc:1070] Cycle detected:\n",
      "2022-08-19 13:05:27.770056: W tensorflow/core/graph/graph_constructor.cc:1072] {{node cond_4/then/_54/concat}} = ConcatV2[N=25, T=DT_STRING, Tidx=DT_INT32, _device=\"/job:localhost/replica:0/task:0/device:CPU:0\"](cond_4/features/_59:1, cond_4/then/_54/concat, cond_4/then/_54/concat, cond_4/then/_54/concat, cond_4/then/_54/concat, cond_4/then/_54/concat, cond_4/then/_54/concat, cond_4/then/_54/concat, cond_4/then/_54/concat, cond_4/then/_54/concat, cond_4/then/_54/concat, cond_4/then/_54/concat, cond_4/then/_54/concat, cond_4/then/_54/concat, cond_4/then/_54/concat, cond_4/then/_54/concat, cond_4/then/_54/concat, cond_4/then/_54/concat, cond_4/then/_54/concat, cond_4/then/_54/concat, cond_4/then/_54/concat, cond_4/then/_54/concat, cond_4/then/_54/concat, cond_4/then/_54/concat, cond_4/then/_54/concat, cond_4/then/_54/split/split_dim)\n",
      "2022-08-19 13:05:27.770187: W tensorflow/core/graph/graph_constructor.cc:1075] End of cycle\n",
      "2022-08-19 13:05:27.770191: W tensorflow/core/graph/graph_constructor.cc:1070] Cycle detected:\n",
      "2022-08-19 13:05:27.770197: W tensorflow/core/graph/graph_constructor.cc:1072] {{node cond_4/then/_54/concat}} = ConcatV2[N=25, T=DT_STRING, Tidx=DT_INT32, _device=\"/job:localhost/replica:0/task:0/device:CPU:0\"](cond_4/features/_59:1, cond_4/then/_54/concat, cond_4/then/_54/concat, cond_4/then/_54/concat, cond_4/then/_54/concat, cond_4/then/_54/concat, cond_4/then/_54/concat, cond_4/then/_54/concat, cond_4/then/_54/concat, cond_4/then/_54/concat, cond_4/then/_54/concat, cond_4/then/_54/concat, cond_4/then/_54/concat, cond_4/then/_54/concat, cond_4/then/_54/concat, cond_4/then/_54/concat, cond_4/then/_54/concat, cond_4/then/_54/concat, cond_4/then/_54/concat, cond_4/then/_54/concat, cond_4/then/_54/concat, cond_4/then/_54/concat, cond_4/then/_54/concat, cond_4/then/_54/concat, cond_4/then/_54/concat, cond_4/then/_54/split/split_dim)\n",
      "2022-08-19 13:05:27.770335: W tensorflow/core/graph/graph_constructor.cc:1075] End of cycle\n",
      "2022-08-19 13:05:27.770340: W tensorflow/core/graph/graph_constructor.cc:1070] Cycle detected:\n",
      "2022-08-19 13:05:27.770348: W tensorflow/core/graph/graph_constructor.cc:1072] {{node cond_4/then/_54/concat}} = ConcatV2[N=25, T=DT_STRING, Tidx=DT_INT32, _device=\"/job:localhost/replica:0/task:0/device:CPU:0\"](cond_4/features/_59:1, cond_4/then/_54/concat, cond_4/then/_54/concat, cond_4/then/_54/concat, cond_4/then/_54/concat, cond_4/then/_54/concat, cond_4/then/_54/concat, cond_4/then/_54/concat, cond_4/then/_54/concat, cond_4/then/_54/concat, cond_4/then/_54/concat, cond_4/then/_54/concat, cond_4/then/_54/concat, cond_4/then/_54/concat, cond_4/then/_54/concat, cond_4/then/_54/concat, cond_4/then/_54/concat, cond_4/then/_54/concat, cond_4/then/_54/concat, cond_4/then/_54/concat, cond_4/then/_54/concat, cond_4/then/_54/concat, cond_4/then/_54/concat, cond_4/then/_54/concat, cond_4/then/_54/concat, cond_4/then/_54/split/split_dim)\n",
      "2022-08-19 13:05:27.770475: W tensorflow/core/graph/graph_constructor.cc:1075] End of cycle\n",
      "2022-08-19 13:05:27.770480: W tensorflow/core/graph/graph_constructor.cc:1070] Cycle detected:\n",
      "2022-08-19 13:05:27.770509: W tensorflow/core/graph/graph_constructor.cc:1072] {{node cond_4/then/_54/concat}} = ConcatV2[N=25, T=DT_STRING, Tidx=DT_INT32, _device=\"/job:localhost/replica:0/task:0/device:CPU:0\"](cond_4/features/_59:1, cond_4/then/_54/concat, cond_4/then/_54/concat, cond_4/then/_54/concat, cond_4/then/_54/concat, cond_4/then/_54/concat, cond_4/then/_54/concat, cond_4/then/_54/concat, cond_4/then/_54/concat, cond_4/then/_54/concat, cond_4/then/_54/concat, cond_4/then/_54/concat, cond_4/then/_54/concat, cond_4/then/_54/concat, cond_4/then/_54/concat, cond_4/then/_54/concat, cond_4/then/_54/concat, cond_4/then/_54/concat, cond_4/then/_54/concat, cond_4/then/_54/concat, cond_4/then/_54/concat, cond_4/then/_54/concat, cond_4/then/_54/concat, cond_4/then/_54/concat, cond_4/then/_54/concat, cond_4/then/_54/split/split_dim)\n",
      "2022-08-19 13:05:27.770514: W tensorflow/core/graph/graph_constructor.cc:1075] End of cycle\n",
      "2022-08-19 13:05:27.770517: W tensorflow/core/graph/graph_constructor.cc:1070] Cycle detected:\n",
      "2022-08-19 13:05:27.770522: W tensorflow/core/graph/graph_constructor.cc:1072] {{node cond_4/then/_54/concat}} = ConcatV2[N=25, T=DT_STRING, Tidx=DT_INT32, _device=\"/job:localhost/replica:0/task:0/device:CPU:0\"](cond_4/features/_59:1, cond_4/then/_54/concat, cond_4/then/_54/concat, cond_4/then/_54/concat, cond_4/then/_54/concat, cond_4/then/_54/concat, cond_4/then/_54/concat, cond_4/then/_54/concat, cond_4/then/_54/concat, cond_4/then/_54/concat, cond_4/then/_54/concat, cond_4/then/_54/concat, cond_4/then/_54/concat, cond_4/then/_54/concat, cond_4/then/_54/concat, cond_4/then/_54/concat, cond_4/then/_54/concat, cond_4/then/_54/concat, cond_4/then/_54/concat, cond_4/then/_54/concat, cond_4/then/_54/concat, cond_4/then/_54/concat, cond_4/then/_54/concat, cond_4/then/_54/concat, cond_4/then/_54/concat, cond_4/then/_54/split/split_dim)\n",
      "2022-08-19 13:05:27.770661: W tensorflow/core/graph/graph_constructor.cc:1075] End of cycle\n",
      "2022-08-19 13:05:27.770664: W tensorflow/core/graph/graph_constructor.cc:1070] Cycle detected:\n",
      "2022-08-19 13:05:27.770669: W tensorflow/core/graph/graph_constructor.cc:1072] {{node cond_4/then/_54/concat}} = ConcatV2[N=25, T=DT_STRING, Tidx=DT_INT32, _device=\"/job:localhost/replica:0/task:0/device:CPU:0\"](cond_4/features/_59:1, cond_4/then/_54/concat, cond_4/then/_54/concat, cond_4/then/_54/concat, cond_4/then/_54/concat, cond_4/then/_54/concat, cond_4/then/_54/concat, cond_4/then/_54/concat, cond_4/then/_54/concat, cond_4/then/_54/concat, cond_4/then/_54/concat, cond_4/then/_54/concat, cond_4/then/_54/concat, cond_4/then/_54/concat, cond_4/then/_54/concat, cond_4/then/_54/concat, cond_4/then/_54/concat, cond_4/then/_54/concat, cond_4/then/_54/concat, cond_4/then/_54/concat, cond_4/then/_54/concat, cond_4/then/_54/concat, cond_4/then/_54/concat, cond_4/then/_54/concat, cond_4/then/_54/concat, cond_4/then/_54/split/split_dim)\n",
      "2022-08-19 13:05:27.770673: W tensorflow/core/graph/graph_constructor.cc:1075] End of cycle\n",
      "2022-08-19 13:05:27.770681: W tensorflow/core/graph/graph_constructor.cc:1070] Cycle detected:\n",
      "2022-08-19 13:05:27.770686: W tensorflow/core/graph/graph_constructor.cc:1072] {{node cond/then/_2/concat}} = ConcatV2[N=25, T=DT_STRING, Tidx=DT_INT32, _device=\"/job:localhost/replica:0/task:0/device:CPU:0\"](cond/features_5/_7:1, cond/then/_2/concat, cond/then/_2/concat, cond/then/_2/concat, cond/then/_2/concat, cond/then/_2/concat, cond/then/_2/concat, cond/then/_2/concat, cond/then/_2/concat, cond/then/_2/concat, cond/then/_2/concat, cond/then/_2/concat, cond/then/_2/concat, cond/then/_2/concat, cond/then/_2/concat, cond/then/_2/concat, cond/then/_2/concat, cond/then/_2/concat, cond/then/_2/concat, cond/then/_2/concat, cond/then/_2/concat, cond/then/_2/concat, cond/then/_2/concat, cond/then/_2/concat, cond/then/_2/concat, cond/then/_2/Const)\n",
      "2022-08-19 13:05:27.770832: W tensorflow/core/graph/graph_constructor.cc:1075] End of cycle\n",
      "2022-08-19 13:05:27.770837: W tensorflow/core/graph/graph_constructor.cc:1070] Cycle detected:\n",
      "2022-08-19 13:05:27.770844: W tensorflow/core/graph/graph_constructor.cc:1072] {{node cond/then/_2/concat}} = ConcatV2[N=25, T=DT_STRING, Tidx=DT_INT32, _device=\"/job:localhost/replica:0/task:0/device:CPU:0\"](cond/features_5/_7:1, cond/then/_2/concat, cond/then/_2/concat, cond/then/_2/concat, cond/then/_2/concat, cond/then/_2/concat, cond/then/_2/concat, cond/then/_2/concat, cond/then/_2/concat, cond/then/_2/concat, cond/then/_2/concat, cond/then/_2/concat, cond/then/_2/concat, cond/then/_2/concat, cond/then/_2/concat, cond/then/_2/concat, cond/then/_2/concat, cond/then/_2/concat, cond/then/_2/concat, cond/then/_2/concat, cond/then/_2/concat, cond/then/_2/concat, cond/then/_2/concat, cond/then/_2/concat, cond/then/_2/concat, cond/then/_2/Const)\n",
      "2022-08-19 13:05:27.770848: W tensorflow/core/graph/graph_constructor.cc:1075] End of cycle\n",
      "2022-08-19 13:05:27.770852: W tensorflow/core/graph/graph_constructor.cc:1070] Cycle detected:\n",
      "2022-08-19 13:05:27.770856: W tensorflow/core/graph/graph_constructor.cc:1072] {{node cond/then/_2/concat}} = ConcatV2[N=25, T=DT_STRING, Tidx=DT_INT32, _device=\"/job:localhost/replica:0/task:0/device:CPU:0\"](cond/features_5/_7:1, cond/then/_2/concat, cond/then/_2/concat, cond/then/_2/concat, cond/then/_2/concat, cond/then/_2/concat, cond/then/_2/concat, cond/then/_2/concat, cond/then/_2/concat, cond/then/_2/concat, cond/then/_2/concat, cond/then/_2/concat, cond/then/_2/concat, cond/then/_2/concat, cond/then/_2/concat, cond/then/_2/concat, cond/then/_2/concat, cond/then/_2/concat, cond/then/_2/concat, cond/then/_2/concat, cond/then/_2/concat, cond/then/_2/concat, cond/then/_2/concat, cond/then/_2/concat, cond/then/_2/concat, cond/then/_2/Const)\n",
      "2022-08-19 13:05:27.770861: W tensorflow/core/graph/graph_constructor.cc:1075] End of cycle\n",
      "2022-08-19 13:05:27.770998: W tensorflow/core/graph/graph_constructor.cc:1070] Cycle detected:\n",
      "2022-08-19 13:05:27.771004: W tensorflow/core/graph/graph_constructor.cc:1072] {{node cond/then/_2/concat}} = ConcatV2[N=25, T=DT_STRING, Tidx=DT_INT32, _device=\"/job:localhost/replica:0/task:0/device:CPU:0\"](cond/features_5/_7:1, cond/then/_2/concat, cond/then/_2/concat, cond/then/_2/concat, cond/then/_2/concat, cond/then/_2/concat, cond/then/_2/concat, cond/then/_2/concat, cond/then/_2/concat, cond/then/_2/concat, cond/then/_2/concat, cond/then/_2/concat, cond/then/_2/concat, cond/then/_2/concat, cond/then/_2/concat, cond/then/_2/concat, cond/then/_2/concat, cond/then/_2/concat, cond/then/_2/concat, cond/then/_2/concat, cond/then/_2/concat, cond/then/_2/concat, cond/then/_2/concat, cond/then/_2/concat, cond/then/_2/concat, cond/then/_2/Const)\n",
      "2022-08-19 13:05:27.771008: W tensorflow/core/graph/graph_constructor.cc:1075] End of cycle\n",
      "2022-08-19 13:05:27.771011: W tensorflow/core/graph/graph_constructor.cc:1070] Cycle detected:\n",
      "2022-08-19 13:05:27.771015: W tensorflow/core/graph/graph_constructor.cc:1072] {{node cond/then/_2/concat}} = ConcatV2[N=25, T=DT_STRING, Tidx=DT_INT32, _device=\"/job:localhost/replica:0/task:0/device:CPU:0\"](cond/features_5/_7:1, cond/then/_2/concat, cond/then/_2/concat, cond/then/_2/concat, cond/then/_2/concat, cond/then/_2/concat, cond/then/_2/concat, cond/then/_2/concat, cond/then/_2/concat, cond/then/_2/concat, cond/then/_2/concat, cond/then/_2/concat, cond/then/_2/concat, cond/then/_2/concat, cond/then/_2/concat, cond/then/_2/concat, cond/then/_2/concat, cond/then/_2/concat, cond/then/_2/concat, cond/then/_2/concat, cond/then/_2/concat, cond/then/_2/concat, cond/then/_2/concat, cond/then/_2/concat, cond/then/_2/concat, cond/then/_2/Const)\n",
      "2022-08-19 13:05:27.771020: W tensorflow/core/graph/graph_constructor.cc:1075] End of cycle\n",
      "2022-08-19 13:05:27.771022: W tensorflow/core/graph/graph_constructor.cc:1070] Cycle detected:\n",
      "2022-08-19 13:05:27.771160: W tensorflow/core/graph/graph_constructor.cc:1072] {{node cond/then/_2/concat}} = ConcatV2[N=25, T=DT_STRING, Tidx=DT_INT32, _device=\"/job:localhost/replica:0/task:0/device:CPU:0\"](cond/features_5/_7:1, cond/then/_2/concat, cond/then/_2/concat, cond/then/_2/concat, cond/then/_2/concat, cond/then/_2/concat, cond/then/_2/concat, cond/then/_2/concat, cond/then/_2/concat, cond/then/_2/concat, cond/then/_2/concat, cond/then/_2/concat, cond/then/_2/concat, cond/then/_2/concat, cond/then/_2/concat, cond/then/_2/concat, cond/then/_2/concat, cond/then/_2/concat, cond/then/_2/concat, cond/then/_2/concat, cond/then/_2/concat, cond/then/_2/concat, cond/then/_2/concat, cond/then/_2/concat, cond/then/_2/concat, cond/then/_2/Const)\n",
      "2022-08-19 13:05:27.771167: W tensorflow/core/graph/graph_constructor.cc:1075] End of cycle\n",
      "2022-08-19 13:05:27.771170: W tensorflow/core/graph/graph_constructor.cc:1070] Cycle detected:\n",
      "2022-08-19 13:05:27.771175: W tensorflow/core/graph/graph_constructor.cc:1072] {{node cond/then/_2/concat}} = ConcatV2[N=25, T=DT_STRING, Tidx=DT_INT32, _device=\"/job:localhost/replica:0/task:0/device:CPU:0\"](cond/features_5/_7:1, cond/then/_2/concat, cond/then/_2/concat, cond/then/_2/concat, cond/then/_2/concat, cond/then/_2/concat, cond/then/_2/concat, cond/then/_2/concat, cond/then/_2/concat, cond/then/_2/concat, cond/then/_2/concat, cond/then/_2/concat, cond/then/_2/concat, cond/then/_2/concat, cond/then/_2/concat, cond/then/_2/concat, cond/then/_2/concat, cond/then/_2/concat, cond/then/_2/concat, cond/then/_2/concat, cond/then/_2/concat, cond/then/_2/concat, cond/then/_2/concat, cond/then/_2/concat, cond/then/_2/concat, cond/then/_2/Const)\n",
      "2022-08-19 13:05:27.771378: W tensorflow/core/graph/graph_constructor.cc:1075] End of cycle\n",
      "2022-08-19 13:05:27.771384: W tensorflow/core/graph/graph_constructor.cc:1070] Cycle detected:\n",
      "2022-08-19 13:05:27.771392: W tensorflow/core/graph/graph_constructor.cc:1072] {{node cond/then/_2/concat}} = ConcatV2[N=25, T=DT_STRING, Tidx=DT_INT32, _device=\"/job:localhost/replica:0/task:0/device:CPU:0\"](cond/features_5/_7:1, cond/then/_2/concat, cond/then/_2/concat, cond/then/_2/concat, cond/then/_2/concat, cond/then/_2/concat, cond/then/_2/concat, cond/then/_2/concat, cond/then/_2/concat, cond/then/_2/concat, cond/then/_2/concat, cond/then/_2/concat, cond/then/_2/concat, cond/then/_2/concat, cond/then/_2/concat, cond/then/_2/concat, cond/then/_2/concat, cond/then/_2/concat, cond/then/_2/concat, cond/then/_2/concat, cond/then/_2/concat, cond/then/_2/concat, cond/then/_2/concat, cond/then/_2/concat, cond/then/_2/concat, cond/then/_2/Const)\n",
      "2022-08-19 13:05:27.771396: W tensorflow/core/graph/graph_constructor.cc:1075] End of cycle\n",
      "2022-08-19 13:05:27.771526: W tensorflow/core/graph/graph_constructor.cc:1070] Cycle detected:\n",
      "2022-08-19 13:05:27.771531: W tensorflow/core/graph/graph_constructor.cc:1072] {{node cond/then/_2/concat}} = ConcatV2[N=25, T=DT_STRING, Tidx=DT_INT32, _device=\"/job:localhost/replica:0/task:0/device:CPU:0\"](cond/features_5/_7:1, cond/then/_2/concat, cond/then/_2/concat, cond/then/_2/concat, cond/then/_2/concat, cond/then/_2/concat, cond/then/_2/concat, cond/then/_2/concat, cond/then/_2/concat, cond/then/_2/concat, cond/then/_2/concat, cond/then/_2/concat, cond/then/_2/concat, cond/then/_2/concat, cond/then/_2/concat, cond/then/_2/concat, cond/then/_2/concat, cond/then/_2/concat, cond/then/_2/concat, cond/then/_2/concat, cond/then/_2/concat, cond/then/_2/concat, cond/then/_2/concat, cond/then/_2/concat, cond/then/_2/concat, cond/then/_2/Const)\n",
      "2022-08-19 13:05:27.771536: W tensorflow/core/graph/graph_constructor.cc:1075] End of cycle\n",
      "2022-08-19 13:05:27.771538: W tensorflow/core/graph/graph_constructor.cc:1070] Cycle detected:\n",
      "2022-08-19 13:05:27.771543: W tensorflow/core/graph/graph_constructor.cc:1072] {{node cond/then/_2/concat}} = ConcatV2[N=25, T=DT_STRING, Tidx=DT_INT32, _device=\"/job:localhost/replica:0/task:0/device:CPU:0\"](cond/features_5/_7:1, cond/then/_2/concat, cond/then/_2/concat, cond/then/_2/concat, cond/then/_2/concat, cond/then/_2/concat, cond/then/_2/concat, cond/then/_2/concat, cond/then/_2/concat, cond/then/_2/concat, cond/then/_2/concat, cond/then/_2/concat, cond/then/_2/concat, cond/then/_2/concat, cond/then/_2/concat, cond/then/_2/concat, cond/then/_2/concat, cond/then/_2/concat, cond/then/_2/concat, cond/then/_2/concat, cond/then/_2/concat, cond/then/_2/concat, cond/then/_2/concat, cond/then/_2/concat, cond/then/_2/concat, cond/then/_2/Const)\n",
      "2022-08-19 13:05:27.771547: W tensorflow/core/graph/graph_constructor.cc:1075] End of cycle\n",
      "2022-08-19 13:05:27.771549: W tensorflow/core/graph/graph_constructor.cc:1070] Cycle detected:\n",
      "2022-08-19 13:05:27.771554: W tensorflow/core/graph/graph_constructor.cc:1072] {{node cond/then/_2/concat}} = ConcatV2[N=25, T=DT_STRING, Tidx=DT_INT32, _device=\"/job:localhost/replica:0/task:0/device:CPU:0\"](cond/features_5/_7:1, cond/then/_2/concat, cond/then/_2/concat, cond/then/_2/concat, cond/then/_2/concat, cond/then/_2/concat, cond/then/_2/concat, cond/then/_2/concat, cond/then/_2/concat, cond/then/_2/concat, cond/then/_2/concat, cond/then/_2/concat, cond/then/_2/concat, cond/then/_2/concat, cond/then/_2/concat, cond/then/_2/concat, cond/then/_2/concat, cond/then/_2/concat, cond/then/_2/concat, cond/then/_2/concat, cond/then/_2/concat, cond/then/_2/concat, cond/then/_2/concat, cond/then/_2/concat, cond/then/_2/concat, cond/then/_2/Const)\n",
      "2022-08-19 13:05:27.771687: W tensorflow/core/graph/graph_constructor.cc:1075] End of cycle\n",
      "2022-08-19 13:05:27.771690: W tensorflow/core/graph/graph_constructor.cc:1070] Cycle detected:\n",
      "2022-08-19 13:05:27.771695: W tensorflow/core/graph/graph_constructor.cc:1072] {{node cond/then/_2/concat}} = ConcatV2[N=25, T=DT_STRING, Tidx=DT_INT32, _device=\"/job:localhost/replica:0/task:0/device:CPU:0\"](cond/features_5/_7:1, cond/then/_2/concat, cond/then/_2/concat, cond/then/_2/concat, cond/then/_2/concat, cond/then/_2/concat, cond/then/_2/concat, cond/then/_2/concat, cond/then/_2/concat, cond/then/_2/concat, cond/then/_2/concat, cond/then/_2/concat, cond/then/_2/concat, cond/then/_2/concat, cond/then/_2/concat, cond/then/_2/concat, cond/then/_2/concat, cond/then/_2/concat, cond/then/_2/concat, cond/then/_2/concat, cond/then/_2/concat, cond/then/_2/concat, cond/then/_2/concat, cond/then/_2/concat, cond/then/_2/concat, cond/then/_2/Const)\n",
      "2022-08-19 13:05:27.771699: W tensorflow/core/graph/graph_constructor.cc:1075] End of cycle\n",
      "2022-08-19 13:05:27.771702: W tensorflow/core/graph/graph_constructor.cc:1070] Cycle detected:\n",
      "2022-08-19 13:05:27.771707: W tensorflow/core/graph/graph_constructor.cc:1072] {{node cond/then/_2/concat}} = ConcatV2[N=25, T=DT_STRING, Tidx=DT_INT32, _device=\"/job:localhost/replica:0/task:0/device:CPU:0\"](cond/features_5/_7:1, cond/then/_2/concat, cond/then/_2/concat, cond/then/_2/concat, cond/then/_2/concat, cond/then/_2/concat, cond/then/_2/concat, cond/then/_2/concat, cond/then/_2/concat, cond/then/_2/concat, cond/then/_2/concat, cond/then/_2/concat, cond/then/_2/concat, cond/then/_2/concat, cond/then/_2/concat, cond/then/_2/concat, cond/then/_2/concat, cond/then/_2/concat, cond/then/_2/concat, cond/then/_2/concat, cond/then/_2/concat, cond/then/_2/concat, cond/then/_2/concat, cond/then/_2/concat, cond/then/_2/concat, cond/then/_2/Const)\n",
      "2022-08-19 13:05:27.771848: W tensorflow/core/graph/graph_constructor.cc:1075] End of cycle\n",
      "2022-08-19 13:05:27.771854: W tensorflow/core/graph/graph_constructor.cc:1070] Cycle detected:\n",
      "2022-08-19 13:05:27.771862: W tensorflow/core/graph/graph_constructor.cc:1072] {{node cond/then/_2/concat}} = ConcatV2[N=25, T=DT_STRING, Tidx=DT_INT32, _device=\"/job:localhost/replica:0/task:0/device:CPU:0\"](cond/features_5/_7:1, cond/then/_2/concat, cond/then/_2/concat, cond/then/_2/concat, cond/then/_2/concat, cond/then/_2/concat, cond/then/_2/concat, cond/then/_2/concat, cond/then/_2/concat, cond/then/_2/concat, cond/then/_2/concat, cond/then/_2/concat, cond/then/_2/concat, cond/then/_2/concat, cond/then/_2/concat, cond/then/_2/concat, cond/then/_2/concat, cond/then/_2/concat, cond/then/_2/concat, cond/then/_2/concat, cond/then/_2/concat, cond/then/_2/concat, cond/then/_2/concat, cond/then/_2/concat, cond/then/_2/concat, cond/then/_2/Const)\n",
      "2022-08-19 13:05:27.771986: W tensorflow/core/graph/graph_constructor.cc:1075] End of cycle\n",
      "2022-08-19 13:05:27.771989: W tensorflow/core/graph/graph_constructor.cc:1070] Cycle detected:\n",
      "2022-08-19 13:05:27.771995: W tensorflow/core/graph/graph_constructor.cc:1072] {{node cond/then/_2/concat}} = ConcatV2[N=25, T=DT_STRING, Tidx=DT_INT32, _device=\"/job:localhost/replica:0/task:0/device:CPU:0\"](cond/features_5/_7:1, cond/then/_2/concat, cond/then/_2/concat, cond/then/_2/concat, cond/then/_2/concat, cond/then/_2/concat, cond/then/_2/concat, cond/then/_2/concat, cond/then/_2/concat, cond/then/_2/concat, cond/then/_2/concat, cond/then/_2/concat, cond/then/_2/concat, cond/then/_2/concat, cond/then/_2/concat, cond/then/_2/concat, cond/then/_2/concat, cond/then/_2/concat, cond/then/_2/concat, cond/then/_2/concat, cond/then/_2/concat, cond/then/_2/concat, cond/then/_2/concat, cond/then/_2/concat, cond/then/_2/concat, cond/then/_2/Const)\n",
      "2022-08-19 13:05:27.771999: W tensorflow/core/graph/graph_constructor.cc:1075] End of cycle\n",
      "2022-08-19 13:05:27.772002: W tensorflow/core/graph/graph_constructor.cc:1070] Cycle detected:\n",
      "2022-08-19 13:05:27.772007: W tensorflow/core/graph/graph_constructor.cc:1072] {{node cond/then/_2/concat}} = ConcatV2[N=25, T=DT_STRING, Tidx=DT_INT32, _device=\"/job:localhost/replica:0/task:0/device:CPU:0\"](cond/features_5/_7:1, cond/then/_2/concat, cond/then/_2/concat, cond/then/_2/concat, cond/then/_2/concat, cond/then/_2/concat, cond/then/_2/concat, cond/then/_2/concat, cond/then/_2/concat, cond/then/_2/concat, cond/then/_2/concat, cond/then/_2/concat, cond/then/_2/concat, cond/then/_2/concat, cond/then/_2/concat, cond/then/_2/concat, cond/then/_2/concat, cond/then/_2/concat, cond/then/_2/concat, cond/then/_2/concat, cond/then/_2/concat, cond/then/_2/concat, cond/then/_2/concat, cond/then/_2/concat, cond/then/_2/concat, cond/then/_2/Const)\n",
      "2022-08-19 13:05:27.772152: W tensorflow/core/graph/graph_constructor.cc:1075] End of cycle\n",
      "2022-08-19 13:05:27.772156: W tensorflow/core/graph/graph_constructor.cc:1070] Cycle detected:\n",
      "2022-08-19 13:05:27.772161: W tensorflow/core/graph/graph_constructor.cc:1072] {{node cond/then/_2/concat}} = ConcatV2[N=25, T=DT_STRING, Tidx=DT_INT32, _device=\"/job:localhost/replica:0/task:0/device:CPU:0\"](cond/features_5/_7:1, cond/then/_2/concat, cond/then/_2/concat, cond/then/_2/concat, cond/then/_2/concat, cond/then/_2/concat, cond/then/_2/concat, cond/then/_2/concat, cond/then/_2/concat, cond/then/_2/concat, cond/then/_2/concat, cond/then/_2/concat, cond/then/_2/concat, cond/then/_2/concat, cond/then/_2/concat, cond/then/_2/concat, cond/then/_2/concat, cond/then/_2/concat, cond/then/_2/concat, cond/then/_2/concat, cond/then/_2/concat, cond/then/_2/concat, cond/then/_2/concat, cond/then/_2/concat, cond/then/_2/concat, cond/then/_2/Const)\n",
      "2022-08-19 13:05:27.772165: W tensorflow/core/graph/graph_constructor.cc:1075] End of cycle\n",
      "2022-08-19 13:05:27.772168: W tensorflow/core/graph/graph_constructor.cc:1070] Cycle detected:\n",
      "2022-08-19 13:05:27.772173: W tensorflow/core/graph/graph_constructor.cc:1072] {{node cond/then/_2/concat}} = ConcatV2[N=25, T=DT_STRING, Tidx=DT_INT32, _device=\"/job:localhost/replica:0/task:0/device:CPU:0\"](cond/features_5/_7:1, cond/then/_2/concat, cond/then/_2/concat, cond/then/_2/concat, cond/then/_2/concat, cond/then/_2/concat, cond/then/_2/concat, cond/then/_2/concat, cond/then/_2/concat, cond/then/_2/concat, cond/then/_2/concat, cond/then/_2/concat, cond/then/_2/concat, cond/then/_2/concat, cond/then/_2/concat, cond/then/_2/concat, cond/then/_2/concat, cond/then/_2/concat, cond/then/_2/concat, cond/then/_2/concat, cond/then/_2/concat, cond/then/_2/concat, cond/then/_2/concat, cond/then/_2/concat, cond/then/_2/concat, cond/then/_2/Const)\n",
      "2022-08-19 13:05:27.772323: W tensorflow/core/graph/graph_constructor.cc:1075] End of cycle\n",
      "2022-08-19 13:05:27.772329: W tensorflow/core/graph/graph_constructor.cc:1070] Cycle detected:\n",
      "2022-08-19 13:05:27.772355: W tensorflow/core/graph/graph_constructor.cc:1072] {{node cond/then/_2/concat}} = ConcatV2[N=25, T=DT_STRING, Tidx=DT_INT32, _device=\"/job:localhost/replica:0/task:0/device:CPU:0\"](cond/features_5/_7:1, cond/then/_2/concat, cond/then/_2/concat, cond/then/_2/concat, cond/then/_2/concat, cond/then/_2/concat, cond/then/_2/concat, cond/then/_2/concat, cond/then/_2/concat, cond/then/_2/concat, cond/then/_2/concat, cond/then/_2/concat, cond/then/_2/concat, cond/then/_2/concat, cond/then/_2/concat, cond/then/_2/concat, cond/then/_2/concat, cond/then/_2/concat, cond/then/_2/concat, cond/then/_2/concat, cond/then/_2/concat, cond/then/_2/concat, cond/then/_2/concat, cond/then/_2/concat, cond/then/_2/concat, cond/then/_2/Const)\n",
      "2022-08-19 13:05:27.772360: W tensorflow/core/graph/graph_constructor.cc:1075] End of cycle\n",
      "2022-08-19 13:05:27.772464: W tensorflow/core/graph/graph_constructor.cc:1070] Cycle detected:\n",
      "2022-08-19 13:05:27.772478: W tensorflow/core/graph/graph_constructor.cc:1072] {{node cond/then/_2/concat}} = ConcatV2[N=25, T=DT_STRING, Tidx=DT_INT32, _device=\"/job:localhost/replica:0/task:0/device:CPU:0\"](cond/features_5/_7:1, cond/then/_2/concat, cond/then/_2/concat, cond/then/_2/concat, cond/then/_2/concat, cond/then/_2/concat, cond/then/_2/concat, cond/then/_2/concat, cond/then/_2/concat, cond/then/_2/concat, cond/then/_2/concat, cond/then/_2/concat, cond/then/_2/concat, cond/then/_2/concat, cond/then/_2/concat, cond/then/_2/concat, cond/then/_2/concat, cond/then/_2/concat, cond/then/_2/concat, cond/then/_2/concat, cond/then/_2/concat, cond/then/_2/concat, cond/then/_2/concat, cond/then/_2/concat, cond/then/_2/concat, cond/then/_2/Const)\n",
      "2022-08-19 13:05:27.772484: W tensorflow/core/graph/graph_constructor.cc:1075] End of cycle\n",
      "2022-08-19 13:05:27.772486: W tensorflow/core/graph/graph_constructor.cc:1070] Cycle detected:\n",
      "2022-08-19 13:05:27.772606: W tensorflow/core/graph/graph_constructor.cc:1072] {{node cond/then/_2/concat}} = ConcatV2[N=25, T=DT_STRING, Tidx=DT_INT32, _device=\"/job:localhost/replica:0/task:0/device:CPU:0\"](cond/features_5/_7:1, cond/then/_2/concat, cond/then/_2/concat, cond/then/_2/concat, cond/then/_2/concat, cond/then/_2/concat, cond/then/_2/concat, cond/then/_2/concat, cond/then/_2/concat, cond/then/_2/concat, cond/then/_2/concat, cond/then/_2/concat, cond/then/_2/concat, cond/then/_2/concat, cond/then/_2/concat, cond/then/_2/concat, cond/then/_2/concat, cond/then/_2/concat, cond/then/_2/concat, cond/then/_2/concat, cond/then/_2/concat, cond/then/_2/concat, cond/then/_2/concat, cond/then/_2/concat, cond/then/_2/concat, cond/then/_2/Const)\n",
      "2022-08-19 13:05:27.772614: W tensorflow/core/graph/graph_constructor.cc:1075] End of cycle\n",
      "2022-08-19 13:05:27.772617: W tensorflow/core/graph/graph_constructor.cc:1070] Cycle detected:\n",
      "2022-08-19 13:05:27.772622: W tensorflow/core/graph/graph_constructor.cc:1072] {{node cond/then/_2/concat}} = ConcatV2[N=25, T=DT_STRING, Tidx=DT_INT32, _device=\"/job:localhost/replica:0/task:0/device:CPU:0\"](cond/features_5/_7:1, cond/then/_2/concat, cond/then/_2/concat, cond/then/_2/concat, cond/then/_2/concat, cond/then/_2/concat, cond/then/_2/concat, cond/then/_2/concat, cond/then/_2/concat, cond/then/_2/concat, cond/then/_2/concat, cond/then/_2/concat, cond/then/_2/concat, cond/then/_2/concat, cond/then/_2/concat, cond/then/_2/concat, cond/then/_2/concat, cond/then/_2/concat, cond/then/_2/concat, cond/then/_2/concat, cond/then/_2/concat, cond/then/_2/concat, cond/then/_2/concat, cond/then/_2/concat, cond/then/_2/concat, cond/then/_2/Const)\n",
      "2022-08-19 13:05:27.772752: W tensorflow/core/graph/graph_constructor.cc:1075] End of cycle\n",
      "2022-08-19 13:05:27.772757: W tensorflow/core/graph/graph_constructor.cc:1070] Cycle detected:\n",
      "2022-08-19 13:05:27.772765: W tensorflow/core/graph/graph_constructor.cc:1072] {{node cond/then/_2/concat}} = ConcatV2[N=25, T=DT_STRING, Tidx=DT_INT32, _device=\"/job:localhost/replica:0/task:0/device:CPU:0\"](cond/features_5/_7:1, cond/then/_2/concat, cond/then/_2/concat, cond/then/_2/concat, cond/then/_2/concat, cond/then/_2/concat, cond/then/_2/concat, cond/then/_2/concat, cond/then/_2/concat, cond/then/_2/concat, cond/then/_2/concat, cond/then/_2/concat, cond/then/_2/concat, cond/then/_2/concat, cond/then/_2/concat, cond/then/_2/concat, cond/then/_2/concat, cond/then/_2/concat, cond/then/_2/concat, cond/then/_2/concat, cond/then/_2/concat, cond/then/_2/concat, cond/then/_2/concat, cond/then/_2/concat, cond/then/_2/concat, cond/then/_2/Const)\n",
      "2022-08-19 13:05:27.772770: W tensorflow/core/graph/graph_constructor.cc:1075] End of cycle\n",
      "2022-08-19 13:05:27.772892: W tensorflow/core/graph/graph_constructor.cc:1070] Cycle detected:\n",
      "2022-08-19 13:05:27.772904: W tensorflow/core/graph/graph_constructor.cc:1072] {{node cond/then/_2/concat}} = ConcatV2[N=25, T=DT_STRING, Tidx=DT_INT32, _device=\"/job:localhost/replica:0/task:0/device:CPU:0\"](cond/features_5/_7:1, cond/then/_2/concat, cond/then/_2/concat, cond/then/_2/concat, cond/then/_2/concat, cond/then/_2/concat, cond/then/_2/concat, cond/then/_2/concat, cond/then/_2/concat, cond/then/_2/concat, cond/then/_2/concat, cond/then/_2/concat, cond/then/_2/concat, cond/then/_2/concat, cond/then/_2/concat, cond/then/_2/concat, cond/then/_2/concat, cond/then/_2/concat, cond/then/_2/concat, cond/then/_2/concat, cond/then/_2/concat, cond/then/_2/concat, cond/then/_2/concat, cond/then/_2/concat, cond/then/_2/concat, cond/then/_2/Const)\n",
      "2022-08-19 13:05:27.772909: W tensorflow/core/graph/graph_constructor.cc:1075] End of cycle\n",
      "2022-08-19 13:05:27.773852: E tensorflow/core/grappler/optimizers/meta_optimizer.cc:502] function_optimizer failed: Invalid argument: 36 nodes in a cycle\n"
     ]
    },
    {
     "name": "stdout",
     "output_type": "stream",
     "text": [
      "2022-08-19 13:05:27.786986: E tensorflow/core/grappler/optimizers/meta_optimizer.cc:502] remapper failed: Invalid argument: MutableGraphView::MutableGraphView error: node 'cond_4/then/_54/concat' has self cycle fanin 'cond_4/then/_54/concat'.\n",
      "2022-08-19 13:05:27.789266: E tensorflow/core/grappler/optimizers/meta_optimizer.cc:502] arithmetic_optimizer failed: Invalid argument: The graph couldn't be sorted in topological order.\n",
      "2022-08-19 13:05:27.791024: E tensorflow/core/grappler/optimizers/dependency_optimizer.cc:697] Iteration = 0, topological sort failed with message: The graph couldn't be sorted in topological order.\n",
      "2022-08-19 13:05:27.792559: E tensorflow/core/grappler/optimizers/dependency_optimizer.cc:697] Iteration = 1, topological sort failed with message: The graph couldn't be sorted in topological order.\n",
      "2022-08-19 13:05:27.798265: W tensorflow/core/common_runtime/process_function_library_runtime.cc:675] Ignoring multi-device function optimization failure: Invalid argument: The graph couldn't be sorted in topological order.\n",
      "INFO: 2022-08-19 13:05:28.191 \n",
      "Model predictions written to -> ../logs/explain_demo_2022/activate_demo/model_predictions.csv\n",
      "INFO: 2022-08-19 13:06:09.323 \n",
      "Final model saved to : ../models/explain_demo_2022/activate_demo/final\n",
      "INFO: 2022-08-19 13:06:09.327 \n",
      "Directory deleted : ../ml4ir/applications/ranking/tests/data/csv/tfrecord\n",
      "INFO: 2022-08-19 13:06:09.327 \n",
      "Running post-training step.\n",
      "INFO: 2022-08-19 13:06:09.327 \n",
      "Post-training step done.\n",
      "INFO: 2022-08-19 13:06:09.327 \n",
      "Done! Elapsed time: 00:01:21\n"
     ]
    }
   ],
   "source": [
    "!python ../ml4ir/applications/ranking/pipeline.py \\\n",
    "--data_format csv \\\n",
    "--data_dir ../ml4ir/applications/ranking/tests/data/csv \\\n",
    "--feature_config configs/activate_2020/feature_config.yaml \\\n",
    "--model_config configs/activate_2020/model_config.yaml \\\n",
    "--execution_mode train_inference_evaluate \\\n",
    "--loss_key softmax_cross_entropy \\\n",
    "--num_epochs 3 \\\n",
    "--models_dir ../models/explain_demo_2022 \\\n",
    "--logs_dir ../logs/explain_demo_2022 \\\n",
    "--run_id activate_demo"
   ]
  },
  {
   "cell_type": "markdown",
   "metadata": {},
   "source": [
    "## Now, the model is saved and ready for inference"
   ]
  },
  {
   "cell_type": "code",
   "execution_count": 39,
   "metadata": {},
   "outputs": [],
   "source": [
    "MODEL_DIR = '../models/explain_demo_2022/activate_demo'"
   ]
  },
  {
   "cell_type": "code",
   "execution_count": 40,
   "metadata": {},
   "outputs": [],
   "source": [
    "import logging\n",
    "import tensorflow as tf\n",
    "import os\n",
    "from ml4ir.base.io.local_io import LocalIO\n",
    "from ml4ir.base.io.file_io import FileIO\n",
    "from ml4ir.base.features.feature_config import FeatureConfig, SequenceExampleFeatureConfig\n",
    "from ml4ir.base.model.relevance_model import RelevanceModel"
   ]
  },
  {
   "cell_type": "code",
   "execution_count": 41,
   "metadata": {},
   "outputs": [
    {
     "name": "stdout",
     "output_type": "stream",
     "text": [
      "Training features\n",
      "-----------------\n",
      "text_match_score\n",
      "page_views_score\n",
      "quality_score\n",
      "query_text\n",
      "domain_name\n",
      "text_match_score\n",
      "page_views_score\n",
      "quality_score\n",
      "query_text\n",
      "domain_name\n"
     ]
    }
   ],
   "source": [
    "# Set up file I/O handler\n",
    "file_io : FileIO = LocalIO()\n",
    "    \n",
    "\n",
    "# Set up logger\n",
    "logger = logging.getLogger()\n",
    "\n",
    "tf.get_logger().setLevel(\"INFO\")\n",
    "tf.autograph.set_verbosity(3)\n",
    "os.environ['TF_CPP_MIN_LOG_LEVEL'] = '3'\n",
    "\n",
    "feature_config: SequenceExampleFeatureConfig = FeatureConfig.get_instance(\n",
    "    tfrecord_type=TFRecordTypeKey.SEQUENCE_EXAMPLE,\n",
    "    feature_config_dict=file_io.read_yaml(\"configs/activate_2020/feature_config.yaml\"),\n",
    "    logger=logger)\n",
    "print(\"Training features\\n-----------------\")\n",
    "print(\"\\n\".join(feature_config.get_train_features(key=\"name\")))"
   ]
  },
  {
   "cell_type": "markdown",
   "metadata": {},
   "source": [
    "### Sanity check"
   ]
  },
  {
   "cell_type": "code",
   "execution_count": 42,
   "metadata": {},
   "outputs": [
    {
     "name": "stderr",
     "output_type": "stream",
     "text": [
      "Retraining is not yet supported. Model is loaded with compile=False\n"
     ]
    }
   ],
   "source": [
    "from ml4ir.base.config.keys import TFRecordTypeKey\n",
    "from ml4ir.base.model.relevance_model import RelevanceModel\n",
    "\n",
    "relevance_model = RelevanceModel(\n",
    "    feature_config=feature_config,\n",
    "    tfrecord_type=TFRecordTypeKey.EXAMPLE,\n",
    "    model_file=os.path.join(MODEL_DIR, 'final/default/'),\n",
    "    logger=logger,\n",
    "    output_name=\"relevance_score\",\n",
    "    file_io=file_io\n",
    ")\n",
    "\n",
    "logger.info(\"Is Keras model? {}\".format(isinstance(relevance_model.model, tf.keras.Model)))\n",
    "logger.info(\"Is compiled? {}\".format(relevance_model.is_compiled))"
   ]
  },
  {
   "cell_type": "code",
   "execution_count": 7,
   "metadata": {},
   "outputs": [],
   "source": [
    "from tensorflow.keras import models as kmodels\n",
    "from tensorflow import data\n",
    "\n",
    "model = kmodels.load_model(\n",
    "    os.path.join(MODEL_DIR, 'final/tfrecord/'),\n",
    "    compile=False)\n",
    "infer_fn = model.signatures[\"serving_tfrecord\"]"
   ]
  },
  {
   "cell_type": "code",
   "execution_count": 44,
   "metadata": {},
   "outputs": [],
   "source": [
    "from ml4ir.base.data.tfrecord_helper import get_sequence_example_proto\n",
    "\n",
    "def predict(features_df):\n",
    "    features_df[\"query_text\"] = features_df[\"query_text\"].fillna(\"\")\n",
    "    features_df = (features_df.copy()\n",
    "                              .rename(columns={\n",
    "                                  feature[\"serving_info\"][\"name\"]: feature[\"name\"] for feature in\n",
    "                                  feature_config.context_features + feature_config.sequence_features\n",
    "                              }))\n",
    "    #print(features_df)\n",
    "    context_feature_names = [feature[\"name\"] for feature in feature_config.context_features]\n",
    "    protos = features_df.groupby([\"query_id\",\"query_text\"]).apply(lambda g: get_sequence_example_proto(\n",
    "            group=g,\n",
    "            context_features=feature_config.context_features,\n",
    "            sequence_features=feature_config.sequence_features,\n",
    "        ))\n",
    "\n",
    "\n",
    " \n",
    "    # Score the proto with the model\n",
    "    ranking_scores = protos.apply(lambda se: infer_fn(\n",
    "        tf.expand_dims(\n",
    "            tf.constant(se.SerializeToString()),\n",
    "            axis=-1))[\"ranking_score\"].numpy()[0])\n",
    "         # Check parity of scores\n",
    "    predicted_scores = (ranking_scores.reset_index(name=\"ranking_score\")\n",
    "                        .set_index(\"query_id\")\n",
    "                        .squeeze())\n",
    "    return predicted_scores[\"ranking_score\"]"
   ]
  },
  {
   "cell_type": "markdown",
   "metadata": {},
   "source": [
    "### Let's look at one of the queries"
   ]
  },
  {
   "cell_type": "code",
   "execution_count": 45,
   "metadata": {},
   "outputs": [
    {
     "data": {
      "text/html": [
       "<div>\n",
       "<style scoped>\n",
       "    .dataframe tbody tr th:only-of-type {\n",
       "        vertical-align: middle;\n",
       "    }\n",
       "\n",
       "    .dataframe tbody tr th {\n",
       "        vertical-align: top;\n",
       "    }\n",
       "\n",
       "    .dataframe thead th {\n",
       "        text-align: right;\n",
       "    }\n",
       "</style>\n",
       "<table border=\"1\" class=\"dataframe\">\n",
       "  <thead>\n",
       "    <tr style=\"text-align: right;\">\n",
       "      <th></th>\n",
       "      <th>query_id</th>\n",
       "      <th>query_text</th>\n",
       "      <th>rank</th>\n",
       "      <th>text_match_score</th>\n",
       "      <th>page_views_score</th>\n",
       "      <th>quality_score</th>\n",
       "      <th>clicked</th>\n",
       "      <th>domain_id</th>\n",
       "      <th>domain_name</th>\n",
       "      <th>name_match</th>\n",
       "    </tr>\n",
       "  </thead>\n",
       "  <tbody>\n",
       "    <tr>\n",
       "      <th>2</th>\n",
       "      <td>query_5</td>\n",
       "      <td>KNJNWV</td>\n",
       "      <td>6</td>\n",
       "      <td>1.368108</td>\n",
       "      <td>0.030636</td>\n",
       "      <td>0.00000</td>\n",
       "      <td>0</td>\n",
       "      <td>0</td>\n",
       "      <td>domain_0</td>\n",
       "      <td>0</td>\n",
       "    </tr>\n",
       "    <tr>\n",
       "      <th>3</th>\n",
       "      <td>query_5</td>\n",
       "      <td>KNJNWV</td>\n",
       "      <td>3</td>\n",
       "      <td>1.370628</td>\n",
       "      <td>0.041261</td>\n",
       "      <td>0.30103</td>\n",
       "      <td>0</td>\n",
       "      <td>0</td>\n",
       "      <td>domain_0</td>\n",
       "      <td>0</td>\n",
       "    </tr>\n",
       "    <tr>\n",
       "      <th>4</th>\n",
       "      <td>query_5</td>\n",
       "      <td>KNJNWV</td>\n",
       "      <td>4</td>\n",
       "      <td>1.366700</td>\n",
       "      <td>0.082535</td>\n",
       "      <td>0.30103</td>\n",
       "      <td>0</td>\n",
       "      <td>0</td>\n",
       "      <td>domain_0</td>\n",
       "      <td>0</td>\n",
       "    </tr>\n",
       "    <tr>\n",
       "      <th>5</th>\n",
       "      <td>query_5</td>\n",
       "      <td>KNJNWV</td>\n",
       "      <td>1</td>\n",
       "      <td>1.333836</td>\n",
       "      <td>0.042572</td>\n",
       "      <td>0.30103</td>\n",
       "      <td>1</td>\n",
       "      <td>0</td>\n",
       "      <td>domain_0</td>\n",
       "      <td>0</td>\n",
       "    </tr>\n",
       "    <tr>\n",
       "      <th>6</th>\n",
       "      <td>query_5</td>\n",
       "      <td>KNJNWV</td>\n",
       "      <td>5</td>\n",
       "      <td>1.325021</td>\n",
       "      <td>0.046478</td>\n",
       "      <td>0.00000</td>\n",
       "      <td>0</td>\n",
       "      <td>0</td>\n",
       "      <td>domain_0</td>\n",
       "      <td>1</td>\n",
       "    </tr>\n",
       "    <tr>\n",
       "      <th>7</th>\n",
       "      <td>query_5</td>\n",
       "      <td>KNJNWV</td>\n",
       "      <td>2</td>\n",
       "      <td>1.362720</td>\n",
       "      <td>0.042572</td>\n",
       "      <td>0.30103</td>\n",
       "      <td>0</td>\n",
       "      <td>0</td>\n",
       "      <td>domain_0</td>\n",
       "      <td>0</td>\n",
       "    </tr>\n",
       "  </tbody>\n",
       "</table>\n",
       "</div>"
      ],
      "text/plain": [
       "  query_id query_text  rank  text_match_score  page_views_score  \\\n",
       "2  query_5     KNJNWV     6          1.368108          0.030636   \n",
       "3  query_5     KNJNWV     3          1.370628          0.041261   \n",
       "4  query_5     KNJNWV     4          1.366700          0.082535   \n",
       "5  query_5     KNJNWV     1          1.333836          0.042572   \n",
       "6  query_5     KNJNWV     5          1.325021          0.046478   \n",
       "7  query_5     KNJNWV     2          1.362720          0.042572   \n",
       "\n",
       "   quality_score  clicked  domain_id domain_name  name_match  \n",
       "2        0.00000        0          0    domain_0           0  \n",
       "3        0.30103        0          0    domain_0           0  \n",
       "4        0.30103        0          0    domain_0           0  \n",
       "5        0.30103        1          0    domain_0           0  \n",
       "6        0.00000        0          0    domain_0           1  \n",
       "7        0.30103        0          0    domain_0           0  "
      ]
     },
     "execution_count": 45,
     "metadata": {},
     "output_type": "execute_result"
    }
   ],
   "source": [
    "df_train[df_train[\"query_id\"]==\"query_5\"]"
   ]
  },
  {
   "cell_type": "markdown",
   "metadata": {},
   "source": [
    "### And its corresponding model output scores"
   ]
  },
  {
   "cell_type": "code",
   "execution_count": 49,
   "metadata": {},
   "outputs": [
    {
     "data": {
      "text/plain": [
       "array([0.11998416, 0.19389412, 0.20375773, 0.17943792, 0.11195529,\n",
       "       0.1909707 ], dtype=float32)"
      ]
     },
     "execution_count": 49,
     "metadata": {},
     "output_type": "execute_result"
    }
   ],
   "source": [
    "predict(df_train[df_train[\"query_id\"]==\"query_5\"])"
   ]
  },
  {
   "cell_type": "markdown",
   "metadata": {},
   "source": [
    "### Now, let's create a Tabular instance which is a standard way to process datasets in OmniXAI"
   ]
  },
  {
   "cell_type": "code",
   "execution_count": 51,
   "metadata": {},
   "outputs": [
    {
     "data": {
      "text/html": [
       "<div>\n",
       "<style scoped>\n",
       "    .dataframe tbody tr th:only-of-type {\n",
       "        vertical-align: middle;\n",
       "    }\n",
       "\n",
       "    .dataframe tbody tr th {\n",
       "        vertical-align: top;\n",
       "    }\n",
       "\n",
       "    .dataframe thead th {\n",
       "        text-align: right;\n",
       "    }\n",
       "</style>\n",
       "<table border=\"1\" class=\"dataframe\">\n",
       "  <thead>\n",
       "    <tr style=\"text-align: right;\">\n",
       "      <th></th>\n",
       "      <th>query_id</th>\n",
       "      <th>query_text</th>\n",
       "      <th>rank</th>\n",
       "      <th>text_match_score</th>\n",
       "      <th>page_views_score</th>\n",
       "      <th>quality_score</th>\n",
       "      <th>clicked</th>\n",
       "      <th>domain_id</th>\n",
       "      <th>domain_name</th>\n",
       "      <th>name_match</th>\n",
       "    </tr>\n",
       "  </thead>\n",
       "  <tbody>\n",
       "    <tr>\n",
       "      <th>0</th>\n",
       "      <td>query_2</td>\n",
       "      <td>MHS7A7RJB1Y4BJT</td>\n",
       "      <td>2</td>\n",
       "      <td>0.473730</td>\n",
       "      <td>0.000000</td>\n",
       "      <td>0.00000</td>\n",
       "      <td>0</td>\n",
       "      <td>2</td>\n",
       "      <td>domain_2</td>\n",
       "      <td>1</td>\n",
       "    </tr>\n",
       "    <tr>\n",
       "      <th>1</th>\n",
       "      <td>query_2</td>\n",
       "      <td>MHS7A7RJB1Y4BJT</td>\n",
       "      <td>1</td>\n",
       "      <td>1.063190</td>\n",
       "      <td>0.205381</td>\n",
       "      <td>0.30103</td>\n",
       "      <td>1</td>\n",
       "      <td>2</td>\n",
       "      <td>domain_2</td>\n",
       "      <td>1</td>\n",
       "    </tr>\n",
       "    <tr>\n",
       "      <th>2</th>\n",
       "      <td>query_5</td>\n",
       "      <td>KNJNWV</td>\n",
       "      <td>6</td>\n",
       "      <td>1.368108</td>\n",
       "      <td>0.030636</td>\n",
       "      <td>0.00000</td>\n",
       "      <td>0</td>\n",
       "      <td>0</td>\n",
       "      <td>domain_0</td>\n",
       "      <td>0</td>\n",
       "    </tr>\n",
       "    <tr>\n",
       "      <th>3</th>\n",
       "      <td>query_5</td>\n",
       "      <td>KNJNWV</td>\n",
       "      <td>3</td>\n",
       "      <td>1.370628</td>\n",
       "      <td>0.041261</td>\n",
       "      <td>0.30103</td>\n",
       "      <td>0</td>\n",
       "      <td>0</td>\n",
       "      <td>domain_0</td>\n",
       "      <td>0</td>\n",
       "    </tr>\n",
       "    <tr>\n",
       "      <th>4</th>\n",
       "      <td>query_5</td>\n",
       "      <td>KNJNWV</td>\n",
       "      <td>4</td>\n",
       "      <td>1.366700</td>\n",
       "      <td>0.082535</td>\n",
       "      <td>0.30103</td>\n",
       "      <td>0</td>\n",
       "      <td>0</td>\n",
       "      <td>domain_0</td>\n",
       "      <td>0</td>\n",
       "    </tr>\n",
       "    <tr>\n",
       "      <th>...</th>\n",
       "      <td>...</td>\n",
       "      <td>...</td>\n",
       "      <td>...</td>\n",
       "      <td>...</td>\n",
       "      <td>...</td>\n",
       "      <td>...</td>\n",
       "      <td>...</td>\n",
       "      <td>...</td>\n",
       "      <td>...</td>\n",
       "      <td>...</td>\n",
       "    </tr>\n",
       "    <tr>\n",
       "      <th>5671</th>\n",
       "      <td>query_1487</td>\n",
       "      <td>QCZ4XHLN</td>\n",
       "      <td>6</td>\n",
       "      <td>0.227694</td>\n",
       "      <td>0.000000</td>\n",
       "      <td>0.00000</td>\n",
       "      <td>0</td>\n",
       "      <td>2</td>\n",
       "      <td>domain_2</td>\n",
       "      <td>0</td>\n",
       "    </tr>\n",
       "    <tr>\n",
       "      <th>5672</th>\n",
       "      <td>query_1487</td>\n",
       "      <td>QCZ4XHLN</td>\n",
       "      <td>2</td>\n",
       "      <td>1.016954</td>\n",
       "      <td>0.000000</td>\n",
       "      <td>0.00000</td>\n",
       "      <td>0</td>\n",
       "      <td>2</td>\n",
       "      <td>domain_2</td>\n",
       "      <td>1</td>\n",
       "    </tr>\n",
       "    <tr>\n",
       "      <th>5673</th>\n",
       "      <td>query_1490</td>\n",
       "      <td>WYNFF89</td>\n",
       "      <td>2</td>\n",
       "      <td>0.474600</td>\n",
       "      <td>0.190735</td>\n",
       "      <td>0.00000</td>\n",
       "      <td>0</td>\n",
       "      <td>0</td>\n",
       "      <td>domain_0</td>\n",
       "      <td>0</td>\n",
       "    </tr>\n",
       "    <tr>\n",
       "      <th>5674</th>\n",
       "      <td>query_1490</td>\n",
       "      <td>WYNFF89</td>\n",
       "      <td>1</td>\n",
       "      <td>0.620355</td>\n",
       "      <td>0.143310</td>\n",
       "      <td>0.00000</td>\n",
       "      <td>1</td>\n",
       "      <td>0</td>\n",
       "      <td>domain_0</td>\n",
       "      <td>0</td>\n",
       "    </tr>\n",
       "    <tr>\n",
       "      <th>5675</th>\n",
       "      <td>query_1490</td>\n",
       "      <td>WYNFF89</td>\n",
       "      <td>3</td>\n",
       "      <td>0.508362</td>\n",
       "      <td>0.190735</td>\n",
       "      <td>0.00000</td>\n",
       "      <td>0</td>\n",
       "      <td>0</td>\n",
       "      <td>domain_0</td>\n",
       "      <td>1</td>\n",
       "    </tr>\n",
       "  </tbody>\n",
       "</table>\n",
       "<p>5676 rows × 10 columns</p>\n",
       "</div>"
      ],
      "text/plain": [
       "        query_id       query_text  rank  text_match_score  page_views_score  \\\n",
       "0        query_2  MHS7A7RJB1Y4BJT     2          0.473730          0.000000   \n",
       "1        query_2  MHS7A7RJB1Y4BJT     1          1.063190          0.205381   \n",
       "2        query_5           KNJNWV     6          1.368108          0.030636   \n",
       "3        query_5           KNJNWV     3          1.370628          0.041261   \n",
       "4        query_5           KNJNWV     4          1.366700          0.082535   \n",
       "...          ...              ...   ...               ...               ...   \n",
       "5671  query_1487         QCZ4XHLN     6          0.227694          0.000000   \n",
       "5672  query_1487         QCZ4XHLN     2          1.016954          0.000000   \n",
       "5673  query_1490          WYNFF89     2          0.474600          0.190735   \n",
       "5674  query_1490          WYNFF89     1          0.620355          0.143310   \n",
       "5675  query_1490          WYNFF89     3          0.508362          0.190735   \n",
       "\n",
       "      quality_score  clicked  domain_id domain_name  name_match  \n",
       "0           0.00000        0          2    domain_2           1  \n",
       "1           0.30103        1          2    domain_2           1  \n",
       "2           0.00000        0          0    domain_0           0  \n",
       "3           0.30103        0          0    domain_0           0  \n",
       "4           0.30103        0          0    domain_0           0  \n",
       "...             ...      ...        ...         ...         ...  \n",
       "5671        0.00000        0          2    domain_2           0  \n",
       "5672        0.00000        0          2    domain_2           1  \n",
       "5673        0.00000        0          0    domain_0           0  \n",
       "5674        0.00000        1          0    domain_0           0  \n",
       "5675        0.00000        0          0    domain_0           1  \n",
       "\n",
       "[5676 rows x 10 columns]"
      ]
     },
     "execution_count": 51,
     "metadata": {},
     "output_type": "execute_result"
    }
   ],
   "source": [
    "from omnixai.data.tabular import Tabular\n",
    "training_data = Tabular(\n",
    "   df_train,\n",
    "   target_column='clicked',\n",
    ")\n",
    "training_data.to_pd() #The tabular instance can always be converted back to pandas DataFrame"
   ]
  },
  {
   "cell_type": "markdown",
   "metadata": {},
   "source": [
    "### Similarly for the query sample"
   ]
  },
  {
   "cell_type": "code",
   "execution_count": 48,
   "metadata": {
    "scrolled": true
   },
   "outputs": [
    {
     "data": {
      "text/html": [
       "<div>\n",
       "<style scoped>\n",
       "    .dataframe tbody tr th:only-of-type {\n",
       "        vertical-align: middle;\n",
       "    }\n",
       "\n",
       "    .dataframe tbody tr th {\n",
       "        vertical-align: top;\n",
       "    }\n",
       "\n",
       "    .dataframe thead th {\n",
       "        text-align: right;\n",
       "    }\n",
       "</style>\n",
       "<table border=\"1\" class=\"dataframe\">\n",
       "  <thead>\n",
       "    <tr style=\"text-align: right;\">\n",
       "      <th></th>\n",
       "      <th>query_id</th>\n",
       "      <th>query_text</th>\n",
       "      <th>rank</th>\n",
       "      <th>text_match_score</th>\n",
       "      <th>page_views_score</th>\n",
       "      <th>quality_score</th>\n",
       "      <th>clicked</th>\n",
       "      <th>domain_id</th>\n",
       "      <th>domain_name</th>\n",
       "      <th>name_match</th>\n",
       "    </tr>\n",
       "  </thead>\n",
       "  <tbody>\n",
       "    <tr>\n",
       "      <th>2</th>\n",
       "      <td>query_5</td>\n",
       "      <td>KNJNWV</td>\n",
       "      <td>6</td>\n",
       "      <td>1.368108</td>\n",
       "      <td>0.030636</td>\n",
       "      <td>0.00000</td>\n",
       "      <td>0</td>\n",
       "      <td>0</td>\n",
       "      <td>domain_0</td>\n",
       "      <td>0</td>\n",
       "    </tr>\n",
       "    <tr>\n",
       "      <th>3</th>\n",
       "      <td>query_5</td>\n",
       "      <td>KNJNWV</td>\n",
       "      <td>3</td>\n",
       "      <td>1.370628</td>\n",
       "      <td>0.041261</td>\n",
       "      <td>0.30103</td>\n",
       "      <td>0</td>\n",
       "      <td>0</td>\n",
       "      <td>domain_0</td>\n",
       "      <td>0</td>\n",
       "    </tr>\n",
       "    <tr>\n",
       "      <th>4</th>\n",
       "      <td>query_5</td>\n",
       "      <td>KNJNWV</td>\n",
       "      <td>4</td>\n",
       "      <td>1.366700</td>\n",
       "      <td>0.082535</td>\n",
       "      <td>0.30103</td>\n",
       "      <td>0</td>\n",
       "      <td>0</td>\n",
       "      <td>domain_0</td>\n",
       "      <td>0</td>\n",
       "    </tr>\n",
       "    <tr>\n",
       "      <th>5</th>\n",
       "      <td>query_5</td>\n",
       "      <td>KNJNWV</td>\n",
       "      <td>1</td>\n",
       "      <td>1.333836</td>\n",
       "      <td>0.042572</td>\n",
       "      <td>0.30103</td>\n",
       "      <td>1</td>\n",
       "      <td>0</td>\n",
       "      <td>domain_0</td>\n",
       "      <td>0</td>\n",
       "    </tr>\n",
       "    <tr>\n",
       "      <th>6</th>\n",
       "      <td>query_5</td>\n",
       "      <td>KNJNWV</td>\n",
       "      <td>5</td>\n",
       "      <td>1.325021</td>\n",
       "      <td>0.046478</td>\n",
       "      <td>0.00000</td>\n",
       "      <td>0</td>\n",
       "      <td>0</td>\n",
       "      <td>domain_0</td>\n",
       "      <td>1</td>\n",
       "    </tr>\n",
       "    <tr>\n",
       "      <th>7</th>\n",
       "      <td>query_5</td>\n",
       "      <td>KNJNWV</td>\n",
       "      <td>2</td>\n",
       "      <td>1.362720</td>\n",
       "      <td>0.042572</td>\n",
       "      <td>0.30103</td>\n",
       "      <td>0</td>\n",
       "      <td>0</td>\n",
       "      <td>domain_0</td>\n",
       "      <td>0</td>\n",
       "    </tr>\n",
       "  </tbody>\n",
       "</table>\n",
       "</div>"
      ],
      "text/plain": [
       "  query_id query_text  rank  text_match_score  page_views_score  \\\n",
       "2  query_5     KNJNWV     6          1.368108          0.030636   \n",
       "3  query_5     KNJNWV     3          1.370628          0.041261   \n",
       "4  query_5     KNJNWV     4          1.366700          0.082535   \n",
       "5  query_5     KNJNWV     1          1.333836          0.042572   \n",
       "6  query_5     KNJNWV     5          1.325021          0.046478   \n",
       "7  query_5     KNJNWV     2          1.362720          0.042572   \n",
       "\n",
       "   quality_score  clicked  domain_id domain_name  name_match  \n",
       "2        0.00000        0          0    domain_0           0  \n",
       "3        0.30103        0          0    domain_0           0  \n",
       "4        0.30103        0          0    domain_0           0  \n",
       "5        0.30103        1          0    domain_0           0  \n",
       "6        0.00000        0          0    domain_0           1  \n",
       "7        0.30103        0          0    domain_0           0  "
      ]
     },
     "execution_count": 48,
     "metadata": {},
     "output_type": "execute_result"
    }
   ],
   "source": [
    "sample_query = Tabular(\n",
    "    df_train[df_train[\"query_id\"]==\"query_5\"],\n",
    "    target_column='clicked',\n",
    ")\n",
    "sample_query.to_pd()"
   ]
  },
  {
   "cell_type": "markdown",
   "metadata": {},
   "source": [
    "### Define the features that you wish to analyze. These are sequence features in our case"
   ]
  },
  {
   "cell_type": "code",
   "execution_count": 52,
   "metadata": {},
   "outputs": [
    {
     "data": {
      "text/plain": [
       "['text_match_score', 'page_views_score', 'quality_score']"
      ]
     },
     "execution_count": 52,
     "metadata": {},
     "output_type": "execute_result"
    }
   ],
   "source": [
    "features = [f['name'] for f in feature_config.sequence_features if f['trainable']]\n",
    "features"
   ]
  },
  {
   "cell_type": "markdown",
   "metadata": {},
   "source": [
    "## Initialize Explainer"
   ]
  },
  {
   "cell_type": "code",
   "execution_count": 55,
   "metadata": {},
   "outputs": [],
   "source": [
    "from omnixai.explainers.ranking.agnostic.validity import ValidityRankingExplainer\n",
    "\n",
    "ranking_explainer = ValidityRankingExplainer(training_data=training_data,\n",
    "                                             features=features,\n",
    "                                             predict_function=lambda x: predict(x.to_pd()))"
   ]
  },
  {
   "cell_type": "markdown",
   "metadata": {},
   "source": [
    "## Get explanations in one call"
   ]
  },
  {
   "cell_type": "code",
   "execution_count": 56,
   "metadata": {},
   "outputs": [],
   "source": [
    "explanation = ranking_explainer.explain(sample_query, # The tabular instance to be explained\n",
    "                                        k=3 # The maximum number of features to consider as explanation\n",
    "                                       )"
   ]
  },
  {
   "cell_type": "markdown",
   "metadata": {},
   "source": [
    "### The resulting order of feature importance:"
   ]
  },
  {
   "cell_type": "code",
   "execution_count": 60,
   "metadata": {},
   "outputs": [
    {
     "data": {
      "text/plain": [
       "dict_keys(['quality_score', 'text_match_score', 'page_views_score'])"
      ]
     },
     "execution_count": 60,
     "metadata": {},
     "output_type": "execute_result"
    }
   ],
   "source": [
    "explanation.get_explanations()[\"top_features\"].keys()"
   ]
  },
  {
   "cell_type": "markdown",
   "metadata": {},
   "source": [
    "### We can determine the validity of our explanation"
   ]
  },
  {
   "cell_type": "code",
   "execution_count": 61,
   "metadata": {},
   "outputs": [
    {
     "data": {
      "text/plain": [
       "KendalltauResult(correlation=0.9999999999999999, pvalue=0.002777777777777778)"
      ]
     },
     "execution_count": 61,
     "metadata": {},
     "output_type": "execute_result"
    }
   ],
   "source": [
    "explanation.explanations['validity']['Tau']"
   ]
  },
  {
   "cell_type": "markdown",
   "metadata": {},
   "source": [
    "### Kendall Tau of 0.99 indicates that the feature importances are a valid explanation for the ranking.  <br> We can also plot the features with importance grading:"
   ]
  },
  {
   "cell_type": "code",
   "execution_count": 33,
   "metadata": {},
   "outputs": [
    {
     "data": {
      "application/vnd.plotly.v1+json": {
       "config": {
        "plotlyServerURL": "https://plot.ly"
       },
       "data": [
        {
         "colorscale": [
          [
           0,
           "rgb(247,251,255)"
          ],
          [
           0.125,
           "rgb(222,235,247)"
          ],
          [
           0.25,
           "rgb(198,219,239)"
          ],
          [
           0.375,
           "rgb(158,202,225)"
          ],
          [
           0.5,
           "rgb(107,174,214)"
          ],
          [
           0.625,
           "rgb(66,146,198)"
          ],
          [
           0.75,
           "rgb(33,113,181)"
          ],
          [
           0.875,
           "rgb(8,81,156)"
          ],
          [
           1,
           "rgb(8,48,107)"
          ]
         ],
         "hoverinfo": "none",
         "opacity": 0.75,
         "showscale": false,
         "type": "heatmap",
         "z": [
          [
           0,
           0,
           0.25,
           0.5,
           0,
           0,
           0,
           0,
           0,
           0,
           0
          ],
          [
           0,
           0,
           0.25,
           0.5,
           0,
           0,
           0,
           0,
           0,
           0,
           0
          ],
          [
           0,
           0,
           0.25,
           0.5,
           0,
           0,
           0,
           0,
           0,
           0,
           0
          ],
          [
           0,
           0,
           0.25,
           0.5,
           0,
           0,
           0,
           0,
           0,
           0,
           0
          ],
          [
           0,
           0,
           0.25,
           0.5,
           0,
           0,
           0,
           0,
           0,
           0,
           0
          ],
          [
           0,
           0,
           0.25,
           0.5,
           0,
           0,
           0,
           0,
           0,
           0,
           0
          ],
          [
           0,
           0,
           0.25,
           0.5,
           0,
           0,
           0,
           0,
           0,
           0,
           0
          ]
         ]
        }
       ],
       "layout": {
        "annotations": [
         {
          "align": "left",
          "font": {
           "color": "#000000"
          },
          "showarrow": false,
          "text": "<b>#Rank</b>",
          "x": -0.45,
          "xanchor": "left",
          "xref": "x",
          "y": 0,
          "yref": "y"
         },
         {
          "align": "left",
          "font": {
           "color": "#000000"
          },
          "showarrow": false,
          "text": "<b>quality_score</b>",
          "x": 0.55,
          "xanchor": "left",
          "xref": "x",
          "y": 0,
          "yref": "y"
         },
         {
          "align": "left",
          "font": {
           "color": "#000000"
          },
          "showarrow": false,
          "text": "<b>text_match_score</b>",
          "x": 1.55,
          "xanchor": "left",
          "xref": "x",
          "y": 0,
          "yref": "y"
         },
         {
          "align": "left",
          "font": {
           "color": "#000000"
          },
          "showarrow": false,
          "text": "<b>page_views_score</b>",
          "x": 2.55,
          "xanchor": "left",
          "xref": "x",
          "y": 0,
          "yref": "y"
         },
         {
          "align": "left",
          "font": {
           "color": "#000000"
          },
          "showarrow": false,
          "text": "<b>query_id</b>",
          "x": 3.55,
          "xanchor": "left",
          "xref": "x",
          "y": 0,
          "yref": "y"
         },
         {
          "align": "left",
          "font": {
           "color": "#000000"
          },
          "showarrow": false,
          "text": "<b>query_text</b>",
          "x": 4.55,
          "xanchor": "left",
          "xref": "x",
          "y": 0,
          "yref": "y"
         },
         {
          "align": "left",
          "font": {
           "color": "#000000"
          },
          "showarrow": false,
          "text": "<b>rank</b>",
          "x": 5.55,
          "xanchor": "left",
          "xref": "x",
          "y": 0,
          "yref": "y"
         },
         {
          "align": "left",
          "font": {
           "color": "#000000"
          },
          "showarrow": false,
          "text": "<b>clicked</b>",
          "x": 6.55,
          "xanchor": "left",
          "xref": "x",
          "y": 0,
          "yref": "y"
         },
         {
          "align": "left",
          "font": {
           "color": "#000000"
          },
          "showarrow": false,
          "text": "<b>domain_id</b>",
          "x": 7.55,
          "xanchor": "left",
          "xref": "x",
          "y": 0,
          "yref": "y"
         },
         {
          "align": "left",
          "font": {
           "color": "#000000"
          },
          "showarrow": false,
          "text": "<b>domain_name</b>",
          "x": 8.55,
          "xanchor": "left",
          "xref": "x",
          "y": 0,
          "yref": "y"
         },
         {
          "align": "left",
          "font": {
           "color": "#000000"
          },
          "showarrow": false,
          "text": "<b>name_match</b>",
          "x": 9.55,
          "xanchor": "left",
          "xref": "x",
          "y": 0,
          "yref": "y"
         },
         {
          "align": "left",
          "font": {
           "color": "#000000"
          },
          "showarrow": false,
          "text": "5",
          "x": -0.45,
          "xanchor": "left",
          "xref": "x",
          "y": 1,
          "yref": "y"
         },
         {
          "align": "left",
          "font": {
           "color": "#000000"
          },
          "showarrow": false,
          "text": "0.0",
          "x": 0.55,
          "xanchor": "left",
          "xref": "x",
          "y": 1,
          "yref": "y"
         },
         {
          "align": "left",
          "font": {
           "color": "#000000"
          },
          "showarrow": false,
          "text": "1.3681",
          "x": 1.55,
          "xanchor": "left",
          "xref": "x",
          "y": 1,
          "yref": "y"
         },
         {
          "align": "left",
          "font": {
           "color": "#000000"
          },
          "showarrow": false,
          "text": "0.0306",
          "x": 2.55,
          "xanchor": "left",
          "xref": "x",
          "y": 1,
          "yref": "y"
         },
         {
          "align": "left",
          "font": {
           "color": "#000000"
          },
          "showarrow": false,
          "text": "query_5",
          "x": 3.55,
          "xanchor": "left",
          "xref": "x",
          "y": 1,
          "yref": "y"
         },
         {
          "align": "left",
          "font": {
           "color": "#000000"
          },
          "showarrow": false,
          "text": "KNJNWV",
          "x": 4.55,
          "xanchor": "left",
          "xref": "x",
          "y": 1,
          "yref": "y"
         },
         {
          "align": "left",
          "font": {
           "color": "#000000"
          },
          "showarrow": false,
          "text": "6",
          "x": 5.55,
          "xanchor": "left",
          "xref": "x",
          "y": 1,
          "yref": "y"
         },
         {
          "align": "left",
          "font": {
           "color": "#000000"
          },
          "showarrow": false,
          "text": "0",
          "x": 6.55,
          "xanchor": "left",
          "xref": "x",
          "y": 1,
          "yref": "y"
         },
         {
          "align": "left",
          "font": {
           "color": "#000000"
          },
          "showarrow": false,
          "text": "0",
          "x": 7.55,
          "xanchor": "left",
          "xref": "x",
          "y": 1,
          "yref": "y"
         },
         {
          "align": "left",
          "font": {
           "color": "#000000"
          },
          "showarrow": false,
          "text": "domain_0",
          "x": 8.55,
          "xanchor": "left",
          "xref": "x",
          "y": 1,
          "yref": "y"
         },
         {
          "align": "left",
          "font": {
           "color": "#000000"
          },
          "showarrow": false,
          "text": "0",
          "x": 9.55,
          "xanchor": "left",
          "xref": "x",
          "y": 1,
          "yref": "y"
         },
         {
          "align": "left",
          "font": {
           "color": "#000000"
          },
          "showarrow": false,
          "text": "2",
          "x": -0.45,
          "xanchor": "left",
          "xref": "x",
          "y": 2,
          "yref": "y"
         },
         {
          "align": "left",
          "font": {
           "color": "#000000"
          },
          "showarrow": false,
          "text": "0.301",
          "x": 0.55,
          "xanchor": "left",
          "xref": "x",
          "y": 2,
          "yref": "y"
         },
         {
          "align": "left",
          "font": {
           "color": "#000000"
          },
          "showarrow": false,
          "text": "1.3706",
          "x": 1.55,
          "xanchor": "left",
          "xref": "x",
          "y": 2,
          "yref": "y"
         },
         {
          "align": "left",
          "font": {
           "color": "#000000"
          },
          "showarrow": false,
          "text": "0.0413",
          "x": 2.55,
          "xanchor": "left",
          "xref": "x",
          "y": 2,
          "yref": "y"
         },
         {
          "align": "left",
          "font": {
           "color": "#000000"
          },
          "showarrow": false,
          "text": "query_5",
          "x": 3.55,
          "xanchor": "left",
          "xref": "x",
          "y": 2,
          "yref": "y"
         },
         {
          "align": "left",
          "font": {
           "color": "#000000"
          },
          "showarrow": false,
          "text": "KNJNWV",
          "x": 4.55,
          "xanchor": "left",
          "xref": "x",
          "y": 2,
          "yref": "y"
         },
         {
          "align": "left",
          "font": {
           "color": "#000000"
          },
          "showarrow": false,
          "text": "3",
          "x": 5.55,
          "xanchor": "left",
          "xref": "x",
          "y": 2,
          "yref": "y"
         },
         {
          "align": "left",
          "font": {
           "color": "#000000"
          },
          "showarrow": false,
          "text": "0",
          "x": 6.55,
          "xanchor": "left",
          "xref": "x",
          "y": 2,
          "yref": "y"
         },
         {
          "align": "left",
          "font": {
           "color": "#000000"
          },
          "showarrow": false,
          "text": "0",
          "x": 7.55,
          "xanchor": "left",
          "xref": "x",
          "y": 2,
          "yref": "y"
         },
         {
          "align": "left",
          "font": {
           "color": "#000000"
          },
          "showarrow": false,
          "text": "domain_0",
          "x": 8.55,
          "xanchor": "left",
          "xref": "x",
          "y": 2,
          "yref": "y"
         },
         {
          "align": "left",
          "font": {
           "color": "#000000"
          },
          "showarrow": false,
          "text": "0",
          "x": 9.55,
          "xanchor": "left",
          "xref": "x",
          "y": 2,
          "yref": "y"
         },
         {
          "align": "left",
          "font": {
           "color": "#000000"
          },
          "showarrow": false,
          "text": "1",
          "x": -0.45,
          "xanchor": "left",
          "xref": "x",
          "y": 3,
          "yref": "y"
         },
         {
          "align": "left",
          "font": {
           "color": "#000000"
          },
          "showarrow": false,
          "text": "0.301",
          "x": 0.55,
          "xanchor": "left",
          "xref": "x",
          "y": 3,
          "yref": "y"
         },
         {
          "align": "left",
          "font": {
           "color": "#000000"
          },
          "showarrow": false,
          "text": "1.3667",
          "x": 1.55,
          "xanchor": "left",
          "xref": "x",
          "y": 3,
          "yref": "y"
         },
         {
          "align": "left",
          "font": {
           "color": "#000000"
          },
          "showarrow": false,
          "text": "0.0825",
          "x": 2.55,
          "xanchor": "left",
          "xref": "x",
          "y": 3,
          "yref": "y"
         },
         {
          "align": "left",
          "font": {
           "color": "#000000"
          },
          "showarrow": false,
          "text": "query_5",
          "x": 3.55,
          "xanchor": "left",
          "xref": "x",
          "y": 3,
          "yref": "y"
         },
         {
          "align": "left",
          "font": {
           "color": "#000000"
          },
          "showarrow": false,
          "text": "KNJNWV",
          "x": 4.55,
          "xanchor": "left",
          "xref": "x",
          "y": 3,
          "yref": "y"
         },
         {
          "align": "left",
          "font": {
           "color": "#000000"
          },
          "showarrow": false,
          "text": "4",
          "x": 5.55,
          "xanchor": "left",
          "xref": "x",
          "y": 3,
          "yref": "y"
         },
         {
          "align": "left",
          "font": {
           "color": "#000000"
          },
          "showarrow": false,
          "text": "0",
          "x": 6.55,
          "xanchor": "left",
          "xref": "x",
          "y": 3,
          "yref": "y"
         },
         {
          "align": "left",
          "font": {
           "color": "#000000"
          },
          "showarrow": false,
          "text": "0",
          "x": 7.55,
          "xanchor": "left",
          "xref": "x",
          "y": 3,
          "yref": "y"
         },
         {
          "align": "left",
          "font": {
           "color": "#000000"
          },
          "showarrow": false,
          "text": "domain_0",
          "x": 8.55,
          "xanchor": "left",
          "xref": "x",
          "y": 3,
          "yref": "y"
         },
         {
          "align": "left",
          "font": {
           "color": "#000000"
          },
          "showarrow": false,
          "text": "0",
          "x": 9.55,
          "xanchor": "left",
          "xref": "x",
          "y": 3,
          "yref": "y"
         },
         {
          "align": "left",
          "font": {
           "color": "#000000"
          },
          "showarrow": false,
          "text": "4",
          "x": -0.45,
          "xanchor": "left",
          "xref": "x",
          "y": 4,
          "yref": "y"
         },
         {
          "align": "left",
          "font": {
           "color": "#000000"
          },
          "showarrow": false,
          "text": "0.301",
          "x": 0.55,
          "xanchor": "left",
          "xref": "x",
          "y": 4,
          "yref": "y"
         },
         {
          "align": "left",
          "font": {
           "color": "#000000"
          },
          "showarrow": false,
          "text": "1.3338",
          "x": 1.55,
          "xanchor": "left",
          "xref": "x",
          "y": 4,
          "yref": "y"
         },
         {
          "align": "left",
          "font": {
           "color": "#000000"
          },
          "showarrow": false,
          "text": "0.0426",
          "x": 2.55,
          "xanchor": "left",
          "xref": "x",
          "y": 4,
          "yref": "y"
         },
         {
          "align": "left",
          "font": {
           "color": "#000000"
          },
          "showarrow": false,
          "text": "query_5",
          "x": 3.55,
          "xanchor": "left",
          "xref": "x",
          "y": 4,
          "yref": "y"
         },
         {
          "align": "left",
          "font": {
           "color": "#000000"
          },
          "showarrow": false,
          "text": "KNJNWV",
          "x": 4.55,
          "xanchor": "left",
          "xref": "x",
          "y": 4,
          "yref": "y"
         },
         {
          "align": "left",
          "font": {
           "color": "#000000"
          },
          "showarrow": false,
          "text": "1",
          "x": 5.55,
          "xanchor": "left",
          "xref": "x",
          "y": 4,
          "yref": "y"
         },
         {
          "align": "left",
          "font": {
           "color": "#000000"
          },
          "showarrow": false,
          "text": "1",
          "x": 6.55,
          "xanchor": "left",
          "xref": "x",
          "y": 4,
          "yref": "y"
         },
         {
          "align": "left",
          "font": {
           "color": "#000000"
          },
          "showarrow": false,
          "text": "0",
          "x": 7.55,
          "xanchor": "left",
          "xref": "x",
          "y": 4,
          "yref": "y"
         },
         {
          "align": "left",
          "font": {
           "color": "#000000"
          },
          "showarrow": false,
          "text": "domain_0",
          "x": 8.55,
          "xanchor": "left",
          "xref": "x",
          "y": 4,
          "yref": "y"
         },
         {
          "align": "left",
          "font": {
           "color": "#000000"
          },
          "showarrow": false,
          "text": "0",
          "x": 9.55,
          "xanchor": "left",
          "xref": "x",
          "y": 4,
          "yref": "y"
         },
         {
          "align": "left",
          "font": {
           "color": "#000000"
          },
          "showarrow": false,
          "text": "6",
          "x": -0.45,
          "xanchor": "left",
          "xref": "x",
          "y": 5,
          "yref": "y"
         },
         {
          "align": "left",
          "font": {
           "color": "#000000"
          },
          "showarrow": false,
          "text": "0.0",
          "x": 0.55,
          "xanchor": "left",
          "xref": "x",
          "y": 5,
          "yref": "y"
         },
         {
          "align": "left",
          "font": {
           "color": "#000000"
          },
          "showarrow": false,
          "text": "1.325",
          "x": 1.55,
          "xanchor": "left",
          "xref": "x",
          "y": 5,
          "yref": "y"
         },
         {
          "align": "left",
          "font": {
           "color": "#000000"
          },
          "showarrow": false,
          "text": "0.0465",
          "x": 2.55,
          "xanchor": "left",
          "xref": "x",
          "y": 5,
          "yref": "y"
         },
         {
          "align": "left",
          "font": {
           "color": "#000000"
          },
          "showarrow": false,
          "text": "query_5",
          "x": 3.55,
          "xanchor": "left",
          "xref": "x",
          "y": 5,
          "yref": "y"
         },
         {
          "align": "left",
          "font": {
           "color": "#000000"
          },
          "showarrow": false,
          "text": "KNJNWV",
          "x": 4.55,
          "xanchor": "left",
          "xref": "x",
          "y": 5,
          "yref": "y"
         },
         {
          "align": "left",
          "font": {
           "color": "#000000"
          },
          "showarrow": false,
          "text": "5",
          "x": 5.55,
          "xanchor": "left",
          "xref": "x",
          "y": 5,
          "yref": "y"
         },
         {
          "align": "left",
          "font": {
           "color": "#000000"
          },
          "showarrow": false,
          "text": "0",
          "x": 6.55,
          "xanchor": "left",
          "xref": "x",
          "y": 5,
          "yref": "y"
         },
         {
          "align": "left",
          "font": {
           "color": "#000000"
          },
          "showarrow": false,
          "text": "0",
          "x": 7.55,
          "xanchor": "left",
          "xref": "x",
          "y": 5,
          "yref": "y"
         },
         {
          "align": "left",
          "font": {
           "color": "#000000"
          },
          "showarrow": false,
          "text": "domain_0",
          "x": 8.55,
          "xanchor": "left",
          "xref": "x",
          "y": 5,
          "yref": "y"
         },
         {
          "align": "left",
          "font": {
           "color": "#000000"
          },
          "showarrow": false,
          "text": "1",
          "x": 9.55,
          "xanchor": "left",
          "xref": "x",
          "y": 5,
          "yref": "y"
         },
         {
          "align": "left",
          "font": {
           "color": "#000000"
          },
          "showarrow": false,
          "text": "3",
          "x": -0.45,
          "xanchor": "left",
          "xref": "x",
          "y": 6,
          "yref": "y"
         },
         {
          "align": "left",
          "font": {
           "color": "#000000"
          },
          "showarrow": false,
          "text": "0.301",
          "x": 0.55,
          "xanchor": "left",
          "xref": "x",
          "y": 6,
          "yref": "y"
         },
         {
          "align": "left",
          "font": {
           "color": "#000000"
          },
          "showarrow": false,
          "text": "1.3627",
          "x": 1.55,
          "xanchor": "left",
          "xref": "x",
          "y": 6,
          "yref": "y"
         },
         {
          "align": "left",
          "font": {
           "color": "#000000"
          },
          "showarrow": false,
          "text": "0.0426",
          "x": 2.55,
          "xanchor": "left",
          "xref": "x",
          "y": 6,
          "yref": "y"
         },
         {
          "align": "left",
          "font": {
           "color": "#000000"
          },
          "showarrow": false,
          "text": "query_5",
          "x": 3.55,
          "xanchor": "left",
          "xref": "x",
          "y": 6,
          "yref": "y"
         },
         {
          "align": "left",
          "font": {
           "color": "#000000"
          },
          "showarrow": false,
          "text": "KNJNWV",
          "x": 4.55,
          "xanchor": "left",
          "xref": "x",
          "y": 6,
          "yref": "y"
         },
         {
          "align": "left",
          "font": {
           "color": "#000000"
          },
          "showarrow": false,
          "text": "2",
          "x": 5.55,
          "xanchor": "left",
          "xref": "x",
          "y": 6,
          "yref": "y"
         },
         {
          "align": "left",
          "font": {
           "color": "#000000"
          },
          "showarrow": false,
          "text": "0",
          "x": 6.55,
          "xanchor": "left",
          "xref": "x",
          "y": 6,
          "yref": "y"
         },
         {
          "align": "left",
          "font": {
           "color": "#000000"
          },
          "showarrow": false,
          "text": "0",
          "x": 7.55,
          "xanchor": "left",
          "xref": "x",
          "y": 6,
          "yref": "y"
         },
         {
          "align": "left",
          "font": {
           "color": "#000000"
          },
          "showarrow": false,
          "text": "domain_0",
          "x": 8.55,
          "xanchor": "left",
          "xref": "x",
          "y": 6,
          "yref": "y"
         },
         {
          "align": "left",
          "font": {
           "color": "#000000"
          },
          "showarrow": false,
          "text": "0",
          "x": 9.55,
          "xanchor": "left",
          "xref": "x",
          "y": 6,
          "yref": "y"
         }
        ],
        "autosize": false,
        "height": 260,
        "margin": {
         "b": 0,
         "l": 0,
         "r": 0,
         "t": 0
        },
        "template": {
         "data": {
          "bar": [
           {
            "error_x": {
             "color": "#2a3f5f"
            },
            "error_y": {
             "color": "#2a3f5f"
            },
            "marker": {
             "line": {
              "color": "#E5ECF6",
              "width": 0.5
             },
             "pattern": {
              "fillmode": "overlay",
              "size": 10,
              "solidity": 0.2
             }
            },
            "type": "bar"
           }
          ],
          "barpolar": [
           {
            "marker": {
             "line": {
              "color": "#E5ECF6",
              "width": 0.5
             },
             "pattern": {
              "fillmode": "overlay",
              "size": 10,
              "solidity": 0.2
             }
            },
            "type": "barpolar"
           }
          ],
          "carpet": [
           {
            "aaxis": {
             "endlinecolor": "#2a3f5f",
             "gridcolor": "white",
             "linecolor": "white",
             "minorgridcolor": "white",
             "startlinecolor": "#2a3f5f"
            },
            "baxis": {
             "endlinecolor": "#2a3f5f",
             "gridcolor": "white",
             "linecolor": "white",
             "minorgridcolor": "white",
             "startlinecolor": "#2a3f5f"
            },
            "type": "carpet"
           }
          ],
          "choropleth": [
           {
            "colorbar": {
             "outlinewidth": 0,
             "ticks": ""
            },
            "type": "choropleth"
           }
          ],
          "contour": [
           {
            "colorbar": {
             "outlinewidth": 0,
             "ticks": ""
            },
            "colorscale": [
             [
              0,
              "#0d0887"
             ],
             [
              0.1111111111111111,
              "#46039f"
             ],
             [
              0.2222222222222222,
              "#7201a8"
             ],
             [
              0.3333333333333333,
              "#9c179e"
             ],
             [
              0.4444444444444444,
              "#bd3786"
             ],
             [
              0.5555555555555556,
              "#d8576b"
             ],
             [
              0.6666666666666666,
              "#ed7953"
             ],
             [
              0.7777777777777778,
              "#fb9f3a"
             ],
             [
              0.8888888888888888,
              "#fdca26"
             ],
             [
              1,
              "#f0f921"
             ]
            ],
            "type": "contour"
           }
          ],
          "contourcarpet": [
           {
            "colorbar": {
             "outlinewidth": 0,
             "ticks": ""
            },
            "type": "contourcarpet"
           }
          ],
          "heatmap": [
           {
            "colorbar": {
             "outlinewidth": 0,
             "ticks": ""
            },
            "colorscale": [
             [
              0,
              "#0d0887"
             ],
             [
              0.1111111111111111,
              "#46039f"
             ],
             [
              0.2222222222222222,
              "#7201a8"
             ],
             [
              0.3333333333333333,
              "#9c179e"
             ],
             [
              0.4444444444444444,
              "#bd3786"
             ],
             [
              0.5555555555555556,
              "#d8576b"
             ],
             [
              0.6666666666666666,
              "#ed7953"
             ],
             [
              0.7777777777777778,
              "#fb9f3a"
             ],
             [
              0.8888888888888888,
              "#fdca26"
             ],
             [
              1,
              "#f0f921"
             ]
            ],
            "type": "heatmap"
           }
          ],
          "heatmapgl": [
           {
            "colorbar": {
             "outlinewidth": 0,
             "ticks": ""
            },
            "colorscale": [
             [
              0,
              "#0d0887"
             ],
             [
              0.1111111111111111,
              "#46039f"
             ],
             [
              0.2222222222222222,
              "#7201a8"
             ],
             [
              0.3333333333333333,
              "#9c179e"
             ],
             [
              0.4444444444444444,
              "#bd3786"
             ],
             [
              0.5555555555555556,
              "#d8576b"
             ],
             [
              0.6666666666666666,
              "#ed7953"
             ],
             [
              0.7777777777777778,
              "#fb9f3a"
             ],
             [
              0.8888888888888888,
              "#fdca26"
             ],
             [
              1,
              "#f0f921"
             ]
            ],
            "type": "heatmapgl"
           }
          ],
          "histogram": [
           {
            "marker": {
             "pattern": {
              "fillmode": "overlay",
              "size": 10,
              "solidity": 0.2
             }
            },
            "type": "histogram"
           }
          ],
          "histogram2d": [
           {
            "colorbar": {
             "outlinewidth": 0,
             "ticks": ""
            },
            "colorscale": [
             [
              0,
              "#0d0887"
             ],
             [
              0.1111111111111111,
              "#46039f"
             ],
             [
              0.2222222222222222,
              "#7201a8"
             ],
             [
              0.3333333333333333,
              "#9c179e"
             ],
             [
              0.4444444444444444,
              "#bd3786"
             ],
             [
              0.5555555555555556,
              "#d8576b"
             ],
             [
              0.6666666666666666,
              "#ed7953"
             ],
             [
              0.7777777777777778,
              "#fb9f3a"
             ],
             [
              0.8888888888888888,
              "#fdca26"
             ],
             [
              1,
              "#f0f921"
             ]
            ],
            "type": "histogram2d"
           }
          ],
          "histogram2dcontour": [
           {
            "colorbar": {
             "outlinewidth": 0,
             "ticks": ""
            },
            "colorscale": [
             [
              0,
              "#0d0887"
             ],
             [
              0.1111111111111111,
              "#46039f"
             ],
             [
              0.2222222222222222,
              "#7201a8"
             ],
             [
              0.3333333333333333,
              "#9c179e"
             ],
             [
              0.4444444444444444,
              "#bd3786"
             ],
             [
              0.5555555555555556,
              "#d8576b"
             ],
             [
              0.6666666666666666,
              "#ed7953"
             ],
             [
              0.7777777777777778,
              "#fb9f3a"
             ],
             [
              0.8888888888888888,
              "#fdca26"
             ],
             [
              1,
              "#f0f921"
             ]
            ],
            "type": "histogram2dcontour"
           }
          ],
          "mesh3d": [
           {
            "colorbar": {
             "outlinewidth": 0,
             "ticks": ""
            },
            "type": "mesh3d"
           }
          ],
          "parcoords": [
           {
            "line": {
             "colorbar": {
              "outlinewidth": 0,
              "ticks": ""
             }
            },
            "type": "parcoords"
           }
          ],
          "pie": [
           {
            "automargin": true,
            "type": "pie"
           }
          ],
          "scatter": [
           {
            "fillpattern": {
             "fillmode": "overlay",
             "size": 10,
             "solidity": 0.2
            },
            "type": "scatter"
           }
          ],
          "scatter3d": [
           {
            "line": {
             "colorbar": {
              "outlinewidth": 0,
              "ticks": ""
             }
            },
            "marker": {
             "colorbar": {
              "outlinewidth": 0,
              "ticks": ""
             }
            },
            "type": "scatter3d"
           }
          ],
          "scattercarpet": [
           {
            "marker": {
             "colorbar": {
              "outlinewidth": 0,
              "ticks": ""
             }
            },
            "type": "scattercarpet"
           }
          ],
          "scattergeo": [
           {
            "marker": {
             "colorbar": {
              "outlinewidth": 0,
              "ticks": ""
             }
            },
            "type": "scattergeo"
           }
          ],
          "scattergl": [
           {
            "marker": {
             "colorbar": {
              "outlinewidth": 0,
              "ticks": ""
             }
            },
            "type": "scattergl"
           }
          ],
          "scattermapbox": [
           {
            "marker": {
             "colorbar": {
              "outlinewidth": 0,
              "ticks": ""
             }
            },
            "type": "scattermapbox"
           }
          ],
          "scatterpolar": [
           {
            "marker": {
             "colorbar": {
              "outlinewidth": 0,
              "ticks": ""
             }
            },
            "type": "scatterpolar"
           }
          ],
          "scatterpolargl": [
           {
            "marker": {
             "colorbar": {
              "outlinewidth": 0,
              "ticks": ""
             }
            },
            "type": "scatterpolargl"
           }
          ],
          "scatterternary": [
           {
            "marker": {
             "colorbar": {
              "outlinewidth": 0,
              "ticks": ""
             }
            },
            "type": "scatterternary"
           }
          ],
          "surface": [
           {
            "colorbar": {
             "outlinewidth": 0,
             "ticks": ""
            },
            "colorscale": [
             [
              0,
              "#0d0887"
             ],
             [
              0.1111111111111111,
              "#46039f"
             ],
             [
              0.2222222222222222,
              "#7201a8"
             ],
             [
              0.3333333333333333,
              "#9c179e"
             ],
             [
              0.4444444444444444,
              "#bd3786"
             ],
             [
              0.5555555555555556,
              "#d8576b"
             ],
             [
              0.6666666666666666,
              "#ed7953"
             ],
             [
              0.7777777777777778,
              "#fb9f3a"
             ],
             [
              0.8888888888888888,
              "#fdca26"
             ],
             [
              1,
              "#f0f921"
             ]
            ],
            "type": "surface"
           }
          ],
          "table": [
           {
            "cells": {
             "fill": {
              "color": "#EBF0F8"
             },
             "line": {
              "color": "white"
             }
            },
            "header": {
             "fill": {
              "color": "#C8D4E3"
             },
             "line": {
              "color": "white"
             }
            },
            "type": "table"
           }
          ]
         },
         "layout": {
          "annotationdefaults": {
           "arrowcolor": "#2a3f5f",
           "arrowhead": 0,
           "arrowwidth": 1
          },
          "autotypenumbers": "strict",
          "coloraxis": {
           "colorbar": {
            "outlinewidth": 0,
            "ticks": ""
           }
          },
          "colorscale": {
           "diverging": [
            [
             0,
             "#8e0152"
            ],
            [
             0.1,
             "#c51b7d"
            ],
            [
             0.2,
             "#de77ae"
            ],
            [
             0.3,
             "#f1b6da"
            ],
            [
             0.4,
             "#fde0ef"
            ],
            [
             0.5,
             "#f7f7f7"
            ],
            [
             0.6,
             "#e6f5d0"
            ],
            [
             0.7,
             "#b8e186"
            ],
            [
             0.8,
             "#7fbc41"
            ],
            [
             0.9,
             "#4d9221"
            ],
            [
             1,
             "#276419"
            ]
           ],
           "sequential": [
            [
             0,
             "#0d0887"
            ],
            [
             0.1111111111111111,
             "#46039f"
            ],
            [
             0.2222222222222222,
             "#7201a8"
            ],
            [
             0.3333333333333333,
             "#9c179e"
            ],
            [
             0.4444444444444444,
             "#bd3786"
            ],
            [
             0.5555555555555556,
             "#d8576b"
            ],
            [
             0.6666666666666666,
             "#ed7953"
            ],
            [
             0.7777777777777778,
             "#fb9f3a"
            ],
            [
             0.8888888888888888,
             "#fdca26"
            ],
            [
             1,
             "#f0f921"
            ]
           ],
           "sequentialminus": [
            [
             0,
             "#0d0887"
            ],
            [
             0.1111111111111111,
             "#46039f"
            ],
            [
             0.2222222222222222,
             "#7201a8"
            ],
            [
             0.3333333333333333,
             "#9c179e"
            ],
            [
             0.4444444444444444,
             "#bd3786"
            ],
            [
             0.5555555555555556,
             "#d8576b"
            ],
            [
             0.6666666666666666,
             "#ed7953"
            ],
            [
             0.7777777777777778,
             "#fb9f3a"
            ],
            [
             0.8888888888888888,
             "#fdca26"
            ],
            [
             1,
             "#f0f921"
            ]
           ]
          },
          "colorway": [
           "#636efa",
           "#EF553B",
           "#00cc96",
           "#ab63fa",
           "#FFA15A",
           "#19d3f3",
           "#FF6692",
           "#B6E880",
           "#FF97FF",
           "#FECB52"
          ],
          "font": {
           "color": "#2a3f5f"
          },
          "geo": {
           "bgcolor": "white",
           "lakecolor": "white",
           "landcolor": "#E5ECF6",
           "showlakes": true,
           "showland": true,
           "subunitcolor": "white"
          },
          "hoverlabel": {
           "align": "left"
          },
          "hovermode": "closest",
          "mapbox": {
           "style": "light"
          },
          "paper_bgcolor": "white",
          "plot_bgcolor": "#E5ECF6",
          "polar": {
           "angularaxis": {
            "gridcolor": "white",
            "linecolor": "white",
            "ticks": ""
           },
           "bgcolor": "#E5ECF6",
           "radialaxis": {
            "gridcolor": "white",
            "linecolor": "white",
            "ticks": ""
           }
          },
          "scene": {
           "xaxis": {
            "backgroundcolor": "#E5ECF6",
            "gridcolor": "white",
            "gridwidth": 2,
            "linecolor": "white",
            "showbackground": true,
            "ticks": "",
            "zerolinecolor": "white"
           },
           "yaxis": {
            "backgroundcolor": "#E5ECF6",
            "gridcolor": "white",
            "gridwidth": 2,
            "linecolor": "white",
            "showbackground": true,
            "ticks": "",
            "zerolinecolor": "white"
           },
           "zaxis": {
            "backgroundcolor": "#E5ECF6",
            "gridcolor": "white",
            "gridwidth": 2,
            "linecolor": "white",
            "showbackground": true,
            "ticks": "",
            "zerolinecolor": "white"
           }
          },
          "shapedefaults": {
           "line": {
            "color": "#2a3f5f"
           }
          },
          "ternary": {
           "aaxis": {
            "gridcolor": "white",
            "linecolor": "white",
            "ticks": ""
           },
           "baxis": {
            "gridcolor": "white",
            "linecolor": "white",
            "ticks": ""
           },
           "bgcolor": "#E5ECF6",
           "caxis": {
            "gridcolor": "white",
            "linecolor": "white",
            "ticks": ""
           }
          },
          "title": {
           "x": 0.05
          },
          "xaxis": {
           "automargin": true,
           "gridcolor": "white",
           "linecolor": "white",
           "ticks": "",
           "title": {
            "standoff": 15
           },
           "zerolinecolor": "white",
           "zerolinewidth": 2
          },
          "yaxis": {
           "automargin": true,
           "gridcolor": "white",
           "linecolor": "white",
           "ticks": "",
           "title": {
            "standoff": 15
           },
           "zerolinecolor": "white",
           "zerolinewidth": 2
          }
         }
        },
        "width": 1800,
        "xaxis": {
         "dtick": 1,
         "gridwidth": 2,
         "showticklabels": false,
         "tick0": -0.5,
         "ticks": "",
         "zeroline": false
        },
        "yaxis": {
         "autorange": "reversed",
         "dtick": 1,
         "gridwidth": 2,
         "showticklabels": false,
         "tick0": 0.5,
         "ticks": "",
         "zeroline": false
        }
       }
      },
      "text/html": [
       "<div>                            <div id=\"4eed839b-aec2-4b13-85c4-fd29e85ff607\" class=\"plotly-graph-div\" style=\"height:260px; width:1800px;\"></div>            <script type=\"text/javascript\">                require([\"plotly\"], function(Plotly) {                    window.PLOTLYENV=window.PLOTLYENV || {};                                    if (document.getElementById(\"4eed839b-aec2-4b13-85c4-fd29e85ff607\")) {                    Plotly.newPlot(                        \"4eed839b-aec2-4b13-85c4-fd29e85ff607\",                        [{\"colorscale\":[[0.0,\"rgb(247,251,255)\"],[0.125,\"rgb(222,235,247)\"],[0.25,\"rgb(198,219,239)\"],[0.375,\"rgb(158,202,225)\"],[0.5,\"rgb(107,174,214)\"],[0.625,\"rgb(66,146,198)\"],[0.75,\"rgb(33,113,181)\"],[0.875,\"rgb(8,81,156)\"],[1.0,\"rgb(8,48,107)\"]],\"hoverinfo\":\"none\",\"opacity\":0.75,\"showscale\":false,\"z\":[[0,0,0.25,0.5,0,0,0,0,0,0,0],[0,0,0.25,0.5,0,0,0,0,0,0,0],[0,0,0.25,0.5,0,0,0,0,0,0,0],[0,0,0.25,0.5,0,0,0,0,0,0,0],[0,0,0.25,0.5,0,0,0,0,0,0,0],[0,0,0.25,0.5,0,0,0,0,0,0,0],[0,0,0.25,0.5,0,0,0,0,0,0,0]],\"type\":\"heatmap\"}],                        {\"annotations\":[{\"align\":\"left\",\"font\":{\"color\":\"#000000\"},\"showarrow\":false,\"text\":\"<b>#Rank</b>\",\"x\":-0.45,\"xanchor\":\"left\",\"xref\":\"x\",\"y\":0,\"yref\":\"y\"},{\"align\":\"left\",\"font\":{\"color\":\"#000000\"},\"showarrow\":false,\"text\":\"<b>quality_score</b>\",\"x\":0.55,\"xanchor\":\"left\",\"xref\":\"x\",\"y\":0,\"yref\":\"y\"},{\"align\":\"left\",\"font\":{\"color\":\"#000000\"},\"showarrow\":false,\"text\":\"<b>text_match_score</b>\",\"x\":1.55,\"xanchor\":\"left\",\"xref\":\"x\",\"y\":0,\"yref\":\"y\"},{\"align\":\"left\",\"font\":{\"color\":\"#000000\"},\"showarrow\":false,\"text\":\"<b>page_views_score</b>\",\"x\":2.55,\"xanchor\":\"left\",\"xref\":\"x\",\"y\":0,\"yref\":\"y\"},{\"align\":\"left\",\"font\":{\"color\":\"#000000\"},\"showarrow\":false,\"text\":\"<b>query_id</b>\",\"x\":3.55,\"xanchor\":\"left\",\"xref\":\"x\",\"y\":0,\"yref\":\"y\"},{\"align\":\"left\",\"font\":{\"color\":\"#000000\"},\"showarrow\":false,\"text\":\"<b>query_text</b>\",\"x\":4.55,\"xanchor\":\"left\",\"xref\":\"x\",\"y\":0,\"yref\":\"y\"},{\"align\":\"left\",\"font\":{\"color\":\"#000000\"},\"showarrow\":false,\"text\":\"<b>rank</b>\",\"x\":5.55,\"xanchor\":\"left\",\"xref\":\"x\",\"y\":0,\"yref\":\"y\"},{\"align\":\"left\",\"font\":{\"color\":\"#000000\"},\"showarrow\":false,\"text\":\"<b>clicked</b>\",\"x\":6.55,\"xanchor\":\"left\",\"xref\":\"x\",\"y\":0,\"yref\":\"y\"},{\"align\":\"left\",\"font\":{\"color\":\"#000000\"},\"showarrow\":false,\"text\":\"<b>domain_id</b>\",\"x\":7.55,\"xanchor\":\"left\",\"xref\":\"x\",\"y\":0,\"yref\":\"y\"},{\"align\":\"left\",\"font\":{\"color\":\"#000000\"},\"showarrow\":false,\"text\":\"<b>domain_name</b>\",\"x\":8.55,\"xanchor\":\"left\",\"xref\":\"x\",\"y\":0,\"yref\":\"y\"},{\"align\":\"left\",\"font\":{\"color\":\"#000000\"},\"showarrow\":false,\"text\":\"<b>name_match</b>\",\"x\":9.55,\"xanchor\":\"left\",\"xref\":\"x\",\"y\":0,\"yref\":\"y\"},{\"align\":\"left\",\"font\":{\"color\":\"#000000\"},\"showarrow\":false,\"text\":\"5\",\"x\":-0.45,\"xanchor\":\"left\",\"xref\":\"x\",\"y\":1,\"yref\":\"y\"},{\"align\":\"left\",\"font\":{\"color\":\"#000000\"},\"showarrow\":false,\"text\":\"0.0\",\"x\":0.55,\"xanchor\":\"left\",\"xref\":\"x\",\"y\":1,\"yref\":\"y\"},{\"align\":\"left\",\"font\":{\"color\":\"#000000\"},\"showarrow\":false,\"text\":\"1.3681\",\"x\":1.55,\"xanchor\":\"left\",\"xref\":\"x\",\"y\":1,\"yref\":\"y\"},{\"align\":\"left\",\"font\":{\"color\":\"#000000\"},\"showarrow\":false,\"text\":\"0.0306\",\"x\":2.55,\"xanchor\":\"left\",\"xref\":\"x\",\"y\":1,\"yref\":\"y\"},{\"align\":\"left\",\"font\":{\"color\":\"#000000\"},\"showarrow\":false,\"text\":\"query_5\",\"x\":3.55,\"xanchor\":\"left\",\"xref\":\"x\",\"y\":1,\"yref\":\"y\"},{\"align\":\"left\",\"font\":{\"color\":\"#000000\"},\"showarrow\":false,\"text\":\"KNJNWV\",\"x\":4.55,\"xanchor\":\"left\",\"xref\":\"x\",\"y\":1,\"yref\":\"y\"},{\"align\":\"left\",\"font\":{\"color\":\"#000000\"},\"showarrow\":false,\"text\":\"6\",\"x\":5.55,\"xanchor\":\"left\",\"xref\":\"x\",\"y\":1,\"yref\":\"y\"},{\"align\":\"left\",\"font\":{\"color\":\"#000000\"},\"showarrow\":false,\"text\":\"0\",\"x\":6.55,\"xanchor\":\"left\",\"xref\":\"x\",\"y\":1,\"yref\":\"y\"},{\"align\":\"left\",\"font\":{\"color\":\"#000000\"},\"showarrow\":false,\"text\":\"0\",\"x\":7.55,\"xanchor\":\"left\",\"xref\":\"x\",\"y\":1,\"yref\":\"y\"},{\"align\":\"left\",\"font\":{\"color\":\"#000000\"},\"showarrow\":false,\"text\":\"domain_0\",\"x\":8.55,\"xanchor\":\"left\",\"xref\":\"x\",\"y\":1,\"yref\":\"y\"},{\"align\":\"left\",\"font\":{\"color\":\"#000000\"},\"showarrow\":false,\"text\":\"0\",\"x\":9.55,\"xanchor\":\"left\",\"xref\":\"x\",\"y\":1,\"yref\":\"y\"},{\"align\":\"left\",\"font\":{\"color\":\"#000000\"},\"showarrow\":false,\"text\":\"2\",\"x\":-0.45,\"xanchor\":\"left\",\"xref\":\"x\",\"y\":2,\"yref\":\"y\"},{\"align\":\"left\",\"font\":{\"color\":\"#000000\"},\"showarrow\":false,\"text\":\"0.301\",\"x\":0.55,\"xanchor\":\"left\",\"xref\":\"x\",\"y\":2,\"yref\":\"y\"},{\"align\":\"left\",\"font\":{\"color\":\"#000000\"},\"showarrow\":false,\"text\":\"1.3706\",\"x\":1.55,\"xanchor\":\"left\",\"xref\":\"x\",\"y\":2,\"yref\":\"y\"},{\"align\":\"left\",\"font\":{\"color\":\"#000000\"},\"showarrow\":false,\"text\":\"0.0413\",\"x\":2.55,\"xanchor\":\"left\",\"xref\":\"x\",\"y\":2,\"yref\":\"y\"},{\"align\":\"left\",\"font\":{\"color\":\"#000000\"},\"showarrow\":false,\"text\":\"query_5\",\"x\":3.55,\"xanchor\":\"left\",\"xref\":\"x\",\"y\":2,\"yref\":\"y\"},{\"align\":\"left\",\"font\":{\"color\":\"#000000\"},\"showarrow\":false,\"text\":\"KNJNWV\",\"x\":4.55,\"xanchor\":\"left\",\"xref\":\"x\",\"y\":2,\"yref\":\"y\"},{\"align\":\"left\",\"font\":{\"color\":\"#000000\"},\"showarrow\":false,\"text\":\"3\",\"x\":5.55,\"xanchor\":\"left\",\"xref\":\"x\",\"y\":2,\"yref\":\"y\"},{\"align\":\"left\",\"font\":{\"color\":\"#000000\"},\"showarrow\":false,\"text\":\"0\",\"x\":6.55,\"xanchor\":\"left\",\"xref\":\"x\",\"y\":2,\"yref\":\"y\"},{\"align\":\"left\",\"font\":{\"color\":\"#000000\"},\"showarrow\":false,\"text\":\"0\",\"x\":7.55,\"xanchor\":\"left\",\"xref\":\"x\",\"y\":2,\"yref\":\"y\"},{\"align\":\"left\",\"font\":{\"color\":\"#000000\"},\"showarrow\":false,\"text\":\"domain_0\",\"x\":8.55,\"xanchor\":\"left\",\"xref\":\"x\",\"y\":2,\"yref\":\"y\"},{\"align\":\"left\",\"font\":{\"color\":\"#000000\"},\"showarrow\":false,\"text\":\"0\",\"x\":9.55,\"xanchor\":\"left\",\"xref\":\"x\",\"y\":2,\"yref\":\"y\"},{\"align\":\"left\",\"font\":{\"color\":\"#000000\"},\"showarrow\":false,\"text\":\"1\",\"x\":-0.45,\"xanchor\":\"left\",\"xref\":\"x\",\"y\":3,\"yref\":\"y\"},{\"align\":\"left\",\"font\":{\"color\":\"#000000\"},\"showarrow\":false,\"text\":\"0.301\",\"x\":0.55,\"xanchor\":\"left\",\"xref\":\"x\",\"y\":3,\"yref\":\"y\"},{\"align\":\"left\",\"font\":{\"color\":\"#000000\"},\"showarrow\":false,\"text\":\"1.3667\",\"x\":1.55,\"xanchor\":\"left\",\"xref\":\"x\",\"y\":3,\"yref\":\"y\"},{\"align\":\"left\",\"font\":{\"color\":\"#000000\"},\"showarrow\":false,\"text\":\"0.0825\",\"x\":2.55,\"xanchor\":\"left\",\"xref\":\"x\",\"y\":3,\"yref\":\"y\"},{\"align\":\"left\",\"font\":{\"color\":\"#000000\"},\"showarrow\":false,\"text\":\"query_5\",\"x\":3.55,\"xanchor\":\"left\",\"xref\":\"x\",\"y\":3,\"yref\":\"y\"},{\"align\":\"left\",\"font\":{\"color\":\"#000000\"},\"showarrow\":false,\"text\":\"KNJNWV\",\"x\":4.55,\"xanchor\":\"left\",\"xref\":\"x\",\"y\":3,\"yref\":\"y\"},{\"align\":\"left\",\"font\":{\"color\":\"#000000\"},\"showarrow\":false,\"text\":\"4\",\"x\":5.55,\"xanchor\":\"left\",\"xref\":\"x\",\"y\":3,\"yref\":\"y\"},{\"align\":\"left\",\"font\":{\"color\":\"#000000\"},\"showarrow\":false,\"text\":\"0\",\"x\":6.55,\"xanchor\":\"left\",\"xref\":\"x\",\"y\":3,\"yref\":\"y\"},{\"align\":\"left\",\"font\":{\"color\":\"#000000\"},\"showarrow\":false,\"text\":\"0\",\"x\":7.55,\"xanchor\":\"left\",\"xref\":\"x\",\"y\":3,\"yref\":\"y\"},{\"align\":\"left\",\"font\":{\"color\":\"#000000\"},\"showarrow\":false,\"text\":\"domain_0\",\"x\":8.55,\"xanchor\":\"left\",\"xref\":\"x\",\"y\":3,\"yref\":\"y\"},{\"align\":\"left\",\"font\":{\"color\":\"#000000\"},\"showarrow\":false,\"text\":\"0\",\"x\":9.55,\"xanchor\":\"left\",\"xref\":\"x\",\"y\":3,\"yref\":\"y\"},{\"align\":\"left\",\"font\":{\"color\":\"#000000\"},\"showarrow\":false,\"text\":\"4\",\"x\":-0.45,\"xanchor\":\"left\",\"xref\":\"x\",\"y\":4,\"yref\":\"y\"},{\"align\":\"left\",\"font\":{\"color\":\"#000000\"},\"showarrow\":false,\"text\":\"0.301\",\"x\":0.55,\"xanchor\":\"left\",\"xref\":\"x\",\"y\":4,\"yref\":\"y\"},{\"align\":\"left\",\"font\":{\"color\":\"#000000\"},\"showarrow\":false,\"text\":\"1.3338\",\"x\":1.55,\"xanchor\":\"left\",\"xref\":\"x\",\"y\":4,\"yref\":\"y\"},{\"align\":\"left\",\"font\":{\"color\":\"#000000\"},\"showarrow\":false,\"text\":\"0.0426\",\"x\":2.55,\"xanchor\":\"left\",\"xref\":\"x\",\"y\":4,\"yref\":\"y\"},{\"align\":\"left\",\"font\":{\"color\":\"#000000\"},\"showarrow\":false,\"text\":\"query_5\",\"x\":3.55,\"xanchor\":\"left\",\"xref\":\"x\",\"y\":4,\"yref\":\"y\"},{\"align\":\"left\",\"font\":{\"color\":\"#000000\"},\"showarrow\":false,\"text\":\"KNJNWV\",\"x\":4.55,\"xanchor\":\"left\",\"xref\":\"x\",\"y\":4,\"yref\":\"y\"},{\"align\":\"left\",\"font\":{\"color\":\"#000000\"},\"showarrow\":false,\"text\":\"1\",\"x\":5.55,\"xanchor\":\"left\",\"xref\":\"x\",\"y\":4,\"yref\":\"y\"},{\"align\":\"left\",\"font\":{\"color\":\"#000000\"},\"showarrow\":false,\"text\":\"1\",\"x\":6.55,\"xanchor\":\"left\",\"xref\":\"x\",\"y\":4,\"yref\":\"y\"},{\"align\":\"left\",\"font\":{\"color\":\"#000000\"},\"showarrow\":false,\"text\":\"0\",\"x\":7.55,\"xanchor\":\"left\",\"xref\":\"x\",\"y\":4,\"yref\":\"y\"},{\"align\":\"left\",\"font\":{\"color\":\"#000000\"},\"showarrow\":false,\"text\":\"domain_0\",\"x\":8.55,\"xanchor\":\"left\",\"xref\":\"x\",\"y\":4,\"yref\":\"y\"},{\"align\":\"left\",\"font\":{\"color\":\"#000000\"},\"showarrow\":false,\"text\":\"0\",\"x\":9.55,\"xanchor\":\"left\",\"xref\":\"x\",\"y\":4,\"yref\":\"y\"},{\"align\":\"left\",\"font\":{\"color\":\"#000000\"},\"showarrow\":false,\"text\":\"6\",\"x\":-0.45,\"xanchor\":\"left\",\"xref\":\"x\",\"y\":5,\"yref\":\"y\"},{\"align\":\"left\",\"font\":{\"color\":\"#000000\"},\"showarrow\":false,\"text\":\"0.0\",\"x\":0.55,\"xanchor\":\"left\",\"xref\":\"x\",\"y\":5,\"yref\":\"y\"},{\"align\":\"left\",\"font\":{\"color\":\"#000000\"},\"showarrow\":false,\"text\":\"1.325\",\"x\":1.55,\"xanchor\":\"left\",\"xref\":\"x\",\"y\":5,\"yref\":\"y\"},{\"align\":\"left\",\"font\":{\"color\":\"#000000\"},\"showarrow\":false,\"text\":\"0.0465\",\"x\":2.55,\"xanchor\":\"left\",\"xref\":\"x\",\"y\":5,\"yref\":\"y\"},{\"align\":\"left\",\"font\":{\"color\":\"#000000\"},\"showarrow\":false,\"text\":\"query_5\",\"x\":3.55,\"xanchor\":\"left\",\"xref\":\"x\",\"y\":5,\"yref\":\"y\"},{\"align\":\"left\",\"font\":{\"color\":\"#000000\"},\"showarrow\":false,\"text\":\"KNJNWV\",\"x\":4.55,\"xanchor\":\"left\",\"xref\":\"x\",\"y\":5,\"yref\":\"y\"},{\"align\":\"left\",\"font\":{\"color\":\"#000000\"},\"showarrow\":false,\"text\":\"5\",\"x\":5.55,\"xanchor\":\"left\",\"xref\":\"x\",\"y\":5,\"yref\":\"y\"},{\"align\":\"left\",\"font\":{\"color\":\"#000000\"},\"showarrow\":false,\"text\":\"0\",\"x\":6.55,\"xanchor\":\"left\",\"xref\":\"x\",\"y\":5,\"yref\":\"y\"},{\"align\":\"left\",\"font\":{\"color\":\"#000000\"},\"showarrow\":false,\"text\":\"0\",\"x\":7.55,\"xanchor\":\"left\",\"xref\":\"x\",\"y\":5,\"yref\":\"y\"},{\"align\":\"left\",\"font\":{\"color\":\"#000000\"},\"showarrow\":false,\"text\":\"domain_0\",\"x\":8.55,\"xanchor\":\"left\",\"xref\":\"x\",\"y\":5,\"yref\":\"y\"},{\"align\":\"left\",\"font\":{\"color\":\"#000000\"},\"showarrow\":false,\"text\":\"1\",\"x\":9.55,\"xanchor\":\"left\",\"xref\":\"x\",\"y\":5,\"yref\":\"y\"},{\"align\":\"left\",\"font\":{\"color\":\"#000000\"},\"showarrow\":false,\"text\":\"3\",\"x\":-0.45,\"xanchor\":\"left\",\"xref\":\"x\",\"y\":6,\"yref\":\"y\"},{\"align\":\"left\",\"font\":{\"color\":\"#000000\"},\"showarrow\":false,\"text\":\"0.301\",\"x\":0.55,\"xanchor\":\"left\",\"xref\":\"x\",\"y\":6,\"yref\":\"y\"},{\"align\":\"left\",\"font\":{\"color\":\"#000000\"},\"showarrow\":false,\"text\":\"1.3627\",\"x\":1.55,\"xanchor\":\"left\",\"xref\":\"x\",\"y\":6,\"yref\":\"y\"},{\"align\":\"left\",\"font\":{\"color\":\"#000000\"},\"showarrow\":false,\"text\":\"0.0426\",\"x\":2.55,\"xanchor\":\"left\",\"xref\":\"x\",\"y\":6,\"yref\":\"y\"},{\"align\":\"left\",\"font\":{\"color\":\"#000000\"},\"showarrow\":false,\"text\":\"query_5\",\"x\":3.55,\"xanchor\":\"left\",\"xref\":\"x\",\"y\":6,\"yref\":\"y\"},{\"align\":\"left\",\"font\":{\"color\":\"#000000\"},\"showarrow\":false,\"text\":\"KNJNWV\",\"x\":4.55,\"xanchor\":\"left\",\"xref\":\"x\",\"y\":6,\"yref\":\"y\"},{\"align\":\"left\",\"font\":{\"color\":\"#000000\"},\"showarrow\":false,\"text\":\"2\",\"x\":5.55,\"xanchor\":\"left\",\"xref\":\"x\",\"y\":6,\"yref\":\"y\"},{\"align\":\"left\",\"font\":{\"color\":\"#000000\"},\"showarrow\":false,\"text\":\"0\",\"x\":6.55,\"xanchor\":\"left\",\"xref\":\"x\",\"y\":6,\"yref\":\"y\"},{\"align\":\"left\",\"font\":{\"color\":\"#000000\"},\"showarrow\":false,\"text\":\"0\",\"x\":7.55,\"xanchor\":\"left\",\"xref\":\"x\",\"y\":6,\"yref\":\"y\"},{\"align\":\"left\",\"font\":{\"color\":\"#000000\"},\"showarrow\":false,\"text\":\"domain_0\",\"x\":8.55,\"xanchor\":\"left\",\"xref\":\"x\",\"y\":6,\"yref\":\"y\"},{\"align\":\"left\",\"font\":{\"color\":\"#000000\"},\"showarrow\":false,\"text\":\"0\",\"x\":9.55,\"xanchor\":\"left\",\"xref\":\"x\",\"y\":6,\"yref\":\"y\"}],\"height\":260,\"margin\":{\"b\":0,\"l\":0,\"r\":0,\"t\":0},\"xaxis\":{\"dtick\":1,\"gridwidth\":2,\"showticklabels\":false,\"tick0\":-0.5,\"ticks\":\"\",\"zeroline\":false},\"yaxis\":{\"autorange\":\"reversed\",\"dtick\":1,\"gridwidth\":2,\"showticklabels\":false,\"tick0\":0.5,\"ticks\":\"\",\"zeroline\":false},\"template\":{\"data\":{\"histogram2dcontour\":[{\"type\":\"histogram2dcontour\",\"colorbar\":{\"outlinewidth\":0,\"ticks\":\"\"},\"colorscale\":[[0.0,\"#0d0887\"],[0.1111111111111111,\"#46039f\"],[0.2222222222222222,\"#7201a8\"],[0.3333333333333333,\"#9c179e\"],[0.4444444444444444,\"#bd3786\"],[0.5555555555555556,\"#d8576b\"],[0.6666666666666666,\"#ed7953\"],[0.7777777777777778,\"#fb9f3a\"],[0.8888888888888888,\"#fdca26\"],[1.0,\"#f0f921\"]]}],\"choropleth\":[{\"type\":\"choropleth\",\"colorbar\":{\"outlinewidth\":0,\"ticks\":\"\"}}],\"histogram2d\":[{\"type\":\"histogram2d\",\"colorbar\":{\"outlinewidth\":0,\"ticks\":\"\"},\"colorscale\":[[0.0,\"#0d0887\"],[0.1111111111111111,\"#46039f\"],[0.2222222222222222,\"#7201a8\"],[0.3333333333333333,\"#9c179e\"],[0.4444444444444444,\"#bd3786\"],[0.5555555555555556,\"#d8576b\"],[0.6666666666666666,\"#ed7953\"],[0.7777777777777778,\"#fb9f3a\"],[0.8888888888888888,\"#fdca26\"],[1.0,\"#f0f921\"]]}],\"heatmap\":[{\"type\":\"heatmap\",\"colorbar\":{\"outlinewidth\":0,\"ticks\":\"\"},\"colorscale\":[[0.0,\"#0d0887\"],[0.1111111111111111,\"#46039f\"],[0.2222222222222222,\"#7201a8\"],[0.3333333333333333,\"#9c179e\"],[0.4444444444444444,\"#bd3786\"],[0.5555555555555556,\"#d8576b\"],[0.6666666666666666,\"#ed7953\"],[0.7777777777777778,\"#fb9f3a\"],[0.8888888888888888,\"#fdca26\"],[1.0,\"#f0f921\"]]}],\"heatmapgl\":[{\"type\":\"heatmapgl\",\"colorbar\":{\"outlinewidth\":0,\"ticks\":\"\"},\"colorscale\":[[0.0,\"#0d0887\"],[0.1111111111111111,\"#46039f\"],[0.2222222222222222,\"#7201a8\"],[0.3333333333333333,\"#9c179e\"],[0.4444444444444444,\"#bd3786\"],[0.5555555555555556,\"#d8576b\"],[0.6666666666666666,\"#ed7953\"],[0.7777777777777778,\"#fb9f3a\"],[0.8888888888888888,\"#fdca26\"],[1.0,\"#f0f921\"]]}],\"contourcarpet\":[{\"type\":\"contourcarpet\",\"colorbar\":{\"outlinewidth\":0,\"ticks\":\"\"}}],\"contour\":[{\"type\":\"contour\",\"colorbar\":{\"outlinewidth\":0,\"ticks\":\"\"},\"colorscale\":[[0.0,\"#0d0887\"],[0.1111111111111111,\"#46039f\"],[0.2222222222222222,\"#7201a8\"],[0.3333333333333333,\"#9c179e\"],[0.4444444444444444,\"#bd3786\"],[0.5555555555555556,\"#d8576b\"],[0.6666666666666666,\"#ed7953\"],[0.7777777777777778,\"#fb9f3a\"],[0.8888888888888888,\"#fdca26\"],[1.0,\"#f0f921\"]]}],\"surface\":[{\"type\":\"surface\",\"colorbar\":{\"outlinewidth\":0,\"ticks\":\"\"},\"colorscale\":[[0.0,\"#0d0887\"],[0.1111111111111111,\"#46039f\"],[0.2222222222222222,\"#7201a8\"],[0.3333333333333333,\"#9c179e\"],[0.4444444444444444,\"#bd3786\"],[0.5555555555555556,\"#d8576b\"],[0.6666666666666666,\"#ed7953\"],[0.7777777777777778,\"#fb9f3a\"],[0.8888888888888888,\"#fdca26\"],[1.0,\"#f0f921\"]]}],\"mesh3d\":[{\"type\":\"mesh3d\",\"colorbar\":{\"outlinewidth\":0,\"ticks\":\"\"}}],\"scatter\":[{\"fillpattern\":{\"fillmode\":\"overlay\",\"size\":10,\"solidity\":0.2},\"type\":\"scatter\"}],\"parcoords\":[{\"type\":\"parcoords\",\"line\":{\"colorbar\":{\"outlinewidth\":0,\"ticks\":\"\"}}}],\"scatterpolargl\":[{\"type\":\"scatterpolargl\",\"marker\":{\"colorbar\":{\"outlinewidth\":0,\"ticks\":\"\"}}}],\"bar\":[{\"error_x\":{\"color\":\"#2a3f5f\"},\"error_y\":{\"color\":\"#2a3f5f\"},\"marker\":{\"line\":{\"color\":\"#E5ECF6\",\"width\":0.5},\"pattern\":{\"fillmode\":\"overlay\",\"size\":10,\"solidity\":0.2}},\"type\":\"bar\"}],\"scattergeo\":[{\"type\":\"scattergeo\",\"marker\":{\"colorbar\":{\"outlinewidth\":0,\"ticks\":\"\"}}}],\"scatterpolar\":[{\"type\":\"scatterpolar\",\"marker\":{\"colorbar\":{\"outlinewidth\":0,\"ticks\":\"\"}}}],\"histogram\":[{\"marker\":{\"pattern\":{\"fillmode\":\"overlay\",\"size\":10,\"solidity\":0.2}},\"type\":\"histogram\"}],\"scattergl\":[{\"type\":\"scattergl\",\"marker\":{\"colorbar\":{\"outlinewidth\":0,\"ticks\":\"\"}}}],\"scatter3d\":[{\"type\":\"scatter3d\",\"line\":{\"colorbar\":{\"outlinewidth\":0,\"ticks\":\"\"}},\"marker\":{\"colorbar\":{\"outlinewidth\":0,\"ticks\":\"\"}}}],\"scattermapbox\":[{\"type\":\"scattermapbox\",\"marker\":{\"colorbar\":{\"outlinewidth\":0,\"ticks\":\"\"}}}],\"scatterternary\":[{\"type\":\"scatterternary\",\"marker\":{\"colorbar\":{\"outlinewidth\":0,\"ticks\":\"\"}}}],\"scattercarpet\":[{\"type\":\"scattercarpet\",\"marker\":{\"colorbar\":{\"outlinewidth\":0,\"ticks\":\"\"}}}],\"carpet\":[{\"aaxis\":{\"endlinecolor\":\"#2a3f5f\",\"gridcolor\":\"white\",\"linecolor\":\"white\",\"minorgridcolor\":\"white\",\"startlinecolor\":\"#2a3f5f\"},\"baxis\":{\"endlinecolor\":\"#2a3f5f\",\"gridcolor\":\"white\",\"linecolor\":\"white\",\"minorgridcolor\":\"white\",\"startlinecolor\":\"#2a3f5f\"},\"type\":\"carpet\"}],\"table\":[{\"cells\":{\"fill\":{\"color\":\"#EBF0F8\"},\"line\":{\"color\":\"white\"}},\"header\":{\"fill\":{\"color\":\"#C8D4E3\"},\"line\":{\"color\":\"white\"}},\"type\":\"table\"}],\"barpolar\":[{\"marker\":{\"line\":{\"color\":\"#E5ECF6\",\"width\":0.5},\"pattern\":{\"fillmode\":\"overlay\",\"size\":10,\"solidity\":0.2}},\"type\":\"barpolar\"}],\"pie\":[{\"automargin\":true,\"type\":\"pie\"}]},\"layout\":{\"autotypenumbers\":\"strict\",\"colorway\":[\"#636efa\",\"#EF553B\",\"#00cc96\",\"#ab63fa\",\"#FFA15A\",\"#19d3f3\",\"#FF6692\",\"#B6E880\",\"#FF97FF\",\"#FECB52\"],\"font\":{\"color\":\"#2a3f5f\"},\"hovermode\":\"closest\",\"hoverlabel\":{\"align\":\"left\"},\"paper_bgcolor\":\"white\",\"plot_bgcolor\":\"#E5ECF6\",\"polar\":{\"bgcolor\":\"#E5ECF6\",\"angularaxis\":{\"gridcolor\":\"white\",\"linecolor\":\"white\",\"ticks\":\"\"},\"radialaxis\":{\"gridcolor\":\"white\",\"linecolor\":\"white\",\"ticks\":\"\"}},\"ternary\":{\"bgcolor\":\"#E5ECF6\",\"aaxis\":{\"gridcolor\":\"white\",\"linecolor\":\"white\",\"ticks\":\"\"},\"baxis\":{\"gridcolor\":\"white\",\"linecolor\":\"white\",\"ticks\":\"\"},\"caxis\":{\"gridcolor\":\"white\",\"linecolor\":\"white\",\"ticks\":\"\"}},\"coloraxis\":{\"colorbar\":{\"outlinewidth\":0,\"ticks\":\"\"}},\"colorscale\":{\"sequential\":[[0.0,\"#0d0887\"],[0.1111111111111111,\"#46039f\"],[0.2222222222222222,\"#7201a8\"],[0.3333333333333333,\"#9c179e\"],[0.4444444444444444,\"#bd3786\"],[0.5555555555555556,\"#d8576b\"],[0.6666666666666666,\"#ed7953\"],[0.7777777777777778,\"#fb9f3a\"],[0.8888888888888888,\"#fdca26\"],[1.0,\"#f0f921\"]],\"sequentialminus\":[[0.0,\"#0d0887\"],[0.1111111111111111,\"#46039f\"],[0.2222222222222222,\"#7201a8\"],[0.3333333333333333,\"#9c179e\"],[0.4444444444444444,\"#bd3786\"],[0.5555555555555556,\"#d8576b\"],[0.6666666666666666,\"#ed7953\"],[0.7777777777777778,\"#fb9f3a\"],[0.8888888888888888,\"#fdca26\"],[1.0,\"#f0f921\"]],\"diverging\":[[0,\"#8e0152\"],[0.1,\"#c51b7d\"],[0.2,\"#de77ae\"],[0.3,\"#f1b6da\"],[0.4,\"#fde0ef\"],[0.5,\"#f7f7f7\"],[0.6,\"#e6f5d0\"],[0.7,\"#b8e186\"],[0.8,\"#7fbc41\"],[0.9,\"#4d9221\"],[1,\"#276419\"]]},\"xaxis\":{\"gridcolor\":\"white\",\"linecolor\":\"white\",\"ticks\":\"\",\"title\":{\"standoff\":15},\"zerolinecolor\":\"white\",\"automargin\":true,\"zerolinewidth\":2},\"yaxis\":{\"gridcolor\":\"white\",\"linecolor\":\"white\",\"ticks\":\"\",\"title\":{\"standoff\":15},\"zerolinecolor\":\"white\",\"automargin\":true,\"zerolinewidth\":2},\"scene\":{\"xaxis\":{\"backgroundcolor\":\"#E5ECF6\",\"gridcolor\":\"white\",\"linecolor\":\"white\",\"showbackground\":true,\"ticks\":\"\",\"zerolinecolor\":\"white\",\"gridwidth\":2},\"yaxis\":{\"backgroundcolor\":\"#E5ECF6\",\"gridcolor\":\"white\",\"linecolor\":\"white\",\"showbackground\":true,\"ticks\":\"\",\"zerolinecolor\":\"white\",\"gridwidth\":2},\"zaxis\":{\"backgroundcolor\":\"#E5ECF6\",\"gridcolor\":\"white\",\"linecolor\":\"white\",\"showbackground\":true,\"ticks\":\"\",\"zerolinecolor\":\"white\",\"gridwidth\":2}},\"shapedefaults\":{\"line\":{\"color\":\"#2a3f5f\"}},\"annotationdefaults\":{\"arrowcolor\":\"#2a3f5f\",\"arrowhead\":0,\"arrowwidth\":1},\"geo\":{\"bgcolor\":\"white\",\"landcolor\":\"#E5ECF6\",\"subunitcolor\":\"white\",\"showland\":true,\"showlakes\":true,\"lakecolor\":\"white\"},\"title\":{\"x\":0.05},\"mapbox\":{\"style\":\"light\"}}},\"autosize\":false,\"width\":1800},                        {\"responsive\": true}                    ).then(function(){\n",
       "                            \n",
       "var gd = document.getElementById('4eed839b-aec2-4b13-85c4-fd29e85ff607');\n",
       "var x = new MutationObserver(function (mutations, observer) {{\n",
       "        var display = window.getComputedStyle(gd).display;\n",
       "        if (!display || display === 'none') {{\n",
       "            console.log([gd, 'removed!']);\n",
       "            Plotly.purge(gd);\n",
       "            observer.disconnect();\n",
       "        }}\n",
       "}});\n",
       "\n",
       "// Listen for the removal of the full notebook cells\n",
       "var notebookContainer = gd.closest('#notebook-container');\n",
       "if (notebookContainer) {{\n",
       "    x.observe(notebookContainer, {childList: true});\n",
       "}}\n",
       "\n",
       "// Listen for the clearing of the current output cell\n",
       "var outputEl = gd.closest('.output');\n",
       "if (outputEl) {{\n",
       "    x.observe(outputEl, {childList: true});\n",
       "}}\n",
       "\n",
       "                        })                };                });            </script>        </div>"
      ]
     },
     "metadata": {},
     "output_type": "display_data"
    }
   ],
   "source": [
    "fig = explanation.ipython_fig()\n",
    "fig.update_layout(autosize=False, width=1800)"
   ]
  }
 ],
 "metadata": {
  "kernelspec": {
   "display_name": "ml4ir",
   "language": "python",
   "name": "ml4ir"
  },
  "language_info": {
   "codemirror_mode": {
    "name": "ipython",
    "version": 3
   },
   "file_extension": ".py",
   "mimetype": "text/x-python",
   "name": "python",
   "nbconvert_exporter": "python",
   "pygments_lexer": "ipython3",
   "version": "3.7.13"
  }
 },
 "nbformat": 4,
 "nbformat_minor": 2
}
