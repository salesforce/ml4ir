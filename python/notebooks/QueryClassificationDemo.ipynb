{
 "cells": [
  {
   "cell_type": "code",
   "execution_count": 19,
   "metadata": {},
   "outputs": [
    {
     "name": "stderr",
     "output_type": "stream",
     "text": [
      "DEBUG:root:Logger is initialized...\n"
     ]
    }
   ],
   "source": [
    "from ml4ir.io import file_io\n",
    "import glob\n",
    "import logging\n",
    "\n",
    "# Setup logging\n",
    "logger = logging.getLogger()\n",
    "logger.setLevel(logging.DEBUG)\n",
    "logging.debug(\"Logger is initialized...\")"
   ]
  },
  {
   "cell_type": "code",
   "execution_count": 16,
   "metadata": {},
   "outputs": [],
   "source": [
    "train_df = file_io.read_df_list(glob.glob(\n",
    "    '/Users/ashish.srinivasa/search_relevance/data/clicks_with_categories/train/*.csv'), log=log)\n",
    "val_df = file_io.read_df_list(glob.glob(\n",
    "    '/Users/ashish.srinivasa/search_relevance/data/clicks_with_categories/train/*.csv'), log=log)\n",
    "test_df = file_io.read_df_list(glob.glob(\n",
    "    '/Users/ashish.srinivasa/search_relevance/data/clicks_with_categories/train/*.csv'), log=log)"
   ]
  },
  {
   "cell_type": "code",
   "execution_count": 14,
   "metadata": {},
   "outputs": [
    {
     "data": {
      "text/html": [
       "<div>\n",
       "<style scoped>\n",
       "    .dataframe tbody tr th:only-of-type {\n",
       "        vertical-align: middle;\n",
       "    }\n",
       "\n",
       "    .dataframe tbody tr th {\n",
       "        vertical-align: top;\n",
       "    }\n",
       "\n",
       "    .dataframe thead th {\n",
       "        text-align: right;\n",
       "    }\n",
       "</style>\n",
       "<table border=\"1\" class=\"dataframe\">\n",
       "  <thead>\n",
       "    <tr style=\"text-align: right;\">\n",
       "      <th></th>\n",
       "      <th>0</th>\n",
       "      <th>1</th>\n",
       "      <th>2</th>\n",
       "      <th>3</th>\n",
       "      <th>4</th>\n",
       "    </tr>\n",
       "  </thead>\n",
       "  <tbody>\n",
       "    <tr>\n",
       "      <th>userId</th>\n",
       "      <td>000000df17cd56a5df4a94074e133c9d4739fae3</td>\n",
       "      <td>000001928162247ffaf63185cd8b2a244c78e7c6</td>\n",
       "      <td>000017f79c2b5da56721f22f9fdd726b13daf8e8</td>\n",
       "      <td>000017f79c2b5da56721f22f9fdd726b13daf8e8</td>\n",
       "      <td>000017f79c2b5da56721f22f9fdd726b13daf8e8</td>\n",
       "    </tr>\n",
       "    <tr>\n",
       "      <th>productId</th>\n",
       "      <td>2125233</td>\n",
       "      <td>2009324</td>\n",
       "      <td>1517163</td>\n",
       "      <td>2877125</td>\n",
       "      <td>2877134</td>\n",
       "    </tr>\n",
       "    <tr>\n",
       "      <th>category</th>\n",
       "      <td>abcat0101001</td>\n",
       "      <td>abcat0101001</td>\n",
       "      <td>pcmcat193100050014</td>\n",
       "      <td>abcat0101001</td>\n",
       "      <td>abcat0101005</td>\n",
       "    </tr>\n",
       "    <tr>\n",
       "      <th>queryString</th>\n",
       "      <td>Televisiones Panasonic  50 pulgadas</td>\n",
       "      <td>Sharp</td>\n",
       "      <td>nook</td>\n",
       "      <td>rca</td>\n",
       "      <td>rca</td>\n",
       "    </tr>\n",
       "    <tr>\n",
       "      <th>clickTime</th>\n",
       "      <td>2011-09-01 23:44:52.533</td>\n",
       "      <td>2011-09-05 12:25:37.42</td>\n",
       "      <td>2011-08-24 12:56:58.91</td>\n",
       "      <td>2011-10-25 07:18:14.722</td>\n",
       "      <td>2011-10-25 07:19:51.697</td>\n",
       "    </tr>\n",
       "    <tr>\n",
       "      <th>queryTime</th>\n",
       "      <td>2011-09-01 23:43:59.752</td>\n",
       "      <td>2011-09-05 12:25:01.187</td>\n",
       "      <td>2011-08-24 12:55:13.012</td>\n",
       "      <td>2011-10-25 07:16:51.759</td>\n",
       "      <td>2011-10-25 07:16:51.759</td>\n",
       "    </tr>\n",
       "    <tr>\n",
       "      <th>clickTimeEpochSecs</th>\n",
       "      <td>1.31495e+09</td>\n",
       "      <td>1.31525e+09</td>\n",
       "      <td>1.31422e+09</td>\n",
       "      <td>1.31955e+09</td>\n",
       "      <td>1.31955e+09</td>\n",
       "    </tr>\n",
       "    <tr>\n",
       "      <th>queryTimeEpochSecs</th>\n",
       "      <td>1.31495e+09</td>\n",
       "      <td>1.31525e+09</td>\n",
       "      <td>1.31422e+09</td>\n",
       "      <td>1.31955e+09</td>\n",
       "      <td>1.31955e+09</td>\n",
       "    </tr>\n",
       "    <tr>\n",
       "      <th>categoryName</th>\n",
       "      <td>All Flat-Panel TVs</td>\n",
       "      <td>All Flat-Panel TVs</td>\n",
       "      <td>E-Reader Devices</td>\n",
       "      <td>All Flat-Panel TVs</td>\n",
       "      <td>TV/DVD Combos</td>\n",
       "    </tr>\n",
       "  </tbody>\n",
       "</table>\n",
       "</div>"
      ],
      "text/plain": [
       "                                                           0  \\\n",
       "userId              000000df17cd56a5df4a94074e133c9d4739fae3   \n",
       "productId                                            2125233   \n",
       "category                                        abcat0101001   \n",
       "queryString              Televisiones Panasonic  50 pulgadas   \n",
       "clickTime                            2011-09-01 23:44:52.533   \n",
       "queryTime                            2011-09-01 23:43:59.752   \n",
       "clickTimeEpochSecs                               1.31495e+09   \n",
       "queryTimeEpochSecs                               1.31495e+09   \n",
       "categoryName                              All Flat-Panel TVs   \n",
       "\n",
       "                                                           1  \\\n",
       "userId              000001928162247ffaf63185cd8b2a244c78e7c6   \n",
       "productId                                            2009324   \n",
       "category                                        abcat0101001   \n",
       "queryString                                            Sharp   \n",
       "clickTime                             2011-09-05 12:25:37.42   \n",
       "queryTime                            2011-09-05 12:25:01.187   \n",
       "clickTimeEpochSecs                               1.31525e+09   \n",
       "queryTimeEpochSecs                               1.31525e+09   \n",
       "categoryName                              All Flat-Panel TVs   \n",
       "\n",
       "                                                           2  \\\n",
       "userId              000017f79c2b5da56721f22f9fdd726b13daf8e8   \n",
       "productId                                            1517163   \n",
       "category                                  pcmcat193100050014   \n",
       "queryString                                             nook   \n",
       "clickTime                             2011-08-24 12:56:58.91   \n",
       "queryTime                            2011-08-24 12:55:13.012   \n",
       "clickTimeEpochSecs                               1.31422e+09   \n",
       "queryTimeEpochSecs                               1.31422e+09   \n",
       "categoryName                                E-Reader Devices   \n",
       "\n",
       "                                                           3  \\\n",
       "userId              000017f79c2b5da56721f22f9fdd726b13daf8e8   \n",
       "productId                                            2877125   \n",
       "category                                        abcat0101001   \n",
       "queryString                                              rca   \n",
       "clickTime                            2011-10-25 07:18:14.722   \n",
       "queryTime                            2011-10-25 07:16:51.759   \n",
       "clickTimeEpochSecs                               1.31955e+09   \n",
       "queryTimeEpochSecs                               1.31955e+09   \n",
       "categoryName                              All Flat-Panel TVs   \n",
       "\n",
       "                                                           4  \n",
       "userId              000017f79c2b5da56721f22f9fdd726b13daf8e8  \n",
       "productId                                            2877134  \n",
       "category                                        abcat0101005  \n",
       "queryString                                              rca  \n",
       "clickTime                            2011-10-25 07:19:51.697  \n",
       "queryTime                            2011-10-25 07:16:51.759  \n",
       "clickTimeEpochSecs                               1.31955e+09  \n",
       "queryTimeEpochSecs                               1.31955e+09  \n",
       "categoryName                                   TV/DVD Combos  "
      ]
     },
     "execution_count": 14,
     "metadata": {},
     "output_type": "execute_result"
    }
   ],
   "source": [
    "df.head().T"
   ]
  },
  {
   "cell_type": "code",
   "execution_count": 18,
   "metadata": {},
   "outputs": [
    {
     "data": {
      "text/plain": [
       "(1549043, 9)"
      ]
     },
     "execution_count": 18,
     "metadata": {},
     "output_type": "execute_result"
    }
   ],
   "source": [
    "df.shape"
   ]
  },
  {
   "cell_type": "code",
   "execution_count": 13,
   "metadata": {},
   "outputs": [
    {
     "data": {
      "text/plain": [
       "Movies & TV Shows            15090\n",
       "All Flat-Panel TVs            6877\n",
       "PC Laptops                    6674\n",
       "Tablets                       6216\n",
       "All Headphones                3713\n",
       "                             ...  \n",
       "Cymbals                          1\n",
       "PS2 Games                        1\n",
       "Wall Ovens                       1\n",
       "San Diego Chargers               1\n",
       "Guitar Tone & Bridge Pins        1\n",
       "Name: categoryName, Length: 1226, dtype: int64"
      ]
     },
     "execution_count": 13,
     "metadata": {},
     "output_type": "execute_result"
    }
   ],
   "source": [
    "df.categoryName.value_counts()"
   ]
  },
  {
   "cell_type": "code",
   "execution_count": 15,
   "metadata": {},
   "outputs": [
    {
     "data": {
      "text/plain": [
       "2842056    1965\n",
       "2842092    1113\n",
       "1945531    1020\n",
       "9755322     991\n",
       "9225377     958\n",
       "           ... \n",
       "8304122       1\n",
       "9356788       1\n",
       "7267824       1\n",
       "8803814       1\n",
       "9984203       1\n",
       "Name: productId, Length: 25576, dtype: int64"
      ]
     },
     "execution_count": 15,
     "metadata": {},
     "output_type": "execute_result"
    }
   ],
   "source": [
    "df.productId.value_counts()"
   ]
  },
  {
   "cell_type": "code",
   "execution_count": 23,
   "metadata": {
    "scrolled": false
   },
   "outputs": [
    {
     "data": {
      "text/plain": [
       "3703e0615ca499fef8df29887c39e9918be93182    41\n",
       "894855ee1622a7bf29566901db28108efd11726d    36\n",
       "307e4cf0596b825fbd80b58f2c8e0d24dd695d2d    34\n",
       "0ea5917dc7b832fa1718ce36cd5e5a877038def5    33\n",
       "3af61fb6166918fc5873d4684e75e808f2d44260    31\n",
       "                                            ..\n",
       "d687be208b9461733647d298138ec72f7bb84b2f     1\n",
       "ddb3fc9a5c18cd8002586b163a15fcb98a18f76c     1\n",
       "1198004de6e30290efb49283b409b6a6d189dd73     1\n",
       "97d6130c095c90f163960c0e821274d2a2cb5795     1\n",
       "fe0993c1a623fb319afa1278b69fcf218cb18bc2     1\n",
       "Name: userId, Length: 1053480, dtype: int64"
      ]
     },
     "execution_count": 23,
     "metadata": {},
     "output_type": "execute_result"
    }
   ],
   "source": [
    "df.userId.value_counts()"
   ]
  },
  {
   "cell_type": "code",
   "execution_count": null,
   "metadata": {},
   "outputs": [],
   "source": []
  }
 ],
 "metadata": {
  "kernelspec": {
   "display_name": "Python 3",
   "language": "python",
   "name": "python3"
  },
  "language_info": {
   "codemirror_mode": {
    "name": "ipython",
    "version": 3
   },
   "file_extension": ".py",
   "mimetype": "text/x-python",
   "name": "python",
   "nbconvert_exporter": "python",
   "pygments_lexer": "ipython3",
   "version": "3.7.4"
  }
 },
 "nbformat": 4,
 "nbformat_minor": 2
}
