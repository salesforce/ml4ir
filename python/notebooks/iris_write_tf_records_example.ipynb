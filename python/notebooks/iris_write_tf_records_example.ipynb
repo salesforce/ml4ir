{
 "cells": [
  {
   "cell_type": "code",
   "execution_count": null,
   "metadata": {},
   "outputs": [],
   "source": [
    "import glob\n",
    "import logging\n",
    "import pandas as pd\n",
    "import os\n",
    "import json\n",
    "from ml4ir.base.io import file_io\n",
    "from ml4ir.base.data import tfrecord_writer\n",
    "from sklearn.datasets import load_iris\n",
    "from ml4ir.base.features.feature_config import parse_config\n",
    "from ml4ir.base.features.feature_config import ExampleFeatureConfig\n",
    "from ml4ir.base.config.keys import TFRecordTypeKey\n",
    "\n",
    "\n",
    "# Setup logging\n",
    "logger = logging.getLogger()\n",
    "logger.setLevel(logging.DEBUG)\n",
    "logging.debug(\"Logger is initialized...\")\n"
   ]
  },
  {
   "cell_type": "code",
   "execution_count": null,
   "metadata": {},
   "outputs": [],
   "source": [
    "# Create the a dataframe for iris\n",
    "df = load_iris()\n",
    "df.feature_names = [x[0]+x.split()[1] for x in df.feature_names] # making feature names shorter e.g., sepal length (cm) -> s_length \n",
    "data = pd.DataFrame(df.data, columns=df.feature_names)\n",
    "data['label'] = df['target']\n",
    "data['query_key'] = data.index"
   ]
  },
  {
   "cell_type": "code",
   "execution_count": null,
   "metadata": {},
   "outputs": [],
   "source": [
    "data.head()"
   ]
  },
  {
   "cell_type": "code",
   "execution_count": null,
   "metadata": {},
   "outputs": [],
   "source": [
    "feature_config_yaml = '''\n",
    "query_key: \n",
    "  name: query_key\n",
    "  node_name: query_key\n",
    "  trainable: false\n",
    "  dtype: int64\n",
    "  log_at_inference: true\n",
    "  feature_layer_info:\n",
    "    type: numeric\n",
    "    shape: null\n",
    "  serving_info:\n",
    "    required: false\n",
    "    default_value: 0\n",
    "  tfrecord_type: context\n",
    "label:\n",
    "  name: label\n",
    "  node_name: label\n",
    "  trainable: false\n",
    "  dtype: int64\n",
    "  log_at_inference: true\n",
    "  feature_layer_info:\n",
    "    type: numeric\n",
    "    shape: null\n",
    "  serving_info:\n",
    "    required: false\n",
    "    default_value: 0\n",
    "  tfrecord_type: sequence\n",
    "features:\n",
    "  - name: slength\n",
    "    node_name: slength\n",
    "    trainable: true\n",
    "    dtype: float\n",
    "    log_at_inference: false\n",
    "    feature_layer_info:\n",
    "      type: numeric\n",
    "      shape: null\n",
    "    serving_info:\n",
    "      required: true\n",
    "      default_value: 0.0\n",
    "    tfrecord_type: sequence\n",
    "  - name: swidth\n",
    "    node_name: swidth\n",
    "    trainable: true\n",
    "    dtype: float\n",
    "    log_at_inference: false\n",
    "    feature_layer_info:\n",
    "      type: numeric\n",
    "      shape: null\n",
    "    serving_info:\n",
    "      required: true\n",
    "      default_value: 0.0\n",
    "    tfrecord_type: sequence\n",
    "  - name: plength\n",
    "    node_name: plength\n",
    "    trainable: true\n",
    "    dtype: float\n",
    "    log_at_inference: false\n",
    "    feature_layer_info:\n",
    "      type: numeric\n",
    "      shape: null\n",
    "    serving_info:\n",
    "      required: true\n",
    "      default_value: 0.0\n",
    "    tfrecord_type: sequence\n",
    "  - name: pwidth\n",
    "    node_name: pwidth\n",
    "    trainable: true\n",
    "    dtype: float\n",
    "    log_at_inference: false\n",
    "    feature_layer_info:\n",
    "      type: numeric\n",
    "      shape: null\n",
    "    serving_info:\n",
    "      required: true\n",
    "      default_value: 0.0\n",
    "    tfrecord_type: sequence\n",
    "'''"
   ]
  },
  {
   "cell_type": "code",
   "execution_count": null,
   "metadata": {},
   "outputs": [],
   "source": [
    "feature_config: ExampleFeatureConfig = parse_config(TFRecordTypeKey.EXAMPLE, feature_config_yaml, logger=logger)"
   ]
  },
  {
   "cell_type": "code",
   "execution_count": null,
   "metadata": {},
   "outputs": [],
   "source": [
    "\n",
    "# Save as TFRecord SequenceExample/Example\n",
    "TFRECORD_DIR = '/tmp/classification/'\n",
    "if not os.path.exists(TFRECORD_DIR):\n",
    "    os.makedirs(TFRECORD_DIR)\n",
    "tfrecord_writer.write_from_df(d,\n",
    "                              tfrecord_file=os.path.join(TFRECORD_DIR, 'file_0.tfrecord'),\n",
    "                              feature_config=feature_config,\n",
    "                              tfrecord_type=TFRecordTypeKey.EXAMPLE)\n",
    "\n",
    "# Let's see what it looks like\n",
    "df.head()"
   ]
  }
 ],
 "metadata": {
  "kernelspec": {
   "display_name": "Python 3",
   "language": "python",
   "name": "python3"
  },
  "language_info": {
   "codemirror_mode": {
    "name": "ipython",
    "version": 3
   },
   "file_extension": ".py",
   "mimetype": "text/x-python",
   "name": "python",
   "nbconvert_exporter": "python",
   "pygments_lexer": "ipython3",
   "version": "3.6.8"
  }
 },
 "nbformat": 4,
 "nbformat_minor": 2
}
