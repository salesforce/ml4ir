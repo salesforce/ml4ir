{
 "cells": [
  {
   "cell_type": "markdown",
   "metadata": {},
   "source": [
    "# Predicting with a trained model on ml4ir\n",
    "\n",
    "There are at least two ways to get predictions with a model trained on ml4ir. \n",
    "1. rely exclusively on TF\n",
    "2. load the Data+Model with ml4ir \n",
    "\n",
    "This notebooks investigates how to do it, assuming a classification model. "
   ]
  },
  {
   "cell_type": "markdown",
   "metadata": {},
   "source": [
    "## Way 1: Using TF only"
   ]
  },
  {
   "cell_type": "code",
   "execution_count": 15,
   "metadata": {},
   "outputs": [
    {
     "name": "stdout",
     "output_type": "stream",
     "text": [
      "2.0.1\n"
     ]
    }
   ],
   "source": [
    "import os, glob\n",
    "import numpy as np\n",
    "\n",
    "from tensorflow import data\n",
    "import tensorflow as tf\n",
    "from tensorflow.keras import models as kmodels\n",
    "\n",
    "\n",
    "print(tf.__version__)\n",
    "\n",
    "\n",
    "MODEL_DIR = \"/tmp/org62-verybig-smallmodelwobn-0.005-1024-ones/\"\n",
    "\n",
    "# Notice here: I am usign the tfrecord signature and model version.\n",
    "# This means that I will hit the model with tfrecords (the model will parse them internally)\n",
    "# There is the default signature too, that hits the model with tensors, meaning I need to do the preprocessing\n",
    "model = kmodels.load_model(os.path.join(MODEL_DIR, 'final/tfrecord/'), compile=False)\n",
    "infer_fn = model.signatures[\"serving_tfrecord\"]\n",
    "\n",
    "\n",
    "\n",
    "# These are logistics from training. Label mappings that were passed to TF in the feature config\n",
    "# to get indexes from labels\n",
    "# key_prefix file used in the feature_config \n",
    "\n",
    "key_prefixes = pd.read_csv(\"/tmp/key_prefix.csv\")\n",
    "id2label = dict(zip(key_prefixes.index, key_prefixes['clicked_key_prefix']))\n",
    "labeld2id = dict(zip( key_prefixes['clicked_key_prefix'], key_prefixes.index,))"
   ]
  },
  {
   "cell_type": "code",
   "execution_count": 16,
   "metadata": {},
   "outputs": [
    {
     "name": "stdout",
     "output_type": "stream",
     "text": [
      "CPU times: user 4.06 s, sys: 1.42 s, total: 5.48 s\n",
      "Wall time: 1.93 s\n"
     ]
    }
   ],
   "source": [
    "%%time\n",
    "\n",
    "# Here we are defining our tfrecord dataset. \n",
    "# it is an one-liner if the data are in tfrecords format already. \n",
    "dataset = data.TFRecordDataset(glob.glob(os.path.join('/tmp', \"test_ta\", \"part*\")))\n",
    "total_preds, total_labels = [], []\n",
    "i = 0\n",
    "# My ugly prediction loop, I am using large batches on purpose, since we are predicting\n",
    "for batch in dataset.batch(1024):\n",
    "    probs = infer_fn(protos=batch)\n",
    "    probs = probs['category_label'].numpy()\n",
    "    probs = probs [:, 0, :] # Squeeze on dim from predictions, because out classification predictions are 3-dim\n",
    "    total_preds.append(probs)\n",
    "    \n",
    "    \n",
    "    labels = [item.numpy()[-3:].decode(\"utf-8\") for item in batch] # A hachy way I used to get the actual label.\n",
    "    total_labels += labels\n",
    "    i +=1 \n",
    "\n",
    "# Everything happened to populate the following, a labels array (data_size,) and a preds array (data_size, labels_size)\n",
    "total_labels = np.array(total_labels)\n",
    "total_preds = np.array([item for sublist in total_preds for item in sublist])\n",
    "# From this point I can do any analysis I want\n",
    "\n",
    "# Open questions\n",
    "# Can I apply any function to the tfrecords on the fly? To avoid creating a new dataset.. \n",
    "# Example: instead of using the full query, I want to use only its first 3-chars"
   ]
  },
  {
   "cell_type": "code",
   "execution_count": 17,
   "metadata": {},
   "outputs": [
    {
     "data": {
      "text/plain": [
       "((1985,), (1985, 153))"
      ]
     },
     "execution_count": 17,
     "metadata": {},
     "output_type": "execute_result"
    }
   ],
   "source": [
    "total_labels.shape, total_preds.shape"
   ]
  },
  {
   "cell_type": "code",
   "execution_count": 71,
   "metadata": {},
   "outputs": [
    {
     "data": {
      "text/plain": [
       "0.0020453400503778335"
      ]
     },
     "execution_count": 71,
     "metadata": {},
     "output_type": "execute_result"
    }
   ],
   "source": [
    "4.06/1985"
   ]
  },
  {
   "cell_type": "markdown",
   "metadata": {},
   "source": [
    "## Way 2: using full ml4ir Relevance model, Relevance dataset definition\n",
    "\n",
    "Above, tfrecords are sent to the model, its `serving_tfrecord` signature. \n",
    "Now we will the ml4ir way. Recall, in ml4ir we define a model, a dataset (and other things) and all are brought together in a Relevance Model. \n",
    "The Relevance model has `.fit` and `.predict` that we can use on any part (train, validation, test) of the Relevance dataset. \n",
    "Doing this, has an advantage: it provides more flexibility that we can use in certain cases."
   ]
  },
  {
   "cell_type": "code",
   "execution_count": 72,
   "metadata": {},
   "outputs": [],
   "source": [
    "import json\n",
    "import yaml\n",
    "import logging\n",
    "import pandas as pd\n",
    "import os\n",
    "import tensorflow as tf\n",
    "from ml4ir.base.model.relevance_model import RelevanceModel\n",
    "from ml4ir.base.features.feature_config import FeatureConfig, ExampleFeatureConfig\n",
    "from ml4ir.base.config.keys import TFRecordTypeKey\n",
    "from ml4ir.applications.classification.model.losses import categorical_cross_entropy\n",
    "from ml4ir.base.model.scoring.interaction_model import InteractionModel, UnivariateInteractionModel\n",
    "from ml4ir.base.model.relevance_model import RelevanceModel\n",
    "from ml4ir.base.model.scoring.scoring_model import ScorerBase, RelevanceScorer\n",
    "from ml4ir.applications.ranking.model.metrics import metric_factory\n",
    "from ml4ir.base.model.relevance_model import RelevanceModel\n",
    "from ml4ir.base.config.keys import OptimizerKey\n",
    "from ml4ir.base.model.optimizer import get_optimizer\n",
    "from tensorflow.keras.optimizers import Optimizer\n",
    "from ml4ir.base.config.keys import DataFormatKey\n",
    "from ml4ir.base.data.relevance_dataset import RelevanceDataset\n",
    "from ml4ir.base.io.local_io import LocalIO, FileIO"
   ]
  },
  {
   "cell_type": "code",
   "execution_count": 74,
   "metadata": {},
   "outputs": [],
   "source": [
    "# Setup logging\n",
    "logger = logging.getLogger()\n",
    "logger.setLevel(logging.DEBUG)\n",
    "tf.get_logger().setLevel('INFO')\n",
    "\n",
    "# Define FileIO, can be LocalIO or SparkIO. Here we are working locally, no need for HDFS\n",
    "file_io: FileIO = LocalIO(logger)\n",
    "\n"
   ]
  },
  {
   "cell_type": "code",
   "execution_count": 118,
   "metadata": {},
   "outputs": [],
   "source": [
    "# Let's define out feature config (the same we used for training)\n",
    "feature_config = FeatureConfig.get_instance(\n",
    "    tfrecord_type=TFRecordTypeKey.EXAMPLE,\n",
    "    feature_config_dict=yaml.safe_load(open(\"/Users/gbalikas/PycharmProjects/MLConfigs/ml4ir/entity_prediction/configs/feature_config.yaml\")),\n",
    "    logger=logger)"
   ]
  },
  {
   "cell_type": "code",
   "execution_count": 81,
   "metadata": {},
   "outputs": [],
   "source": [
    "# Define interaction model\n",
    "interaction_model = UnivariateInteractionModel(\n",
    "    feature_config=feature_config,\n",
    "    feature_layer_keys_to_fns={},\n",
    "    tfrecord_type=TFRecordTypeKey.EXAMPLE,\n",
    "    file_io=file_io,\n",
    ")\n",
    "\n",
    "# Define loss object from loss key\n",
    "loss = categorical_cross_entropy.get_loss(loss_key='categorical_cross_entropy')\n",
    "\n",
    "# Define scorer\n",
    "scorer = RelevanceScorer.from_model_config_file(\n",
    "    model_config_file=\"/Users/gbalikas/PycharmProjects/MLConfigs/model_config.yaml\",\n",
    "    feature_config=feature_config,\n",
    "    interaction_model=interaction_model,\n",
    "    loss=loss,\n",
    "    output_name='category_label',\n",
    "    logger=logger,\n",
    "    file_io=file_io,\n",
    ")\n",
    "\n",
    "# Define metrics objects from metrics keys\n",
    "metrics= [\n",
    "    metric_factory.get_metric(metric_key=metric_key) for metric_key in ['categorical_accuracy']\n",
    "]\n",
    "\n",
    "# Define optimizer\n",
    "optimizer: Optimizer = get_optimizer(\n",
    "    optimizer_key='adam',\n",
    "    learning_rate=0.01,\n",
    "    learning_rate_decay=1,\n",
    "    learning_rate_decay_steps=100,\n",
    ")\n"
   ]
  },
  {
   "cell_type": "code",
   "execution_count": 82,
   "metadata": {},
   "outputs": [
    {
     "name": "stderr",
     "output_type": "stream",
     "text": [
      "Retraining is not yet supported. Model is loaded with compile=False\n"
     ]
    }
   ],
   "source": [
    "# define relevance model\n",
    "relevance_model = RelevanceModel(\n",
    "        feature_config=feature_config,\n",
    "        scorer=scorer,\n",
    "        metrics=metrics,\n",
    "        optimizer=optimizer,\n",
    "        tfrecord_type=TFRecordTypeKey.EXAMPLE,\n",
    "        output_name=\"category_label\", # this needs to be the one we used when training the model\n",
    "        file_io=file_io,\n",
    "        logger=logger, \n",
    "        model_file=\"/tmp/org62-verybig-smallmodelwobn-0.005-1024-ones/checkpoint.tf/\",\n",
    "    compile_keras_model=False\n",
    "    )\n"
   ]
  },
  {
   "cell_type": "code",
   "execution_count": null,
   "metadata": {},
   "outputs": [],
   "source": []
  },
  {
   "cell_type": "code",
   "execution_count": 83,
   "metadata": {},
   "outputs": [
    {
     "name": "stdout",
     "output_type": "stream",
     "text": [
      "{'prediction_id': FixedLenFeature(shape=[], dtype='string', default_value=''), 'clicked_key_prefix': FixedLenFeature(shape=[], dtype='string', default_value=''), 'query': FixedLenFeature(shape=[], dtype='string', default_value=''), 'organization_id': FixedLenFeature(shape=[], dtype='string', default_value=''), 'smart_scope_order': FixedLenFeature(shape=[], dtype='string', default_value='')}\n",
      "{'prediction_id': FixedLenFeature(shape=[], dtype='string', default_value=''), 'clicked_key_prefix': FixedLenFeature(shape=[], dtype='string', default_value=''), 'query': FixedLenFeature(shape=[], dtype='string', default_value=''), 'organization_id': FixedLenFeature(shape=[], dtype='string', default_value=''), 'smart_scope_order': FixedLenFeature(shape=[], dtype='string', default_value='')}\n",
      "{'prediction_id': FixedLenFeature(shape=[], dtype='string', default_value=''), 'clicked_key_prefix': FixedLenFeature(shape=[], dtype='string', default_value=''), 'query': FixedLenFeature(shape=[], dtype='string', default_value=''), 'organization_id': FixedLenFeature(shape=[], dtype='string', default_value=''), 'smart_scope_order': FixedLenFeature(shape=[], dtype='string', default_value='')}\n"
     ]
    }
   ],
   "source": [
    "# Define relevance Dataset\n",
    "relevance_dataset = RelevanceDataset(\n",
    "        data_dir=\"/tmp/dataset\", # I created a dir `/tmp/dataset`, with `train`, `validation` being empty \n",
    "        data_format=DataFormatKey.TFRECORD,\n",
    "        feature_config=feature_config,\n",
    "        tfrecord_type=TFRecordTypeKey.EXAMPLE,\n",
    "        batch_size=1024,\n",
    "        preprocessing_keys_to_fns={},\n",
    "        file_io=file_io, use_part_files=True,\n",
    "        logger=logger\n",
    "    )\n"
   ]
  },
  {
   "cell_type": "code",
   "execution_count": 84,
   "metadata": {},
   "outputs": [
    {
     "name": "stdout",
     "output_type": "stream",
     "text": [
      "WARNING:tensorflow:Unresolved object in checkpoint: (root).layer-4.lookup_table._initializer\n",
      "WARNING:tensorflow:A checkpoint was restored (e.g. tf.train.Checkpoint.restore or tf.keras.Model.load_weights) but not all checkpointed values were used. See above for specific issues. Use expect_partial() on the load status object, e.g. tf.train.Checkpoint.restore(...).expect_partial(), to silence these warnings, or use assert_consumed() to make the check explicit. See https://www.tensorflow.org/alpha/guide/checkpoints#loading_mechanics for details.\n",
      "WARNING:tensorflow:Unresolved object in checkpoint: (root).layer-4.lookup_table._initializer\n",
      "WARNING:tensorflow:A checkpoint was restored (e.g. tf.train.Checkpoint.restore or tf.keras.Model.load_weights) but not all checkpointed values were used. See above for specific issues. Use expect_partial() on the load status object, e.g. tf.train.Checkpoint.restore(...).expect_partial(), to silence these warnings, or use assert_consumed() to make the check explicit. See https://www.tensorflow.org/alpha/guide/checkpoints#loading_mechanics for details.\n",
      "WARNING:tensorflow:Unresolved object in checkpoint: (root).layer-4.lookup_table._initializer\n",
      "WARNING:tensorflow:A checkpoint was restored (e.g. tf.train.Checkpoint.restore or tf.keras.Model.load_weights) but not all checkpointed values were used. See above for specific issues. Use expect_partial() on the load status object, e.g. tf.train.Checkpoint.restore(...).expect_partial(), to silence these warnings, or use assert_consumed() to make the check explicit. See https://www.tensorflow.org/alpha/guide/checkpoints#loading_mechanics for details.\n",
      "CPU times: user 7min 24s, sys: 1min 48s, total: 9min 12s\n",
      "Wall time: 8min 39s\n"
     ]
    }
   ],
   "source": [
    "%%time\n",
    "preds = relevance_model.predict(relevance_dataset.test,inference_signature='serving_default')"
   ]
  },
  {
   "cell_type": "code",
   "execution_count": 89,
   "metadata": {},
   "outputs": [
    {
     "data": {
      "text/html": [
       "<div>\n",
       "<style scoped>\n",
       "    .dataframe tbody tr th:only-of-type {\n",
       "        vertical-align: middle;\n",
       "    }\n",
       "\n",
       "    .dataframe tbody tr th {\n",
       "        vertical-align: top;\n",
       "    }\n",
       "\n",
       "    .dataframe thead th {\n",
       "        text-align: right;\n",
       "    }\n",
       "</style>\n",
       "<table border=\"1\" class=\"dataframe\">\n",
       "  <thead>\n",
       "    <tr style=\"text-align: right;\">\n",
       "      <th></th>\n",
       "      <th>prediction_id</th>\n",
       "      <th>clicked_key_prefix</th>\n",
       "      <th>query</th>\n",
       "      <th>query_words</th>\n",
       "      <th>organization_id</th>\n",
       "      <th>smart_scope_order</th>\n",
       "      <th>category_label</th>\n",
       "    </tr>\n",
       "  </thead>\n",
       "  <tbody>\n",
       "    <tr>\n",
       "      <th>0</th>\n",
       "      <td>b'-10jd4gnxu07sq'</td>\n",
       "      <td>b'500'</td>\n",
       "      <td>b'7276897'</td>\n",
       "      <td>(tf.Tensor(b'7276897', shape=(), dtype=string), tf.Tensor(b'', shape=(), dtype=string), tf.Tensor(b'', shape=(), dtype=string), tf.Tensor(b'', shape=(), dtype=string), tf.Tensor(b'', shape=(), dtype=string), tf.Tensor(b'', shape=(), dtype=string), tf.Tensor(b'', shape=(), dtype=string), tf.Tensor(b'', shape=(), dtype=string), tf.Tensor(b'', shape=(), dtype=string), tf.Tensor(b'', shape=(), dtype=string), tf.Tensor(b'', shape=(), dtype=string), tf.Tensor(b'', shape=(), dtype=string), tf.Tensor(b'', shape=(), dtype=string), tf.Tensor(b'', shape=(), dtype=string), tf.Tensor(b'', shape=(), dtype=string), tf.Tensor(b'', shape=(), dtype=string), tf.Tensor(b'', shape=(), dtype=string), tf.Tensor(b'', shape=(), dtype=string), tf.Tensor(b'', shape=(), dtype=string), tf.Tensor(b'', shape=(), dtype=string))</td>\n",
       "      <td>b'00D000000000062'</td>\n",
       "      <td>(tf.Tensor(b'005', shape=(), dtype=string), tf.Tensor(b'500', shape=(), dtype=string), tf.Tensor(b'003', shape=(), dtype=string), tf.Tensor(b'ka#', shape=(), dtype=string), tf.Tensor(b'00O', shape=(), dtype=string), tf.Tensor(b'a1h', shape=(), dtype=string), tf.Tensor(b'02u', shape=(), dtype=string), tf.Tensor(b'087', shape=(), dtype=string), tf.Tensor(b'00h', shape=(), dtype=string), tf.Tensor(b'0PS', shape=(), dtype=string), tf.Tensor(b'aCH', shape=(), dtype=string), tf.Tensor(b'069', shape=(), dtype=string), tf.Tensor(b'0XC', shape=(), dtype=string), tf.Tensor(b'0F9', shape=(), dtype=string), tf.Tensor(b'066', shape=(), dtype=string), tf.Tensor(b'1Y3', shape=(), dtype=string), tf.Tensor(b'570', shape=(), dtype=string), tf.Tensor(b'00B', shape=(), dtype=string), tf.Tensor(b'00Q', shape=(), dtype=string), tf.Tensor(b'00U', shape=(), dtype=string))</td>\n",
       "      <td>(tf.Tensor(0.99960655, shape=(), dtype=float32), tf.Tensor(5.9950075e-08, shape=(), dtype=float32), tf.Tensor(0.0003809429, shape=(), dtype=float32), tf.Tensor(1.2930159e-13, shape=(), dtype=float32), tf.Tensor(2.5508744e-09, shape=(), dtype=float32), tf.Tensor(2.5188523e-10, shape=(), dtype=float32), tf.Tensor(1.0457474e-05, shape=(), dtype=float32), tf.Tensor(1.4054472e-20, shape=(), dtype=float32), tf.Tensor(6.1807084e-16, shape=(), dtype=float32), tf.Tensor(5.613605e-21, shape=(), dtype=float32), tf.Tensor(1.7621737e-20, shape=(), dtype=float32), tf.Tensor(1.1596228e-20, shape=(), dtype=float32), tf.Tensor(2.592608e-12, shape=(), dtype=float32), tf.Tensor(3.1163613e-20, shape=(), dtype=float32), tf.Tensor(1.2295745e-15, shape=(), dtype=float32), tf.Tensor(5.0482523e-20, shape=(), dtype=float32), tf.Tensor(1.9953651e-20, shape=(), dtype=float32), tf.Tensor(1.2083234e-25, shape=(), dtype=float32), tf.Tensor(7.857907e-20, shape=(), dtype=float32), tf.Tensor(1.8853005e-20, shape=(), dtype=float32), tf.Tensor(3.7720486e-20, shape=(), dtype=float32), tf.Tensor(2.0098994e-12, shape=(), dtype=float32), tf.Tensor(1.1906604e-06, shape=(), dtype=float32), tf.Tensor(3.1496368e-18, shape=(), dtype=float32), tf.Tensor(4.1222506e-17, shape=(), dtype=float32), tf.Tensor(1.0780542e-20, shape=(), dtype=float32), tf.Tensor(1.0634542e-31, shape=(), dtype=float32), tf.Tensor(5.3388733e-21, shape=(), dtype=float32), tf.Tensor(3.009256e-20, shape=(), dtype=float32), tf.Tensor(4.904398e-07, shape=(), dtype=float32), tf.Tensor(1.7494373e-24, shape=(), dtype=float32), tf.Tensor(1.1667623e-20, shape=(), dtype=float32), tf.Tensor(2.6727887e-24, shape=(), dtype=float32), tf.Tensor(1.4577255e-20, shape=(), dtype=float32), tf.Tensor(6.4087183e-27, shape=(), dtype=float32), tf.Tensor(1.0694527e-20, shape=(), dtype=float32), tf.Tensor(9.351022e-20, shape=(), dtype=float32), tf.Tensor(2.344431e-07, shape=(), dtype=float32), tf.Tensor(2.7991737e-20, shape=(), dtype=float32), tf.Tensor(1.3077041e-20, shape=(), dtype=float32), tf.Tensor(4.125249e-20, shape=(), dtype=float32), tf.Tensor(5.7446925e-20, shape=(), dtype=float32), tf.Tensor(1.04267215e-20, shape=(), dtype=float32), tf.Tensor(1.7593056e-20, shape=(), dtype=float32), tf.Tensor(6.803406e-21, shape=(), dtype=float32), tf.Tensor(8.68809e-21, shape=(), dtype=float32), tf.Tensor(4.0961292e-20, shape=(), dtype=float32), tf.Tensor(2.159777e-20, shape=(), dtype=float32), tf.Tensor(1.3935741e-20, shape=(), dtype=float32), tf.Tensor(7.246997e-21, shape=(), dtype=float32), tf.Tensor(3.746351e-20, shape=(), dtype=float32), tf.Tensor(1.0014895e-20, shape=(), dtype=float32), tf.Tensor(5.894689e-21, shape=(), dtype=float32), tf.Tensor(2.6589231e-20, shape=(), dtype=float32), tf.Tensor(1.5944283e-20, shape=(), dtype=float32), tf.Tensor(1.7566901e-20, shape=(), dtype=float32), tf.Tensor(1.0154617e-20, shape=(), dtype=float32), tf.Tensor(1.7122432e-20, shape=(), dtype=float32), tf.Tensor(2.0366372e-21, shape=(), dtype=float32), tf.Tensor(3.7785566e-21, shape=(), dtype=float32), tf.Tensor(3.008521e-20, shape=(), dtype=float32), tf.Tensor(1.0183711e-20, shape=(), dtype=float32), tf.Tensor(5.4511138e-21, shape=(), dtype=float32), tf.Tensor(1.7097106e-20, shape=(), dtype=float32), tf.Tensor(8.0996726e-21, shape=(), dtype=float32), tf.Tensor(5.7044867e-21, shape=(), dtype=float32), tf.Tensor(3.2272044e-20, shape=(), dtype=float32), tf.Tensor(2.351025e-20, shape=(), dtype=float32), tf.Tensor(1.1476266e-20, shape=(), dtype=float32), tf.Tensor(7.7318284e-21, shape=(), dtype=float32), tf.Tensor(4.387241e-25, shape=(), dtype=float32), tf.Tensor(7.211422e-21, shape=(), dtype=float32), tf.Tensor(3.49494e-21, shape=(), dtype=float32), tf.Tensor(3.4722577e-20, shape=(), dtype=float32), tf.Tensor(2.980114e-20, shape=(), dtype=float32), tf.Tensor(1.3627363e-20, shape=(), dtype=float32), tf.Tensor(1.9528936e-20, shape=(), dtype=float32), tf.Tensor(3.2454263e-20, shape=(), dtype=float32), tf.Tensor(1.18064636e-20, shape=(), dtype=float32), tf.Tensor(8.4376713e-20, shape=(), dtype=float32), tf.Tensor(2.1507003e-20, shape=(), dtype=float32), tf.Tensor(1.21111375e-20, shape=(), dtype=float32), tf.Tensor(1.7415706e-20, shape=(), dtype=float32), tf.Tensor(3.3729333e-20, shape=(), dtype=float32), tf.Tensor(6.3668257e-21, shape=(), dtype=float32), tf.Tensor(2.6579901e-20, shape=(), dtype=float32), tf.Tensor(1.377454e-20, shape=(), dtype=float32), tf.Tensor(2.1005588e-20, shape=(), dtype=float32), tf.Tensor(1.3897941e-20, shape=(), dtype=float32), tf.Tensor(2.2128172e-20, shape=(), dtype=float32), tf.Tensor(9.546223e-21, shape=(), dtype=float32), tf.Tensor(2.8033946e-20, shape=(), dtype=float32), tf.Tensor(9.185067e-21, shape=(), dtype=float32), tf.Tensor(1.2130743e-20, shape=(), dtype=float32), tf.Tensor(7.623349e-21, shape=(), dtype=float32), tf.Tensor(1.4398966e-20, shape=(), dtype=float32), tf.Tensor(1.2871596e-28, shape=(), dtype=float32), tf.Tensor(1.7392999e-20, shape=(), dtype=float32), tf.Tensor(2.8308722e-28, shape=(), dtype=float32), tf.Tensor(1.0054015e-20, shape=(), dtype=float32), ...)</td>\n",
       "    </tr>\n",
       "    <tr>\n",
       "      <th>1</th>\n",
       "      <td>b'-112ai2rvrrj89'</td>\n",
       "      <td>b'aVu'</td>\n",
       "      <td>b'bcdata'</td>\n",
       "      <td>(tf.Tensor(b'bc', shape=(), dtype=string), tf.Tensor(b'data', shape=(), dtype=string), tf.Tensor(b'', shape=(), dtype=string), tf.Tensor(b'', shape=(), dtype=string), tf.Tensor(b'', shape=(), dtype=string), tf.Tensor(b'', shape=(), dtype=string), tf.Tensor(b'', shape=(), dtype=string), tf.Tensor(b'', shape=(), dtype=string), tf.Tensor(b'', shape=(), dtype=string), tf.Tensor(b'', shape=(), dtype=string), tf.Tensor(b'', shape=(), dtype=string), tf.Tensor(b'', shape=(), dtype=string), tf.Tensor(b'', shape=(), dtype=string), tf.Tensor(b'', shape=(), dtype=string), tf.Tensor(b'', shape=(), dtype=string), tf.Tensor(b'', shape=(), dtype=string), tf.Tensor(b'', shape=(), dtype=string), tf.Tensor(b'', shape=(), dtype=string), tf.Tensor(b'', shape=(), dtype=string), tf.Tensor(b'', shape=(), dtype=string))</td>\n",
       "      <td>b'00D000000000062'</td>\n",
       "      <td>(tf.Tensor(b'001', shape=(), dtype=string), tf.Tensor(b'006', shape=(), dtype=string), tf.Tensor(b'005', shape=(), dtype=string), tf.Tensor(b'a4A', shape=(), dtype=string), tf.Tensor(b'aCT', shape=(), dtype=string), tf.Tensor(b'aVu', shape=(), dtype=string), tf.Tensor(b'003', shape=(), dtype=string), tf.Tensor(b'00Q', shape=(), dtype=string), tf.Tensor(b'500', shape=(), dtype=string), tf.Tensor(b'a3v', shape=(), dtype=string), tf.Tensor(b'00B', shape=(), dtype=string), tf.Tensor(b'069', shape=(), dtype=string), tf.Tensor(b'02u', shape=(), dtype=string), tf.Tensor(b'0PS', shape=(), dtype=string), tf.Tensor(b'aJG', shape=(), dtype=string), tf.Tensor(b'801', shape=(), dtype=string), tf.Tensor(b'0W1', shape=(), dtype=string), tf.Tensor(b'0FK', shape=(), dtype=string), tf.Tensor(b'aP9', shape=(), dtype=string), tf.Tensor(b'701', shape=(), dtype=string))</td>\n",
       "      <td>(tf.Tensor(3.4894587e-05, shape=(), dtype=float32), tf.Tensor(0.40572116, shape=(), dtype=float32), tf.Tensor(0.0009538426, shape=(), dtype=float32), tf.Tensor(0.5690123, shape=(), dtype=float32), tf.Tensor(6.734721e-05, shape=(), dtype=float32), tf.Tensor(6.2586264e-07, shape=(), dtype=float32), tf.Tensor(6.0936625e-05, shape=(), dtype=float32), tf.Tensor(5.8642526e-17, shape=(), dtype=float32), tf.Tensor(9.273759e-08, shape=(), dtype=float32), tf.Tensor(6.070517e-17, shape=(), dtype=float32), tf.Tensor(8.032379e-17, shape=(), dtype=float32), tf.Tensor(1.03861486e-16, shape=(), dtype=float32), tf.Tensor(1.2632663e-15, shape=(), dtype=float32), tf.Tensor(1.053953e-16, shape=(), dtype=float32), tf.Tensor(1.2113421e-05, shape=(), dtype=float32), tf.Tensor(5.843931e-17, shape=(), dtype=float32), tf.Tensor(5.9401276e-17, shape=(), dtype=float32), tf.Tensor(4.104989e-20, shape=(), dtype=float32), tf.Tensor(6.8214396e-17, shape=(), dtype=float32), tf.Tensor(4.651995e-17, shape=(), dtype=float32), tf.Tensor(8.718965e-17, shape=(), dtype=float32), tf.Tensor(2.1127127e-05, shape=(), dtype=float32), tf.Tensor(2.5837535e-10, shape=(), dtype=float32), tf.Tensor(5.0431712e-08, shape=(), dtype=float32), tf.Tensor(6.89273e-10, shape=(), dtype=float32), tf.Tensor(4.273098e-17, shape=(), dtype=float32), tf.Tensor(1.1724794e-09, shape=(), dtype=float32), tf.Tensor(8.1727635e-17, shape=(), dtype=float32), tf.Tensor(5.585387e-17, shape=(), dtype=float32), tf.Tensor(0.004968416, shape=(), dtype=float32), tf.Tensor(1.4736754e-18, shape=(), dtype=float32), tf.Tensor(9.7327586e-17, shape=(), dtype=float32), tf.Tensor(5.772713e-19, shape=(), dtype=float32), tf.Tensor(3.9275025e-17, shape=(), dtype=float32), tf.Tensor(5.597591e-16, shape=(), dtype=float32), tf.Tensor(6.536209e-17, shape=(), dtype=float32), tf.Tensor(1.00409046e-16, shape=(), dtype=float32), tf.Tensor(0.002812811, shape=(), dtype=float32), tf.Tensor(7.018324e-17, shape=(), dtype=float32), tf.Tensor(4.8142802e-17, shape=(), dtype=float32), tf.Tensor(7.852028e-17, shape=(), dtype=float32), tf.Tensor(9.6896744e-17, shape=(), dtype=float32), tf.Tensor(7.560185e-17, shape=(), dtype=float32), tf.Tensor(3.752413e-17, shape=(), dtype=float32), tf.Tensor(6.780759e-17, shape=(), dtype=float32), tf.Tensor(4.6226826e-17, shape=(), dtype=float32), tf.Tensor(2.2919572e-18, shape=(), dtype=float32), tf.Tensor(9.1355845e-17, shape=(), dtype=float32), tf.Tensor(4.9967486e-17, shape=(), dtype=float32), tf.Tensor(5.3364287e-17, shape=(), dtype=float32), tf.Tensor(1.3969694e-16, shape=(), dtype=float32), tf.Tensor(6.857759e-17, shape=(), dtype=float32), tf.Tensor(4.287254e-17, shape=(), dtype=float32), tf.Tensor(8.293553e-17, shape=(), dtype=float32), tf.Tensor(5.6187884e-17, shape=(), dtype=float32), tf.Tensor(7.9203166e-17, shape=(), dtype=float32), tf.Tensor(5.5176203e-17, shape=(), dtype=float32), tf.Tensor(5.4359954e-17, shape=(), dtype=float32), tf.Tensor(4.9558402e-17, shape=(), dtype=float32), tf.Tensor(6.3375766e-17, shape=(), dtype=float32), tf.Tensor(5.3697955e-17, shape=(), dtype=float32), tf.Tensor(7.13279e-17, shape=(), dtype=float32), tf.Tensor(5.982721e-17, shape=(), dtype=float32), tf.Tensor(5.454919e-17, shape=(), dtype=float32), tf.Tensor(6.3465525e-17, shape=(), dtype=float32), tf.Tensor(3.778671e-17, shape=(), dtype=float32), tf.Tensor(6.565322e-17, shape=(), dtype=float32), tf.Tensor(4.5747393e-17, shape=(), dtype=float32), tf.Tensor(6.11204e-17, shape=(), dtype=float32), tf.Tensor(4.0941738e-17, shape=(), dtype=float32), tf.Tensor(6.378941e-14, shape=(), dtype=float32), tf.Tensor(8.8437095e-17, shape=(), dtype=float32), tf.Tensor(5.731489e-17, shape=(), dtype=float32), tf.Tensor(6.0611e-17, shape=(), dtype=float32), tf.Tensor(6.4333284e-17, shape=(), dtype=float32), tf.Tensor(4.5270162e-17, shape=(), dtype=float32), tf.Tensor(7.402372e-17, shape=(), dtype=float32), tf.Tensor(5.1064112e-17, shape=(), dtype=float32), tf.Tensor(3.8426004e-17, shape=(), dtype=float32), tf.Tensor(1.2117467e-16, shape=(), dtype=float32), tf.Tensor(1.3695319e-08, shape=(), dtype=float32), tf.Tensor(8.339554e-17, shape=(), dtype=float32), tf.Tensor(9.367082e-17, shape=(), dtype=float32), tf.Tensor(9.285044e-17, shape=(), dtype=float32), tf.Tensor(6.68162e-17, shape=(), dtype=float32), tf.Tensor(7.83575e-17, shape=(), dtype=float32), tf.Tensor(1.2380666e-16, shape=(), dtype=float32), tf.Tensor(7.704152e-17, shape=(), dtype=float32), tf.Tensor(5.7252206e-16, shape=(), dtype=float32), tf.Tensor(8.9079054e-17, shape=(), dtype=float32), tf.Tensor(8.9391205e-17, shape=(), dtype=float32), tf.Tensor(5.3744065e-17, shape=(), dtype=float32), tf.Tensor(4.5174937e-17, shape=(), dtype=float32), tf.Tensor(3.605619e-17, shape=(), dtype=float32), tf.Tensor(8.1406834e-17, shape=(), dtype=float32), tf.Tensor(5.642351e-17, shape=(), dtype=float32), tf.Tensor(1.4216769e-13, shape=(), dtype=float32), tf.Tensor(6.887094e-17, shape=(), dtype=float32), tf.Tensor(3.5491832e-10, shape=(), dtype=float32), tf.Tensor(6.264196e-17, shape=(), dtype=float32), ...)</td>\n",
       "    </tr>\n",
       "  </tbody>\n",
       "</table>\n",
       "</div>"
      ],
      "text/plain": [
       "       prediction_id clicked_key_prefix       query  \\\n",
       "0  b'-10jd4gnxu07sq'  b'500'             b'7276897'   \n",
       "1  b'-112ai2rvrrj89'  b'aVu'             b'bcdata'    \n",
       "\n",
       "                                                                                                                                                                                                                                                                                                                                                                                                                                                                                                                                                                                                                                                                                                                                                                                                                               query_words  \\\n",
       "0  (tf.Tensor(b'7276897', shape=(), dtype=string), tf.Tensor(b'', shape=(), dtype=string), tf.Tensor(b'', shape=(), dtype=string), tf.Tensor(b'', shape=(), dtype=string), tf.Tensor(b'', shape=(), dtype=string), tf.Tensor(b'', shape=(), dtype=string), tf.Tensor(b'', shape=(), dtype=string), tf.Tensor(b'', shape=(), dtype=string), tf.Tensor(b'', shape=(), dtype=string), tf.Tensor(b'', shape=(), dtype=string), tf.Tensor(b'', shape=(), dtype=string), tf.Tensor(b'', shape=(), dtype=string), tf.Tensor(b'', shape=(), dtype=string), tf.Tensor(b'', shape=(), dtype=string), tf.Tensor(b'', shape=(), dtype=string), tf.Tensor(b'', shape=(), dtype=string), tf.Tensor(b'', shape=(), dtype=string), tf.Tensor(b'', shape=(), dtype=string), tf.Tensor(b'', shape=(), dtype=string), tf.Tensor(b'', shape=(), dtype=string))   \n",
       "1  (tf.Tensor(b'bc', shape=(), dtype=string), tf.Tensor(b'data', shape=(), dtype=string), tf.Tensor(b'', shape=(), dtype=string), tf.Tensor(b'', shape=(), dtype=string), tf.Tensor(b'', shape=(), dtype=string), tf.Tensor(b'', shape=(), dtype=string), tf.Tensor(b'', shape=(), dtype=string), tf.Tensor(b'', shape=(), dtype=string), tf.Tensor(b'', shape=(), dtype=string), tf.Tensor(b'', shape=(), dtype=string), tf.Tensor(b'', shape=(), dtype=string), tf.Tensor(b'', shape=(), dtype=string), tf.Tensor(b'', shape=(), dtype=string), tf.Tensor(b'', shape=(), dtype=string), tf.Tensor(b'', shape=(), dtype=string), tf.Tensor(b'', shape=(), dtype=string), tf.Tensor(b'', shape=(), dtype=string), tf.Tensor(b'', shape=(), dtype=string), tf.Tensor(b'', shape=(), dtype=string), tf.Tensor(b'', shape=(), dtype=string))    \n",
       "\n",
       "      organization_id  \\\n",
       "0  b'00D000000000062'   \n",
       "1  b'00D000000000062'   \n",
       "\n",
       "                                                                                                                                                                                                                                                                                                                                                                                                                                                                                                                                                                                                                                                                                                                                                                                                                                                                              smart_scope_order  \\\n",
       "0  (tf.Tensor(b'005', shape=(), dtype=string), tf.Tensor(b'500', shape=(), dtype=string), tf.Tensor(b'003', shape=(), dtype=string), tf.Tensor(b'ka#', shape=(), dtype=string), tf.Tensor(b'00O', shape=(), dtype=string), tf.Tensor(b'a1h', shape=(), dtype=string), tf.Tensor(b'02u', shape=(), dtype=string), tf.Tensor(b'087', shape=(), dtype=string), tf.Tensor(b'00h', shape=(), dtype=string), tf.Tensor(b'0PS', shape=(), dtype=string), tf.Tensor(b'aCH', shape=(), dtype=string), tf.Tensor(b'069', shape=(), dtype=string), tf.Tensor(b'0XC', shape=(), dtype=string), tf.Tensor(b'0F9', shape=(), dtype=string), tf.Tensor(b'066', shape=(), dtype=string), tf.Tensor(b'1Y3', shape=(), dtype=string), tf.Tensor(b'570', shape=(), dtype=string), tf.Tensor(b'00B', shape=(), dtype=string), tf.Tensor(b'00Q', shape=(), dtype=string), tf.Tensor(b'00U', shape=(), dtype=string))   \n",
       "1  (tf.Tensor(b'001', shape=(), dtype=string), tf.Tensor(b'006', shape=(), dtype=string), tf.Tensor(b'005', shape=(), dtype=string), tf.Tensor(b'a4A', shape=(), dtype=string), tf.Tensor(b'aCT', shape=(), dtype=string), tf.Tensor(b'aVu', shape=(), dtype=string), tf.Tensor(b'003', shape=(), dtype=string), tf.Tensor(b'00Q', shape=(), dtype=string), tf.Tensor(b'500', shape=(), dtype=string), tf.Tensor(b'a3v', shape=(), dtype=string), tf.Tensor(b'00B', shape=(), dtype=string), tf.Tensor(b'069', shape=(), dtype=string), tf.Tensor(b'02u', shape=(), dtype=string), tf.Tensor(b'0PS', shape=(), dtype=string), tf.Tensor(b'aJG', shape=(), dtype=string), tf.Tensor(b'801', shape=(), dtype=string), tf.Tensor(b'0W1', shape=(), dtype=string), tf.Tensor(b'0FK', shape=(), dtype=string), tf.Tensor(b'aP9', shape=(), dtype=string), tf.Tensor(b'701', shape=(), dtype=string))   \n",
       "\n",
       "                                                                                                                                                                                                                                                                                                                                                                                                                                                                                                                                                                                                                                                                                                                                                                                                                                                                                                                                                                                                                                                                                                                                                                                                                                                                                                                                                                                                                                                                                                                                                                                                                                                                                                                                                                                                                                                                                                                                                                                                                                                                                                                                                                                                                                                                                                                                                                                                                                                                                                                                                                                                                                                                                                                                                                                                                                                                                                                                                                                                                                                                                                                                                                                                                                                                                                                                                                                                                                                                                                                                                                                                                                                                                                                                                                                                                                                                                                                                                                                                                                                                                                                                                                                                                                                                                                                                                                                                                                                                                                                                                                                                                                                                                                                                                                                                                                                                                                                                                                                                                                                                                                                                                                                                                                                                           category_label  \n",
       "0  (tf.Tensor(0.99960655, shape=(), dtype=float32), tf.Tensor(5.9950075e-08, shape=(), dtype=float32), tf.Tensor(0.0003809429, shape=(), dtype=float32), tf.Tensor(1.2930159e-13, shape=(), dtype=float32), tf.Tensor(2.5508744e-09, shape=(), dtype=float32), tf.Tensor(2.5188523e-10, shape=(), dtype=float32), tf.Tensor(1.0457474e-05, shape=(), dtype=float32), tf.Tensor(1.4054472e-20, shape=(), dtype=float32), tf.Tensor(6.1807084e-16, shape=(), dtype=float32), tf.Tensor(5.613605e-21, shape=(), dtype=float32), tf.Tensor(1.7621737e-20, shape=(), dtype=float32), tf.Tensor(1.1596228e-20, shape=(), dtype=float32), tf.Tensor(2.592608e-12, shape=(), dtype=float32), tf.Tensor(3.1163613e-20, shape=(), dtype=float32), tf.Tensor(1.2295745e-15, shape=(), dtype=float32), tf.Tensor(5.0482523e-20, shape=(), dtype=float32), tf.Tensor(1.9953651e-20, shape=(), dtype=float32), tf.Tensor(1.2083234e-25, shape=(), dtype=float32), tf.Tensor(7.857907e-20, shape=(), dtype=float32), tf.Tensor(1.8853005e-20, shape=(), dtype=float32), tf.Tensor(3.7720486e-20, shape=(), dtype=float32), tf.Tensor(2.0098994e-12, shape=(), dtype=float32), tf.Tensor(1.1906604e-06, shape=(), dtype=float32), tf.Tensor(3.1496368e-18, shape=(), dtype=float32), tf.Tensor(4.1222506e-17, shape=(), dtype=float32), tf.Tensor(1.0780542e-20, shape=(), dtype=float32), tf.Tensor(1.0634542e-31, shape=(), dtype=float32), tf.Tensor(5.3388733e-21, shape=(), dtype=float32), tf.Tensor(3.009256e-20, shape=(), dtype=float32), tf.Tensor(4.904398e-07, shape=(), dtype=float32), tf.Tensor(1.7494373e-24, shape=(), dtype=float32), tf.Tensor(1.1667623e-20, shape=(), dtype=float32), tf.Tensor(2.6727887e-24, shape=(), dtype=float32), tf.Tensor(1.4577255e-20, shape=(), dtype=float32), tf.Tensor(6.4087183e-27, shape=(), dtype=float32), tf.Tensor(1.0694527e-20, shape=(), dtype=float32), tf.Tensor(9.351022e-20, shape=(), dtype=float32), tf.Tensor(2.344431e-07, shape=(), dtype=float32), tf.Tensor(2.7991737e-20, shape=(), dtype=float32), tf.Tensor(1.3077041e-20, shape=(), dtype=float32), tf.Tensor(4.125249e-20, shape=(), dtype=float32), tf.Tensor(5.7446925e-20, shape=(), dtype=float32), tf.Tensor(1.04267215e-20, shape=(), dtype=float32), tf.Tensor(1.7593056e-20, shape=(), dtype=float32), tf.Tensor(6.803406e-21, shape=(), dtype=float32), tf.Tensor(8.68809e-21, shape=(), dtype=float32), tf.Tensor(4.0961292e-20, shape=(), dtype=float32), tf.Tensor(2.159777e-20, shape=(), dtype=float32), tf.Tensor(1.3935741e-20, shape=(), dtype=float32), tf.Tensor(7.246997e-21, shape=(), dtype=float32), tf.Tensor(3.746351e-20, shape=(), dtype=float32), tf.Tensor(1.0014895e-20, shape=(), dtype=float32), tf.Tensor(5.894689e-21, shape=(), dtype=float32), tf.Tensor(2.6589231e-20, shape=(), dtype=float32), tf.Tensor(1.5944283e-20, shape=(), dtype=float32), tf.Tensor(1.7566901e-20, shape=(), dtype=float32), tf.Tensor(1.0154617e-20, shape=(), dtype=float32), tf.Tensor(1.7122432e-20, shape=(), dtype=float32), tf.Tensor(2.0366372e-21, shape=(), dtype=float32), tf.Tensor(3.7785566e-21, shape=(), dtype=float32), tf.Tensor(3.008521e-20, shape=(), dtype=float32), tf.Tensor(1.0183711e-20, shape=(), dtype=float32), tf.Tensor(5.4511138e-21, shape=(), dtype=float32), tf.Tensor(1.7097106e-20, shape=(), dtype=float32), tf.Tensor(8.0996726e-21, shape=(), dtype=float32), tf.Tensor(5.7044867e-21, shape=(), dtype=float32), tf.Tensor(3.2272044e-20, shape=(), dtype=float32), tf.Tensor(2.351025e-20, shape=(), dtype=float32), tf.Tensor(1.1476266e-20, shape=(), dtype=float32), tf.Tensor(7.7318284e-21, shape=(), dtype=float32), tf.Tensor(4.387241e-25, shape=(), dtype=float32), tf.Tensor(7.211422e-21, shape=(), dtype=float32), tf.Tensor(3.49494e-21, shape=(), dtype=float32), tf.Tensor(3.4722577e-20, shape=(), dtype=float32), tf.Tensor(2.980114e-20, shape=(), dtype=float32), tf.Tensor(1.3627363e-20, shape=(), dtype=float32), tf.Tensor(1.9528936e-20, shape=(), dtype=float32), tf.Tensor(3.2454263e-20, shape=(), dtype=float32), tf.Tensor(1.18064636e-20, shape=(), dtype=float32), tf.Tensor(8.4376713e-20, shape=(), dtype=float32), tf.Tensor(2.1507003e-20, shape=(), dtype=float32), tf.Tensor(1.21111375e-20, shape=(), dtype=float32), tf.Tensor(1.7415706e-20, shape=(), dtype=float32), tf.Tensor(3.3729333e-20, shape=(), dtype=float32), tf.Tensor(6.3668257e-21, shape=(), dtype=float32), tf.Tensor(2.6579901e-20, shape=(), dtype=float32), tf.Tensor(1.377454e-20, shape=(), dtype=float32), tf.Tensor(2.1005588e-20, shape=(), dtype=float32), tf.Tensor(1.3897941e-20, shape=(), dtype=float32), tf.Tensor(2.2128172e-20, shape=(), dtype=float32), tf.Tensor(9.546223e-21, shape=(), dtype=float32), tf.Tensor(2.8033946e-20, shape=(), dtype=float32), tf.Tensor(9.185067e-21, shape=(), dtype=float32), tf.Tensor(1.2130743e-20, shape=(), dtype=float32), tf.Tensor(7.623349e-21, shape=(), dtype=float32), tf.Tensor(1.4398966e-20, shape=(), dtype=float32), tf.Tensor(1.2871596e-28, shape=(), dtype=float32), tf.Tensor(1.7392999e-20, shape=(), dtype=float32), tf.Tensor(2.8308722e-28, shape=(), dtype=float32), tf.Tensor(1.0054015e-20, shape=(), dtype=float32), ...)  \n",
       "1  (tf.Tensor(3.4894587e-05, shape=(), dtype=float32), tf.Tensor(0.40572116, shape=(), dtype=float32), tf.Tensor(0.0009538426, shape=(), dtype=float32), tf.Tensor(0.5690123, shape=(), dtype=float32), tf.Tensor(6.734721e-05, shape=(), dtype=float32), tf.Tensor(6.2586264e-07, shape=(), dtype=float32), tf.Tensor(6.0936625e-05, shape=(), dtype=float32), tf.Tensor(5.8642526e-17, shape=(), dtype=float32), tf.Tensor(9.273759e-08, shape=(), dtype=float32), tf.Tensor(6.070517e-17, shape=(), dtype=float32), tf.Tensor(8.032379e-17, shape=(), dtype=float32), tf.Tensor(1.03861486e-16, shape=(), dtype=float32), tf.Tensor(1.2632663e-15, shape=(), dtype=float32), tf.Tensor(1.053953e-16, shape=(), dtype=float32), tf.Tensor(1.2113421e-05, shape=(), dtype=float32), tf.Tensor(5.843931e-17, shape=(), dtype=float32), tf.Tensor(5.9401276e-17, shape=(), dtype=float32), tf.Tensor(4.104989e-20, shape=(), dtype=float32), tf.Tensor(6.8214396e-17, shape=(), dtype=float32), tf.Tensor(4.651995e-17, shape=(), dtype=float32), tf.Tensor(8.718965e-17, shape=(), dtype=float32), tf.Tensor(2.1127127e-05, shape=(), dtype=float32), tf.Tensor(2.5837535e-10, shape=(), dtype=float32), tf.Tensor(5.0431712e-08, shape=(), dtype=float32), tf.Tensor(6.89273e-10, shape=(), dtype=float32), tf.Tensor(4.273098e-17, shape=(), dtype=float32), tf.Tensor(1.1724794e-09, shape=(), dtype=float32), tf.Tensor(8.1727635e-17, shape=(), dtype=float32), tf.Tensor(5.585387e-17, shape=(), dtype=float32), tf.Tensor(0.004968416, shape=(), dtype=float32), tf.Tensor(1.4736754e-18, shape=(), dtype=float32), tf.Tensor(9.7327586e-17, shape=(), dtype=float32), tf.Tensor(5.772713e-19, shape=(), dtype=float32), tf.Tensor(3.9275025e-17, shape=(), dtype=float32), tf.Tensor(5.597591e-16, shape=(), dtype=float32), tf.Tensor(6.536209e-17, shape=(), dtype=float32), tf.Tensor(1.00409046e-16, shape=(), dtype=float32), tf.Tensor(0.002812811, shape=(), dtype=float32), tf.Tensor(7.018324e-17, shape=(), dtype=float32), tf.Tensor(4.8142802e-17, shape=(), dtype=float32), tf.Tensor(7.852028e-17, shape=(), dtype=float32), tf.Tensor(9.6896744e-17, shape=(), dtype=float32), tf.Tensor(7.560185e-17, shape=(), dtype=float32), tf.Tensor(3.752413e-17, shape=(), dtype=float32), tf.Tensor(6.780759e-17, shape=(), dtype=float32), tf.Tensor(4.6226826e-17, shape=(), dtype=float32), tf.Tensor(2.2919572e-18, shape=(), dtype=float32), tf.Tensor(9.1355845e-17, shape=(), dtype=float32), tf.Tensor(4.9967486e-17, shape=(), dtype=float32), tf.Tensor(5.3364287e-17, shape=(), dtype=float32), tf.Tensor(1.3969694e-16, shape=(), dtype=float32), tf.Tensor(6.857759e-17, shape=(), dtype=float32), tf.Tensor(4.287254e-17, shape=(), dtype=float32), tf.Tensor(8.293553e-17, shape=(), dtype=float32), tf.Tensor(5.6187884e-17, shape=(), dtype=float32), tf.Tensor(7.9203166e-17, shape=(), dtype=float32), tf.Tensor(5.5176203e-17, shape=(), dtype=float32), tf.Tensor(5.4359954e-17, shape=(), dtype=float32), tf.Tensor(4.9558402e-17, shape=(), dtype=float32), tf.Tensor(6.3375766e-17, shape=(), dtype=float32), tf.Tensor(5.3697955e-17, shape=(), dtype=float32), tf.Tensor(7.13279e-17, shape=(), dtype=float32), tf.Tensor(5.982721e-17, shape=(), dtype=float32), tf.Tensor(5.454919e-17, shape=(), dtype=float32), tf.Tensor(6.3465525e-17, shape=(), dtype=float32), tf.Tensor(3.778671e-17, shape=(), dtype=float32), tf.Tensor(6.565322e-17, shape=(), dtype=float32), tf.Tensor(4.5747393e-17, shape=(), dtype=float32), tf.Tensor(6.11204e-17, shape=(), dtype=float32), tf.Tensor(4.0941738e-17, shape=(), dtype=float32), tf.Tensor(6.378941e-14, shape=(), dtype=float32), tf.Tensor(8.8437095e-17, shape=(), dtype=float32), tf.Tensor(5.731489e-17, shape=(), dtype=float32), tf.Tensor(6.0611e-17, shape=(), dtype=float32), tf.Tensor(6.4333284e-17, shape=(), dtype=float32), tf.Tensor(4.5270162e-17, shape=(), dtype=float32), tf.Tensor(7.402372e-17, shape=(), dtype=float32), tf.Tensor(5.1064112e-17, shape=(), dtype=float32), tf.Tensor(3.8426004e-17, shape=(), dtype=float32), tf.Tensor(1.2117467e-16, shape=(), dtype=float32), tf.Tensor(1.3695319e-08, shape=(), dtype=float32), tf.Tensor(8.339554e-17, shape=(), dtype=float32), tf.Tensor(9.367082e-17, shape=(), dtype=float32), tf.Tensor(9.285044e-17, shape=(), dtype=float32), tf.Tensor(6.68162e-17, shape=(), dtype=float32), tf.Tensor(7.83575e-17, shape=(), dtype=float32), tf.Tensor(1.2380666e-16, shape=(), dtype=float32), tf.Tensor(7.704152e-17, shape=(), dtype=float32), tf.Tensor(5.7252206e-16, shape=(), dtype=float32), tf.Tensor(8.9079054e-17, shape=(), dtype=float32), tf.Tensor(8.9391205e-17, shape=(), dtype=float32), tf.Tensor(5.3744065e-17, shape=(), dtype=float32), tf.Tensor(4.5174937e-17, shape=(), dtype=float32), tf.Tensor(3.605619e-17, shape=(), dtype=float32), tf.Tensor(8.1406834e-17, shape=(), dtype=float32), tf.Tensor(5.642351e-17, shape=(), dtype=float32), tf.Tensor(1.4216769e-13, shape=(), dtype=float32), tf.Tensor(6.887094e-17, shape=(), dtype=float32), tf.Tensor(3.5491832e-10, shape=(), dtype=float32), tf.Tensor(6.264196e-17, shape=(), dtype=float32), ...)                                   "
      ]
     },
     "execution_count": 89,
     "metadata": {},
     "output_type": "execute_result"
    }
   ],
   "source": [
    "# lets take a look at our predictions\n",
    "preds.head(2)\n",
    "# there is some noise due to padding and tensors, but we can work with this"
   ]
  },
  {
   "cell_type": "code",
   "execution_count": 97,
   "metadata": {},
   "outputs": [],
   "source": [
    "def clean_predictions(probabilities):\n",
    "    return [class_prob.numpy() for class_prob in probabilities]"
   ]
  },
  {
   "cell_type": "code",
   "execution_count": 99,
   "metadata": {},
   "outputs": [],
   "source": [
    "preds['category_label'] = preds['category_label'].apply(clean_predictions)"
   ]
  },
  {
   "cell_type": "code",
   "execution_count": 102,
   "metadata": {},
   "outputs": [
    {
     "data": {
      "text/html": [
       "<div>\n",
       "<style scoped>\n",
       "    .dataframe tbody tr th:only-of-type {\n",
       "        vertical-align: middle;\n",
       "    }\n",
       "\n",
       "    .dataframe tbody tr th {\n",
       "        vertical-align: top;\n",
       "    }\n",
       "\n",
       "    .dataframe thead th {\n",
       "        text-align: right;\n",
       "    }\n",
       "</style>\n",
       "<table border=\"1\" class=\"dataframe\">\n",
       "  <thead>\n",
       "    <tr style=\"text-align: right;\">\n",
       "      <th></th>\n",
       "      <th>prediction_id</th>\n",
       "      <th>clicked_key_prefix</th>\n",
       "      <th>query</th>\n",
       "      <th>query_words</th>\n",
       "      <th>organization_id</th>\n",
       "      <th>smart_scope_order</th>\n",
       "      <th>category_label</th>\n",
       "    </tr>\n",
       "  </thead>\n",
       "  <tbody>\n",
       "    <tr>\n",
       "      <th>0</th>\n",
       "      <td>b'-10jd4gnxu07sq'</td>\n",
       "      <td>b'500'</td>\n",
       "      <td>b'7276897'</td>\n",
       "      <td>(tf.Tensor(b'7276897', shape=(), dtype=string), tf.Tensor(b'', shape=(), dtype=string), tf.Tensor(b'', shape=(), dtype=string), tf.Tensor(b'', shape=(), dtype=string), tf.Tensor(b'', shape=(), dtype=string), tf.Tensor(b'', shape=(), dtype=string), tf.Tensor(b'', shape=(), dtype=string), tf.Tensor(b'', shape=(), dtype=string), tf.Tensor(b'', shape=(), dtype=string), tf.Tensor(b'', shape=(), dtype=string), tf.Tensor(b'', shape=(), dtype=string), tf.Tensor(b'', shape=(), dtype=string), tf.Tensor(b'', shape=(), dtype=string), tf.Tensor(b'', shape=(), dtype=string), tf.Tensor(b'', shape=(), dtype=string), tf.Tensor(b'', shape=(), dtype=string), tf.Tensor(b'', shape=(), dtype=string), tf.Tensor(b'', shape=(), dtype=string), tf.Tensor(b'', shape=(), dtype=string), tf.Tensor(b'', shape=(), dtype=string))</td>\n",
       "      <td>b'00D000000000062'</td>\n",
       "      <td>(tf.Tensor(b'005', shape=(), dtype=string), tf.Tensor(b'500', shape=(), dtype=string), tf.Tensor(b'003', shape=(), dtype=string), tf.Tensor(b'ka#', shape=(), dtype=string), tf.Tensor(b'00O', shape=(), dtype=string), tf.Tensor(b'a1h', shape=(), dtype=string), tf.Tensor(b'02u', shape=(), dtype=string), tf.Tensor(b'087', shape=(), dtype=string), tf.Tensor(b'00h', shape=(), dtype=string), tf.Tensor(b'0PS', shape=(), dtype=string), tf.Tensor(b'aCH', shape=(), dtype=string), tf.Tensor(b'069', shape=(), dtype=string), tf.Tensor(b'0XC', shape=(), dtype=string), tf.Tensor(b'0F9', shape=(), dtype=string), tf.Tensor(b'066', shape=(), dtype=string), tf.Tensor(b'1Y3', shape=(), dtype=string), tf.Tensor(b'570', shape=(), dtype=string), tf.Tensor(b'00B', shape=(), dtype=string), tf.Tensor(b'00Q', shape=(), dtype=string), tf.Tensor(b'00U', shape=(), dtype=string))</td>\n",
       "      <td>[0.99960655, 5.9950075e-08, 0.0003809429, 1.2930159e-13, 2.5508744e-09, 2.5188523e-10, 1.0457474e-05, 1.4054472e-20, 6.1807084e-16, 5.613605e-21, 1.7621737e-20, 1.1596228e-20, 2.592608e-12, 3.1163613e-20, 1.2295745e-15, 5.0482523e-20, 1.9953651e-20, 1.2083234e-25, 7.857907e-20, 1.8853005e-20, 3.7720486e-20, 2.0098994e-12, 1.1906604e-06, 3.1496368e-18, 4.1222506e-17, 1.0780542e-20, 1.0634542e-31, 5.3388733e-21, 3.009256e-20, 4.904398e-07, 1.7494373e-24, 1.1667623e-20, 2.6727887e-24, 1.4577255e-20, 6.4087183e-27, 1.0694527e-20, 9.351022e-20, 2.344431e-07, 2.7991737e-20, 1.3077041e-20, 4.125249e-20, 5.7446925e-20, 1.04267215e-20, 1.7593056e-20, 6.803406e-21, 8.68809e-21, 4.0961292e-20, 2.159777e-20, 1.3935741e-20, 7.246997e-21, 3.746351e-20, 1.0014895e-20, 5.894689e-21, 2.6589231e-20, 1.5944283e-20, 1.7566901e-20, 1.0154617e-20, 1.7122432e-20, 2.0366372e-21, 3.7785566e-21, 3.008521e-20, 1.0183711e-20, 5.4511138e-21, 1.7097106e-20, 8.0996726e-21, 5.7044867e-21, 3.2272044e-20, 2.351025e-20, 1.1476266e-20, 7.7318284e-21, 4.387241e-25, 7.211422e-21, 3.49494e-21, 3.4722577e-20, 2.980114e-20, 1.3627363e-20, 1.9528936e-20, 3.2454263e-20, 1.18064636e-20, 8.4376713e-20, 2.1507003e-20, 1.21111375e-20, 1.7415706e-20, 3.3729333e-20, 6.3668257e-21, 2.6579901e-20, 1.377454e-20, 2.1005588e-20, 1.3897941e-20, 2.2128172e-20, 9.546223e-21, 2.8033946e-20, 9.185067e-21, 1.2130743e-20, 7.623349e-21, 1.4398966e-20, 1.2871596e-28, 1.7392999e-20, 2.8308722e-28, 1.0054015e-20, ...]</td>\n",
       "    </tr>\n",
       "    <tr>\n",
       "      <th>1</th>\n",
       "      <td>b'-112ai2rvrrj89'</td>\n",
       "      <td>b'aVu'</td>\n",
       "      <td>b'bcdata'</td>\n",
       "      <td>(tf.Tensor(b'bc', shape=(), dtype=string), tf.Tensor(b'data', shape=(), dtype=string), tf.Tensor(b'', shape=(), dtype=string), tf.Tensor(b'', shape=(), dtype=string), tf.Tensor(b'', shape=(), dtype=string), tf.Tensor(b'', shape=(), dtype=string), tf.Tensor(b'', shape=(), dtype=string), tf.Tensor(b'', shape=(), dtype=string), tf.Tensor(b'', shape=(), dtype=string), tf.Tensor(b'', shape=(), dtype=string), tf.Tensor(b'', shape=(), dtype=string), tf.Tensor(b'', shape=(), dtype=string), tf.Tensor(b'', shape=(), dtype=string), tf.Tensor(b'', shape=(), dtype=string), tf.Tensor(b'', shape=(), dtype=string), tf.Tensor(b'', shape=(), dtype=string), tf.Tensor(b'', shape=(), dtype=string), tf.Tensor(b'', shape=(), dtype=string), tf.Tensor(b'', shape=(), dtype=string), tf.Tensor(b'', shape=(), dtype=string))</td>\n",
       "      <td>b'00D000000000062'</td>\n",
       "      <td>(tf.Tensor(b'001', shape=(), dtype=string), tf.Tensor(b'006', shape=(), dtype=string), tf.Tensor(b'005', shape=(), dtype=string), tf.Tensor(b'a4A', shape=(), dtype=string), tf.Tensor(b'aCT', shape=(), dtype=string), tf.Tensor(b'aVu', shape=(), dtype=string), tf.Tensor(b'003', shape=(), dtype=string), tf.Tensor(b'00Q', shape=(), dtype=string), tf.Tensor(b'500', shape=(), dtype=string), tf.Tensor(b'a3v', shape=(), dtype=string), tf.Tensor(b'00B', shape=(), dtype=string), tf.Tensor(b'069', shape=(), dtype=string), tf.Tensor(b'02u', shape=(), dtype=string), tf.Tensor(b'0PS', shape=(), dtype=string), tf.Tensor(b'aJG', shape=(), dtype=string), tf.Tensor(b'801', shape=(), dtype=string), tf.Tensor(b'0W1', shape=(), dtype=string), tf.Tensor(b'0FK', shape=(), dtype=string), tf.Tensor(b'aP9', shape=(), dtype=string), tf.Tensor(b'701', shape=(), dtype=string))</td>\n",
       "      <td>[3.4894587e-05, 0.40572116, 0.0009538426, 0.5690123, 6.734721e-05, 6.2586264e-07, 6.0936625e-05, 5.8642526e-17, 9.273759e-08, 6.070517e-17, 8.032379e-17, 1.03861486e-16, 1.2632663e-15, 1.053953e-16, 1.2113421e-05, 5.843931e-17, 5.9401276e-17, 4.104989e-20, 6.8214396e-17, 4.651995e-17, 8.718965e-17, 2.1127127e-05, 2.5837535e-10, 5.0431712e-08, 6.89273e-10, 4.273098e-17, 1.1724794e-09, 8.1727635e-17, 5.585387e-17, 0.004968416, 1.4736754e-18, 9.7327586e-17, 5.772713e-19, 3.9275025e-17, 5.597591e-16, 6.536209e-17, 1.00409046e-16, 0.002812811, 7.018324e-17, 4.8142802e-17, 7.852028e-17, 9.6896744e-17, 7.560185e-17, 3.752413e-17, 6.780759e-17, 4.6226826e-17, 2.2919572e-18, 9.1355845e-17, 4.9967486e-17, 5.3364287e-17, 1.3969694e-16, 6.857759e-17, 4.287254e-17, 8.293553e-17, 5.6187884e-17, 7.9203166e-17, 5.5176203e-17, 5.4359954e-17, 4.9558402e-17, 6.3375766e-17, 5.3697955e-17, 7.13279e-17, 5.982721e-17, 5.454919e-17, 6.3465525e-17, 3.778671e-17, 6.565322e-17, 4.5747393e-17, 6.11204e-17, 4.0941738e-17, 6.378941e-14, 8.8437095e-17, 5.731489e-17, 6.0611e-17, 6.4333284e-17, 4.5270162e-17, 7.402372e-17, 5.1064112e-17, 3.8426004e-17, 1.2117467e-16, 1.3695319e-08, 8.339554e-17, 9.367082e-17, 9.285044e-17, 6.68162e-17, 7.83575e-17, 1.2380666e-16, 7.704152e-17, 5.7252206e-16, 8.9079054e-17, 8.9391205e-17, 5.3744065e-17, 4.5174937e-17, 3.605619e-17, 8.1406834e-17, 5.642351e-17, 1.4216769e-13, 6.887094e-17, 3.5491832e-10, 6.264196e-17, ...]</td>\n",
       "    </tr>\n",
       "  </tbody>\n",
       "</table>\n",
       "</div>"
      ],
      "text/plain": [
       "       prediction_id clicked_key_prefix       query  \\\n",
       "0  b'-10jd4gnxu07sq'  b'500'             b'7276897'   \n",
       "1  b'-112ai2rvrrj89'  b'aVu'             b'bcdata'    \n",
       "\n",
       "                                                                                                                                                                                                                                                                                                                                                                                                                                                                                                                                                                                                                                                                                                                                                                                                                               query_words  \\\n",
       "0  (tf.Tensor(b'7276897', shape=(), dtype=string), tf.Tensor(b'', shape=(), dtype=string), tf.Tensor(b'', shape=(), dtype=string), tf.Tensor(b'', shape=(), dtype=string), tf.Tensor(b'', shape=(), dtype=string), tf.Tensor(b'', shape=(), dtype=string), tf.Tensor(b'', shape=(), dtype=string), tf.Tensor(b'', shape=(), dtype=string), tf.Tensor(b'', shape=(), dtype=string), tf.Tensor(b'', shape=(), dtype=string), tf.Tensor(b'', shape=(), dtype=string), tf.Tensor(b'', shape=(), dtype=string), tf.Tensor(b'', shape=(), dtype=string), tf.Tensor(b'', shape=(), dtype=string), tf.Tensor(b'', shape=(), dtype=string), tf.Tensor(b'', shape=(), dtype=string), tf.Tensor(b'', shape=(), dtype=string), tf.Tensor(b'', shape=(), dtype=string), tf.Tensor(b'', shape=(), dtype=string), tf.Tensor(b'', shape=(), dtype=string))   \n",
       "1  (tf.Tensor(b'bc', shape=(), dtype=string), tf.Tensor(b'data', shape=(), dtype=string), tf.Tensor(b'', shape=(), dtype=string), tf.Tensor(b'', shape=(), dtype=string), tf.Tensor(b'', shape=(), dtype=string), tf.Tensor(b'', shape=(), dtype=string), tf.Tensor(b'', shape=(), dtype=string), tf.Tensor(b'', shape=(), dtype=string), tf.Tensor(b'', shape=(), dtype=string), tf.Tensor(b'', shape=(), dtype=string), tf.Tensor(b'', shape=(), dtype=string), tf.Tensor(b'', shape=(), dtype=string), tf.Tensor(b'', shape=(), dtype=string), tf.Tensor(b'', shape=(), dtype=string), tf.Tensor(b'', shape=(), dtype=string), tf.Tensor(b'', shape=(), dtype=string), tf.Tensor(b'', shape=(), dtype=string), tf.Tensor(b'', shape=(), dtype=string), tf.Tensor(b'', shape=(), dtype=string), tf.Tensor(b'', shape=(), dtype=string))    \n",
       "\n",
       "      organization_id  \\\n",
       "0  b'00D000000000062'   \n",
       "1  b'00D000000000062'   \n",
       "\n",
       "                                                                                                                                                                                                                                                                                                                                                                                                                                                                                                                                                                                                                                                                                                                                                                                                                                                                              smart_scope_order  \\\n",
       "0  (tf.Tensor(b'005', shape=(), dtype=string), tf.Tensor(b'500', shape=(), dtype=string), tf.Tensor(b'003', shape=(), dtype=string), tf.Tensor(b'ka#', shape=(), dtype=string), tf.Tensor(b'00O', shape=(), dtype=string), tf.Tensor(b'a1h', shape=(), dtype=string), tf.Tensor(b'02u', shape=(), dtype=string), tf.Tensor(b'087', shape=(), dtype=string), tf.Tensor(b'00h', shape=(), dtype=string), tf.Tensor(b'0PS', shape=(), dtype=string), tf.Tensor(b'aCH', shape=(), dtype=string), tf.Tensor(b'069', shape=(), dtype=string), tf.Tensor(b'0XC', shape=(), dtype=string), tf.Tensor(b'0F9', shape=(), dtype=string), tf.Tensor(b'066', shape=(), dtype=string), tf.Tensor(b'1Y3', shape=(), dtype=string), tf.Tensor(b'570', shape=(), dtype=string), tf.Tensor(b'00B', shape=(), dtype=string), tf.Tensor(b'00Q', shape=(), dtype=string), tf.Tensor(b'00U', shape=(), dtype=string))   \n",
       "1  (tf.Tensor(b'001', shape=(), dtype=string), tf.Tensor(b'006', shape=(), dtype=string), tf.Tensor(b'005', shape=(), dtype=string), tf.Tensor(b'a4A', shape=(), dtype=string), tf.Tensor(b'aCT', shape=(), dtype=string), tf.Tensor(b'aVu', shape=(), dtype=string), tf.Tensor(b'003', shape=(), dtype=string), tf.Tensor(b'00Q', shape=(), dtype=string), tf.Tensor(b'500', shape=(), dtype=string), tf.Tensor(b'a3v', shape=(), dtype=string), tf.Tensor(b'00B', shape=(), dtype=string), tf.Tensor(b'069', shape=(), dtype=string), tf.Tensor(b'02u', shape=(), dtype=string), tf.Tensor(b'0PS', shape=(), dtype=string), tf.Tensor(b'aJG', shape=(), dtype=string), tf.Tensor(b'801', shape=(), dtype=string), tf.Tensor(b'0W1', shape=(), dtype=string), tf.Tensor(b'0FK', shape=(), dtype=string), tf.Tensor(b'aP9', shape=(), dtype=string), tf.Tensor(b'701', shape=(), dtype=string))   \n",
       "\n",
       "                                                                                                                                                                                                                                                                                                                                                                                                                                                                                                                                                                                                                                                                                                                                                                                                                                                                                                                                                                                                                                                                                                                                                                                                                                                                                                                                                                                                                                                                                                                           category_label  \n",
       "0  [0.99960655, 5.9950075e-08, 0.0003809429, 1.2930159e-13, 2.5508744e-09, 2.5188523e-10, 1.0457474e-05, 1.4054472e-20, 6.1807084e-16, 5.613605e-21, 1.7621737e-20, 1.1596228e-20, 2.592608e-12, 3.1163613e-20, 1.2295745e-15, 5.0482523e-20, 1.9953651e-20, 1.2083234e-25, 7.857907e-20, 1.8853005e-20, 3.7720486e-20, 2.0098994e-12, 1.1906604e-06, 3.1496368e-18, 4.1222506e-17, 1.0780542e-20, 1.0634542e-31, 5.3388733e-21, 3.009256e-20, 4.904398e-07, 1.7494373e-24, 1.1667623e-20, 2.6727887e-24, 1.4577255e-20, 6.4087183e-27, 1.0694527e-20, 9.351022e-20, 2.344431e-07, 2.7991737e-20, 1.3077041e-20, 4.125249e-20, 5.7446925e-20, 1.04267215e-20, 1.7593056e-20, 6.803406e-21, 8.68809e-21, 4.0961292e-20, 2.159777e-20, 1.3935741e-20, 7.246997e-21, 3.746351e-20, 1.0014895e-20, 5.894689e-21, 2.6589231e-20, 1.5944283e-20, 1.7566901e-20, 1.0154617e-20, 1.7122432e-20, 2.0366372e-21, 3.7785566e-21, 3.008521e-20, 1.0183711e-20, 5.4511138e-21, 1.7097106e-20, 8.0996726e-21, 5.7044867e-21, 3.2272044e-20, 2.351025e-20, 1.1476266e-20, 7.7318284e-21, 4.387241e-25, 7.211422e-21, 3.49494e-21, 3.4722577e-20, 2.980114e-20, 1.3627363e-20, 1.9528936e-20, 3.2454263e-20, 1.18064636e-20, 8.4376713e-20, 2.1507003e-20, 1.21111375e-20, 1.7415706e-20, 3.3729333e-20, 6.3668257e-21, 2.6579901e-20, 1.377454e-20, 2.1005588e-20, 1.3897941e-20, 2.2128172e-20, 9.546223e-21, 2.8033946e-20, 9.185067e-21, 1.2130743e-20, 7.623349e-21, 1.4398966e-20, 1.2871596e-28, 1.7392999e-20, 2.8308722e-28, 1.0054015e-20, ...]  \n",
       "1  [3.4894587e-05, 0.40572116, 0.0009538426, 0.5690123, 6.734721e-05, 6.2586264e-07, 6.0936625e-05, 5.8642526e-17, 9.273759e-08, 6.070517e-17, 8.032379e-17, 1.03861486e-16, 1.2632663e-15, 1.053953e-16, 1.2113421e-05, 5.843931e-17, 5.9401276e-17, 4.104989e-20, 6.8214396e-17, 4.651995e-17, 8.718965e-17, 2.1127127e-05, 2.5837535e-10, 5.0431712e-08, 6.89273e-10, 4.273098e-17, 1.1724794e-09, 8.1727635e-17, 5.585387e-17, 0.004968416, 1.4736754e-18, 9.7327586e-17, 5.772713e-19, 3.9275025e-17, 5.597591e-16, 6.536209e-17, 1.00409046e-16, 0.002812811, 7.018324e-17, 4.8142802e-17, 7.852028e-17, 9.6896744e-17, 7.560185e-17, 3.752413e-17, 6.780759e-17, 4.6226826e-17, 2.2919572e-18, 9.1355845e-17, 4.9967486e-17, 5.3364287e-17, 1.3969694e-16, 6.857759e-17, 4.287254e-17, 8.293553e-17, 5.6187884e-17, 7.9203166e-17, 5.5176203e-17, 5.4359954e-17, 4.9558402e-17, 6.3375766e-17, 5.3697955e-17, 7.13279e-17, 5.982721e-17, 5.454919e-17, 6.3465525e-17, 3.778671e-17, 6.565322e-17, 4.5747393e-17, 6.11204e-17, 4.0941738e-17, 6.378941e-14, 8.8437095e-17, 5.731489e-17, 6.0611e-17, 6.4333284e-17, 4.5270162e-17, 7.402372e-17, 5.1064112e-17, 3.8426004e-17, 1.2117467e-16, 1.3695319e-08, 8.339554e-17, 9.367082e-17, 9.285044e-17, 6.68162e-17, 7.83575e-17, 1.2380666e-16, 7.704152e-17, 5.7252206e-16, 8.9079054e-17, 8.9391205e-17, 5.3744065e-17, 4.5174937e-17, 3.605619e-17, 8.1406834e-17, 5.642351e-17, 1.4216769e-13, 6.887094e-17, 3.5491832e-10, 6.264196e-17, ...]                                   "
      ]
     },
     "execution_count": 102,
     "metadata": {},
     "output_type": "execute_result"
    }
   ],
   "source": [
    "preds.head(2)\n",
    "# we can go further and process anything we want"
   ]
  },
  {
   "cell_type": "markdown",
   "metadata": {},
   "source": [
    "###  Applying custom functions before predicting\n",
    "Above we saw that the query was sent in full in the model. Reading from tf records, it is not easy to apply data transformations on the fly to call the `.fit` method directly. \n",
    "This need can arise in practise, after having a model to evaluate different aspects of it. \n",
    "In this example, we want to evaluate on truncated queries (queries that are not full, e.g,. consist of the first n characters.)\n",
    "\n",
    "To do that we need:\n",
    "    - a function that implements this logic\n",
    "    - to apply the function before the data hitting the model\n",
    "    \n",
    "This is done as follows:\n",
    "    - we write the function\n",
    "    - we inform the pipeline of ist existence and where it must be applied\n",
    "    - we call `.predict`\n"
   ]
  },
  {
   "cell_type": "code",
   "execution_count": 103,
   "metadata": {},
   "outputs": [
    {
     "data": {
      "text/plain": [
       "<tf.Tensor: id=85776706, shape=(), dtype=string, numpy=b'ml4ir'>"
      ]
     },
     "execution_count": 103,
     "metadata": {},
     "output_type": "execute_result"
    }
   ],
   "source": [
    "# Here is the truncation function\n",
    "@tf.function\n",
    "def trim_text(inp, keep_first=3):\n",
    "    \"\"\"Keeps the first `keep_first` bytes of a tf.string\"\"\"\n",
    "    return tf.strings.substr(inp, 0, keep_first, unit='BYTE')\n",
    "\n",
    "s = tf.constant('ml4ir rocks')\n",
    "trim_text(s, keep_first=5)"
   ]
  },
  {
   "cell_type": "code",
   "execution_count": 104,
   "metadata": {},
   "outputs": [],
   "source": [
    "# we need to inform the pipeline. This needs to be done in the feature config. \n",
    "# We either \n",
    "# (i) go and preprocess the feature_config.yaml file\n",
    "# or \n",
    "# (ii) keep in mind that the file is only a means to use data, we can adapt it once loaded"
   ]
  },
  {
   "cell_type": "code",
   "execution_count": 119,
   "metadata": {},
   "outputs": [
    {
     "data": {
      "text/plain": [
       "{'name': 'query',\n",
       " 'node_name': 'query',\n",
       " 'trainable': True,\n",
       " 'dtype': 'string',\n",
       " 'log_at_inference': True,\n",
       " 'feature_layer_info': {'type': 'numeric',\n",
       "  'shape': None,\n",
       "  'fn': 'bytes_sequence_to_encoding_bilstm',\n",
       "  'args': {'encoding_type': 'bilstm',\n",
       "   'encoding_size': 128,\n",
       "   'embedding_size': 128,\n",
       "   'max_length': 20}},\n",
       " 'preprocessing_info': [{'fn': 'preprocess_text',\n",
       "   'args': {'remove_punctuation': True, 'to_lower': True}}],\n",
       " 'serving_info': {'name': 'query', 'required': True},\n",
       " 'default_value': ''}"
      ]
     },
     "execution_count": 119,
     "metadata": {},
     "output_type": "execute_result"
    }
   ],
   "source": [
    "feature_config.features[0]"
   ]
  },
  {
   "cell_type": "code",
   "execution_count": 120,
   "metadata": {},
   "outputs": [],
   "source": [
    "feature_config.features[0]['preprocessing_info'].insert(0, {'fn': 'trim_text', 'args':{'keep_first':3}})"
   ]
  },
  {
   "cell_type": "code",
   "execution_count": 121,
   "metadata": {},
   "outputs": [
    {
     "data": {
      "text/plain": [
       "{'name': 'query',\n",
       " 'node_name': 'query',\n",
       " 'trainable': True,\n",
       " 'dtype': 'string',\n",
       " 'log_at_inference': True,\n",
       " 'feature_layer_info': {'type': 'numeric',\n",
       "  'shape': None,\n",
       "  'fn': 'bytes_sequence_to_encoding_bilstm',\n",
       "  'args': {'encoding_type': 'bilstm',\n",
       "   'encoding_size': 128,\n",
       "   'embedding_size': 128,\n",
       "   'max_length': 20}},\n",
       " 'preprocessing_info': [{'fn': 'trim_text', 'args': {'keep_first': 3}},\n",
       "  {'fn': 'preprocess_text',\n",
       "   'args': {'remove_punctuation': True, 'to_lower': True}}],\n",
       " 'serving_info': {'name': 'query', 'required': True},\n",
       " 'default_value': ''}"
      ]
     },
     "execution_count": 121,
     "metadata": {},
     "output_type": "execute_result"
    }
   ],
   "source": [
    "feature_config.features[0]"
   ]
  },
  {
   "cell_type": "code",
   "execution_count": 122,
   "metadata": {},
   "outputs": [],
   "source": [
    "feature_config.features[1]['preprocessing_info'].insert(0, {'fn': 'trim_text', 'args':{'keep_first':3}})"
   ]
  },
  {
   "cell_type": "code",
   "execution_count": 127,
   "metadata": {},
   "outputs": [
    {
     "name": "stdout",
     "output_type": "stream",
     "text": [
      "{'prediction_id': FixedLenFeature(shape=[], dtype='string', default_value=''), 'clicked_key_prefix': FixedLenFeature(shape=[], dtype='string', default_value=''), 'query': FixedLenFeature(shape=[], dtype='string', default_value=''), 'organization_id': FixedLenFeature(shape=[], dtype='string', default_value=''), 'smart_scope_order': FixedLenFeature(shape=[], dtype='string', default_value='')}\n",
      "{'prediction_id': FixedLenFeature(shape=[], dtype='string', default_value=''), 'clicked_key_prefix': FixedLenFeature(shape=[], dtype='string', default_value=''), 'query': FixedLenFeature(shape=[], dtype='string', default_value=''), 'organization_id': FixedLenFeature(shape=[], dtype='string', default_value=''), 'smart_scope_order': FixedLenFeature(shape=[], dtype='string', default_value='')}\n",
      "{'prediction_id': FixedLenFeature(shape=[], dtype='string', default_value=''), 'clicked_key_prefix': FixedLenFeature(shape=[], dtype='string', default_value=''), 'query': FixedLenFeature(shape=[], dtype='string', default_value=''), 'organization_id': FixedLenFeature(shape=[], dtype='string', default_value=''), 'smart_scope_order': FixedLenFeature(shape=[], dtype='string', default_value='')}\n"
     ]
    }
   ],
   "source": [
    "# Now at this point the feature_config is adapted for the use-case\n",
    "# We need to define again the RelevanceDataset and show the implementation of our function\n",
    "\n",
    "relevance_dataset = RelevanceDataset(\n",
    "        data_dir=\"/tmp/dataset\", # I created a dir `/tmp/dataset`, with `train`, `validation` being empty \n",
    "        data_format=DataFormatKey.TFRECORD,\n",
    "        feature_config=feature_config,\n",
    "        tfrecord_type=TFRecordTypeKey.EXAMPLE,\n",
    "        batch_size=1024,\n",
    "        preprocessing_keys_to_fns={'trim_text': trim_text},\n",
    "        file_io=file_io, use_part_files=True,\n",
    "        logger=logger\n",
    "    )\n"
   ]
  },
  {
   "cell_type": "code",
   "execution_count": 129,
   "metadata": {},
   "outputs": [
    {
     "data": {
      "text/plain": [
       "({'prediction_id': <tf.Tensor: id=85777272, shape=(1024, 1), dtype=string, numpy=\n",
       "  array([[b'-10jd4gnxu07sq'],\n",
       "         [b'-112ai2rvrrj89'],\n",
       "         [b'-12s0iuwulu0bd'],\n",
       "         ...,\n",
       "         [b'-a8qqrwhpi0gm'],\n",
       "         [b'-bgk09cn8nfcy'],\n",
       "         [b'-bqob56px4fq1']], dtype=object)>,\n",
       "  'query': <tf.Tensor: id=85777273, shape=(1024, 1), dtype=string, numpy=\n",
       "  array([[b'727'],\n",
       "         [b'bc'],\n",
       "         [b'273'],\n",
       "         ...,\n",
       "         [b'cha'],\n",
       "         [b'zan'],\n",
       "         [b'952']], dtype=object)>,\n",
       "  'query_words': <tf.Tensor: id=85777274, shape=(1024, 1, 20), dtype=string, numpy=\n",
       "  array([[[b'727', b'', b'', ..., b'', b'', b'']],\n",
       "  \n",
       "         [[b'bc', b'', b'', ..., b'', b'', b'']],\n",
       "  \n",
       "         [[b'273', b'', b'', ..., b'', b'', b'']],\n",
       "  \n",
       "         ...,\n",
       "  \n",
       "         [[b'cha', b'', b'', ..., b'', b'', b'']],\n",
       "  \n",
       "         [[b'zan', b'', b'', ..., b'', b'', b'']],\n",
       "  \n",
       "         [[b'952', b'', b'', ..., b'', b'', b'']]], dtype=object)>,\n",
       "  'organization_id': <tf.Tensor: id=85777271, shape=(1024, 1), dtype=string, numpy=\n",
       "  array([[b'00D000000000062'],\n",
       "         [b'00D000000000062'],\n",
       "         [b'00D000000000062'],\n",
       "         ...,\n",
       "         [b'00D000000000062'],\n",
       "         [b'00D000000000062'],\n",
       "         [b'00D000000000062']], dtype=object)>,\n",
       "  'smart_scope_order': <tf.Tensor: id=85777275, shape=(1024, 1, 20), dtype=string, numpy=\n",
       "  array([[[b'005', b'500', b'003', ..., b'00B', b'00Q', b'00U']],\n",
       "  \n",
       "         [[b'001', b'006', b'005', ..., b'0FK', b'aP9', b'701']],\n",
       "  \n",
       "         [[b'003', b'001', b'006', ..., b'0Fb', b'aJT', b'a24']],\n",
       "  \n",
       "         ...,\n",
       "  \n",
       "         [[b'500', b'00a', b'005', ..., b'01Z', b'00X', b'0Hu']],\n",
       "  \n",
       "         [[b'701', b'001', b'003', ..., b'00B', b'0FK', b'00U']],\n",
       "  \n",
       "         [[b'005', b'00Q', b'001', ..., b'02u', b'0PS', b'aVI']]],\n",
       "        dtype=object)>},\n",
       " <tf.Tensor: id=85777276, shape=(1024, 1), dtype=string, numpy=\n",
       " array([[b'500'],\n",
       "        [b'aVu'],\n",
       "        [b'500'],\n",
       "        ...,\n",
       "        [b'500'],\n",
       "        [b'003'],\n",
       "        [b'00Q']], dtype=object)>)"
      ]
     },
     "execution_count": 129,
     "metadata": {},
     "output_type": "execute_result"
    }
   ],
   "source": [
    "# Let's inspect the data that will hit the model\n",
    "next(iter(relevance_dataset.test))\n",
    "# Notice how query and query_words are short, 3 bytes long! "
   ]
  },
  {
   "cell_type": "code",
   "execution_count": 131,
   "metadata": {},
   "outputs": [
    {
     "name": "stdout",
     "output_type": "stream",
     "text": [
      "CPU times: user 7min 35s, sys: 1min 51s, total: 9min 27s\n",
      "Wall time: 8min 59s\n"
     ]
    }
   ],
   "source": [
    "%%time\n",
    "# Let's get predictions again\n",
    "preds = relevance_model.predict(relevance_dataset.test,inference_signature='serving_default')"
   ]
  },
  {
   "cell_type": "code",
   "execution_count": 132,
   "metadata": {},
   "outputs": [],
   "source": [
    "# Same cleaning on predictions\n",
    "preds['category_label'] = preds['category_label'].apply(clean_predictions)"
   ]
  },
  {
   "cell_type": "code",
   "execution_count": 134,
   "metadata": {},
   "outputs": [
    {
     "data": {
      "text/html": [
       "<div>\n",
       "<style scoped>\n",
       "    .dataframe tbody tr th:only-of-type {\n",
       "        vertical-align: middle;\n",
       "    }\n",
       "\n",
       "    .dataframe tbody tr th {\n",
       "        vertical-align: top;\n",
       "    }\n",
       "\n",
       "    .dataframe thead th {\n",
       "        text-align: right;\n",
       "    }\n",
       "</style>\n",
       "<table border=\"1\" class=\"dataframe\">\n",
       "  <thead>\n",
       "    <tr style=\"text-align: right;\">\n",
       "      <th></th>\n",
       "      <th>prediction_id</th>\n",
       "      <th>clicked_key_prefix</th>\n",
       "      <th>query</th>\n",
       "      <th>query_words</th>\n",
       "      <th>organization_id</th>\n",
       "      <th>smart_scope_order</th>\n",
       "      <th>category_label</th>\n",
       "    </tr>\n",
       "  </thead>\n",
       "  <tbody>\n",
       "    <tr>\n",
       "      <th>0</th>\n",
       "      <td>b'-10jd4gnxu07sq'</td>\n",
       "      <td>b'500'</td>\n",
       "      <td>b'727'</td>\n",
       "      <td>(tf.Tensor(b'727', shape=(), dtype=string), tf.Tensor(b'', shape=(), dtype=string), tf.Tensor(b'', shape=(), dtype=string), tf.Tensor(b'', shape=(), dtype=string), tf.Tensor(b'', shape=(), dtype=string), tf.Tensor(b'', shape=(), dtype=string), tf.Tensor(b'', shape=(), dtype=string), tf.Tensor(b'', shape=(), dtype=string), tf.Tensor(b'', shape=(), dtype=string), tf.Tensor(b'', shape=(), dtype=string), tf.Tensor(b'', shape=(), dtype=string), tf.Tensor(b'', shape=(), dtype=string), tf.Tensor(b'', shape=(), dtype=string), tf.Tensor(b'', shape=(), dtype=string), tf.Tensor(b'', shape=(), dtype=string), tf.Tensor(b'', shape=(), dtype=string), tf.Tensor(b'', shape=(), dtype=string), tf.Tensor(b'', shape=(), dtype=string), tf.Tensor(b'', shape=(), dtype=string), tf.Tensor(b'', shape=(), dtype=string))</td>\n",
       "      <td>b'00D000000000062'</td>\n",
       "      <td>(tf.Tensor(b'005', shape=(), dtype=string), tf.Tensor(b'500', shape=(), dtype=string), tf.Tensor(b'003', shape=(), dtype=string), tf.Tensor(b'ka#', shape=(), dtype=string), tf.Tensor(b'00O', shape=(), dtype=string), tf.Tensor(b'a1h', shape=(), dtype=string), tf.Tensor(b'02u', shape=(), dtype=string), tf.Tensor(b'087', shape=(), dtype=string), tf.Tensor(b'00h', shape=(), dtype=string), tf.Tensor(b'0PS', shape=(), dtype=string), tf.Tensor(b'aCH', shape=(), dtype=string), tf.Tensor(b'069', shape=(), dtype=string), tf.Tensor(b'0XC', shape=(), dtype=string), tf.Tensor(b'0F9', shape=(), dtype=string), tf.Tensor(b'066', shape=(), dtype=string), tf.Tensor(b'1Y3', shape=(), dtype=string), tf.Tensor(b'570', shape=(), dtype=string), tf.Tensor(b'00B', shape=(), dtype=string), tf.Tensor(b'00Q', shape=(), dtype=string), tf.Tensor(b'00U', shape=(), dtype=string))</td>\n",
       "      <td>[0.9999974, 1.311562e-07, 1.9355932e-06, 4.7308484e-16, 4.6343224e-12, 2.692105e-11, 4.023711e-09, 3.2256282e-24, 1.5762118e-18, 1.0973475e-24, 3.352345e-24, 1.8507192e-24, 3.7755e-18, 6.794071e-24, 1.464972e-17, 1.1941628e-23, 5.102617e-24, 8.731958e-30, 1.3228216e-23, 3.1610798e-24, 9.7018855e-24, 1.1766184e-15, 1.5807933e-08, 5.9237114e-21, 2.9421913e-18, 1.739326e-24, 9.893776e-37, 9.683577e-25, 5.674667e-24, 1.06721814e-07, 1.3729087e-27, 2.4159116e-24, 1.789087e-28, 2.6134193e-24, 3.2131377e-32, 1.8990144e-24, 2.0950377e-23, 8.645745e-08, 4.231009e-24, 2.224267e-24, 1.0019675e-23, 1.5671187e-23, 1.9138501e-24, 5.3215105e-24, 2.4020172e-24, 1.7201775e-24, 1.6586783e-22, 3.7300653e-24, 3.2184992e-24, 1.9393964e-24, 6.890961e-24, 1.9295376e-24, 1.3749022e-24, 4.7011633e-24, 2.8305378e-24, 4.267627e-24, 2.6757008e-24, 3.3504015e-24, 6.8799256e-25, 4.965094e-25, 5.6283593e-24, 2.3708471e-24, 1.0974521e-24, 2.804378e-24, 2.3255408e-24, 1.251605e-24, 5.5661193e-24, 4.497636e-24, 2.5492594e-24, 1.5655465e-24, 4.6998758e-30, 1.1732964e-24, 6.3390515e-25, 4.833199e-24, 5.4776095e-24, 3.3819646e-24, 4.61576e-24, 5.6922503e-24, 2.3476368e-24, 1.4934454e-23, 3.5271678e-23, 2.07006e-24, 6.045539e-24, 6.4445077e-24, 1.1752719e-24, 3.0354384e-24, 2.4866556e-24, 3.255581e-24, 2.2685447e-23, 4.2077987e-24, 2.4756102e-24, 6.585768e-24, 1.4655424e-24, 2.6004117e-24, 2.9116233e-24, 2.0340059e-24, 6.2395516e-35, 4.6963063e-24, 1.1221922e-32, 2.4434854e-24, ...]</td>\n",
       "    </tr>\n",
       "    <tr>\n",
       "      <th>1</th>\n",
       "      <td>b'-112ai2rvrrj89'</td>\n",
       "      <td>b'aVu'</td>\n",
       "      <td>b'bc'</td>\n",
       "      <td>(tf.Tensor(b'bc', shape=(), dtype=string), tf.Tensor(b'', shape=(), dtype=string), tf.Tensor(b'', shape=(), dtype=string), tf.Tensor(b'', shape=(), dtype=string), tf.Tensor(b'', shape=(), dtype=string), tf.Tensor(b'', shape=(), dtype=string), tf.Tensor(b'', shape=(), dtype=string), tf.Tensor(b'', shape=(), dtype=string), tf.Tensor(b'', shape=(), dtype=string), tf.Tensor(b'', shape=(), dtype=string), tf.Tensor(b'', shape=(), dtype=string), tf.Tensor(b'', shape=(), dtype=string), tf.Tensor(b'', shape=(), dtype=string), tf.Tensor(b'', shape=(), dtype=string), tf.Tensor(b'', shape=(), dtype=string), tf.Tensor(b'', shape=(), dtype=string), tf.Tensor(b'', shape=(), dtype=string), tf.Tensor(b'', shape=(), dtype=string), tf.Tensor(b'', shape=(), dtype=string), tf.Tensor(b'', shape=(), dtype=string))</td>\n",
       "      <td>b'00D000000000062'</td>\n",
       "      <td>(tf.Tensor(b'001', shape=(), dtype=string), tf.Tensor(b'006', shape=(), dtype=string), tf.Tensor(b'005', shape=(), dtype=string), tf.Tensor(b'a4A', shape=(), dtype=string), tf.Tensor(b'aCT', shape=(), dtype=string), tf.Tensor(b'aVu', shape=(), dtype=string), tf.Tensor(b'003', shape=(), dtype=string), tf.Tensor(b'00Q', shape=(), dtype=string), tf.Tensor(b'500', shape=(), dtype=string), tf.Tensor(b'a3v', shape=(), dtype=string), tf.Tensor(b'00B', shape=(), dtype=string), tf.Tensor(b'069', shape=(), dtype=string), tf.Tensor(b'02u', shape=(), dtype=string), tf.Tensor(b'0PS', shape=(), dtype=string), tf.Tensor(b'aJG', shape=(), dtype=string), tf.Tensor(b'801', shape=(), dtype=string), tf.Tensor(b'0W1', shape=(), dtype=string), tf.Tensor(b'0FK', shape=(), dtype=string), tf.Tensor(b'aP9', shape=(), dtype=string), tf.Tensor(b'701', shape=(), dtype=string))</td>\n",
       "      <td>[6.529927e-08, 0.06337026, 1.7890525e-07, 0.9337501, 1.9100158e-08, 1.0297078e-09, 1.999164e-09, 1.9378335e-24, 1.6388434e-13, 1.0960742e-24, 3.509512e-24, 2.8594127e-24, 1.8050857e-27, 3.0361984e-24, 4.6195083e-08, 7.7953415e-25, 2.0999706e-24, 2.3383568e-31, 3.1060665e-24, 1.8493264e-24, 3.349707e-24, 1.7483859e-07, 2.473854e-14, 4.319083e-15, 4.4882284e-13, 1.0698508e-24, 1.5613946e-15, 2.7549417e-24, 1.6757504e-24, 4.91118e-06, 1.5613976e-26, 1.4530155e-24, 2.933516e-31, 1.1533477e-24, 3.987416e-24, 1.7447197e-24, 2.80184e-24, 4.2102038e-06, 2.3001107e-24, 1.8724324e-24, 1.7229201e-24, 3.3867234e-24, 1.3413101e-24, 1.8869091e-24, 1.919924e-24, 1.3300193e-24, 1.7773115e-26, 2.0496275e-24, 1.2208948e-24, 1.676019e-24, 3.331967e-24, 1.3598728e-24, 1.9008672e-24, 4.0859165e-24, 1.3104636e-24, 3.4598102e-24, 3.0696337e-24, 1.3718304e-24, 2.0606737e-24, 1.6279708e-24, 1.9994841e-24, 1.6767097e-24, 1.4231136e-24, 1.3269634e-24, 3.7002846e-24, 7.9403026e-25, 1.8171583e-24, 1.6760318e-24, 2.1829243e-24, 2.3799326e-24, 1.30637646e-23, 5.1823712e-24, 1.6827584e-24, 1.6743703e-24, 9.536272e-25, 1.3883559e-24, 4.8326392e-24, 8.280043e-25, 1.8222533e-24, 1.7561245e-24, 8.4968416e-14, 2.5958592e-24, 5.746174e-24, 4.154014e-24, 2.60427e-24, 1.6311285e-24, 5.1387867e-24, 1.3656328e-24, 7.098447e-24, 3.0706641e-24, 1.6050747e-24, 1.7368374e-24, 1.5313685e-24, 1.1432117e-24, 3.1954103e-24, 1.8973897e-24, 1.0423163e-17, 1.1714791e-24, 2.7206543e-17, 1.6701856e-24, ...]</td>\n",
       "    </tr>\n",
       "    <tr>\n",
       "      <th>2</th>\n",
       "      <td>b'-12s0iuwulu0bd'</td>\n",
       "      <td>b'500'</td>\n",
       "      <td>b'273'</td>\n",
       "      <td>(tf.Tensor(b'273', shape=(), dtype=string), tf.Tensor(b'', shape=(), dtype=string), tf.Tensor(b'', shape=(), dtype=string), tf.Tensor(b'', shape=(), dtype=string), tf.Tensor(b'', shape=(), dtype=string), tf.Tensor(b'', shape=(), dtype=string), tf.Tensor(b'', shape=(), dtype=string), tf.Tensor(b'', shape=(), dtype=string), tf.Tensor(b'', shape=(), dtype=string), tf.Tensor(b'', shape=(), dtype=string), tf.Tensor(b'', shape=(), dtype=string), tf.Tensor(b'', shape=(), dtype=string), tf.Tensor(b'', shape=(), dtype=string), tf.Tensor(b'', shape=(), dtype=string), tf.Tensor(b'', shape=(), dtype=string), tf.Tensor(b'', shape=(), dtype=string), tf.Tensor(b'', shape=(), dtype=string), tf.Tensor(b'', shape=(), dtype=string), tf.Tensor(b'', shape=(), dtype=string), tf.Tensor(b'', shape=(), dtype=string))</td>\n",
       "      <td>b'00D000000000062'</td>\n",
       "      <td>(tf.Tensor(b'003', shape=(), dtype=string), tf.Tensor(b'001', shape=(), dtype=string), tf.Tensor(b'006', shape=(), dtype=string), tf.Tensor(b'0F9', shape=(), dtype=string), tf.Tensor(b'005', shape=(), dtype=string), tf.Tensor(b'500', shape=(), dtype=string), tf.Tensor(b'aJS', shape=(), dtype=string), tf.Tensor(b'a4b', shape=(), dtype=string), tf.Tensor(b'00X', shape=(), dtype=string), tf.Tensor(b'068', shape=(), dtype=string), tf.Tensor(b'00O', shape=(), dtype=string), tf.Tensor(b'01u', shape=(), dtype=string), tf.Tensor(b'02u', shape=(), dtype=string), tf.Tensor(b'0PS', shape=(), dtype=string), tf.Tensor(b'069', shape=(), dtype=string), tf.Tensor(b'00U', shape=(), dtype=string), tf.Tensor(b'00T', shape=(), dtype=string), tf.Tensor(b'0Fb', shape=(), dtype=string), tf.Tensor(b'aJT', shape=(), dtype=string), tf.Tensor(b'a24', shape=(), dtype=string))</td>\n",
       "      <td>[0.91004044, 0.009895159, 0.0014349615, 0.06704823, 0.0006428521, 5.94497e-08, 0.0018750565, 3.8965604e-16, 3.7510158e-06, 5.3741514e-16, 9.887934e-16, 9.515302e-16, 2.499207e-13, 9.808254e-16, 2.0388097e-05, 3.7367364e-16, 9.340269e-16, 1.2658045e-17, 7.4739186e-16, 7.079161e-16, 6.0945217e-16, 3.7066064e-05, 1.2130434e-05, 2.6362548e-11, 2.2063118e-06, 5.49826e-16, 1.0751486e-15, 1.0993526e-15, 7.177596e-16, 0.0010892635, 1.0015798e-14, 6.164551e-16, 2.6936069e-16, 4.1337296e-16, 1.5037585e-18, 4.626574e-16, 1.1383765e-15, 2.847351e-06, 6.845436e-16, 3.4422985e-16, 1.0424793e-15, 8.4245283e-16, 5.8096465e-16, 8.328508e-16, 4.0815355e-16, 3.961623e-16, 1.945373e-15, 7.030209e-16, 3.6986586e-16, 6.3190987e-16, 8.1303045e-16, 3.686291e-16, 6.091849e-16, 6.7529215e-16, 6.502798e-16, 1.0749804e-15, 5.580543e-16, 7.6392e-16, 2.435198e-16, 3.938899e-16, 5.5325545e-16, 5.0055735e-16, 9.516754e-16, 5.1850164e-16, 1.0845239e-15, 5.2480774e-16, 6.942502e-16, 4.2481913e-16, 7.949756e-16, 6.4284115e-16, 1.2626644e-14, 4.3296169e-16, 6.366134e-16, 3.9803613e-16, 3.181542e-16, 3.4028437e-16, 2.2823061e-15, 5.85863e-16, 5.2244876e-16, 6.5648346e-16, 9.2472655e-11, 6.1430016e-16, 9.507066e-16, 3.717982e-16, 7.2305803e-16, 3.317999e-16, 1.1461806e-15, 6.343492e-16, 1.6931044e-16, 5.5738627e-16, 3.873042e-16, 4.94205e-16, 4.2087048e-16, 3.5741574e-16, 6.2736316e-16, 6.1532507e-16, 1.1944278e-17, 4.772363e-16, 2.018064e-13, 4.2275631e-16, ...]</td>\n",
       "    </tr>\n",
       "    <tr>\n",
       "      <th>3</th>\n",
       "      <td>b'-15gwrz3iecll5'</td>\n",
       "      <td>b'001'</td>\n",
       "      <td>b'md '</td>\n",
       "      <td>(tf.Tensor(b'md', shape=(), dtype=string), tf.Tensor(b'', shape=(), dtype=string), tf.Tensor(b'', shape=(), dtype=string), tf.Tensor(b'', shape=(), dtype=string), tf.Tensor(b'', shape=(), dtype=string), tf.Tensor(b'', shape=(), dtype=string), tf.Tensor(b'', shape=(), dtype=string), tf.Tensor(b'', shape=(), dtype=string), tf.Tensor(b'', shape=(), dtype=string), tf.Tensor(b'', shape=(), dtype=string), tf.Tensor(b'', shape=(), dtype=string), tf.Tensor(b'', shape=(), dtype=string), tf.Tensor(b'', shape=(), dtype=string), tf.Tensor(b'', shape=(), dtype=string), tf.Tensor(b'', shape=(), dtype=string), tf.Tensor(b'', shape=(), dtype=string), tf.Tensor(b'', shape=(), dtype=string), tf.Tensor(b'', shape=(), dtype=string), tf.Tensor(b'', shape=(), dtype=string), tf.Tensor(b'', shape=(), dtype=string))</td>\n",
       "      <td>b'00D000000000062'</td>\n",
       "      <td>(tf.Tensor(b'003', shape=(), dtype=string), tf.Tensor(b'001', shape=(), dtype=string), tf.Tensor(b'0F9', shape=(), dtype=string), tf.Tensor(b'006', shape=(), dtype=string), tf.Tensor(b'00G', shape=(), dtype=string), tf.Tensor(b'005', shape=(), dtype=string), tf.Tensor(b'aJS', shape=(), dtype=string), tf.Tensor(b'500', shape=(), dtype=string), tf.Tensor(b'a2d', shape=(), dtype=string), tf.Tensor(b'00X', shape=(), dtype=string), tf.Tensor(b'800', shape=(), dtype=string), tf.Tensor(b'02s', shape=(), dtype=string), tf.Tensor(b'a25', shape=(), dtype=string), tf.Tensor(b'01t', shape=(), dtype=string), tf.Tensor(b'aKw', shape=(), dtype=string), tf.Tensor(b'aJT', shape=(), dtype=string), tf.Tensor(b'a7R', shape=(), dtype=string), tf.Tensor(b'a0o', shape=(), dtype=string), tf.Tensor(b'701', shape=(), dtype=string), tf.Tensor(b'069', shape=(), dtype=string))</td>\n",
       "      <td>[0.00070883764, 0.52717835, 0.0016225997, 0.42850977, 0.0014216861, 1.8842096e-05, 0.002199424, 2.0076092e-17, 3.3289484e-07, 2.3582438e-17, 3.8227877e-17, 5.875311e-17, 2.3691478e-11, 5.4612046e-17, 0.00016900912, 1.17069755e-17, 3.6931642e-17, 1.8906508e-23, 3.1184858e-17, 2.7949874e-17, 3.2133558e-17, 0.0014031841, 1.1849492e-06, 2.2465422e-06, 5.733801e-07, 1.7845626e-17, 7.47394e-10, 2.8507225e-17, 3.6775593e-17, 0.005435425, 9.980945e-13, 2.3586486e-17, 1.2217537e-15, 1.4681485e-17, 3.9002777e-12, 1.3293502e-17, 3.364358e-17, 1.4739e-06, 2.5377881e-17, 2.410671e-17, 4.5059777e-17, 3.0487455e-17, 2.4245875e-17, 5.71967e-17, 9.427295e-18, 3.3243247e-17, 8.369061e-17, 2.672536e-17, 1.6024752e-17, 5.5337218e-17, 3.8073757e-17, 1.9678625e-17, 2.820554e-17, 3.7301468e-17, 2.3280414e-17, 8.744976e-17, 2.9242876e-17, 3.6402925e-17, 2.8886643e-17, 2.2402481e-17, 1.8509432e-17, 9.771363e-18, 3.473565e-17, 1.4281227e-17, 7.9650644e-17, 1.7838004e-17, 1.9899353e-17, 1.9436678e-17, 3.1044446e-17, 3.599557e-17, 5.108804e-10, 2.279906e-17, 4.775519e-17, 2.6989995e-17, 1.1407768e-17, 2.5732035e-17, 1.4261852e-16, 1.6505767e-17, 2.5856607e-17, 2.1369505e-17, 9.953714e-07, 3.638002e-17, 9.3969246e-17, 1.7069259e-17, 2.7617926e-17, 1.6166153e-17, 6.735409e-17, 1.1659688e-17, 1.3330071e-16, 1.8049375e-17, 2.2485358e-17, 1.6144276e-17, 8.8671115e-18, 9.9883655e-18, 3.6814474e-17, 2.8646323e-17, 4.3755484e-09, 1.4827146e-17, 3.660019e-08, 1.5595782e-17, ...]</td>\n",
       "    </tr>\n",
       "    <tr>\n",
       "      <th>4</th>\n",
       "      <td>b'-161aaakruvxlo'</td>\n",
       "      <td>b'001'</td>\n",
       "      <td>b'sbi'</td>\n",
       "      <td>(tf.Tensor(b'sbi', shape=(), dtype=string), tf.Tensor(b'', shape=(), dtype=string), tf.Tensor(b'', shape=(), dtype=string), tf.Tensor(b'', shape=(), dtype=string), tf.Tensor(b'', shape=(), dtype=string), tf.Tensor(b'', shape=(), dtype=string), tf.Tensor(b'', shape=(), dtype=string), tf.Tensor(b'', shape=(), dtype=string), tf.Tensor(b'', shape=(), dtype=string), tf.Tensor(b'', shape=(), dtype=string), tf.Tensor(b'', shape=(), dtype=string), tf.Tensor(b'', shape=(), dtype=string), tf.Tensor(b'', shape=(), dtype=string), tf.Tensor(b'', shape=(), dtype=string), tf.Tensor(b'', shape=(), dtype=string), tf.Tensor(b'', shape=(), dtype=string), tf.Tensor(b'', shape=(), dtype=string), tf.Tensor(b'', shape=(), dtype=string), tf.Tensor(b'', shape=(), dtype=string), tf.Tensor(b'', shape=(), dtype=string))</td>\n",
       "      <td>b'00D000000000062'</td>\n",
       "      <td>(tf.Tensor(b'001', shape=(), dtype=string), tf.Tensor(b'005', shape=(), dtype=string), tf.Tensor(b'003', shape=(), dtype=string), tf.Tensor(b'00Q', shape=(), dtype=string), tf.Tensor(b'006', shape=(), dtype=string), tf.Tensor(b'701', shape=(), dtype=string), tf.Tensor(b'00U', shape=(), dtype=string), tf.Tensor(b'00T', shape=(), dtype=string), tf.Tensor(b'00G', shape=(), dtype=string), tf.Tensor(b'ka#', shape=(), dtype=string), tf.Tensor(b'00O', shape=(), dtype=string), tf.Tensor(b'0F9', shape=(), dtype=string), tf.Tensor(b'00X', shape=(), dtype=string), tf.Tensor(b'aFj', shape=(), dtype=string), tf.Tensor(b'0XB', shape=(), dtype=string), tf.Tensor(b'800', shape=(), dtype=string), tf.Tensor(b'02s', shape=(), dtype=string), tf.Tensor(b'aVI', shape=(), dtype=string), tf.Tensor(b'a4b', shape=(), dtype=string), tf.Tensor(b'0TO', shape=(), dtype=string))</td>\n",
       "      <td>[2.0432353e-07, 0.9975591, 3.6128345e-06, 0.0021334223, 1.4447287e-05, 5.512235e-10, 5.8011784e-07, 7.75476e-30, 4.887367e-12, 6.0879417e-30, 2.229954e-29, 3.3729633e-29, 6.778472e-21, 1.7127939e-29, 6.7256567e-10, 2.0053245e-30, 1.4096262e-29, 0.0, 5.1974097e-30, 4.6658643e-30, 6.7557244e-30, 2.2107773e-07, 2.4602625e-11, 7.3023604e-17, 3.294356e-11, 1.9917238e-30, 7.4394024e-17, 7.803367e-30, 5.7374913e-30, 0.000170661, 1.5176724e-20, 3.1111961e-30, 8.702314e-26, 2.1973328e-30, 9.510776e-19, 2.3314053e-30, 8.550271e-30, 3.249311e-12, 4.145918e-30, 1.1140177e-29, 1.2955705e-29, 5.8566375e-30, 4.734101e-30, 2.5297234e-29, 1.6621934e-30, 1.03790336e-29, 1.4604101e-29, 6.652205e-30, 1.2553214e-30, 1.2976082e-29, 2.1650257e-29, 5.350297e-30, 5.6764043e-30, 1.168541e-29, 4.593106e-30, 2.1587087e-29, 8.182789e-30, 5.0875584e-30, 9.409498e-30, 2.8194945e-30, 3.9396477e-30, 2.3612099e-30, 6.814375e-30, 2.5565655e-30, 2.735033e-29, 9.77038e-30, 6.2285583e-30, 3.0652524e-30, 5.5595248e-30, 5.7447184e-30, 2.1045438e-25, 7.081289e-30, 2.3039898e-29, 5.0691544e-30, 1.3499316e-30, 6.0165104e-30, 8.364995e-29, 3.1084203e-30, 7.027576e-30, 2.3684808e-30, 7.004215e-14, 1.569663e-29, 3.05469e-29, 4.8936277e-30, 9.742467e-30, 3.5238605e-30, 5.599905e-29, 1.167146e-30, 2.1744447e-29, 2.6134416e-30, 5.266424e-30, 2.4216713e-30, 7.6423096e-31, 1.2950115e-30, 9.7963555e-30, 9.590912e-30, 1.6807218e-23, 1.3545122e-30, 1.1639607e-18, 2.302135e-30, ...]</td>\n",
       "    </tr>\n",
       "  </tbody>\n",
       "</table>\n",
       "</div>"
      ],
      "text/plain": [
       "       prediction_id clicked_key_prefix   query  \\\n",
       "0  b'-10jd4gnxu07sq'  b'500'             b'727'   \n",
       "1  b'-112ai2rvrrj89'  b'aVu'             b'bc'    \n",
       "2  b'-12s0iuwulu0bd'  b'500'             b'273'   \n",
       "3  b'-15gwrz3iecll5'  b'001'             b'md '   \n",
       "4  b'-161aaakruvxlo'  b'001'             b'sbi'   \n",
       "\n",
       "                                                                                                                                                                                                                                                                                                                                                                                                                                                                                                                                                                                                                                                                                                                                                                                                                           query_words  \\\n",
       "0  (tf.Tensor(b'727', shape=(), dtype=string), tf.Tensor(b'', shape=(), dtype=string), tf.Tensor(b'', shape=(), dtype=string), tf.Tensor(b'', shape=(), dtype=string), tf.Tensor(b'', shape=(), dtype=string), tf.Tensor(b'', shape=(), dtype=string), tf.Tensor(b'', shape=(), dtype=string), tf.Tensor(b'', shape=(), dtype=string), tf.Tensor(b'', shape=(), dtype=string), tf.Tensor(b'', shape=(), dtype=string), tf.Tensor(b'', shape=(), dtype=string), tf.Tensor(b'', shape=(), dtype=string), tf.Tensor(b'', shape=(), dtype=string), tf.Tensor(b'', shape=(), dtype=string), tf.Tensor(b'', shape=(), dtype=string), tf.Tensor(b'', shape=(), dtype=string), tf.Tensor(b'', shape=(), dtype=string), tf.Tensor(b'', shape=(), dtype=string), tf.Tensor(b'', shape=(), dtype=string), tf.Tensor(b'', shape=(), dtype=string))   \n",
       "1  (tf.Tensor(b'bc', shape=(), dtype=string), tf.Tensor(b'', shape=(), dtype=string), tf.Tensor(b'', shape=(), dtype=string), tf.Tensor(b'', shape=(), dtype=string), tf.Tensor(b'', shape=(), dtype=string), tf.Tensor(b'', shape=(), dtype=string), tf.Tensor(b'', shape=(), dtype=string), tf.Tensor(b'', shape=(), dtype=string), tf.Tensor(b'', shape=(), dtype=string), tf.Tensor(b'', shape=(), dtype=string), tf.Tensor(b'', shape=(), dtype=string), tf.Tensor(b'', shape=(), dtype=string), tf.Tensor(b'', shape=(), dtype=string), tf.Tensor(b'', shape=(), dtype=string), tf.Tensor(b'', shape=(), dtype=string), tf.Tensor(b'', shape=(), dtype=string), tf.Tensor(b'', shape=(), dtype=string), tf.Tensor(b'', shape=(), dtype=string), tf.Tensor(b'', shape=(), dtype=string), tf.Tensor(b'', shape=(), dtype=string))    \n",
       "2  (tf.Tensor(b'273', shape=(), dtype=string), tf.Tensor(b'', shape=(), dtype=string), tf.Tensor(b'', shape=(), dtype=string), tf.Tensor(b'', shape=(), dtype=string), tf.Tensor(b'', shape=(), dtype=string), tf.Tensor(b'', shape=(), dtype=string), tf.Tensor(b'', shape=(), dtype=string), tf.Tensor(b'', shape=(), dtype=string), tf.Tensor(b'', shape=(), dtype=string), tf.Tensor(b'', shape=(), dtype=string), tf.Tensor(b'', shape=(), dtype=string), tf.Tensor(b'', shape=(), dtype=string), tf.Tensor(b'', shape=(), dtype=string), tf.Tensor(b'', shape=(), dtype=string), tf.Tensor(b'', shape=(), dtype=string), tf.Tensor(b'', shape=(), dtype=string), tf.Tensor(b'', shape=(), dtype=string), tf.Tensor(b'', shape=(), dtype=string), tf.Tensor(b'', shape=(), dtype=string), tf.Tensor(b'', shape=(), dtype=string))   \n",
       "3  (tf.Tensor(b'md', shape=(), dtype=string), tf.Tensor(b'', shape=(), dtype=string), tf.Tensor(b'', shape=(), dtype=string), tf.Tensor(b'', shape=(), dtype=string), tf.Tensor(b'', shape=(), dtype=string), tf.Tensor(b'', shape=(), dtype=string), tf.Tensor(b'', shape=(), dtype=string), tf.Tensor(b'', shape=(), dtype=string), tf.Tensor(b'', shape=(), dtype=string), tf.Tensor(b'', shape=(), dtype=string), tf.Tensor(b'', shape=(), dtype=string), tf.Tensor(b'', shape=(), dtype=string), tf.Tensor(b'', shape=(), dtype=string), tf.Tensor(b'', shape=(), dtype=string), tf.Tensor(b'', shape=(), dtype=string), tf.Tensor(b'', shape=(), dtype=string), tf.Tensor(b'', shape=(), dtype=string), tf.Tensor(b'', shape=(), dtype=string), tf.Tensor(b'', shape=(), dtype=string), tf.Tensor(b'', shape=(), dtype=string))    \n",
       "4  (tf.Tensor(b'sbi', shape=(), dtype=string), tf.Tensor(b'', shape=(), dtype=string), tf.Tensor(b'', shape=(), dtype=string), tf.Tensor(b'', shape=(), dtype=string), tf.Tensor(b'', shape=(), dtype=string), tf.Tensor(b'', shape=(), dtype=string), tf.Tensor(b'', shape=(), dtype=string), tf.Tensor(b'', shape=(), dtype=string), tf.Tensor(b'', shape=(), dtype=string), tf.Tensor(b'', shape=(), dtype=string), tf.Tensor(b'', shape=(), dtype=string), tf.Tensor(b'', shape=(), dtype=string), tf.Tensor(b'', shape=(), dtype=string), tf.Tensor(b'', shape=(), dtype=string), tf.Tensor(b'', shape=(), dtype=string), tf.Tensor(b'', shape=(), dtype=string), tf.Tensor(b'', shape=(), dtype=string), tf.Tensor(b'', shape=(), dtype=string), tf.Tensor(b'', shape=(), dtype=string), tf.Tensor(b'', shape=(), dtype=string))   \n",
       "\n",
       "      organization_id  \\\n",
       "0  b'00D000000000062'   \n",
       "1  b'00D000000000062'   \n",
       "2  b'00D000000000062'   \n",
       "3  b'00D000000000062'   \n",
       "4  b'00D000000000062'   \n",
       "\n",
       "                                                                                                                                                                                                                                                                                                                                                                                                                                                                                                                                                                                                                                                                                                                                                                                                                                                                              smart_scope_order  \\\n",
       "0  (tf.Tensor(b'005', shape=(), dtype=string), tf.Tensor(b'500', shape=(), dtype=string), tf.Tensor(b'003', shape=(), dtype=string), tf.Tensor(b'ka#', shape=(), dtype=string), tf.Tensor(b'00O', shape=(), dtype=string), tf.Tensor(b'a1h', shape=(), dtype=string), tf.Tensor(b'02u', shape=(), dtype=string), tf.Tensor(b'087', shape=(), dtype=string), tf.Tensor(b'00h', shape=(), dtype=string), tf.Tensor(b'0PS', shape=(), dtype=string), tf.Tensor(b'aCH', shape=(), dtype=string), tf.Tensor(b'069', shape=(), dtype=string), tf.Tensor(b'0XC', shape=(), dtype=string), tf.Tensor(b'0F9', shape=(), dtype=string), tf.Tensor(b'066', shape=(), dtype=string), tf.Tensor(b'1Y3', shape=(), dtype=string), tf.Tensor(b'570', shape=(), dtype=string), tf.Tensor(b'00B', shape=(), dtype=string), tf.Tensor(b'00Q', shape=(), dtype=string), tf.Tensor(b'00U', shape=(), dtype=string))   \n",
       "1  (tf.Tensor(b'001', shape=(), dtype=string), tf.Tensor(b'006', shape=(), dtype=string), tf.Tensor(b'005', shape=(), dtype=string), tf.Tensor(b'a4A', shape=(), dtype=string), tf.Tensor(b'aCT', shape=(), dtype=string), tf.Tensor(b'aVu', shape=(), dtype=string), tf.Tensor(b'003', shape=(), dtype=string), tf.Tensor(b'00Q', shape=(), dtype=string), tf.Tensor(b'500', shape=(), dtype=string), tf.Tensor(b'a3v', shape=(), dtype=string), tf.Tensor(b'00B', shape=(), dtype=string), tf.Tensor(b'069', shape=(), dtype=string), tf.Tensor(b'02u', shape=(), dtype=string), tf.Tensor(b'0PS', shape=(), dtype=string), tf.Tensor(b'aJG', shape=(), dtype=string), tf.Tensor(b'801', shape=(), dtype=string), tf.Tensor(b'0W1', shape=(), dtype=string), tf.Tensor(b'0FK', shape=(), dtype=string), tf.Tensor(b'aP9', shape=(), dtype=string), tf.Tensor(b'701', shape=(), dtype=string))   \n",
       "2  (tf.Tensor(b'003', shape=(), dtype=string), tf.Tensor(b'001', shape=(), dtype=string), tf.Tensor(b'006', shape=(), dtype=string), tf.Tensor(b'0F9', shape=(), dtype=string), tf.Tensor(b'005', shape=(), dtype=string), tf.Tensor(b'500', shape=(), dtype=string), tf.Tensor(b'aJS', shape=(), dtype=string), tf.Tensor(b'a4b', shape=(), dtype=string), tf.Tensor(b'00X', shape=(), dtype=string), tf.Tensor(b'068', shape=(), dtype=string), tf.Tensor(b'00O', shape=(), dtype=string), tf.Tensor(b'01u', shape=(), dtype=string), tf.Tensor(b'02u', shape=(), dtype=string), tf.Tensor(b'0PS', shape=(), dtype=string), tf.Tensor(b'069', shape=(), dtype=string), tf.Tensor(b'00U', shape=(), dtype=string), tf.Tensor(b'00T', shape=(), dtype=string), tf.Tensor(b'0Fb', shape=(), dtype=string), tf.Tensor(b'aJT', shape=(), dtype=string), tf.Tensor(b'a24', shape=(), dtype=string))   \n",
       "3  (tf.Tensor(b'003', shape=(), dtype=string), tf.Tensor(b'001', shape=(), dtype=string), tf.Tensor(b'0F9', shape=(), dtype=string), tf.Tensor(b'006', shape=(), dtype=string), tf.Tensor(b'00G', shape=(), dtype=string), tf.Tensor(b'005', shape=(), dtype=string), tf.Tensor(b'aJS', shape=(), dtype=string), tf.Tensor(b'500', shape=(), dtype=string), tf.Tensor(b'a2d', shape=(), dtype=string), tf.Tensor(b'00X', shape=(), dtype=string), tf.Tensor(b'800', shape=(), dtype=string), tf.Tensor(b'02s', shape=(), dtype=string), tf.Tensor(b'a25', shape=(), dtype=string), tf.Tensor(b'01t', shape=(), dtype=string), tf.Tensor(b'aKw', shape=(), dtype=string), tf.Tensor(b'aJT', shape=(), dtype=string), tf.Tensor(b'a7R', shape=(), dtype=string), tf.Tensor(b'a0o', shape=(), dtype=string), tf.Tensor(b'701', shape=(), dtype=string), tf.Tensor(b'069', shape=(), dtype=string))   \n",
       "4  (tf.Tensor(b'001', shape=(), dtype=string), tf.Tensor(b'005', shape=(), dtype=string), tf.Tensor(b'003', shape=(), dtype=string), tf.Tensor(b'00Q', shape=(), dtype=string), tf.Tensor(b'006', shape=(), dtype=string), tf.Tensor(b'701', shape=(), dtype=string), tf.Tensor(b'00U', shape=(), dtype=string), tf.Tensor(b'00T', shape=(), dtype=string), tf.Tensor(b'00G', shape=(), dtype=string), tf.Tensor(b'ka#', shape=(), dtype=string), tf.Tensor(b'00O', shape=(), dtype=string), tf.Tensor(b'0F9', shape=(), dtype=string), tf.Tensor(b'00X', shape=(), dtype=string), tf.Tensor(b'aFj', shape=(), dtype=string), tf.Tensor(b'0XB', shape=(), dtype=string), tf.Tensor(b'800', shape=(), dtype=string), tf.Tensor(b'02s', shape=(), dtype=string), tf.Tensor(b'aVI', shape=(), dtype=string), tf.Tensor(b'a4b', shape=(), dtype=string), tf.Tensor(b'0TO', shape=(), dtype=string))   \n",
       "\n",
       "                                                                                                                                                                                                                                                                                                                                                                                                                                                                                                                                                                                                                                                                                                                                                                                                                                                                                                                                                                                                                                                                                                                                                                                                                                                                                                                                                                                                                                                                                                                          category_label  \n",
       "0  [0.9999974, 1.311562e-07, 1.9355932e-06, 4.7308484e-16, 4.6343224e-12, 2.692105e-11, 4.023711e-09, 3.2256282e-24, 1.5762118e-18, 1.0973475e-24, 3.352345e-24, 1.8507192e-24, 3.7755e-18, 6.794071e-24, 1.464972e-17, 1.1941628e-23, 5.102617e-24, 8.731958e-30, 1.3228216e-23, 3.1610798e-24, 9.7018855e-24, 1.1766184e-15, 1.5807933e-08, 5.9237114e-21, 2.9421913e-18, 1.739326e-24, 9.893776e-37, 9.683577e-25, 5.674667e-24, 1.06721814e-07, 1.3729087e-27, 2.4159116e-24, 1.789087e-28, 2.6134193e-24, 3.2131377e-32, 1.8990144e-24, 2.0950377e-23, 8.645745e-08, 4.231009e-24, 2.224267e-24, 1.0019675e-23, 1.5671187e-23, 1.9138501e-24, 5.3215105e-24, 2.4020172e-24, 1.7201775e-24, 1.6586783e-22, 3.7300653e-24, 3.2184992e-24, 1.9393964e-24, 6.890961e-24, 1.9295376e-24, 1.3749022e-24, 4.7011633e-24, 2.8305378e-24, 4.267627e-24, 2.6757008e-24, 3.3504015e-24, 6.8799256e-25, 4.965094e-25, 5.6283593e-24, 2.3708471e-24, 1.0974521e-24, 2.804378e-24, 2.3255408e-24, 1.251605e-24, 5.5661193e-24, 4.497636e-24, 2.5492594e-24, 1.5655465e-24, 4.6998758e-30, 1.1732964e-24, 6.3390515e-25, 4.833199e-24, 5.4776095e-24, 3.3819646e-24, 4.61576e-24, 5.6922503e-24, 2.3476368e-24, 1.4934454e-23, 3.5271678e-23, 2.07006e-24, 6.045539e-24, 6.4445077e-24, 1.1752719e-24, 3.0354384e-24, 2.4866556e-24, 3.255581e-24, 2.2685447e-23, 4.2077987e-24, 2.4756102e-24, 6.585768e-24, 1.4655424e-24, 2.6004117e-24, 2.9116233e-24, 2.0340059e-24, 6.2395516e-35, 4.6963063e-24, 1.1221922e-32, 2.4434854e-24, ...]          \n",
       "1  [6.529927e-08, 0.06337026, 1.7890525e-07, 0.9337501, 1.9100158e-08, 1.0297078e-09, 1.999164e-09, 1.9378335e-24, 1.6388434e-13, 1.0960742e-24, 3.509512e-24, 2.8594127e-24, 1.8050857e-27, 3.0361984e-24, 4.6195083e-08, 7.7953415e-25, 2.0999706e-24, 2.3383568e-31, 3.1060665e-24, 1.8493264e-24, 3.349707e-24, 1.7483859e-07, 2.473854e-14, 4.319083e-15, 4.4882284e-13, 1.0698508e-24, 1.5613946e-15, 2.7549417e-24, 1.6757504e-24, 4.91118e-06, 1.5613976e-26, 1.4530155e-24, 2.933516e-31, 1.1533477e-24, 3.987416e-24, 1.7447197e-24, 2.80184e-24, 4.2102038e-06, 2.3001107e-24, 1.8724324e-24, 1.7229201e-24, 3.3867234e-24, 1.3413101e-24, 1.8869091e-24, 1.919924e-24, 1.3300193e-24, 1.7773115e-26, 2.0496275e-24, 1.2208948e-24, 1.676019e-24, 3.331967e-24, 1.3598728e-24, 1.9008672e-24, 4.0859165e-24, 1.3104636e-24, 3.4598102e-24, 3.0696337e-24, 1.3718304e-24, 2.0606737e-24, 1.6279708e-24, 1.9994841e-24, 1.6767097e-24, 1.4231136e-24, 1.3269634e-24, 3.7002846e-24, 7.9403026e-25, 1.8171583e-24, 1.6760318e-24, 2.1829243e-24, 2.3799326e-24, 1.30637646e-23, 5.1823712e-24, 1.6827584e-24, 1.6743703e-24, 9.536272e-25, 1.3883559e-24, 4.8326392e-24, 8.280043e-25, 1.8222533e-24, 1.7561245e-24, 8.4968416e-14, 2.5958592e-24, 5.746174e-24, 4.154014e-24, 2.60427e-24, 1.6311285e-24, 5.1387867e-24, 1.3656328e-24, 7.098447e-24, 3.0706641e-24, 1.6050747e-24, 1.7368374e-24, 1.5313685e-24, 1.1432117e-24, 3.1954103e-24, 1.8973897e-24, 1.0423163e-17, 1.1714791e-24, 2.7206543e-17, 1.6701856e-24, ...]  \n",
       "2  [0.91004044, 0.009895159, 0.0014349615, 0.06704823, 0.0006428521, 5.94497e-08, 0.0018750565, 3.8965604e-16, 3.7510158e-06, 5.3741514e-16, 9.887934e-16, 9.515302e-16, 2.499207e-13, 9.808254e-16, 2.0388097e-05, 3.7367364e-16, 9.340269e-16, 1.2658045e-17, 7.4739186e-16, 7.079161e-16, 6.0945217e-16, 3.7066064e-05, 1.2130434e-05, 2.6362548e-11, 2.2063118e-06, 5.49826e-16, 1.0751486e-15, 1.0993526e-15, 7.177596e-16, 0.0010892635, 1.0015798e-14, 6.164551e-16, 2.6936069e-16, 4.1337296e-16, 1.5037585e-18, 4.626574e-16, 1.1383765e-15, 2.847351e-06, 6.845436e-16, 3.4422985e-16, 1.0424793e-15, 8.4245283e-16, 5.8096465e-16, 8.328508e-16, 4.0815355e-16, 3.961623e-16, 1.945373e-15, 7.030209e-16, 3.6986586e-16, 6.3190987e-16, 8.1303045e-16, 3.686291e-16, 6.091849e-16, 6.7529215e-16, 6.502798e-16, 1.0749804e-15, 5.580543e-16, 7.6392e-16, 2.435198e-16, 3.938899e-16, 5.5325545e-16, 5.0055735e-16, 9.516754e-16, 5.1850164e-16, 1.0845239e-15, 5.2480774e-16, 6.942502e-16, 4.2481913e-16, 7.949756e-16, 6.4284115e-16, 1.2626644e-14, 4.3296169e-16, 6.366134e-16, 3.9803613e-16, 3.181542e-16, 3.4028437e-16, 2.2823061e-15, 5.85863e-16, 5.2244876e-16, 6.5648346e-16, 9.2472655e-11, 6.1430016e-16, 9.507066e-16, 3.717982e-16, 7.2305803e-16, 3.317999e-16, 1.1461806e-15, 6.343492e-16, 1.6931044e-16, 5.5738627e-16, 3.873042e-16, 4.94205e-16, 4.2087048e-16, 3.5741574e-16, 6.2736316e-16, 6.1532507e-16, 1.1944278e-17, 4.772363e-16, 2.018064e-13, 4.2275631e-16, ...]                              \n",
       "3  [0.00070883764, 0.52717835, 0.0016225997, 0.42850977, 0.0014216861, 1.8842096e-05, 0.002199424, 2.0076092e-17, 3.3289484e-07, 2.3582438e-17, 3.8227877e-17, 5.875311e-17, 2.3691478e-11, 5.4612046e-17, 0.00016900912, 1.17069755e-17, 3.6931642e-17, 1.8906508e-23, 3.1184858e-17, 2.7949874e-17, 3.2133558e-17, 0.0014031841, 1.1849492e-06, 2.2465422e-06, 5.733801e-07, 1.7845626e-17, 7.47394e-10, 2.8507225e-17, 3.6775593e-17, 0.005435425, 9.980945e-13, 2.3586486e-17, 1.2217537e-15, 1.4681485e-17, 3.9002777e-12, 1.3293502e-17, 3.364358e-17, 1.4739e-06, 2.5377881e-17, 2.410671e-17, 4.5059777e-17, 3.0487455e-17, 2.4245875e-17, 5.71967e-17, 9.427295e-18, 3.3243247e-17, 8.369061e-17, 2.672536e-17, 1.6024752e-17, 5.5337218e-17, 3.8073757e-17, 1.9678625e-17, 2.820554e-17, 3.7301468e-17, 2.3280414e-17, 8.744976e-17, 2.9242876e-17, 3.6402925e-17, 2.8886643e-17, 2.2402481e-17, 1.8509432e-17, 9.771363e-18, 3.473565e-17, 1.4281227e-17, 7.9650644e-17, 1.7838004e-17, 1.9899353e-17, 1.9436678e-17, 3.1044446e-17, 3.599557e-17, 5.108804e-10, 2.279906e-17, 4.775519e-17, 2.6989995e-17, 1.1407768e-17, 2.5732035e-17, 1.4261852e-16, 1.6505767e-17, 2.5856607e-17, 2.1369505e-17, 9.953714e-07, 3.638002e-17, 9.3969246e-17, 1.7069259e-17, 2.7617926e-17, 1.6166153e-17, 6.735409e-17, 1.1659688e-17, 1.3330071e-16, 1.8049375e-17, 2.2485358e-17, 1.6144276e-17, 8.8671115e-18, 9.9883655e-18, 3.6814474e-17, 2.8646323e-17, 4.3755484e-09, 1.4827146e-17, 3.660019e-08, 1.5595782e-17, ...]             \n",
       "4  [2.0432353e-07, 0.9975591, 3.6128345e-06, 0.0021334223, 1.4447287e-05, 5.512235e-10, 5.8011784e-07, 7.75476e-30, 4.887367e-12, 6.0879417e-30, 2.229954e-29, 3.3729633e-29, 6.778472e-21, 1.7127939e-29, 6.7256567e-10, 2.0053245e-30, 1.4096262e-29, 0.0, 5.1974097e-30, 4.6658643e-30, 6.7557244e-30, 2.2107773e-07, 2.4602625e-11, 7.3023604e-17, 3.294356e-11, 1.9917238e-30, 7.4394024e-17, 7.803367e-30, 5.7374913e-30, 0.000170661, 1.5176724e-20, 3.1111961e-30, 8.702314e-26, 2.1973328e-30, 9.510776e-19, 2.3314053e-30, 8.550271e-30, 3.249311e-12, 4.145918e-30, 1.1140177e-29, 1.2955705e-29, 5.8566375e-30, 4.734101e-30, 2.5297234e-29, 1.6621934e-30, 1.03790336e-29, 1.4604101e-29, 6.652205e-30, 1.2553214e-30, 1.2976082e-29, 2.1650257e-29, 5.350297e-30, 5.6764043e-30, 1.168541e-29, 4.593106e-30, 2.1587087e-29, 8.182789e-30, 5.0875584e-30, 9.409498e-30, 2.8194945e-30, 3.9396477e-30, 2.3612099e-30, 6.814375e-30, 2.5565655e-30, 2.735033e-29, 9.77038e-30, 6.2285583e-30, 3.0652524e-30, 5.5595248e-30, 5.7447184e-30, 2.1045438e-25, 7.081289e-30, 2.3039898e-29, 5.0691544e-30, 1.3499316e-30, 6.0165104e-30, 8.364995e-29, 3.1084203e-30, 7.027576e-30, 2.3684808e-30, 7.004215e-14, 1.569663e-29, 3.05469e-29, 4.8936277e-30, 9.742467e-30, 3.5238605e-30, 5.599905e-29, 1.167146e-30, 2.1744447e-29, 2.6134416e-30, 5.266424e-30, 2.4216713e-30, 7.6423096e-31, 1.2950115e-30, 9.7963555e-30, 9.590912e-30, 1.6807218e-23, 1.3545122e-30, 1.1639607e-18, 2.302135e-30, ...]                           "
      ]
     },
     "execution_count": 134,
     "metadata": {},
     "output_type": "execute_result"
    }
   ],
   "source": [
    "preds.head()\n",
    "# See  how the query and the query words have been processed!"
   ]
  }
 ],
 "metadata": {
  "kernelspec": {
   "display_name": "ml4ir_venv3",
   "language": "python",
   "name": "ml4ir_venv3"
  },
  "language_info": {
   "codemirror_mode": {
    "name": "ipython",
    "version": 3
   },
   "file_extension": ".py",
   "mimetype": "text/x-python",
   "name": "python",
   "nbconvert_exporter": "python",
   "pygments_lexer": "ipython3",
   "version": "3.7.7"
  }
 },
 "nbformat": 4,
 "nbformat_minor": 4
}
