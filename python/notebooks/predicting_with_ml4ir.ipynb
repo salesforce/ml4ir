{
 "cells": [
  {
   "cell_type": "markdown",
   "metadata": {},
   "source": [
    "# Predicting with a trained model on ml4ir\n",
    "\n",
    "There are at least two ways to get predictions with a model trained on ml4ir. \n",
    "1. rely explusively on TF\n",
    "2. load the Data+Model with ml4ir \n",
    "\n",
    "This notebooks investigates how to do it, assuming a classification model. "
   ]
  },
  {
   "cell_type": "markdown",
   "metadata": {},
   "source": [
    "## Way 1: Using TF only"
   ]
  },
  {
   "cell_type": "code",
   "execution_count": 15,
   "metadata": {},
   "outputs": [
    {
     "name": "stdout",
     "output_type": "stream",
     "text": [
      "2.0.1\n"
     ]
    }
   ],
   "source": [
    "import os, glob\n",
    "import numpy as np\n",
    "\n",
    "from tensorflow import data\n",
    "import tensorflow as tf\n",
    "from tensorflow.keras import models as kmodels\n",
    "\n",
    "\n",
    "print(tf.__version__)\n",
    "\n",
    "\n",
    "MODEL_DIR = \"/tmp/org62-verybig-smallmodelwobn-0.005-1024-ones/\"\n",
    "\n",
    "# Notice here: I am usign the tfrecord signature and model version.\n",
    "# This means that I will hit the model with tfrecords (the model will parse them internally)\n",
    "# There is the default signature too, that hits the model with tensors, meaning I need to do the preprocessing\n",
    "model = kmodels.load_model(os.path.join(MODEL_DIR, 'final/tfrecord/'), compile=False)\n",
    "infer_fn = model.signatures[\"serving_tfrecord\"]\n",
    "\n",
    "\n",
    "\n",
    "# These are logistics from training. Label mappings that were passed to TF in the feature config\n",
    "# to get indexes from labels\n",
    "# key_prefix file used in the feature_config \n",
    "\n",
    "key_prefixes = pd.read_csv(\"/tmp/key_prefix.csv\")\n",
    "id2label = dict(zip(key_prefixes.index, key_prefixes['clicked_key_prefix']))\n",
    "labeld2id = dict(zip( key_prefixes['clicked_key_prefix'], key_prefixes.index,))"
   ]
  },
  {
   "cell_type": "code",
   "execution_count": 16,
   "metadata": {},
   "outputs": [
    {
     "name": "stdout",
     "output_type": "stream",
     "text": [
      "CPU times: user 4.06 s, sys: 1.42 s, total: 5.48 s\n",
      "Wall time: 1.93 s\n"
     ]
    }
   ],
   "source": [
    "%%time\n",
    "\n",
    "# Here we are defining our tfrecord dataset. \n",
    "# it is an one-liner if the data are in tfrecords format already. \n",
    "dataset = data.TFRecordDataset(glob.glob(os.path.join('/tmp', \"test_ta\", \"part*\")))\n",
    "total_preds, total_labels = [], []\n",
    "i = 0\n",
    "# My ugly prediction loop, I am using large batches on purpose, since we are predicting\n",
    "for batch in dataset.batch(1024):\n",
    "    probs = infer_fn(protos=batch)\n",
    "    probs = probs['category_label'].numpy()\n",
    "    probs = probs [:, 0, :] # Squeeze on dim from predictions, because out classification predictions are 3-dim\n",
    "    total_preds.append(probs)\n",
    "    \n",
    "    \n",
    "    labels = [item.numpy()[-3:].decode(\"utf-8\") for item in batch] # A hachy way I used to get the actual label.\n",
    "    total_labels += labels\n",
    "    i +=1 \n",
    "\n",
    "# Everything happened to populate the following, a labels array (data_size,) and a preds array (data_size, labels_size)\n",
    "total_labels = np.array(total_labels)\n",
    "total_preds = np.array([item for sublist in total_preds for item in sublist])\n",
    "# From this point I can do any analysis I want\n",
    "\n",
    "# Open questions\n",
    "# Can I apply any function to the tfrecords on the fly? To avoid creating a new dataset.. \n",
    "# Example: instead of using the full query, I want to use only its first 3-chars"
   ]
  },
  {
   "cell_type": "code",
   "execution_count": 17,
   "metadata": {},
   "outputs": [
    {
     "data": {
      "text/plain": [
       "((1985,), (1985, 153))"
      ]
     },
     "execution_count": 17,
     "metadata": {},
     "output_type": "execute_result"
    }
   ],
   "source": [
    "total_labels.shape, total_preds.shape"
   ]
  },
  {
   "cell_type": "markdown",
   "metadata": {},
   "source": [
    "## Way 2: using full ml4ir Relevance model, Relevance dataset definition"
   ]
  },
  {
   "cell_type": "code",
   "execution_count": 18,
   "metadata": {},
   "outputs": [],
   "source": [
    "import json\n",
    "import yaml\n",
    "import logging\n",
    "import pandas as pd\n",
    "import os\n",
    "import tensorflow as tf\n",
    "from ml4ir.base.model.relevance_model import RelevanceModel\n",
    "from ml4ir.base.features.feature_config import FeatureConfig, ExampleFeatureConfig\n",
    "from ml4ir.base.config.keys import TFRecordTypeKey\n",
    "from ml4ir.applications.classification.model.losses import categorical_cross_entropy\n",
    "from ml4ir.base.model.scoring.interaction_model import InteractionModel, UnivariateInteractionModel\n",
    "from ml4ir.base.model.relevance_model import RelevanceModel\n",
    "from ml4ir.base.model.scoring.scoring_model import ScorerBase, RelevanceScorer\n",
    "from ml4ir.applications.ranking.model.metrics import metric_factory\n",
    "from ml4ir.base.model.relevance_model import RelevanceModel\n",
    "from ml4ir.base.config.keys import OptimizerKey\n",
    "from ml4ir.base.model.optimizer import get_optimizer\n",
    "from tensorflow.keras.optimizers import Optimizer\n",
    "from ml4ir.base.config.keys import DataFormatKey\n",
    "from ml4ir.base.data.relevance_dataset import RelevanceDataset\n",
    "\n",
    "from ml4ir.base.io.local_io import LocalIO, FileIO"
   ]
  },
  {
   "cell_type": "code",
   "execution_count": 19,
   "metadata": {},
   "outputs": [],
   "source": [
    "# Setup logging\n",
    "logger = logging.getLogger()\n",
    "logger.setLevel(logging.DEBUG)\n",
    "tf.get_logger().setLevel('INFO')\n",
    "\n",
    "# Define FileIO\n",
    "file_io: FileIO = LocalIO(logger)\n",
    "\n"
   ]
  },
  {
   "cell_type": "code",
   "execution_count": 20,
   "metadata": {},
   "outputs": [],
   "source": [
    "feature_config = FeatureConfig.get_instance(\n",
    "    tfrecord_type=TFRecordTypeKey.EXAMPLE,\n",
    "    feature_config_dict=yaml.safe_load(open(\"/Users/gbalikas/PycharmProjects/MLConfigs/ml4ir/entity_prediction/configs/feature_config.yaml\")),\n",
    "    logger=logger)"
   ]
  },
  {
   "cell_type": "code",
   "execution_count": 21,
   "metadata": {},
   "outputs": [],
   "source": [
    "# Define interaction model\n",
    "interaction_model = UnivariateInteractionModel(\n",
    "    feature_config=feature_config,\n",
    "    feature_layer_keys_to_fns={},\n",
    "    tfrecord_type=TFRecordTypeKey.EXAMPLE,\n",
    "    file_io=file_io,\n",
    ")\n",
    "\n",
    "# Define loss object from loss key\n",
    "loss = categorical_cross_entropy.get_loss(loss_key='categorical_cross_entropy')\n",
    "\n",
    "# Define scorer\n",
    "scorer = RelevanceScorer.from_model_config_file(\n",
    "    model_config_file=\"/Users/gbalikas/PycharmProjects/MLConfigs/model_config.yaml\",\n",
    "    feature_config=feature_config,\n",
    "    interaction_model=interaction_model,\n",
    "    loss=loss,\n",
    "    output_name='entity_prediction_score',\n",
    "    logger=logger,\n",
    "    file_io=file_io,\n",
    ")\n",
    "\n",
    "# Define metrics objects from metrics keys\n",
    "metrics= [\n",
    "    metric_factory.get_metric(metric_key=metric_key) for metric_key in ['categorical_accuracy']\n",
    "]\n",
    "\n",
    "# Define optimizer\n",
    "optimizer: Optimizer = get_optimizer(\n",
    "    optimizer_key='adam',\n",
    "    learning_rate=0.01,\n",
    "    learning_rate_decay=1,\n",
    "    learning_rate_decay_steps=100,\n",
    ")\n"
   ]
  },
  {
   "cell_type": "code",
   "execution_count": 22,
   "metadata": {},
   "outputs": [
    {
     "name": "stderr",
     "output_type": "stream",
     "text": [
      "Retraining is not yet supported. Model is loaded with compile=False\n"
     ]
    }
   ],
   "source": [
    "# define relevance model\n",
    "relevance_model = RelevanceModel(\n",
    "        feature_config=feature_config,\n",
    "        scorer=scorer,\n",
    "        metrics=metrics,\n",
    "        optimizer=optimizer,\n",
    "        tfrecord_type=TFRecordTypeKey.EXAMPLE,\n",
    "        output_name=\"category_label\",\n",
    "        file_io=file_io,\n",
    "        logger=logger, \n",
    "        model_file=\"/tmp/org62-verybig-smallmodelwobn-0.005-1024-ones/checkpoint.tf/\",\n",
    "    compile_keras_model=False\n",
    "    )\n"
   ]
  },
  {
   "cell_type": "code",
   "execution_count": 23,
   "metadata": {},
   "outputs": [
    {
     "name": "stdout",
     "output_type": "stream",
     "text": [
      "{'prediction_id': FixedLenFeature(shape=[], dtype='string', default_value=''), 'clicked_key_prefix': FixedLenFeature(shape=[], dtype='string', default_value=''), 'query': FixedLenFeature(shape=[], dtype='string', default_value=''), 'organization_id': FixedLenFeature(shape=[], dtype='string', default_value=''), 'smart_scope_order': FixedLenFeature(shape=[], dtype='string', default_value='')}\n",
      "{'prediction_id': FixedLenFeature(shape=[], dtype='string', default_value=''), 'clicked_key_prefix': FixedLenFeature(shape=[], dtype='string', default_value=''), 'query': FixedLenFeature(shape=[], dtype='string', default_value=''), 'organization_id': FixedLenFeature(shape=[], dtype='string', default_value=''), 'smart_scope_order': FixedLenFeature(shape=[], dtype='string', default_value='')}\n",
      "{'prediction_id': FixedLenFeature(shape=[], dtype='string', default_value=''), 'clicked_key_prefix': FixedLenFeature(shape=[], dtype='string', default_value=''), 'query': FixedLenFeature(shape=[], dtype='string', default_value=''), 'organization_id': FixedLenFeature(shape=[], dtype='string', default_value=''), 'smart_scope_order': FixedLenFeature(shape=[], dtype='string', default_value='')}\n"
     ]
    }
   ],
   "source": [
    "# Define relevance Dataset\n",
    "relevance_dataset = RelevanceDataset(\n",
    "        data_dir=\"/tmp/dataset\", # I created a dir `/tmp/dataset`, with `train`, `validation` being empty \n",
    "        data_format=DataFormatKey.TFRECORD,\n",
    "        feature_config=feature_config,\n",
    "        tfrecord_type=TFRecordTypeKey.EXAMPLE,\n",
    "        batch_size=1024,\n",
    "        preprocessing_keys_to_fns={},\n",
    "        file_io=file_io, use_part_files=True,\n",
    "        logger=logger\n",
    "    )\n"
   ]
  },
  {
   "cell_type": "code",
   "execution_count": 24,
   "metadata": {},
   "outputs": [
    {
     "name": "stdout",
     "output_type": "stream",
     "text": [
      "WARNING:tensorflow:Unresolved object in checkpoint: (root).layer-4.lookup_table._initializer\n",
      "WARNING:tensorflow:A checkpoint was restored (e.g. tf.train.Checkpoint.restore or tf.keras.Model.load_weights) but not all checkpointed values were used. See above for specific issues. Use expect_partial() on the load status object, e.g. tf.train.Checkpoint.restore(...).expect_partial(), to silence these warnings, or use assert_consumed() to make the check explicit. See https://www.tensorflow.org/alpha/guide/checkpoints#loading_mechanics for details.\n",
      "CPU times: user 6min 29s, sys: 23 s, total: 6min 52s\n",
      "Wall time: 6min 2s\n"
     ]
    }
   ],
   "source": [
    "%%time\n",
    "preds = relevance_model.predict(relevance_dataset.test,inference_signature='serving_default')"
   ]
  },
  {
   "cell_type": "code",
   "execution_count": 25,
   "metadata": {},
   "outputs": [
    {
     "data": {
      "text/html": [
       "<div>\n",
       "<style scoped>\n",
       "    .dataframe tbody tr th:only-of-type {\n",
       "        vertical-align: middle;\n",
       "    }\n",
       "\n",
       "    .dataframe tbody tr th {\n",
       "        vertical-align: top;\n",
       "    }\n",
       "\n",
       "    .dataframe thead th {\n",
       "        text-align: right;\n",
       "    }\n",
       "</style>\n",
       "<table border=\"1\" class=\"dataframe\">\n",
       "  <thead>\n",
       "    <tr style=\"text-align: right;\">\n",
       "      <th></th>\n",
       "      <th>prediction_id</th>\n",
       "      <th>clicked_key_prefix</th>\n",
       "      <th>query</th>\n",
       "      <th>query_words</th>\n",
       "      <th>organization_id</th>\n",
       "      <th>smart_scope_order</th>\n",
       "      <th>category_label</th>\n",
       "    </tr>\n",
       "  </thead>\n",
       "  <tbody>\n",
       "    <tr>\n",
       "      <th>0</th>\n",
       "      <td>b'-10jd4gnxu07sq'</td>\n",
       "      <td>b'500'</td>\n",
       "      <td>b'7276897'</td>\n",
       "      <td>(tf.Tensor(b'7276897', shape=(), dtype=string), tf.Tensor(b'', shape=(), dtype=string), tf.Tensor(b'', shape=(), dtype=string), tf.Tensor(b'', shape=(), dtype=string), tf.Tensor(b'', shape=(), dtype=string), tf.Tensor(b'', shape=(), dtype=string), tf.Tensor(b'', shape=(), dtype=string), tf.Tensor(b'', shape=(), dtype=string), tf.Tensor(b'', shape=(), dtype=string), tf.Tensor(b'', shape=(), dtype=string), tf.Tensor(b'', shape=(), dtype=string), tf.Tensor(b'', shape=(), dtype=string), tf.Tensor(b'', shape=(), dtype=string), tf.Tensor(b'', shape=(), dtype=string), tf.Tensor(b'', shape=(), dtype=string), tf.Tensor(b'', shape=(), dtype=string), tf.Tensor(b'', shape=(), dtype=string), tf.Tensor(b'', shape=(), dtype=string), tf.Tensor(b'', shape=(), dtype=string), tf.Tensor(b'', shape=(), dtype=string))</td>\n",
       "      <td>b'00D000000000062'</td>\n",
       "      <td>(tf.Tensor(b'005', shape=(), dtype=string), tf.Tensor(b'500', shape=(), dtype=string), tf.Tensor(b'003', shape=(), dtype=string), tf.Tensor(b'ka#', shape=(), dtype=string), tf.Tensor(b'00O', shape=(), dtype=string), tf.Tensor(b'a1h', shape=(), dtype=string), tf.Tensor(b'02u', shape=(), dtype=string), tf.Tensor(b'087', shape=(), dtype=string), tf.Tensor(b'00h', shape=(), dtype=string), tf.Tensor(b'0PS', shape=(), dtype=string), tf.Tensor(b'aCH', shape=(), dtype=string), tf.Tensor(b'069', shape=(), dtype=string), tf.Tensor(b'0XC', shape=(), dtype=string), tf.Tensor(b'0F9', shape=(), dtype=string), tf.Tensor(b'066', shape=(), dtype=string), tf.Tensor(b'1Y3', shape=(), dtype=string), tf.Tensor(b'570', shape=(), dtype=string), tf.Tensor(b'00B', shape=(), dtype=string), tf.Tensor(b'00Q', shape=(), dtype=string), tf.Tensor(b'00U', shape=(), dtype=string))</td>\n",
       "      <td>(tf.Tensor(0.99960655, shape=(), dtype=float32), tf.Tensor(5.9950075e-08, shape=(), dtype=float32), tf.Tensor(0.0003809429, shape=(), dtype=float32), tf.Tensor(1.2930159e-13, shape=(), dtype=float32), tf.Tensor(2.5508744e-09, shape=(), dtype=float32), tf.Tensor(2.5188523e-10, shape=(), dtype=float32), tf.Tensor(1.0457474e-05, shape=(), dtype=float32), tf.Tensor(1.4054472e-20, shape=(), dtype=float32), tf.Tensor(6.1807084e-16, shape=(), dtype=float32), tf.Tensor(5.613605e-21, shape=(), dtype=float32), tf.Tensor(1.7621737e-20, shape=(), dtype=float32), tf.Tensor(1.1596228e-20, shape=(), dtype=float32), tf.Tensor(2.592608e-12, shape=(), dtype=float32), tf.Tensor(3.1163613e-20, shape=(), dtype=float32), tf.Tensor(1.2295745e-15, shape=(), dtype=float32), tf.Tensor(5.0482523e-20, shape=(), dtype=float32), tf.Tensor(1.9953651e-20, shape=(), dtype=float32), tf.Tensor(1.2083234e-25, shape=(), dtype=float32), tf.Tensor(7.857907e-20, shape=(), dtype=float32), tf.Tensor(1.8853005e-20, shape=(), dtype=float32), tf.Tensor(3.7720486e-20, shape=(), dtype=float32), tf.Tensor(2.0098994e-12, shape=(), dtype=float32), tf.Tensor(1.1906604e-06, shape=(), dtype=float32), tf.Tensor(3.1496368e-18, shape=(), dtype=float32), tf.Tensor(4.1222506e-17, shape=(), dtype=float32), tf.Tensor(1.0780542e-20, shape=(), dtype=float32), tf.Tensor(1.0634542e-31, shape=(), dtype=float32), tf.Tensor(5.3388733e-21, shape=(), dtype=float32), tf.Tensor(3.009256e-20, shape=(), dtype=float32), tf.Tensor(4.904398e-07, shape=(), dtype=float32), tf.Tensor(1.7494373e-24, shape=(), dtype=float32), tf.Tensor(1.1667623e-20, shape=(), dtype=float32), tf.Tensor(2.6727887e-24, shape=(), dtype=float32), tf.Tensor(1.4577255e-20, shape=(), dtype=float32), tf.Tensor(6.4087183e-27, shape=(), dtype=float32), tf.Tensor(1.0694527e-20, shape=(), dtype=float32), tf.Tensor(9.351022e-20, shape=(), dtype=float32), tf.Tensor(2.344431e-07, shape=(), dtype=float32), tf.Tensor(2.7991737e-20, shape=(), dtype=float32), tf.Tensor(1.3077041e-20, shape=(), dtype=float32), tf.Tensor(4.125249e-20, shape=(), dtype=float32), tf.Tensor(5.7446925e-20, shape=(), dtype=float32), tf.Tensor(1.04267215e-20, shape=(), dtype=float32), tf.Tensor(1.7593056e-20, shape=(), dtype=float32), tf.Tensor(6.803406e-21, shape=(), dtype=float32), tf.Tensor(8.68809e-21, shape=(), dtype=float32), tf.Tensor(4.0961292e-20, shape=(), dtype=float32), tf.Tensor(2.159777e-20, shape=(), dtype=float32), tf.Tensor(1.3935741e-20, shape=(), dtype=float32), tf.Tensor(7.246997e-21, shape=(), dtype=float32), tf.Tensor(3.746351e-20, shape=(), dtype=float32), tf.Tensor(1.0014895e-20, shape=(), dtype=float32), tf.Tensor(5.894689e-21, shape=(), dtype=float32), tf.Tensor(2.6589231e-20, shape=(), dtype=float32), tf.Tensor(1.5944283e-20, shape=(), dtype=float32), tf.Tensor(1.7566901e-20, shape=(), dtype=float32), tf.Tensor(1.0154617e-20, shape=(), dtype=float32), tf.Tensor(1.7122432e-20, shape=(), dtype=float32), tf.Tensor(2.0366372e-21, shape=(), dtype=float32), tf.Tensor(3.7785566e-21, shape=(), dtype=float32), tf.Tensor(3.008521e-20, shape=(), dtype=float32), tf.Tensor(1.0183711e-20, shape=(), dtype=float32), tf.Tensor(5.4511138e-21, shape=(), dtype=float32), tf.Tensor(1.7097106e-20, shape=(), dtype=float32), tf.Tensor(8.0996726e-21, shape=(), dtype=float32), tf.Tensor(5.7044867e-21, shape=(), dtype=float32), tf.Tensor(3.2272044e-20, shape=(), dtype=float32), tf.Tensor(2.351025e-20, shape=(), dtype=float32), tf.Tensor(1.1476266e-20, shape=(), dtype=float32), tf.Tensor(7.7318284e-21, shape=(), dtype=float32), tf.Tensor(4.387241e-25, shape=(), dtype=float32), tf.Tensor(7.211422e-21, shape=(), dtype=float32), tf.Tensor(3.49494e-21, shape=(), dtype=float32), tf.Tensor(3.4722577e-20, shape=(), dtype=float32), tf.Tensor(2.980114e-20, shape=(), dtype=float32), tf.Tensor(1.3627363e-20, shape=(), dtype=float32), tf.Tensor(1.9528936e-20, shape=(), dtype=float32), tf.Tensor(3.2454263e-20, shape=(), dtype=float32), tf.Tensor(1.18064636e-20, shape=(), dtype=float32), tf.Tensor(8.4376713e-20, shape=(), dtype=float32), tf.Tensor(2.1507003e-20, shape=(), dtype=float32), tf.Tensor(1.21111375e-20, shape=(), dtype=float32), tf.Tensor(1.7415706e-20, shape=(), dtype=float32), tf.Tensor(3.3729333e-20, shape=(), dtype=float32), tf.Tensor(6.3668257e-21, shape=(), dtype=float32), tf.Tensor(2.6579901e-20, shape=(), dtype=float32), tf.Tensor(1.377454e-20, shape=(), dtype=float32), tf.Tensor(2.1005588e-20, shape=(), dtype=float32), tf.Tensor(1.3897941e-20, shape=(), dtype=float32), tf.Tensor(2.2128172e-20, shape=(), dtype=float32), tf.Tensor(9.546223e-21, shape=(), dtype=float32), tf.Tensor(2.8033946e-20, shape=(), dtype=float32), tf.Tensor(9.185067e-21, shape=(), dtype=float32), tf.Tensor(1.2130743e-20, shape=(), dtype=float32), tf.Tensor(7.623349e-21, shape=(), dtype=float32), tf.Tensor(1.4398966e-20, shape=(), dtype=float32), tf.Tensor(1.2871596e-28, shape=(), dtype=float32), tf.Tensor(1.7392999e-20, shape=(), dtype=float32), tf.Tensor(2.8308722e-28, shape=(), dtype=float32), tf.Tensor(1.0054015e-20, shape=(), dtype=float32), ...)</td>\n",
       "    </tr>\n",
       "    <tr>\n",
       "      <th>1</th>\n",
       "      <td>b'-112ai2rvrrj89'</td>\n",
       "      <td>b'aVu'</td>\n",
       "      <td>b'bcdata'</td>\n",
       "      <td>(tf.Tensor(b'bc', shape=(), dtype=string), tf.Tensor(b'data', shape=(), dtype=string), tf.Tensor(b'', shape=(), dtype=string), tf.Tensor(b'', shape=(), dtype=string), tf.Tensor(b'', shape=(), dtype=string), tf.Tensor(b'', shape=(), dtype=string), tf.Tensor(b'', shape=(), dtype=string), tf.Tensor(b'', shape=(), dtype=string), tf.Tensor(b'', shape=(), dtype=string), tf.Tensor(b'', shape=(), dtype=string), tf.Tensor(b'', shape=(), dtype=string), tf.Tensor(b'', shape=(), dtype=string), tf.Tensor(b'', shape=(), dtype=string), tf.Tensor(b'', shape=(), dtype=string), tf.Tensor(b'', shape=(), dtype=string), tf.Tensor(b'', shape=(), dtype=string), tf.Tensor(b'', shape=(), dtype=string), tf.Tensor(b'', shape=(), dtype=string), tf.Tensor(b'', shape=(), dtype=string), tf.Tensor(b'', shape=(), dtype=string))</td>\n",
       "      <td>b'00D000000000062'</td>\n",
       "      <td>(tf.Tensor(b'001', shape=(), dtype=string), tf.Tensor(b'006', shape=(), dtype=string), tf.Tensor(b'005', shape=(), dtype=string), tf.Tensor(b'a4A', shape=(), dtype=string), tf.Tensor(b'aCT', shape=(), dtype=string), tf.Tensor(b'aVu', shape=(), dtype=string), tf.Tensor(b'003', shape=(), dtype=string), tf.Tensor(b'00Q', shape=(), dtype=string), tf.Tensor(b'500', shape=(), dtype=string), tf.Tensor(b'a3v', shape=(), dtype=string), tf.Tensor(b'00B', shape=(), dtype=string), tf.Tensor(b'069', shape=(), dtype=string), tf.Tensor(b'02u', shape=(), dtype=string), tf.Tensor(b'0PS', shape=(), dtype=string), tf.Tensor(b'aJG', shape=(), dtype=string), tf.Tensor(b'801', shape=(), dtype=string), tf.Tensor(b'0W1', shape=(), dtype=string), tf.Tensor(b'0FK', shape=(), dtype=string), tf.Tensor(b'aP9', shape=(), dtype=string), tf.Tensor(b'701', shape=(), dtype=string))</td>\n",
       "      <td>(tf.Tensor(3.4894587e-05, shape=(), dtype=float32), tf.Tensor(0.40572116, shape=(), dtype=float32), tf.Tensor(0.0009538426, shape=(), dtype=float32), tf.Tensor(0.5690123, shape=(), dtype=float32), tf.Tensor(6.734721e-05, shape=(), dtype=float32), tf.Tensor(6.2586264e-07, shape=(), dtype=float32), tf.Tensor(6.0936625e-05, shape=(), dtype=float32), tf.Tensor(5.8642526e-17, shape=(), dtype=float32), tf.Tensor(9.273759e-08, shape=(), dtype=float32), tf.Tensor(6.070517e-17, shape=(), dtype=float32), tf.Tensor(8.032379e-17, shape=(), dtype=float32), tf.Tensor(1.03861486e-16, shape=(), dtype=float32), tf.Tensor(1.2632663e-15, shape=(), dtype=float32), tf.Tensor(1.053953e-16, shape=(), dtype=float32), tf.Tensor(1.2113421e-05, shape=(), dtype=float32), tf.Tensor(5.843931e-17, shape=(), dtype=float32), tf.Tensor(5.9401276e-17, shape=(), dtype=float32), tf.Tensor(4.104989e-20, shape=(), dtype=float32), tf.Tensor(6.8214396e-17, shape=(), dtype=float32), tf.Tensor(4.651995e-17, shape=(), dtype=float32), tf.Tensor(8.718965e-17, shape=(), dtype=float32), tf.Tensor(2.1127127e-05, shape=(), dtype=float32), tf.Tensor(2.5837535e-10, shape=(), dtype=float32), tf.Tensor(5.0431712e-08, shape=(), dtype=float32), tf.Tensor(6.89273e-10, shape=(), dtype=float32), tf.Tensor(4.273098e-17, shape=(), dtype=float32), tf.Tensor(1.1724794e-09, shape=(), dtype=float32), tf.Tensor(8.1727635e-17, shape=(), dtype=float32), tf.Tensor(5.585387e-17, shape=(), dtype=float32), tf.Tensor(0.004968416, shape=(), dtype=float32), tf.Tensor(1.4736754e-18, shape=(), dtype=float32), tf.Tensor(9.7327586e-17, shape=(), dtype=float32), tf.Tensor(5.772713e-19, shape=(), dtype=float32), tf.Tensor(3.9275025e-17, shape=(), dtype=float32), tf.Tensor(5.597591e-16, shape=(), dtype=float32), tf.Tensor(6.536209e-17, shape=(), dtype=float32), tf.Tensor(1.00409046e-16, shape=(), dtype=float32), tf.Tensor(0.002812811, shape=(), dtype=float32), tf.Tensor(7.018324e-17, shape=(), dtype=float32), tf.Tensor(4.8142802e-17, shape=(), dtype=float32), tf.Tensor(7.852028e-17, shape=(), dtype=float32), tf.Tensor(9.6896744e-17, shape=(), dtype=float32), tf.Tensor(7.560185e-17, shape=(), dtype=float32), tf.Tensor(3.752413e-17, shape=(), dtype=float32), tf.Tensor(6.780759e-17, shape=(), dtype=float32), tf.Tensor(4.6226826e-17, shape=(), dtype=float32), tf.Tensor(2.2919572e-18, shape=(), dtype=float32), tf.Tensor(9.1355845e-17, shape=(), dtype=float32), tf.Tensor(4.9967486e-17, shape=(), dtype=float32), tf.Tensor(5.3364287e-17, shape=(), dtype=float32), tf.Tensor(1.3969694e-16, shape=(), dtype=float32), tf.Tensor(6.857759e-17, shape=(), dtype=float32), tf.Tensor(4.287254e-17, shape=(), dtype=float32), tf.Tensor(8.293553e-17, shape=(), dtype=float32), tf.Tensor(5.6187884e-17, shape=(), dtype=float32), tf.Tensor(7.9203166e-17, shape=(), dtype=float32), tf.Tensor(5.5176203e-17, shape=(), dtype=float32), tf.Tensor(5.4359954e-17, shape=(), dtype=float32), tf.Tensor(4.9558402e-17, shape=(), dtype=float32), tf.Tensor(6.3375766e-17, shape=(), dtype=float32), tf.Tensor(5.3697955e-17, shape=(), dtype=float32), tf.Tensor(7.13279e-17, shape=(), dtype=float32), tf.Tensor(5.982721e-17, shape=(), dtype=float32), tf.Tensor(5.454919e-17, shape=(), dtype=float32), tf.Tensor(6.3465525e-17, shape=(), dtype=float32), tf.Tensor(3.778671e-17, shape=(), dtype=float32), tf.Tensor(6.565322e-17, shape=(), dtype=float32), tf.Tensor(4.5747393e-17, shape=(), dtype=float32), tf.Tensor(6.11204e-17, shape=(), dtype=float32), tf.Tensor(4.0941738e-17, shape=(), dtype=float32), tf.Tensor(6.378941e-14, shape=(), dtype=float32), tf.Tensor(8.8437095e-17, shape=(), dtype=float32), tf.Tensor(5.731489e-17, shape=(), dtype=float32), tf.Tensor(6.0611e-17, shape=(), dtype=float32), tf.Tensor(6.4333284e-17, shape=(), dtype=float32), tf.Tensor(4.5270162e-17, shape=(), dtype=float32), tf.Tensor(7.402372e-17, shape=(), dtype=float32), tf.Tensor(5.1064112e-17, shape=(), dtype=float32), tf.Tensor(3.8426004e-17, shape=(), dtype=float32), tf.Tensor(1.2117467e-16, shape=(), dtype=float32), tf.Tensor(1.3695319e-08, shape=(), dtype=float32), tf.Tensor(8.339554e-17, shape=(), dtype=float32), tf.Tensor(9.367082e-17, shape=(), dtype=float32), tf.Tensor(9.285044e-17, shape=(), dtype=float32), tf.Tensor(6.68162e-17, shape=(), dtype=float32), tf.Tensor(7.83575e-17, shape=(), dtype=float32), tf.Tensor(1.2380666e-16, shape=(), dtype=float32), tf.Tensor(7.704152e-17, shape=(), dtype=float32), tf.Tensor(5.7252206e-16, shape=(), dtype=float32), tf.Tensor(8.9079054e-17, shape=(), dtype=float32), tf.Tensor(8.9391205e-17, shape=(), dtype=float32), tf.Tensor(5.3744065e-17, shape=(), dtype=float32), tf.Tensor(4.5174937e-17, shape=(), dtype=float32), tf.Tensor(3.605619e-17, shape=(), dtype=float32), tf.Tensor(8.1406834e-17, shape=(), dtype=float32), tf.Tensor(5.642351e-17, shape=(), dtype=float32), tf.Tensor(1.4216769e-13, shape=(), dtype=float32), tf.Tensor(6.887094e-17, shape=(), dtype=float32), tf.Tensor(3.5491832e-10, shape=(), dtype=float32), tf.Tensor(6.264196e-17, shape=(), dtype=float32), ...)</td>\n",
       "    </tr>\n",
       "  </tbody>\n",
       "</table>\n",
       "</div>"
      ],
      "text/plain": [
       "       prediction_id clicked_key_prefix       query  \\\n",
       "0  b'-10jd4gnxu07sq'  b'500'             b'7276897'   \n",
       "1  b'-112ai2rvrrj89'  b'aVu'             b'bcdata'    \n",
       "\n",
       "                                                                                                                                                                                                                                                                                                                                                                                                                                                                                                                                                                                                                                                                                                                                                                                                                               query_words  \\\n",
       "0  (tf.Tensor(b'7276897', shape=(), dtype=string), tf.Tensor(b'', shape=(), dtype=string), tf.Tensor(b'', shape=(), dtype=string), tf.Tensor(b'', shape=(), dtype=string), tf.Tensor(b'', shape=(), dtype=string), tf.Tensor(b'', shape=(), dtype=string), tf.Tensor(b'', shape=(), dtype=string), tf.Tensor(b'', shape=(), dtype=string), tf.Tensor(b'', shape=(), dtype=string), tf.Tensor(b'', shape=(), dtype=string), tf.Tensor(b'', shape=(), dtype=string), tf.Tensor(b'', shape=(), dtype=string), tf.Tensor(b'', shape=(), dtype=string), tf.Tensor(b'', shape=(), dtype=string), tf.Tensor(b'', shape=(), dtype=string), tf.Tensor(b'', shape=(), dtype=string), tf.Tensor(b'', shape=(), dtype=string), tf.Tensor(b'', shape=(), dtype=string), tf.Tensor(b'', shape=(), dtype=string), tf.Tensor(b'', shape=(), dtype=string))   \n",
       "1  (tf.Tensor(b'bc', shape=(), dtype=string), tf.Tensor(b'data', shape=(), dtype=string), tf.Tensor(b'', shape=(), dtype=string), tf.Tensor(b'', shape=(), dtype=string), tf.Tensor(b'', shape=(), dtype=string), tf.Tensor(b'', shape=(), dtype=string), tf.Tensor(b'', shape=(), dtype=string), tf.Tensor(b'', shape=(), dtype=string), tf.Tensor(b'', shape=(), dtype=string), tf.Tensor(b'', shape=(), dtype=string), tf.Tensor(b'', shape=(), dtype=string), tf.Tensor(b'', shape=(), dtype=string), tf.Tensor(b'', shape=(), dtype=string), tf.Tensor(b'', shape=(), dtype=string), tf.Tensor(b'', shape=(), dtype=string), tf.Tensor(b'', shape=(), dtype=string), tf.Tensor(b'', shape=(), dtype=string), tf.Tensor(b'', shape=(), dtype=string), tf.Tensor(b'', shape=(), dtype=string), tf.Tensor(b'', shape=(), dtype=string))    \n",
       "\n",
       "      organization_id  \\\n",
       "0  b'00D000000000062'   \n",
       "1  b'00D000000000062'   \n",
       "\n",
       "                                                                                                                                                                                                                                                                                                                                                                                                                                                                                                                                                                                                                                                                                                                                                                                                                                                                              smart_scope_order  \\\n",
       "0  (tf.Tensor(b'005', shape=(), dtype=string), tf.Tensor(b'500', shape=(), dtype=string), tf.Tensor(b'003', shape=(), dtype=string), tf.Tensor(b'ka#', shape=(), dtype=string), tf.Tensor(b'00O', shape=(), dtype=string), tf.Tensor(b'a1h', shape=(), dtype=string), tf.Tensor(b'02u', shape=(), dtype=string), tf.Tensor(b'087', shape=(), dtype=string), tf.Tensor(b'00h', shape=(), dtype=string), tf.Tensor(b'0PS', shape=(), dtype=string), tf.Tensor(b'aCH', shape=(), dtype=string), tf.Tensor(b'069', shape=(), dtype=string), tf.Tensor(b'0XC', shape=(), dtype=string), tf.Tensor(b'0F9', shape=(), dtype=string), tf.Tensor(b'066', shape=(), dtype=string), tf.Tensor(b'1Y3', shape=(), dtype=string), tf.Tensor(b'570', shape=(), dtype=string), tf.Tensor(b'00B', shape=(), dtype=string), tf.Tensor(b'00Q', shape=(), dtype=string), tf.Tensor(b'00U', shape=(), dtype=string))   \n",
       "1  (tf.Tensor(b'001', shape=(), dtype=string), tf.Tensor(b'006', shape=(), dtype=string), tf.Tensor(b'005', shape=(), dtype=string), tf.Tensor(b'a4A', shape=(), dtype=string), tf.Tensor(b'aCT', shape=(), dtype=string), tf.Tensor(b'aVu', shape=(), dtype=string), tf.Tensor(b'003', shape=(), dtype=string), tf.Tensor(b'00Q', shape=(), dtype=string), tf.Tensor(b'500', shape=(), dtype=string), tf.Tensor(b'a3v', shape=(), dtype=string), tf.Tensor(b'00B', shape=(), dtype=string), tf.Tensor(b'069', shape=(), dtype=string), tf.Tensor(b'02u', shape=(), dtype=string), tf.Tensor(b'0PS', shape=(), dtype=string), tf.Tensor(b'aJG', shape=(), dtype=string), tf.Tensor(b'801', shape=(), dtype=string), tf.Tensor(b'0W1', shape=(), dtype=string), tf.Tensor(b'0FK', shape=(), dtype=string), tf.Tensor(b'aP9', shape=(), dtype=string), tf.Tensor(b'701', shape=(), dtype=string))   \n",
       "\n",
       "                                                                                                                                                                                                                                                                                                                                                                                                                                                                                                                                                                                                                                                                                                                                                                                                                                                                                                                                                                                                                                                                                                                                                                                                                                                                                                                                                                                                                                                                                                                                                                                                                                                                                                                                                                                                                                                                                                                                                                                                                                                                                                                                                                                                                                                                                                                                                                                                                                                                                                                                                                                                                                                                                                                                                                                                                                                                                                                                                                                                                                                                                                                                                                                                                                                                                                                                                                                                                                                                                                                                                                                                                                                                                                                                                                                                                                                                                                                                                                                                                                                                                                                                                                                                                                                                                                                                                                                                                                                                                                                                                                                                                                                                                                                                                                                                                                                                                                                                                                                                                                                                                                                                                                                                                                                                           category_label  \n",
       "0  (tf.Tensor(0.99960655, shape=(), dtype=float32), tf.Tensor(5.9950075e-08, shape=(), dtype=float32), tf.Tensor(0.0003809429, shape=(), dtype=float32), tf.Tensor(1.2930159e-13, shape=(), dtype=float32), tf.Tensor(2.5508744e-09, shape=(), dtype=float32), tf.Tensor(2.5188523e-10, shape=(), dtype=float32), tf.Tensor(1.0457474e-05, shape=(), dtype=float32), tf.Tensor(1.4054472e-20, shape=(), dtype=float32), tf.Tensor(6.1807084e-16, shape=(), dtype=float32), tf.Tensor(5.613605e-21, shape=(), dtype=float32), tf.Tensor(1.7621737e-20, shape=(), dtype=float32), tf.Tensor(1.1596228e-20, shape=(), dtype=float32), tf.Tensor(2.592608e-12, shape=(), dtype=float32), tf.Tensor(3.1163613e-20, shape=(), dtype=float32), tf.Tensor(1.2295745e-15, shape=(), dtype=float32), tf.Tensor(5.0482523e-20, shape=(), dtype=float32), tf.Tensor(1.9953651e-20, shape=(), dtype=float32), tf.Tensor(1.2083234e-25, shape=(), dtype=float32), tf.Tensor(7.857907e-20, shape=(), dtype=float32), tf.Tensor(1.8853005e-20, shape=(), dtype=float32), tf.Tensor(3.7720486e-20, shape=(), dtype=float32), tf.Tensor(2.0098994e-12, shape=(), dtype=float32), tf.Tensor(1.1906604e-06, shape=(), dtype=float32), tf.Tensor(3.1496368e-18, shape=(), dtype=float32), tf.Tensor(4.1222506e-17, shape=(), dtype=float32), tf.Tensor(1.0780542e-20, shape=(), dtype=float32), tf.Tensor(1.0634542e-31, shape=(), dtype=float32), tf.Tensor(5.3388733e-21, shape=(), dtype=float32), tf.Tensor(3.009256e-20, shape=(), dtype=float32), tf.Tensor(4.904398e-07, shape=(), dtype=float32), tf.Tensor(1.7494373e-24, shape=(), dtype=float32), tf.Tensor(1.1667623e-20, shape=(), dtype=float32), tf.Tensor(2.6727887e-24, shape=(), dtype=float32), tf.Tensor(1.4577255e-20, shape=(), dtype=float32), tf.Tensor(6.4087183e-27, shape=(), dtype=float32), tf.Tensor(1.0694527e-20, shape=(), dtype=float32), tf.Tensor(9.351022e-20, shape=(), dtype=float32), tf.Tensor(2.344431e-07, shape=(), dtype=float32), tf.Tensor(2.7991737e-20, shape=(), dtype=float32), tf.Tensor(1.3077041e-20, shape=(), dtype=float32), tf.Tensor(4.125249e-20, shape=(), dtype=float32), tf.Tensor(5.7446925e-20, shape=(), dtype=float32), tf.Tensor(1.04267215e-20, shape=(), dtype=float32), tf.Tensor(1.7593056e-20, shape=(), dtype=float32), tf.Tensor(6.803406e-21, shape=(), dtype=float32), tf.Tensor(8.68809e-21, shape=(), dtype=float32), tf.Tensor(4.0961292e-20, shape=(), dtype=float32), tf.Tensor(2.159777e-20, shape=(), dtype=float32), tf.Tensor(1.3935741e-20, shape=(), dtype=float32), tf.Tensor(7.246997e-21, shape=(), dtype=float32), tf.Tensor(3.746351e-20, shape=(), dtype=float32), tf.Tensor(1.0014895e-20, shape=(), dtype=float32), tf.Tensor(5.894689e-21, shape=(), dtype=float32), tf.Tensor(2.6589231e-20, shape=(), dtype=float32), tf.Tensor(1.5944283e-20, shape=(), dtype=float32), tf.Tensor(1.7566901e-20, shape=(), dtype=float32), tf.Tensor(1.0154617e-20, shape=(), dtype=float32), tf.Tensor(1.7122432e-20, shape=(), dtype=float32), tf.Tensor(2.0366372e-21, shape=(), dtype=float32), tf.Tensor(3.7785566e-21, shape=(), dtype=float32), tf.Tensor(3.008521e-20, shape=(), dtype=float32), tf.Tensor(1.0183711e-20, shape=(), dtype=float32), tf.Tensor(5.4511138e-21, shape=(), dtype=float32), tf.Tensor(1.7097106e-20, shape=(), dtype=float32), tf.Tensor(8.0996726e-21, shape=(), dtype=float32), tf.Tensor(5.7044867e-21, shape=(), dtype=float32), tf.Tensor(3.2272044e-20, shape=(), dtype=float32), tf.Tensor(2.351025e-20, shape=(), dtype=float32), tf.Tensor(1.1476266e-20, shape=(), dtype=float32), tf.Tensor(7.7318284e-21, shape=(), dtype=float32), tf.Tensor(4.387241e-25, shape=(), dtype=float32), tf.Tensor(7.211422e-21, shape=(), dtype=float32), tf.Tensor(3.49494e-21, shape=(), dtype=float32), tf.Tensor(3.4722577e-20, shape=(), dtype=float32), tf.Tensor(2.980114e-20, shape=(), dtype=float32), tf.Tensor(1.3627363e-20, shape=(), dtype=float32), tf.Tensor(1.9528936e-20, shape=(), dtype=float32), tf.Tensor(3.2454263e-20, shape=(), dtype=float32), tf.Tensor(1.18064636e-20, shape=(), dtype=float32), tf.Tensor(8.4376713e-20, shape=(), dtype=float32), tf.Tensor(2.1507003e-20, shape=(), dtype=float32), tf.Tensor(1.21111375e-20, shape=(), dtype=float32), tf.Tensor(1.7415706e-20, shape=(), dtype=float32), tf.Tensor(3.3729333e-20, shape=(), dtype=float32), tf.Tensor(6.3668257e-21, shape=(), dtype=float32), tf.Tensor(2.6579901e-20, shape=(), dtype=float32), tf.Tensor(1.377454e-20, shape=(), dtype=float32), tf.Tensor(2.1005588e-20, shape=(), dtype=float32), tf.Tensor(1.3897941e-20, shape=(), dtype=float32), tf.Tensor(2.2128172e-20, shape=(), dtype=float32), tf.Tensor(9.546223e-21, shape=(), dtype=float32), tf.Tensor(2.8033946e-20, shape=(), dtype=float32), tf.Tensor(9.185067e-21, shape=(), dtype=float32), tf.Tensor(1.2130743e-20, shape=(), dtype=float32), tf.Tensor(7.623349e-21, shape=(), dtype=float32), tf.Tensor(1.4398966e-20, shape=(), dtype=float32), tf.Tensor(1.2871596e-28, shape=(), dtype=float32), tf.Tensor(1.7392999e-20, shape=(), dtype=float32), tf.Tensor(2.8308722e-28, shape=(), dtype=float32), tf.Tensor(1.0054015e-20, shape=(), dtype=float32), ...)  \n",
       "1  (tf.Tensor(3.4894587e-05, shape=(), dtype=float32), tf.Tensor(0.40572116, shape=(), dtype=float32), tf.Tensor(0.0009538426, shape=(), dtype=float32), tf.Tensor(0.5690123, shape=(), dtype=float32), tf.Tensor(6.734721e-05, shape=(), dtype=float32), tf.Tensor(6.2586264e-07, shape=(), dtype=float32), tf.Tensor(6.0936625e-05, shape=(), dtype=float32), tf.Tensor(5.8642526e-17, shape=(), dtype=float32), tf.Tensor(9.273759e-08, shape=(), dtype=float32), tf.Tensor(6.070517e-17, shape=(), dtype=float32), tf.Tensor(8.032379e-17, shape=(), dtype=float32), tf.Tensor(1.03861486e-16, shape=(), dtype=float32), tf.Tensor(1.2632663e-15, shape=(), dtype=float32), tf.Tensor(1.053953e-16, shape=(), dtype=float32), tf.Tensor(1.2113421e-05, shape=(), dtype=float32), tf.Tensor(5.843931e-17, shape=(), dtype=float32), tf.Tensor(5.9401276e-17, shape=(), dtype=float32), tf.Tensor(4.104989e-20, shape=(), dtype=float32), tf.Tensor(6.8214396e-17, shape=(), dtype=float32), tf.Tensor(4.651995e-17, shape=(), dtype=float32), tf.Tensor(8.718965e-17, shape=(), dtype=float32), tf.Tensor(2.1127127e-05, shape=(), dtype=float32), tf.Tensor(2.5837535e-10, shape=(), dtype=float32), tf.Tensor(5.0431712e-08, shape=(), dtype=float32), tf.Tensor(6.89273e-10, shape=(), dtype=float32), tf.Tensor(4.273098e-17, shape=(), dtype=float32), tf.Tensor(1.1724794e-09, shape=(), dtype=float32), tf.Tensor(8.1727635e-17, shape=(), dtype=float32), tf.Tensor(5.585387e-17, shape=(), dtype=float32), tf.Tensor(0.004968416, shape=(), dtype=float32), tf.Tensor(1.4736754e-18, shape=(), dtype=float32), tf.Tensor(9.7327586e-17, shape=(), dtype=float32), tf.Tensor(5.772713e-19, shape=(), dtype=float32), tf.Tensor(3.9275025e-17, shape=(), dtype=float32), tf.Tensor(5.597591e-16, shape=(), dtype=float32), tf.Tensor(6.536209e-17, shape=(), dtype=float32), tf.Tensor(1.00409046e-16, shape=(), dtype=float32), tf.Tensor(0.002812811, shape=(), dtype=float32), tf.Tensor(7.018324e-17, shape=(), dtype=float32), tf.Tensor(4.8142802e-17, shape=(), dtype=float32), tf.Tensor(7.852028e-17, shape=(), dtype=float32), tf.Tensor(9.6896744e-17, shape=(), dtype=float32), tf.Tensor(7.560185e-17, shape=(), dtype=float32), tf.Tensor(3.752413e-17, shape=(), dtype=float32), tf.Tensor(6.780759e-17, shape=(), dtype=float32), tf.Tensor(4.6226826e-17, shape=(), dtype=float32), tf.Tensor(2.2919572e-18, shape=(), dtype=float32), tf.Tensor(9.1355845e-17, shape=(), dtype=float32), tf.Tensor(4.9967486e-17, shape=(), dtype=float32), tf.Tensor(5.3364287e-17, shape=(), dtype=float32), tf.Tensor(1.3969694e-16, shape=(), dtype=float32), tf.Tensor(6.857759e-17, shape=(), dtype=float32), tf.Tensor(4.287254e-17, shape=(), dtype=float32), tf.Tensor(8.293553e-17, shape=(), dtype=float32), tf.Tensor(5.6187884e-17, shape=(), dtype=float32), tf.Tensor(7.9203166e-17, shape=(), dtype=float32), tf.Tensor(5.5176203e-17, shape=(), dtype=float32), tf.Tensor(5.4359954e-17, shape=(), dtype=float32), tf.Tensor(4.9558402e-17, shape=(), dtype=float32), tf.Tensor(6.3375766e-17, shape=(), dtype=float32), tf.Tensor(5.3697955e-17, shape=(), dtype=float32), tf.Tensor(7.13279e-17, shape=(), dtype=float32), tf.Tensor(5.982721e-17, shape=(), dtype=float32), tf.Tensor(5.454919e-17, shape=(), dtype=float32), tf.Tensor(6.3465525e-17, shape=(), dtype=float32), tf.Tensor(3.778671e-17, shape=(), dtype=float32), tf.Tensor(6.565322e-17, shape=(), dtype=float32), tf.Tensor(4.5747393e-17, shape=(), dtype=float32), tf.Tensor(6.11204e-17, shape=(), dtype=float32), tf.Tensor(4.0941738e-17, shape=(), dtype=float32), tf.Tensor(6.378941e-14, shape=(), dtype=float32), tf.Tensor(8.8437095e-17, shape=(), dtype=float32), tf.Tensor(5.731489e-17, shape=(), dtype=float32), tf.Tensor(6.0611e-17, shape=(), dtype=float32), tf.Tensor(6.4333284e-17, shape=(), dtype=float32), tf.Tensor(4.5270162e-17, shape=(), dtype=float32), tf.Tensor(7.402372e-17, shape=(), dtype=float32), tf.Tensor(5.1064112e-17, shape=(), dtype=float32), tf.Tensor(3.8426004e-17, shape=(), dtype=float32), tf.Tensor(1.2117467e-16, shape=(), dtype=float32), tf.Tensor(1.3695319e-08, shape=(), dtype=float32), tf.Tensor(8.339554e-17, shape=(), dtype=float32), tf.Tensor(9.367082e-17, shape=(), dtype=float32), tf.Tensor(9.285044e-17, shape=(), dtype=float32), tf.Tensor(6.68162e-17, shape=(), dtype=float32), tf.Tensor(7.83575e-17, shape=(), dtype=float32), tf.Tensor(1.2380666e-16, shape=(), dtype=float32), tf.Tensor(7.704152e-17, shape=(), dtype=float32), tf.Tensor(5.7252206e-16, shape=(), dtype=float32), tf.Tensor(8.9079054e-17, shape=(), dtype=float32), tf.Tensor(8.9391205e-17, shape=(), dtype=float32), tf.Tensor(5.3744065e-17, shape=(), dtype=float32), tf.Tensor(4.5174937e-17, shape=(), dtype=float32), tf.Tensor(3.605619e-17, shape=(), dtype=float32), tf.Tensor(8.1406834e-17, shape=(), dtype=float32), tf.Tensor(5.642351e-17, shape=(), dtype=float32), tf.Tensor(1.4216769e-13, shape=(), dtype=float32), tf.Tensor(6.887094e-17, shape=(), dtype=float32), tf.Tensor(3.5491832e-10, shape=(), dtype=float32), tf.Tensor(6.264196e-17, shape=(), dtype=float32), ...)                                   "
      ]
     },
     "execution_count": 25,
     "metadata": {},
     "output_type": "execute_result"
    }
   ],
   "source": [
    "preds.head(2)"
   ]
  },
  {
   "cell_type": "code",
   "execution_count": null,
   "metadata": {},
   "outputs": [],
   "source": []
  }
 ],
 "metadata": {
  "kernelspec": {
   "display_name": "ml4ir_venv3",
   "language": "python",
   "name": "ml4ir_venv3"
  },
  "language_info": {
   "codemirror_mode": {
    "name": "ipython",
    "version": 3
   },
   "file_extension": ".py",
   "mimetype": "text/x-python",
   "name": "python",
   "nbconvert_exporter": "python",
   "pygments_lexer": "ipython3",
   "version": "3.7.7"
  }
 },
 "nbformat": 4,
 "nbformat_minor": 4
}
